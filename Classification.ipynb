{
 "cells": [
  {
   "cell_type": "code",
   "execution_count": 39,
   "id": "53cf9c1b",
   "metadata": {},
   "outputs": [],
   "source": [
    "import numpy as np\n",
    "import pandas as pd\n",
    "import matplotlib.pyplot as plt "
   ]
  },
  {
   "cell_type": "markdown",
   "id": "7209d035",
   "metadata": {},
   "source": [
    "# KLASIFIKACIJA"
   ]
  },
  {
   "cell_type": "markdown",
   "id": "7f1a7262",
   "metadata": {},
   "source": [
    "Za svaku supstancu postoji vise klasa koje mogu da se klasifikuju, stoga radice se klasifikacija svake supstance posebno"
   ]
  },
  {
   "cell_type": "markdown",
   "id": "e0ab1cef",
   "metadata": {},
   "source": [
    "### UCITAVANJE I PREPROCESIRANJE PODATAKA\n",
    "*deo koda uzet iz fajla za analizu podataka*"
   ]
  },
  {
   "cell_type": "code",
   "execution_count": 40,
   "id": "3c3626fb",
   "metadata": {},
   "outputs": [],
   "source": [
    "sirovi_podaci = pd.read_csv('drug_consumption.data')\n",
    "sirovi_podaci #fale imena atributa\n",
    "\n",
    "#procitano sa sajtu podataka \n",
    "kolone = [\"ID\", \"Age\", \"Gender\", \"Education\", \"Country\", \"Ethnicity\", \n",
    "            \"Nscore\", \"Escore\", \"Oscore\", \"Ascore\", \"Cscore\", \"Impulsiveness\", \"SS\", \n",
    "            \"Alchocol\", \"Amphet\", \"Amyl\", \"Benzos\", \"Caff\", \"Canabis\", \"Choc\", \"Coke\", \"Crack\", \"Ecstasy\", \n",
    "            \"Heroin\", \"Ketamin\", \"LegalH\", \"LSD\", \"Meth\", \"Mushrooms\", \"Nicotine\", \"Semer\", \"VSA\"]\n",
    "\n",
    "sirovi_podaci = pd.read_csv('drug_consumption.data', names = kolone)\n",
    "\n",
    "podaci = sirovi_podaci.copy()\n",
    "\n",
    "#ID mi ne igra nikakvu ulogu svakako\n",
    "podaci = podaci.drop('ID', axis = 1)\n"
   ]
  },
  {
   "cell_type": "code",
   "execution_count": 41,
   "id": "eae0108c",
   "metadata": {},
   "outputs": [
    {
     "name": "stdout",
     "output_type": "stream",
     "text": [
      "Broj istanci: 1885\n",
      "Broj atributa: 31\n"
     ]
    },
    {
     "data": {
      "text/html": [
       "<div>\n",
       "<style scoped>\n",
       "    .dataframe tbody tr th:only-of-type {\n",
       "        vertical-align: middle;\n",
       "    }\n",
       "\n",
       "    .dataframe tbody tr th {\n",
       "        vertical-align: top;\n",
       "    }\n",
       "\n",
       "    .dataframe thead th {\n",
       "        text-align: right;\n",
       "    }\n",
       "</style>\n",
       "<table border=\"1\" class=\"dataframe\">\n",
       "  <thead>\n",
       "    <tr style=\"text-align: right;\">\n",
       "      <th></th>\n",
       "      <th>Age</th>\n",
       "      <th>Gender</th>\n",
       "      <th>Education</th>\n",
       "      <th>Country</th>\n",
       "      <th>Ethnicity</th>\n",
       "      <th>Nscore</th>\n",
       "      <th>Escore</th>\n",
       "      <th>Oscore</th>\n",
       "      <th>Ascore</th>\n",
       "      <th>Cscore</th>\n",
       "      <th>Impulsiveness</th>\n",
       "      <th>SS</th>\n",
       "    </tr>\n",
       "  </thead>\n",
       "  <tbody>\n",
       "    <tr>\n",
       "      <th>count</th>\n",
       "      <td>1885.00000</td>\n",
       "      <td>1885.000000</td>\n",
       "      <td>1885.000000</td>\n",
       "      <td>1885.000000</td>\n",
       "      <td>1885.000000</td>\n",
       "      <td>1885.000000</td>\n",
       "      <td>1885.000000</td>\n",
       "      <td>1885.000000</td>\n",
       "      <td>1885.000000</td>\n",
       "      <td>1885.000000</td>\n",
       "      <td>1885.000000</td>\n",
       "      <td>1885.000000</td>\n",
       "    </tr>\n",
       "    <tr>\n",
       "      <th>mean</th>\n",
       "      <td>0.03461</td>\n",
       "      <td>-0.000256</td>\n",
       "      <td>-0.003806</td>\n",
       "      <td>0.355542</td>\n",
       "      <td>-0.309577</td>\n",
       "      <td>0.000047</td>\n",
       "      <td>-0.000163</td>\n",
       "      <td>-0.000534</td>\n",
       "      <td>-0.000245</td>\n",
       "      <td>-0.000386</td>\n",
       "      <td>0.007216</td>\n",
       "      <td>-0.003292</td>\n",
       "    </tr>\n",
       "    <tr>\n",
       "      <th>std</th>\n",
       "      <td>0.87836</td>\n",
       "      <td>0.482588</td>\n",
       "      <td>0.950078</td>\n",
       "      <td>0.700335</td>\n",
       "      <td>0.166226</td>\n",
       "      <td>0.998106</td>\n",
       "      <td>0.997448</td>\n",
       "      <td>0.996229</td>\n",
       "      <td>0.997440</td>\n",
       "      <td>0.997523</td>\n",
       "      <td>0.954435</td>\n",
       "      <td>0.963701</td>\n",
       "    </tr>\n",
       "    <tr>\n",
       "      <th>min</th>\n",
       "      <td>-0.95197</td>\n",
       "      <td>-0.482460</td>\n",
       "      <td>-2.435910</td>\n",
       "      <td>-0.570090</td>\n",
       "      <td>-1.107020</td>\n",
       "      <td>-3.464360</td>\n",
       "      <td>-3.273930</td>\n",
       "      <td>-3.273930</td>\n",
       "      <td>-3.464360</td>\n",
       "      <td>-3.464360</td>\n",
       "      <td>-2.555240</td>\n",
       "      <td>-2.078480</td>\n",
       "    </tr>\n",
       "    <tr>\n",
       "      <th>25%</th>\n",
       "      <td>-0.95197</td>\n",
       "      <td>-0.482460</td>\n",
       "      <td>-0.611130</td>\n",
       "      <td>-0.570090</td>\n",
       "      <td>-0.316850</td>\n",
       "      <td>-0.678250</td>\n",
       "      <td>-0.695090</td>\n",
       "      <td>-0.717270</td>\n",
       "      <td>-0.606330</td>\n",
       "      <td>-0.652530</td>\n",
       "      <td>-0.711260</td>\n",
       "      <td>-0.525930</td>\n",
       "    </tr>\n",
       "    <tr>\n",
       "      <th>50%</th>\n",
       "      <td>-0.07854</td>\n",
       "      <td>-0.482460</td>\n",
       "      <td>-0.059210</td>\n",
       "      <td>0.960820</td>\n",
       "      <td>-0.316850</td>\n",
       "      <td>0.042570</td>\n",
       "      <td>0.003320</td>\n",
       "      <td>-0.019280</td>\n",
       "      <td>-0.017290</td>\n",
       "      <td>-0.006650</td>\n",
       "      <td>-0.217120</td>\n",
       "      <td>0.079870</td>\n",
       "    </tr>\n",
       "    <tr>\n",
       "      <th>75%</th>\n",
       "      <td>0.49788</td>\n",
       "      <td>0.482460</td>\n",
       "      <td>0.454680</td>\n",
       "      <td>0.960820</td>\n",
       "      <td>-0.316850</td>\n",
       "      <td>0.629670</td>\n",
       "      <td>0.637790</td>\n",
       "      <td>0.723300</td>\n",
       "      <td>0.760960</td>\n",
       "      <td>0.584890</td>\n",
       "      <td>0.529750</td>\n",
       "      <td>0.765400</td>\n",
       "    </tr>\n",
       "    <tr>\n",
       "      <th>max</th>\n",
       "      <td>2.59171</td>\n",
       "      <td>0.482460</td>\n",
       "      <td>1.984370</td>\n",
       "      <td>0.960820</td>\n",
       "      <td>1.907250</td>\n",
       "      <td>3.273930</td>\n",
       "      <td>3.273930</td>\n",
       "      <td>2.901610</td>\n",
       "      <td>3.464360</td>\n",
       "      <td>3.464360</td>\n",
       "      <td>2.901610</td>\n",
       "      <td>1.921730</td>\n",
       "    </tr>\n",
       "  </tbody>\n",
       "</table>\n",
       "</div>"
      ],
      "text/plain": [
       "              Age       Gender    Education      Country    Ethnicity  \\\n",
       "count  1885.00000  1885.000000  1885.000000  1885.000000  1885.000000   \n",
       "mean      0.03461    -0.000256    -0.003806     0.355542    -0.309577   \n",
       "std       0.87836     0.482588     0.950078     0.700335     0.166226   \n",
       "min      -0.95197    -0.482460    -2.435910    -0.570090    -1.107020   \n",
       "25%      -0.95197    -0.482460    -0.611130    -0.570090    -0.316850   \n",
       "50%      -0.07854    -0.482460    -0.059210     0.960820    -0.316850   \n",
       "75%       0.49788     0.482460     0.454680     0.960820    -0.316850   \n",
       "max       2.59171     0.482460     1.984370     0.960820     1.907250   \n",
       "\n",
       "            Nscore       Escore       Oscore       Ascore       Cscore  \\\n",
       "count  1885.000000  1885.000000  1885.000000  1885.000000  1885.000000   \n",
       "mean      0.000047    -0.000163    -0.000534    -0.000245    -0.000386   \n",
       "std       0.998106     0.997448     0.996229     0.997440     0.997523   \n",
       "min      -3.464360    -3.273930    -3.273930    -3.464360    -3.464360   \n",
       "25%      -0.678250    -0.695090    -0.717270    -0.606330    -0.652530   \n",
       "50%       0.042570     0.003320    -0.019280    -0.017290    -0.006650   \n",
       "75%       0.629670     0.637790     0.723300     0.760960     0.584890   \n",
       "max       3.273930     3.273930     2.901610     3.464360     3.464360   \n",
       "\n",
       "       Impulsiveness           SS  \n",
       "count    1885.000000  1885.000000  \n",
       "mean        0.007216    -0.003292  \n",
       "std         0.954435     0.963701  \n",
       "min        -2.555240    -2.078480  \n",
       "25%        -0.711260    -0.525930  \n",
       "50%        -0.217120     0.079870  \n",
       "75%         0.529750     0.765400  \n",
       "max         2.901610     1.921730  "
      ]
     },
     "execution_count": 41,
     "metadata": {},
     "output_type": "execute_result"
    }
   ],
   "source": [
    "podaci\n",
    "print(f'Broj istanci: {podaci.shape[0]}')\n",
    "print(f'Broj atributa: {podaci.shape[1]}')\n",
    "podaci.describe()"
   ]
  },
  {
   "cell_type": "code",
   "execution_count": 42,
   "id": "b214f1df",
   "metadata": {},
   "outputs": [
    {
     "data": {
      "text/plain": [
       "False"
      ]
     },
     "execution_count": 42,
     "metadata": {},
     "output_type": "execute_result"
    }
   ],
   "source": [
    "podaci.isna().any().any() #nema nedostajucih vrednosti, sto je dobro"
   ]
  },
  {
   "cell_type": "code",
   "execution_count": 43,
   "id": "322bbf3e",
   "metadata": {},
   "outputs": [
    {
     "name": "stdout",
     "output_type": "stream",
     "text": [
      "['Age', 'Gender', 'Education', 'Country', 'Ethnicity', 'Nscore', 'Escore', 'Oscore', 'Ascore', 'Cscore', 'Impulsiveness', 'SS'], "
     ]
    }
   ],
   "source": [
    "# posto imamo vise klasa koje ispitujemo, razdvajam podatke na atribute i na klase\n",
    "podaci.head()\n",
    "\n",
    "#izdvajanje atributa\n",
    "atributi1 = podaci.columns\n",
    "atributi1\n",
    "\n",
    "atributi = []\n",
    "for atribut in atributi1:\n",
    "    if atribut == 'Alchocol':\n",
    "        break\n",
    "    atributi.append(atribut)\n",
    "    \n",
    "print(atributi, end = ', ')"
   ]
  },
  {
   "cell_type": "code",
   "execution_count": 44,
   "id": "f7fd5595",
   "metadata": {},
   "outputs": [
    {
     "name": "stdout",
     "output_type": "stream",
     "text": [
      "['Alchocol', 'Amphet', 'Amyl', 'Benzos', 'Caff', 'Canabis', 'Choc', 'Coke', 'Crack', 'Ecstasy', 'Heroin', 'Ketamin', 'LegalH', 'LSD', 'Meth', 'Mushrooms', 'Nicotine', 'Semer', 'VSA'], \n",
      "True\n"
     ]
    }
   ],
   "source": [
    "#izdvajanje klasa\n",
    "klase = []\n",
    "for atribut in atributi1:\n",
    "    if atribut not in atributi:\n",
    "        klase.append(atribut)\n",
    "        \n",
    "print(klase, end = ', ')\n",
    "print()\n",
    "\n",
    "# provera deljenja kolona\n",
    "print(len(klase) + len(atributi) == len(podaci.columns))"
   ]
  },
  {
   "cell_type": "code",
   "execution_count": 45,
   "id": "e060ea4c",
   "metadata": {},
   "outputs": [],
   "source": [
    "#skaliramo podatke\n",
    "def skaliraj_podatke(X):\n",
    "    return (X - min(X))/(max(X) - min(X))"
   ]
  },
  {
   "cell_type": "code",
   "execution_count": 46,
   "id": "7d8f7698",
   "metadata": {},
   "outputs": [
    {
     "name": "stdout",
     "output_type": "stream",
     "text": [
      "True, True, True, True, True, True, True, True, True, True, True, True, "
     ]
    }
   ],
   "source": [
    "skalirani_podaci = podaci.copy()\n",
    "for a in atributi:\n",
    "    skalirani_podaci[a] = skaliraj_podatke(skalirani_podaci[a])\n",
    "    \n",
    "#provera uspesnosti skaliranja\n",
    "for a in atributi:\n",
    "    print(len(skalirani_podaci[a].unique()) == len(podaci[a].unique()), end = \", \")\n",
    "    \n",
    "#nismo izgubili podatke"
   ]
  },
  {
   "cell_type": "code",
   "execution_count": null,
   "id": "efe9cfc8",
   "metadata": {},
   "outputs": [],
   "source": []
  },
  {
   "cell_type": "markdown",
   "id": "bb5e0c0c",
   "metadata": {},
   "source": [
    "# KLASIFIKACIJA "
   ]
  },
  {
   "cell_type": "code",
   "execution_count": 47,
   "id": "f0926063",
   "metadata": {},
   "outputs": [],
   "source": [
    "#provera klasifikacije nad jednom klasom (za sad)\n",
    "from sklearn.model_selection import GridSearchCV\n",
    "from sklearn.model_selection import train_test_split\n",
    "from sklearn.tree import DecisionTreeClassifier, plot_tree"
   ]
  },
  {
   "cell_type": "code",
   "execution_count": 128,
   "id": "43393602",
   "metadata": {},
   "outputs": [
    {
     "data": {
      "text/html": [
       "<div>\n",
       "<style scoped>\n",
       "    .dataframe tbody tr th:only-of-type {\n",
       "        vertical-align: middle;\n",
       "    }\n",
       "\n",
       "    .dataframe tbody tr th {\n",
       "        vertical-align: top;\n",
       "    }\n",
       "\n",
       "    .dataframe thead th {\n",
       "        text-align: right;\n",
       "    }\n",
       "</style>\n",
       "<table border=\"1\" class=\"dataframe\">\n",
       "  <thead>\n",
       "    <tr style=\"text-align: right;\">\n",
       "      <th></th>\n",
       "      <th>Age</th>\n",
       "      <th>Gender</th>\n",
       "      <th>Education</th>\n",
       "      <th>Country</th>\n",
       "      <th>Ethnicity</th>\n",
       "      <th>Nscore</th>\n",
       "      <th>Escore</th>\n",
       "      <th>Oscore</th>\n",
       "      <th>Ascore</th>\n",
       "      <th>Cscore</th>\n",
       "      <th>Impulsiveness</th>\n",
       "      <th>SS</th>\n",
       "    </tr>\n",
       "  </thead>\n",
       "  <tbody>\n",
       "    <tr>\n",
       "      <th>0</th>\n",
       "      <td>0.49788</td>\n",
       "      <td>0.48246</td>\n",
       "      <td>-0.05921</td>\n",
       "      <td>0.96082</td>\n",
       "      <td>0.12600</td>\n",
       "      <td>0.31287</td>\n",
       "      <td>-0.57545</td>\n",
       "      <td>-0.58331</td>\n",
       "      <td>-0.91699</td>\n",
       "      <td>-0.00665</td>\n",
       "      <td>-0.21712</td>\n",
       "      <td>-1.18084</td>\n",
       "    </tr>\n",
       "    <tr>\n",
       "      <th>1</th>\n",
       "      <td>-0.07854</td>\n",
       "      <td>-0.48246</td>\n",
       "      <td>1.98437</td>\n",
       "      <td>0.96082</td>\n",
       "      <td>-0.31685</td>\n",
       "      <td>-0.67825</td>\n",
       "      <td>1.93886</td>\n",
       "      <td>1.43533</td>\n",
       "      <td>0.76096</td>\n",
       "      <td>-0.14277</td>\n",
       "      <td>-0.71126</td>\n",
       "      <td>-0.21575</td>\n",
       "    </tr>\n",
       "    <tr>\n",
       "      <th>2</th>\n",
       "      <td>0.49788</td>\n",
       "      <td>-0.48246</td>\n",
       "      <td>-0.05921</td>\n",
       "      <td>0.96082</td>\n",
       "      <td>-0.31685</td>\n",
       "      <td>-0.46725</td>\n",
       "      <td>0.80523</td>\n",
       "      <td>-0.84732</td>\n",
       "      <td>-1.62090</td>\n",
       "      <td>-1.01450</td>\n",
       "      <td>-1.37983</td>\n",
       "      <td>0.40148</td>\n",
       "    </tr>\n",
       "    <tr>\n",
       "      <th>3</th>\n",
       "      <td>-0.95197</td>\n",
       "      <td>0.48246</td>\n",
       "      <td>1.16365</td>\n",
       "      <td>0.96082</td>\n",
       "      <td>-0.31685</td>\n",
       "      <td>-0.14882</td>\n",
       "      <td>-0.80615</td>\n",
       "      <td>-0.01928</td>\n",
       "      <td>0.59042</td>\n",
       "      <td>0.58489</td>\n",
       "      <td>-1.37983</td>\n",
       "      <td>-1.18084</td>\n",
       "    </tr>\n",
       "    <tr>\n",
       "      <th>4</th>\n",
       "      <td>0.49788</td>\n",
       "      <td>0.48246</td>\n",
       "      <td>1.98437</td>\n",
       "      <td>0.96082</td>\n",
       "      <td>-0.31685</td>\n",
       "      <td>0.73545</td>\n",
       "      <td>-1.63340</td>\n",
       "      <td>-0.45174</td>\n",
       "      <td>-0.30172</td>\n",
       "      <td>1.30612</td>\n",
       "      <td>-0.21712</td>\n",
       "      <td>-0.21575</td>\n",
       "    </tr>\n",
       "  </tbody>\n",
       "</table>\n",
       "</div>"
      ],
      "text/plain": [
       "       Age   Gender  Education  Country  Ethnicity   Nscore   Escore   Oscore  \\\n",
       "0  0.49788  0.48246   -0.05921  0.96082    0.12600  0.31287 -0.57545 -0.58331   \n",
       "1 -0.07854 -0.48246    1.98437  0.96082   -0.31685 -0.67825  1.93886  1.43533   \n",
       "2  0.49788 -0.48246   -0.05921  0.96082   -0.31685 -0.46725  0.80523 -0.84732   \n",
       "3 -0.95197  0.48246    1.16365  0.96082   -0.31685 -0.14882 -0.80615 -0.01928   \n",
       "4  0.49788  0.48246    1.98437  0.96082   -0.31685  0.73545 -1.63340 -0.45174   \n",
       "\n",
       "    Ascore   Cscore  Impulsiveness       SS  \n",
       "0 -0.91699 -0.00665       -0.21712 -1.18084  \n",
       "1  0.76096 -0.14277       -0.71126 -0.21575  \n",
       "2 -1.62090 -1.01450       -1.37983  0.40148  \n",
       "3  0.59042  0.58489       -1.37983 -1.18084  \n",
       "4 -0.30172  1.30612       -0.21712 -0.21575  "
      ]
     },
     "execution_count": 128,
     "metadata": {},
     "output_type": "execute_result"
    }
   ],
   "source": [
    "podaci_bez_klasa = podaci.copy()\n",
    "for x in klase:\n",
    "    podaci_bez_klasa = podaci_bez_klasa.drop(x, axis = 1)\n",
    "podaci_bez_klasa.head()"
   ]
  },
  {
   "cell_type": "code",
   "execution_count": 49,
   "id": "abfa83ca",
   "metadata": {},
   "outputs": [
    {
     "name": "stdout",
     "output_type": "stream",
     "text": [
      "(1885, 12)\n",
      "(1885,)\n"
     ]
    }
   ],
   "source": [
    "klasa = podaci[klase[0]]\n",
    "print(podaci_bez_klasa.shape)\n",
    "print(klasa.shape)"
   ]
  },
  {
   "cell_type": "code",
   "execution_count": 50,
   "id": "8321c71a",
   "metadata": {},
   "outputs": [],
   "source": [
    "# potencijalno treba izvrsiti balansiranje podataka, zasad pokusavam bez\n",
    "X_train, X_test, y_train, y_test = train_test_split(podaci_bez_klasa, klasa, test_size= 0.30, stratify= klasa, random_state= 42)"
   ]
  },
  {
   "cell_type": "code",
   "execution_count": 51,
   "id": "dc14384f",
   "metadata": {},
   "outputs": [
    {
     "name": "stdout",
     "output_type": "stream",
     "text": [
      "(1319, 12) (566, 12)\n"
     ]
    }
   ],
   "source": [
    "print(X_train.shape, X_test.shape)"
   ]
  },
  {
   "cell_type": "code",
   "execution_count": 52,
   "id": "8279554d",
   "metadata": {},
   "outputs": [
    {
     "data": {
      "text/html": [
       "<style>#sk-container-id-3 {color: black;background-color: white;}#sk-container-id-3 pre{padding: 0;}#sk-container-id-3 div.sk-toggleable {background-color: white;}#sk-container-id-3 label.sk-toggleable__label {cursor: pointer;display: block;width: 100%;margin-bottom: 0;padding: 0.3em;box-sizing: border-box;text-align: center;}#sk-container-id-3 label.sk-toggleable__label-arrow:before {content: \"▸\";float: left;margin-right: 0.25em;color: #696969;}#sk-container-id-3 label.sk-toggleable__label-arrow:hover:before {color: black;}#sk-container-id-3 div.sk-estimator:hover label.sk-toggleable__label-arrow:before {color: black;}#sk-container-id-3 div.sk-toggleable__content {max-height: 0;max-width: 0;overflow: hidden;text-align: left;background-color: #f0f8ff;}#sk-container-id-3 div.sk-toggleable__content pre {margin: 0.2em;color: black;border-radius: 0.25em;background-color: #f0f8ff;}#sk-container-id-3 input.sk-toggleable__control:checked~div.sk-toggleable__content {max-height: 200px;max-width: 100%;overflow: auto;}#sk-container-id-3 input.sk-toggleable__control:checked~label.sk-toggleable__label-arrow:before {content: \"▾\";}#sk-container-id-3 div.sk-estimator input.sk-toggleable__control:checked~label.sk-toggleable__label {background-color: #d4ebff;}#sk-container-id-3 div.sk-label input.sk-toggleable__control:checked~label.sk-toggleable__label {background-color: #d4ebff;}#sk-container-id-3 input.sk-hidden--visually {border: 0;clip: rect(1px 1px 1px 1px);clip: rect(1px, 1px, 1px, 1px);height: 1px;margin: -1px;overflow: hidden;padding: 0;position: absolute;width: 1px;}#sk-container-id-3 div.sk-estimator {font-family: monospace;background-color: #f0f8ff;border: 1px dotted black;border-radius: 0.25em;box-sizing: border-box;margin-bottom: 0.5em;}#sk-container-id-3 div.sk-estimator:hover {background-color: #d4ebff;}#sk-container-id-3 div.sk-parallel-item::after {content: \"\";width: 100%;border-bottom: 1px solid gray;flex-grow: 1;}#sk-container-id-3 div.sk-label:hover label.sk-toggleable__label {background-color: #d4ebff;}#sk-container-id-3 div.sk-serial::before {content: \"\";position: absolute;border-left: 1px solid gray;box-sizing: border-box;top: 0;bottom: 0;left: 50%;z-index: 0;}#sk-container-id-3 div.sk-serial {display: flex;flex-direction: column;align-items: center;background-color: white;padding-right: 0.2em;padding-left: 0.2em;position: relative;}#sk-container-id-3 div.sk-item {position: relative;z-index: 1;}#sk-container-id-3 div.sk-parallel {display: flex;align-items: stretch;justify-content: center;background-color: white;position: relative;}#sk-container-id-3 div.sk-item::before, #sk-container-id-3 div.sk-parallel-item::before {content: \"\";position: absolute;border-left: 1px solid gray;box-sizing: border-box;top: 0;bottom: 0;left: 50%;z-index: -1;}#sk-container-id-3 div.sk-parallel-item {display: flex;flex-direction: column;z-index: 1;position: relative;background-color: white;}#sk-container-id-3 div.sk-parallel-item:first-child::after {align-self: flex-end;width: 50%;}#sk-container-id-3 div.sk-parallel-item:last-child::after {align-self: flex-start;width: 50%;}#sk-container-id-3 div.sk-parallel-item:only-child::after {width: 0;}#sk-container-id-3 div.sk-dashed-wrapped {border: 1px dashed gray;margin: 0 0.4em 0.5em 0.4em;box-sizing: border-box;padding-bottom: 0.4em;background-color: white;}#sk-container-id-3 div.sk-label label {font-family: monospace;font-weight: bold;display: inline-block;line-height: 1.2em;}#sk-container-id-3 div.sk-label-container {text-align: center;}#sk-container-id-3 div.sk-container {/* jupyter's `normalize.less` sets `[hidden] { display: none; }` but bootstrap.min.css set `[hidden] { display: none !important; }` so we also need the `!important` here to be able to override the default hidden behavior on the sphinx rendered scikit-learn.org. See: https://github.com/scikit-learn/scikit-learn/issues/21755 */display: inline-block !important;position: relative;}#sk-container-id-3 div.sk-text-repr-fallback {display: none;}</style><div id=\"sk-container-id-3\" class=\"sk-top-container\"><div class=\"sk-text-repr-fallback\"><pre>DecisionTreeClassifier()</pre><b>In a Jupyter environment, please rerun this cell to show the HTML representation or trust the notebook. <br />On GitHub, the HTML representation is unable to render, please try loading this page with nbviewer.org.</b></div><div class=\"sk-container\" hidden><div class=\"sk-item\"><div class=\"sk-estimator sk-toggleable\"><input class=\"sk-toggleable__control sk-hidden--visually\" id=\"sk-estimator-id-3\" type=\"checkbox\" checked><label for=\"sk-estimator-id-3\" class=\"sk-toggleable__label sk-toggleable__label-arrow\">DecisionTreeClassifier</label><div class=\"sk-toggleable__content\"><pre>DecisionTreeClassifier()</pre></div></div></div></div></div>"
      ],
      "text/plain": [
       "DecisionTreeClassifier()"
      ]
     },
     "execution_count": 52,
     "metadata": {},
     "output_type": "execute_result"
    }
   ],
   "source": [
    "# nakon particionisanja podataka kreiramo model\n",
    "drvo_klasifikacije = DecisionTreeClassifier()\n",
    "drvo_klasifikacije.fit(X_train, y_train)"
   ]
  },
  {
   "cell_type": "code",
   "execution_count": 61,
   "id": "f5752b76",
   "metadata": {},
   "outputs": [],
   "source": [
    "from sklearn.metrics import classification_report\n",
    "from termcolor import colored, cprint\n",
    "def report(model, x, y, text = \"trening\", ):\n",
    "    y_pred = model.predict(x)\n",
    "    \n",
    "    print(colored('\\t' + f'Klasifikacioni izveštaj za model {type(model).__name__} nad {text} podacima', 'blue', attrs= ['bold']))\n",
    "    cprint('----------------------------------------------------------------------------------------------', attrs= ['bold'])\n",
    "    cprint(classification_report(y, y_pred), attrs= ['dark']) \n",
    "    cprint('----------------------------------------------------------------------------------------------', attrs= ['bold'])"
   ]
  },
  {
   "cell_type": "code",
   "execution_count": 62,
   "id": "bc96083a",
   "metadata": {},
   "outputs": [
    {
     "data": {
      "image/png": "[encoded data removed]",
      "text/plain": [
       "<Figure size 640x480 with 1 Axes>"
      ]
     },
     "metadata": {},
     "output_type": "display_data"
    }
   ],
   "source": [
    "pd.Series(drvo_klasifikacije.feature_importances_, index=podaci_bez_klasa.columns).plot.barh()\n",
    "plt.title(\"Feature importance\")\n",
    "plt.show()"
   ]
  },
  {
   "cell_type": "code",
   "execution_count": 64,
   "id": "3f7486b5",
   "metadata": {},
   "outputs": [
    {
     "name": "stdout",
     "output_type": "stream",
     "text": [
      "\u001b[1m\u001b[34m\tKlasifikacioni izveštaj za model DecisionTreeClassifier nad trening podacima\u001b[0m\n",
      "\u001b[1m----------------------------------------------------------------------------------------------\u001b[0m\n",
      "\u001b[2m              precision    recall  f1-score   support\n",
      "\n",
      "         CL0       1.00      1.00      1.00        24\n",
      "         CL1       1.00      1.00      1.00        24\n",
      "         CL2       1.00      1.00      1.00        48\n",
      "         CL3       1.00      1.00      1.00       138\n",
      "         CL4       1.00      1.00      1.00       201\n",
      "         CL5       1.00      1.00      1.00       531\n",
      "         CL6       1.00      1.00      1.00       353\n",
      "\n",
      "    accuracy                           1.00      1319\n",
      "   macro avg       1.00      1.00      1.00      1319\n",
      "weighted avg       1.00      1.00      1.00      1319\n",
      "\u001b[0m\n",
      "\u001b[1m----------------------------------------------------------------------------------------------\u001b[0m\n"
     ]
    }
   ],
   "source": [
    "report(drvo_klasifikacije, X_train, y_train)\n",
    "# deluje da s preprilagodio"
   ]
  },
  {
   "cell_type": "code",
   "execution_count": 65,
   "id": "a5fbf83f",
   "metadata": {},
   "outputs": [
    {
     "name": "stdout",
     "output_type": "stream",
     "text": [
      "\u001b[1m\u001b[34m\tKlasifikacioni izveštaj za model DecisionTreeClassifier nad test podacima\u001b[0m\n",
      "\u001b[1m----------------------------------------------------------------------------------------------\u001b[0m\n",
      "\u001b[2m              precision    recall  f1-score   support\n",
      "\n",
      "         CL0       0.00      0.00      0.00        10\n",
      "         CL1       0.00      0.00      0.00        10\n",
      "         CL2       0.00      0.00      0.00        20\n",
      "         CL3       0.12      0.12      0.12        60\n",
      "         CL4       0.15      0.16      0.16        86\n",
      "         CL5       0.45      0.41      0.43       228\n",
      "         CL6       0.29      0.32      0.30       152\n",
      "\n",
      "    accuracy                           0.29       566\n",
      "   macro avg       0.14      0.14      0.14       566\n",
      "weighted avg       0.29      0.29      0.29       566\n",
      "\u001b[0m\n",
      "\u001b[1m----------------------------------------------------------------------------------------------\u001b[0m\n"
     ]
    }
   ],
   "source": [
    "report(drvo_klasifikacije, X_test, y_test, text= 'test')\n",
    "# radi uzasno"
   ]
  },
  {
   "cell_type": "code",
   "execution_count": 66,
   "id": "61906278",
   "metadata": {},
   "outputs": [],
   "source": [
    "# menjamo parametre\n",
    "parametri =  {\n",
    "    'criterion': ['gini', 'entropy'],\n",
    "    'max_depth': [x for x in range(3, 30)],\n",
    "    'max_features': [x for x in range(3, 40)]\n",
    "}\n",
    "\n",
    "balansirano_drvo = GridSearchCV(DecisionTreeClassifier(class_weight= 'balanced'), param_grid= parametri)\n",
    "nebalansirano_drvo = GridSearchCV(DecisionTreeClassifier(), param_grid= parametri)"
   ]
  },
  {
   "cell_type": "code",
   "execution_count": 67,
   "id": "cf8c1cfa",
   "metadata": {},
   "outputs": [
    {
     "data": {
      "text/html": [
       "<style>#sk-container-id-4 {color: black;background-color: white;}#sk-container-id-4 pre{padding: 0;}#sk-container-id-4 div.sk-toggleable {background-color: white;}#sk-container-id-4 label.sk-toggleable__label {cursor: pointer;display: block;width: 100%;margin-bottom: 0;padding: 0.3em;box-sizing: border-box;text-align: center;}#sk-container-id-4 label.sk-toggleable__label-arrow:before {content: \"▸\";float: left;margin-right: 0.25em;color: #696969;}#sk-container-id-4 label.sk-toggleable__label-arrow:hover:before {color: black;}#sk-container-id-4 div.sk-estimator:hover label.sk-toggleable__label-arrow:before {color: black;}#sk-container-id-4 div.sk-toggleable__content {max-height: 0;max-width: 0;overflow: hidden;text-align: left;background-color: #f0f8ff;}#sk-container-id-4 div.sk-toggleable__content pre {margin: 0.2em;color: black;border-radius: 0.25em;background-color: #f0f8ff;}#sk-container-id-4 input.sk-toggleable__control:checked~div.sk-toggleable__content {max-height: 200px;max-width: 100%;overflow: auto;}#sk-container-id-4 input.sk-toggleable__control:checked~label.sk-toggleable__label-arrow:before {content: \"▾\";}#sk-container-id-4 div.sk-estimator input.sk-toggleable__control:checked~label.sk-toggleable__label {background-color: #d4ebff;}#sk-container-id-4 div.sk-label input.sk-toggleable__control:checked~label.sk-toggleable__label {background-color: #d4ebff;}#sk-container-id-4 input.sk-hidden--visually {border: 0;clip: rect(1px 1px 1px 1px);clip: rect(1px, 1px, 1px, 1px);height: 1px;margin: -1px;overflow: hidden;padding: 0;position: absolute;width: 1px;}#sk-container-id-4 div.sk-estimator {font-family: monospace;background-color: #f0f8ff;border: 1px dotted black;border-radius: 0.25em;box-sizing: border-box;margin-bottom: 0.5em;}#sk-container-id-4 div.sk-estimator:hover {background-color: #d4ebff;}#sk-container-id-4 div.sk-parallel-item::after {content: \"\";width: 100%;border-bottom: 1px solid gray;flex-grow: 1;}#sk-container-id-4 div.sk-label:hover label.sk-toggleable__label {background-color: #d4ebff;}#sk-container-id-4 div.sk-serial::before {content: \"\";position: absolute;border-left: 1px solid gray;box-sizing: border-box;top: 0;bottom: 0;left: 50%;z-index: 0;}#sk-container-id-4 div.sk-serial {display: flex;flex-direction: column;align-items: center;background-color: white;padding-right: 0.2em;padding-left: 0.2em;position: relative;}#sk-container-id-4 div.sk-item {position: relative;z-index: 1;}#sk-container-id-4 div.sk-parallel {display: flex;align-items: stretch;justify-content: center;background-color: white;position: relative;}#sk-container-id-4 div.sk-item::before, #sk-container-id-4 div.sk-parallel-item::before {content: \"\";position: absolute;border-left: 1px solid gray;box-sizing: border-box;top: 0;bottom: 0;left: 50%;z-index: -1;}#sk-container-id-4 div.sk-parallel-item {display: flex;flex-direction: column;z-index: 1;position: relative;background-color: white;}#sk-container-id-4 div.sk-parallel-item:first-child::after {align-self: flex-end;width: 50%;}#sk-container-id-4 div.sk-parallel-item:last-child::after {align-self: flex-start;width: 50%;}#sk-container-id-4 div.sk-parallel-item:only-child::after {width: 0;}#sk-container-id-4 div.sk-dashed-wrapped {border: 1px dashed gray;margin: 0 0.4em 0.5em 0.4em;box-sizing: border-box;padding-bottom: 0.4em;background-color: white;}#sk-container-id-4 div.sk-label label {font-family: monospace;font-weight: bold;display: inline-block;line-height: 1.2em;}#sk-container-id-4 div.sk-label-container {text-align: center;}#sk-container-id-4 div.sk-container {/* jupyter's `normalize.less` sets `[hidden] { display: none; }` but bootstrap.min.css set `[hidden] { display: none !important; }` so we also need the `!important` here to be able to override the default hidden behavior on the sphinx rendered scikit-learn.org. See: https://github.com/scikit-learn/scikit-learn/issues/21755 */display: inline-block !important;position: relative;}#sk-container-id-4 div.sk-text-repr-fallback {display: none;}</style><div id=\"sk-container-id-4\" class=\"sk-top-container\"><div class=\"sk-text-repr-fallback\"><pre>GridSearchCV(estimator=DecisionTreeClassifier(class_weight=&#x27;balanced&#x27;),\n",
       "             param_grid={&#x27;criterion&#x27;: [&#x27;gini&#x27;, &#x27;entropy&#x27;],\n",
       "                         &#x27;max_depth&#x27;: [3, 4, 5, 6, 7, 8, 9, 10, 11, 12, 13, 14,\n",
       "                                       15, 16, 17, 18, 19, 20, 21, 22, 23, 24,\n",
       "                                       25, 26, 27, 28, 29],\n",
       "                         &#x27;max_features&#x27;: [3, 4, 5, 6, 7, 8, 9, 10, 11, 12, 13,\n",
       "                                          14, 15, 16, 17, 18, 19, 20, 21, 22,\n",
       "                                          23, 24, 25, 26, 27, 28, 29, 30, 31,\n",
       "                                          32, ...]})</pre><b>In a Jupyter environment, please rerun this cell to show the HTML representation or trust the notebook. <br />On GitHub, the HTML representation is unable to render, please try loading this page with nbviewer.org.</b></div><div class=\"sk-container\" hidden><div class=\"sk-item sk-dashed-wrapped\"><div class=\"sk-label-container\"><div class=\"sk-label sk-toggleable\"><input class=\"sk-toggleable__control sk-hidden--visually\" id=\"sk-estimator-id-4\" type=\"checkbox\" ><label for=\"sk-estimator-id-4\" class=\"sk-toggleable__label sk-toggleable__label-arrow\">GridSearchCV</label><div class=\"sk-toggleable__content\"><pre>GridSearchCV(estimator=DecisionTreeClassifier(class_weight=&#x27;balanced&#x27;),\n",
       "             param_grid={&#x27;criterion&#x27;: [&#x27;gini&#x27;, &#x27;entropy&#x27;],\n",
       "                         &#x27;max_depth&#x27;: [3, 4, 5, 6, 7, 8, 9, 10, 11, 12, 13, 14,\n",
       "                                       15, 16, 17, 18, 19, 20, 21, 22, 23, 24,\n",
       "                                       25, 26, 27, 28, 29],\n",
       "                         &#x27;max_features&#x27;: [3, 4, 5, 6, 7, 8, 9, 10, 11, 12, 13,\n",
       "                                          14, 15, 16, 17, 18, 19, 20, 21, 22,\n",
       "                                          23, 24, 25, 26, 27, 28, 29, 30, 31,\n",
       "                                          32, ...]})</pre></div></div></div><div class=\"sk-parallel\"><div class=\"sk-parallel-item\"><div class=\"sk-item\"><div class=\"sk-label-container\"><div class=\"sk-label sk-toggleable\"><input class=\"sk-toggleable__control sk-hidden--visually\" id=\"sk-estimator-id-5\" type=\"checkbox\" ><label for=\"sk-estimator-id-5\" class=\"sk-toggleable__label sk-toggleable__label-arrow\">estimator: DecisionTreeClassifier</label><div class=\"sk-toggleable__content\"><pre>DecisionTreeClassifier(class_weight=&#x27;balanced&#x27;)</pre></div></div></div><div class=\"sk-serial\"><div class=\"sk-item\"><div class=\"sk-estimator sk-toggleable\"><input class=\"sk-toggleable__control sk-hidden--visually\" id=\"sk-estimator-id-6\" type=\"checkbox\" ><label for=\"sk-estimator-id-6\" class=\"sk-toggleable__label sk-toggleable__label-arrow\">DecisionTreeClassifier</label><div class=\"sk-toggleable__content\"><pre>DecisionTreeClassifier(class_weight=&#x27;balanced&#x27;)</pre></div></div></div></div></div></div></div></div></div></div>"
      ],
      "text/plain": [
       "GridSearchCV(estimator=DecisionTreeClassifier(class_weight='balanced'),\n",
       "             param_grid={'criterion': ['gini', 'entropy'],\n",
       "                         'max_depth': [3, 4, 5, 6, 7, 8, 9, 10, 11, 12, 13, 14,\n",
       "                                       15, 16, 17, 18, 19, 20, 21, 22, 23, 24,\n",
       "                                       25, 26, 27, 28, 29],\n",
       "                         'max_features': [3, 4, 5, 6, 7, 8, 9, 10, 11, 12, 13,\n",
       "                                          14, 15, 16, 17, 18, 19, 20, 21, 22,\n",
       "                                          23, 24, 25, 26, 27, 28, 29, 30, 31,\n",
       "                                          32, ...]})"
      ]
     },
     "execution_count": 67,
     "metadata": {},
     "output_type": "execute_result"
    }
   ],
   "source": [
    "#pokusavamo sa balansiranim drvetom\n",
    "balansirano_drvo.fit(X_train, y_train)"
   ]
  },
  {
   "cell_type": "code",
   "execution_count": 68,
   "id": "99f59932",
   "metadata": {},
   "outputs": [
    {
     "name": "stdout",
     "output_type": "stream",
     "text": [
      "{'criterion': 'entropy', 'max_depth': 23, 'max_features': 8}\n",
      "0.3252650074893421\n"
     ]
    }
   ],
   "source": [
    "print(balansirano_drvo.best_params_)\n",
    "print(balansirano_drvo.best_score_)"
   ]
  },
  {
   "cell_type": "code",
   "execution_count": 69,
   "id": "fe9a4ed9",
   "metadata": {},
   "outputs": [
    {
     "name": "stdout",
     "output_type": "stream",
     "text": [
      "\u001b[1m\u001b[34m\tKlasifikacioni izveštaj za model DecisionTreeClassifier nad test podacima\u001b[0m\n",
      "\u001b[1m----------------------------------------------------------------------------------------------\u001b[0m\n",
      "\u001b[2m              precision    recall  f1-score   support\n",
      "\n",
      "         CL0       0.14      0.10      0.12        10\n",
      "         CL1       0.00      0.00      0.00        10\n",
      "         CL2       0.00      0.00      0.00        20\n",
      "         CL3       0.13      0.17      0.14        60\n",
      "         CL4       0.22      0.19      0.20        86\n",
      "         CL5       0.40      0.36      0.38       228\n",
      "         CL6       0.35      0.39      0.37       152\n",
      "\n",
      "    accuracy                           0.30       566\n",
      "   macro avg       0.18      0.17      0.17       566\n",
      "weighted avg       0.30      0.30      0.30       566\n",
      "\u001b[0m\n",
      "\u001b[1m----------------------------------------------------------------------------------------------\u001b[0m\n"
     ]
    }
   ],
   "source": [
    "report(balansirano_drvo.best_estimator_, X_test, y_test, 'test')"
   ]
  },
  {
   "cell_type": "code",
   "execution_count": 70,
   "id": "069769d4",
   "metadata": {},
   "outputs": [
    {
     "data": {
      "text/html": [
       "<style>#sk-container-id-5 {color: black;background-color: white;}#sk-container-id-5 pre{padding: 0;}#sk-container-id-5 div.sk-toggleable {background-color: white;}#sk-container-id-5 label.sk-toggleable__label {cursor: pointer;display: block;width: 100%;margin-bottom: 0;padding: 0.3em;box-sizing: border-box;text-align: center;}#sk-container-id-5 label.sk-toggleable__label-arrow:before {content: \"▸\";float: left;margin-right: 0.25em;color: #696969;}#sk-container-id-5 label.sk-toggleable__label-arrow:hover:before {color: black;}#sk-container-id-5 div.sk-estimator:hover label.sk-toggleable__label-arrow:before {color: black;}#sk-container-id-5 div.sk-toggleable__content {max-height: 0;max-width: 0;overflow: hidden;text-align: left;background-color: #f0f8ff;}#sk-container-id-5 div.sk-toggleable__content pre {margin: 0.2em;color: black;border-radius: 0.25em;background-color: #f0f8ff;}#sk-container-id-5 input.sk-toggleable__control:checked~div.sk-toggleable__content {max-height: 200px;max-width: 100%;overflow: auto;}#sk-container-id-5 input.sk-toggleable__control:checked~label.sk-toggleable__label-arrow:before {content: \"▾\";}#sk-container-id-5 div.sk-estimator input.sk-toggleable__control:checked~label.sk-toggleable__label {background-color: #d4ebff;}#sk-container-id-5 div.sk-label input.sk-toggleable__control:checked~label.sk-toggleable__label {background-color: #d4ebff;}#sk-container-id-5 input.sk-hidden--visually {border: 0;clip: rect(1px 1px 1px 1px);clip: rect(1px, 1px, 1px, 1px);height: 1px;margin: -1px;overflow: hidden;padding: 0;position: absolute;width: 1px;}#sk-container-id-5 div.sk-estimator {font-family: monospace;background-color: #f0f8ff;border: 1px dotted black;border-radius: 0.25em;box-sizing: border-box;margin-bottom: 0.5em;}#sk-container-id-5 div.sk-estimator:hover {background-color: #d4ebff;}#sk-container-id-5 div.sk-parallel-item::after {content: \"\";width: 100%;border-bottom: 1px solid gray;flex-grow: 1;}#sk-container-id-5 div.sk-label:hover label.sk-toggleable__label {background-color: #d4ebff;}#sk-container-id-5 div.sk-serial::before {content: \"\";position: absolute;border-left: 1px solid gray;box-sizing: border-box;top: 0;bottom: 0;left: 50%;z-index: 0;}#sk-container-id-5 div.sk-serial {display: flex;flex-direction: column;align-items: center;background-color: white;padding-right: 0.2em;padding-left: 0.2em;position: relative;}#sk-container-id-5 div.sk-item {position: relative;z-index: 1;}#sk-container-id-5 div.sk-parallel {display: flex;align-items: stretch;justify-content: center;background-color: white;position: relative;}#sk-container-id-5 div.sk-item::before, #sk-container-id-5 div.sk-parallel-item::before {content: \"\";position: absolute;border-left: 1px solid gray;box-sizing: border-box;top: 0;bottom: 0;left: 50%;z-index: -1;}#sk-container-id-5 div.sk-parallel-item {display: flex;flex-direction: column;z-index: 1;position: relative;background-color: white;}#sk-container-id-5 div.sk-parallel-item:first-child::after {align-self: flex-end;width: 50%;}#sk-container-id-5 div.sk-parallel-item:last-child::after {align-self: flex-start;width: 50%;}#sk-container-id-5 div.sk-parallel-item:only-child::after {width: 0;}#sk-container-id-5 div.sk-dashed-wrapped {border: 1px dashed gray;margin: 0 0.4em 0.5em 0.4em;box-sizing: border-box;padding-bottom: 0.4em;background-color: white;}#sk-container-id-5 div.sk-label label {font-family: monospace;font-weight: bold;display: inline-block;line-height: 1.2em;}#sk-container-id-5 div.sk-label-container {text-align: center;}#sk-container-id-5 div.sk-container {/* jupyter's `normalize.less` sets `[hidden] { display: none; }` but bootstrap.min.css set `[hidden] { display: none !important; }` so we also need the `!important` here to be able to override the default hidden behavior on the sphinx rendered scikit-learn.org. See: https://github.com/scikit-learn/scikit-learn/issues/21755 */display: inline-block !important;position: relative;}#sk-container-id-5 div.sk-text-repr-fallback {display: none;}</style><div id=\"sk-container-id-5\" class=\"sk-top-container\"><div class=\"sk-text-repr-fallback\"><pre>GridSearchCV(estimator=DecisionTreeClassifier(),\n",
       "             param_grid={&#x27;criterion&#x27;: [&#x27;gini&#x27;, &#x27;entropy&#x27;],\n",
       "                         &#x27;max_depth&#x27;: [3, 4, 5, 6, 7, 8, 9, 10, 11, 12, 13, 14,\n",
       "                                       15, 16, 17, 18, 19, 20, 21, 22, 23, 24,\n",
       "                                       25, 26, 27, 28, 29],\n",
       "                         &#x27;max_features&#x27;: [3, 4, 5, 6, 7, 8, 9, 10, 11, 12, 13,\n",
       "                                          14, 15, 16, 17, 18, 19, 20, 21, 22,\n",
       "                                          23, 24, 25, 26, 27, 28, 29, 30, 31,\n",
       "                                          32, ...]})</pre><b>In a Jupyter environment, please rerun this cell to show the HTML representation or trust the notebook. <br />On GitHub, the HTML representation is unable to render, please try loading this page with nbviewer.org.</b></div><div class=\"sk-container\" hidden><div class=\"sk-item sk-dashed-wrapped\"><div class=\"sk-label-container\"><div class=\"sk-label sk-toggleable\"><input class=\"sk-toggleable__control sk-hidden--visually\" id=\"sk-estimator-id-7\" type=\"checkbox\" ><label for=\"sk-estimator-id-7\" class=\"sk-toggleable__label sk-toggleable__label-arrow\">GridSearchCV</label><div class=\"sk-toggleable__content\"><pre>GridSearchCV(estimator=DecisionTreeClassifier(),\n",
       "             param_grid={&#x27;criterion&#x27;: [&#x27;gini&#x27;, &#x27;entropy&#x27;],\n",
       "                         &#x27;max_depth&#x27;: [3, 4, 5, 6, 7, 8, 9, 10, 11, 12, 13, 14,\n",
       "                                       15, 16, 17, 18, 19, 20, 21, 22, 23, 24,\n",
       "                                       25, 26, 27, 28, 29],\n",
       "                         &#x27;max_features&#x27;: [3, 4, 5, 6, 7, 8, 9, 10, 11, 12, 13,\n",
       "                                          14, 15, 16, 17, 18, 19, 20, 21, 22,\n",
       "                                          23, 24, 25, 26, 27, 28, 29, 30, 31,\n",
       "                                          32, ...]})</pre></div></div></div><div class=\"sk-parallel\"><div class=\"sk-parallel-item\"><div class=\"sk-item\"><div class=\"sk-label-container\"><div class=\"sk-label sk-toggleable\"><input class=\"sk-toggleable__control sk-hidden--visually\" id=\"sk-estimator-id-8\" type=\"checkbox\" ><label for=\"sk-estimator-id-8\" class=\"sk-toggleable__label sk-toggleable__label-arrow\">estimator: DecisionTreeClassifier</label><div class=\"sk-toggleable__content\"><pre>DecisionTreeClassifier()</pre></div></div></div><div class=\"sk-serial\"><div class=\"sk-item\"><div class=\"sk-estimator sk-toggleable\"><input class=\"sk-toggleable__control sk-hidden--visually\" id=\"sk-estimator-id-9\" type=\"checkbox\" ><label for=\"sk-estimator-id-9\" class=\"sk-toggleable__label sk-toggleable__label-arrow\">DecisionTreeClassifier</label><div class=\"sk-toggleable__content\"><pre>DecisionTreeClassifier()</pre></div></div></div></div></div></div></div></div></div></div>"
      ],
      "text/plain": [
       "GridSearchCV(estimator=DecisionTreeClassifier(),\n",
       "             param_grid={'criterion': ['gini', 'entropy'],\n",
       "                         'max_depth': [3, 4, 5, 6, 7, 8, 9, 10, 11, 12, 13, 14,\n",
       "                                       15, 16, 17, 18, 19, 20, 21, 22, 23, 24,\n",
       "                                       25, 26, 27, 28, 29],\n",
       "                         'max_features': [3, 4, 5, 6, 7, 8, 9, 10, 11, 12, 13,\n",
       "                                          14, 15, 16, 17, 18, 19, 20, 21, 22,\n",
       "                                          23, 24, 25, 26, 27, 28, 29, 30, 31,\n",
       "                                          32, ...]})"
      ]
     },
     "execution_count": 70,
     "metadata": {},
     "output_type": "execute_result"
    }
   ],
   "source": [
    "#pokusavam bez balansiranog drveta\n",
    "nebalansirano_drvo.fit(X_train, y_train)"
   ]
  },
  {
   "cell_type": "code",
   "execution_count": 71,
   "id": "2c8f8b4a",
   "metadata": {},
   "outputs": [
    {
     "name": "stdout",
     "output_type": "stream",
     "text": [
      "{'criterion': 'entropy', 'max_depth': 23, 'max_features': 8}\n",
      "0.3252650074893421\n"
     ]
    }
   ],
   "source": [
    "print(balansirano_drvo.best_params_)\n",
    "print(balansirano_drvo.best_score_)"
   ]
  },
  {
   "cell_type": "code",
   "execution_count": null,
   "id": "8169b1f5",
   "metadata": {},
   "outputs": [],
   "source": []
  },
  {
   "cell_type": "code",
   "execution_count": null,
   "id": "30a3f2f5",
   "metadata": {},
   "outputs": [],
   "source": []
  },
  {
   "cell_type": "code",
   "execution_count": null,
   "id": "fc7b4a26",
   "metadata": {},
   "outputs": [],
   "source": []
  },
  {
   "cell_type": "code",
   "execution_count": null,
   "id": "075c103e",
   "metadata": {},
   "outputs": [],
   "source": []
  },
  {
   "cell_type": "code",
   "execution_count": null,
   "id": "1d578194",
   "metadata": {},
   "outputs": [],
   "source": []
  },
  {
   "cell_type": "code",
   "execution_count": 72,
   "id": "057d7622",
   "metadata": {},
   "outputs": [],
   "source": [
    "#pokusavam da klasifikujem svaku klasu sad... (mozda je problem samo u ovoj klasi)"
   ]
  },
  {
   "cell_type": "code",
   "execution_count": 138,
   "id": "50baf35b",
   "metadata": {},
   "outputs": [],
   "source": [
    "#pravi skupove podataka pojedinacno bez svake klase\n",
    "podaci_bez_klase = []\n",
    "for x in atributi:\n",
    "    podaci_bez_klase.append(podaci_bez_klasa.drop(x, axis = 1))\n",
    "    \n",
    "#klasni_podaci, isto to\n",
    "klasni_podaci = []\n",
    "n = len(klase)\n",
    "for i in range(n):\n",
    "    klasni_podaci.append(podaci[klase[i]])\n",
    "# klasni_podaci[12]"
   ]
  },
  {
   "cell_type": "code",
   "execution_count": 147,
   "id": "84d40ff7",
   "metadata": {},
   "outputs": [
    {
     "name": "stdout",
     "output_type": "stream",
     "text": [
      "False False False False False False False False False False False False False False False False False False False "
     ]
    }
   ],
   "source": [
    "#delimo podatke na train/test skupove\n",
    "X_trains[i], X_tests[i], y_trains[i], y_tests[i] = [1 for _ in range(n)], [1 for _ in range(n)], [1 for _ in range(n)], [1 for _ in range(n)]\n",
    "n = len(klase)\n",
    "for i in range(n):\n",
    "    X_trains[i], X_tests[i], y_trains[i], y_tests[i] = train_test_split(podaci_bez_klasa, klasni_podaci[i], test_size = 0.33,  random_state = 42)\n",
    "\n",
    "#proverimo podatke (dobri su)\n",
    "for i in range(n):\n",
    "    print(X_trains[i].shape != X_trains[0].shape, end = ' ')\n"
   ]
  },
  {
   "cell_type": "code",
   "execution_count": 149,
   "id": "8f8ac499",
   "metadata": {},
   "outputs": [
    {
     "name": "stdout",
     "output_type": "stream",
     "text": [
      "Alchocol\n",
      "\u001b[1m\u001b[34m\tKlasifikacioni izveštaj za model DecisionTreeClassifier nad test podacima\u001b[0m\n",
      "\u001b[1m----------------------------------------------------------------------------------------------\u001b[0m\n",
      "\u001b[2m              precision    recall  f1-score   support\n",
      "\n",
      "         CL0       0.07      0.09      0.08        11\n",
      "         CL1       0.00      0.00      0.00        11\n",
      "         CL2       0.00      0.00      0.00        26\n",
      "         CL3       0.10      0.11      0.10        63\n",
      "         CL4       0.25      0.20      0.22       111\n",
      "         CL5       0.42      0.36      0.39       254\n",
      "         CL6       0.24      0.33      0.27       147\n",
      "\n",
      "    accuracy                           0.27       623\n",
      "   macro avg       0.15      0.16      0.15       623\n",
      "weighted avg       0.28      0.27      0.27       623\n",
      "\u001b[0m\n",
      "\u001b[1m----------------------------------------------------------------------------------------------\u001b[0m\n",
      "Amphet\n",
      "\u001b[1m\u001b[34m\tKlasifikacioni izveštaj za model DecisionTreeClassifier nad test podacima\u001b[0m\n",
      "\u001b[1m----------------------------------------------------------------------------------------------\u001b[0m\n",
      "\u001b[2m              precision    recall  f1-score   support\n",
      "\n",
      "         CL0       0.60      0.54      0.57       322\n",
      "         CL1       0.28      0.24      0.26        84\n",
      "         CL2       0.13      0.20      0.16        70\n",
      "         CL3       0.21      0.20      0.21        70\n",
      "         CL4       0.09      0.08      0.08        26\n",
      "         CL5       0.06      0.09      0.07        22\n",
      "         CL6       0.17      0.21      0.18        29\n",
      "\n",
      "    accuracy                           0.37       623\n",
      "   macro avg       0.22      0.22      0.22       623\n",
      "weighted avg       0.40      0.37      0.38       623\n",
      "\u001b[0m\n",
      "\u001b[1m----------------------------------------------------------------------------------------------\u001b[0m\n",
      "Amyl\n",
      "\u001b[1m\u001b[34m\tKlasifikacioni izveštaj za model DecisionTreeClassifier nad test podacima\u001b[0m\n",
      "\u001b[1m----------------------------------------------------------------------------------------------\u001b[0m\n",
      "\u001b[2m              precision    recall  f1-score   support\n",
      "\n",
      "         CL0       0.74      0.76      0.75       429\n",
      "         CL1       0.25      0.19      0.22        78\n",
      "         CL2       0.19      0.20      0.19        70\n",
      "         CL3       0.09      0.10      0.09        31\n",
      "         CL4       0.09      0.11      0.10         9\n",
      "         CL5       0.00      0.00      0.00         5\n",
      "         CL6       0.00      0.00      0.00         1\n",
      "\n",
      "    accuracy                           0.57       623\n",
      "   macro avg       0.19      0.19      0.19       623\n",
      "weighted avg       0.57      0.57      0.57       623\n",
      "\u001b[0m\n",
      "\u001b[1m----------------------------------------------------------------------------------------------\u001b[0m\n",
      "Benzos\n",
      "\u001b[1m\u001b[34m\tKlasifikacioni izveštaj za model DecisionTreeClassifier nad test podacima\u001b[0m\n",
      "\u001b[1m----------------------------------------------------------------------------------------------\u001b[0m\n",
      "\u001b[2m              precision    recall  f1-score   support\n",
      "\n",
      "         CL0       0.62      0.59      0.61       333\n",
      "         CL1       0.12      0.15      0.13        34\n",
      "         CL2       0.10      0.17      0.13        63\n",
      "         CL3       0.18      0.13      0.15        86\n",
      "         CL4       0.05      0.04      0.05        47\n",
      "         CL5       0.03      0.04      0.04        27\n",
      "         CL6       0.06      0.06      0.06        33\n",
      "\n",
      "    accuracy                           0.37       623\n",
      "   macro avg       0.17      0.17      0.17       623\n",
      "weighted avg       0.38      0.37      0.37       623\n",
      "\u001b[0m\n",
      "\u001b[1m----------------------------------------------------------------------------------------------\u001b[0m\n",
      "Caff\n",
      "\u001b[1m\u001b[34m\tKlasifikacioni izveštaj za model DecisionTreeClassifier nad test podacima\u001b[0m\n",
      "\u001b[1m----------------------------------------------------------------------------------------------\u001b[0m\n",
      "\u001b[2m              precision    recall  f1-score   support\n",
      "\n",
      "         CL0       0.00      0.00      0.00         7\n",
      "         CL1       0.00      0.00      0.00         4\n",
      "         CL2       0.00      0.00      0.00         9\n",
      "         CL3       0.12      0.14      0.13        22\n",
      "         CL4       0.08      0.09      0.08        35\n",
      "         CL5       0.11      0.13      0.12        84\n",
      "         CL6       0.75      0.71      0.73       462\n",
      "\n",
      "    accuracy                           0.55       623\n",
      "   macro avg       0.15      0.15      0.15       623\n",
      "weighted avg       0.58      0.55      0.57       623\n",
      "\u001b[0m\n",
      "\u001b[1m----------------------------------------------------------------------------------------------\u001b[0m\n",
      "Canabis\n",
      "\u001b[1m\u001b[34m\tKlasifikacioni izveštaj za model DecisionTreeClassifier nad test podacima\u001b[0m\n",
      "\u001b[1m----------------------------------------------------------------------------------------------\u001b[0m\n",
      "\u001b[2m              precision    recall  f1-score   support\n",
      "\n",
      "         CL0       0.52      0.52      0.52       130\n",
      "         CL1       0.20      0.26      0.23        58\n",
      "         CL2       0.23      0.20      0.21        82\n",
      "         CL3       0.14      0.08      0.10        83\n",
      "         CL4       0.06      0.07      0.06        46\n",
      "         CL5       0.16      0.21      0.18        58\n",
      "         CL6       0.36      0.37      0.37       166\n",
      "\n",
      "    accuracy                           0.29       623\n",
      "   macro avg       0.24      0.24      0.24       623\n",
      "weighted avg       0.29      0.29      0.29       623\n",
      "\u001b[0m\n",
      "\u001b[1m----------------------------------------------------------------------------------------------\u001b[0m\n",
      "Choc\n",
      "\u001b[1m\u001b[34m\tKlasifikacioni izveštaj za model DecisionTreeClassifier nad test podacima\u001b[0m\n",
      "\u001b[1m----------------------------------------------------------------------------------------------\u001b[0m\n",
      "\u001b[2m              precision    recall  f1-score   support\n",
      "\n",
      "         CL0       0.00      0.00      0.00         7\n",
      "         CL1       0.00      0.00      0.00         1\n",
      "         CL2       0.00      0.00      0.00         4\n",
      "         CL3       0.00      0.00      0.00        16\n",
      "         CL4       0.17      0.19      0.18        90\n",
      "         CL5       0.39      0.37      0.38       240\n",
      "         CL6       0.45      0.44      0.44       265\n",
      "\n",
      "    accuracy                           0.36       623\n",
      "   macro avg       0.14      0.14      0.14       623\n",
      "weighted avg       0.37      0.36      0.36       623\n",
      "\u001b[0m\n",
      "\u001b[1m----------------------------------------------------------------------------------------------\u001b[0m\n",
      "Coke\n",
      "\u001b[1m\u001b[34m\tKlasifikacioni izveštaj za model DecisionTreeClassifier nad test podacima\u001b[0m\n",
      "\u001b[1m----------------------------------------------------------------------------------------------\u001b[0m\n",
      "\u001b[2m              precision    recall  f1-score   support\n",
      "\n",
      "         CL0       0.69      0.63      0.66       347\n",
      "         CL1       0.29      0.19      0.22        54\n",
      "         CL2       0.12      0.16      0.14        77\n",
      "         CL3       0.15      0.21      0.18        80\n",
      "         CL4       0.17      0.15      0.16        41\n",
      "         CL5       0.06      0.07      0.06        14\n",
      "         CL6       0.00      0.00      0.00        10\n",
      "\n",
      "    accuracy                           0.42       623\n",
      "   macro avg       0.21      0.20      0.20       623\n",
      "weighted avg       0.45      0.42      0.44       623\n",
      "\u001b[0m\n",
      "\u001b[1m----------------------------------------------------------------------------------------------\u001b[0m\n",
      "Crack\n",
      "\u001b[1m\u001b[34m\tKlasifikacioni izveštaj za model DecisionTreeClassifier nad test podacima\u001b[0m\n",
      "\u001b[1m----------------------------------------------------------------------------------------------\u001b[0m\n",
      "\u001b[2m              precision    recall  f1-score   support\n",
      "\n",
      "         CL0       0.88      0.85      0.87       539\n",
      "         CL1       0.04      0.06      0.05        16\n",
      "         CL2       0.19      0.19      0.19        42\n",
      "         CL3       0.00      0.00      0.00        19\n",
      "         CL4       0.00      0.00      0.00         4\n",
      "         CL5       0.00      0.00      0.00         2\n",
      "         CL6       0.00      0.00      0.00         1\n",
      "\n",
      "    accuracy                           0.75       623\n",
      "   macro avg       0.16      0.16      0.16       623\n",
      "weighted avg       0.78      0.75      0.76       623\n",
      "\u001b[0m\n",
      "\u001b[1m----------------------------------------------------------------------------------------------\u001b[0m\n",
      "Ecstasy\n",
      "\u001b[1m\u001b[34m\tKlasifikacioni izveštaj za model DecisionTreeClassifier nad test podacima\u001b[0m\n",
      "\u001b[1m----------------------------------------------------------------------------------------------\u001b[0m\n",
      "\u001b[2m              precision    recall  f1-score   support\n",
      "\n",
      "         CL0       0.67      0.56      0.61       335\n",
      "         CL1       0.10      0.14      0.12        36\n",
      "         CL2       0.19      0.21      0.20        77\n",
      "         CL3       0.22      0.25      0.23       101\n",
      "         CL4       0.14      0.17      0.15        47\n",
      "         CL5       0.04      0.06      0.04        18\n",
      "         CL6       0.00      0.00      0.00         9\n",
      "\n",
      "    accuracy                           0.39       623\n",
      "   macro avg       0.19      0.20      0.19       623\n",
      "weighted avg       0.43      0.39      0.41       623\n",
      "\u001b[0m\n",
      "\u001b[1m----------------------------------------------------------------------------------------------\u001b[0m\n",
      "Heroin\n",
      "\u001b[1m\u001b[34m\tKlasifikacioni izveštaj za model DecisionTreeClassifier nad test podacima\u001b[0m\n",
      "\u001b[1m----------------------------------------------------------------------------------------------\u001b[0m\n",
      "\u001b[2m              precision    recall  f1-score   support\n",
      "\n",
      "         CL0       0.86      0.82      0.84       531\n",
      "         CL1       0.17      0.22      0.19        18\n",
      "         CL2       0.05      0.06      0.06        32\n",
      "         CL3       0.03      0.04      0.04        24\n",
      "         CL4       0.00      0.00      0.00        11\n",
      "         CL5       0.00      0.00      0.00         4\n",
      "         CL6       0.00      0.00      0.00         3\n",
      "\n",
      "    accuracy                           0.71       623\n",
      "   macro avg       0.16      0.16      0.16       623\n",
      "weighted avg       0.74      0.71      0.73       623\n",
      "\u001b[0m\n",
      "\u001b[1m----------------------------------------------------------------------------------------------\u001b[0m\n",
      "Ketamin\n",
      "\u001b[1m\u001b[34m\tKlasifikacioni izveštaj za model DecisionTreeClassifier nad test podacima\u001b[0m\n",
      "\u001b[1m----------------------------------------------------------------------------------------------\u001b[0m\n",
      "\u001b[2m              precision    recall  f1-score   support\n",
      "\n",
      "         CL0       0.80      0.74      0.77       488\n",
      "         CL1       0.00      0.00      0.00        13\n",
      "         CL2       0.06      0.11      0.08        44\n",
      "         CL3       0.09      0.09      0.09        47\n",
      "         CL4       0.04      0.08      0.05        13\n",
      "         CL5       0.00      0.00      0.00        17\n",
      "         CL6       0.00      0.00      0.00         1\n",
      "\n",
      "    accuracy                           0.60       623\n",
      "   macro avg       0.14      0.15      0.14       623\n",
      "weighted avg       0.64      0.60      0.62       623\n",
      "\u001b[0m\n",
      "\u001b[1m----------------------------------------------------------------------------------------------\u001b[0m\n",
      "LegalH\n",
      "\u001b[1m\u001b[34m\tKlasifikacioni izveštaj za model DecisionTreeClassifier nad test podacima\u001b[0m\n",
      "\u001b[1m----------------------------------------------------------------------------------------------\u001b[0m\n",
      "\u001b[2m              precision    recall  f1-score   support\n",
      "\n",
      "         CL0       0.74      0.73      0.74       342\n",
      "         CL1       0.00      0.00      0.00         8\n",
      "         CL2       0.12      0.11      0.12        70\n",
      "         CL3       0.29      0.31      0.30       118\n",
      "         CL4       0.12      0.14      0.12        37\n",
      "         CL5       0.07      0.04      0.05        26\n",
      "         CL6       0.04      0.05      0.04        22\n",
      "\n",
      "    accuracy                           0.48       623\n",
      "   macro avg       0.20      0.20      0.20       623\n",
      "weighted avg       0.49      0.48      0.49       623\n",
      "\u001b[0m\n",
      "\u001b[1m----------------------------------------------------------------------------------------------\u001b[0m\n",
      "LSD\n",
      "\u001b[1m\u001b[34m\tKlasifikacioni izveštaj za model DecisionTreeClassifier nad test podacima\u001b[0m\n",
      "\u001b[1m----------------------------------------------------------------------------------------------\u001b[0m\n",
      "\u001b[2m              precision    recall  f1-score   support\n",
      "\n",
      "         CL0       0.67      0.63      0.65       347\n",
      "         CL1       0.28      0.28      0.28        86\n",
      "         CL2       0.14      0.12      0.13        64\n",
      "         CL3       0.24      0.28      0.25        76\n",
      "         CL4       0.21      0.26      0.23        31\n",
      "         CL5       0.05      0.07      0.05        15\n",
      "         CL6       0.00      0.00      0.00         4\n",
      "\n",
      "    accuracy                           0.45       623\n",
      "   macro avg       0.22      0.23      0.23       623\n",
      "weighted avg       0.47      0.45      0.46       623\n",
      "\u001b[0m\n",
      "\u001b[1m----------------------------------------------------------------------------------------------\u001b[0m\n",
      "Meth\n"
     ]
    },
    {
     "name": "stdout",
     "output_type": "stream",
     "text": [
      "\u001b[1m\u001b[34m\tKlasifikacioni izveštaj za model DecisionTreeClassifier nad test podacima\u001b[0m\n",
      "\u001b[1m----------------------------------------------------------------------------------------------\u001b[0m\n",
      "\u001b[2m              precision    recall  f1-score   support\n",
      "\n",
      "         CL0       0.82      0.80      0.81       464\n",
      "         CL1       0.00      0.00      0.00        11\n",
      "         CL2       0.17      0.18      0.17        34\n",
      "         CL3       0.17      0.19      0.18        54\n",
      "         CL4       0.10      0.06      0.08        16\n",
      "         CL5       0.06      0.05      0.06        19\n",
      "         CL6       0.00      0.00      0.00        25\n",
      "\n",
      "    accuracy                           0.62       623\n",
      "   macro avg       0.19      0.18      0.18       623\n",
      "weighted avg       0.64      0.62      0.63       623\n",
      "\u001b[0m\n",
      "\u001b[1m----------------------------------------------------------------------------------------------\u001b[0m\n",
      "Mushrooms\n",
      "\u001b[1m\u001b[34m\tKlasifikacioni izveštaj za model DecisionTreeClassifier nad test podacima\u001b[0m\n",
      "\u001b[1m----------------------------------------------------------------------------------------------\u001b[0m\n",
      "\u001b[2m              precision    recall  f1-score   support\n",
      "\n",
      "         CL0       0.64      0.65      0.64       314\n",
      "         CL1       0.29      0.27      0.28        67\n",
      "         CL2       0.16      0.17      0.16        89\n",
      "         CL3       0.28      0.29      0.29        92\n",
      "         CL4       0.19      0.16      0.18        43\n",
      "         CL5       0.06      0.07      0.07        14\n",
      "         CL6       0.00      0.00      0.00         4\n",
      "\n",
      "    accuracy                           0.43       623\n",
      "   macro avg       0.23      0.23      0.23       623\n",
      "weighted avg       0.43      0.43      0.43       623\n",
      "\u001b[0m\n",
      "\u001b[1m----------------------------------------------------------------------------------------------\u001b[0m\n",
      "Nicotine\n",
      "\u001b[1m\u001b[34m\tKlasifikacioni izveštaj za model DecisionTreeClassifier nad test podacima\u001b[0m\n",
      "\u001b[1m----------------------------------------------------------------------------------------------\u001b[0m\n",
      "\u001b[2m              precision    recall  f1-score   support\n",
      "\n",
      "         CL0       0.32      0.29      0.31       153\n",
      "         CL1       0.20      0.25      0.22        56\n",
      "         CL2       0.18      0.19      0.19        67\n",
      "         CL3       0.10      0.11      0.10        65\n",
      "         CL4       0.14      0.17      0.15        30\n",
      "         CL5       0.08      0.08      0.08        48\n",
      "         CL6       0.39      0.36      0.37       204\n",
      "\n",
      "    accuracy                           0.26       623\n",
      "   macro avg       0.20      0.21      0.20       623\n",
      "weighted avg       0.27      0.26      0.26       623\n",
      "\u001b[0m\n",
      "\u001b[1m----------------------------------------------------------------------------------------------\u001b[0m\n",
      "Semer\n",
      "\u001b[1m\u001b[34m\tKlasifikacioni izveštaj za model DecisionTreeClassifier nad test podacima\u001b[0m\n",
      "\u001b[1m----------------------------------------------------------------------------------------------\u001b[0m\n",
      "\u001b[2m              precision    recall  f1-score   support\n",
      "\n",
      "         CL0       1.00      1.00      1.00       620\n",
      "         CL1       0.00      0.00      0.00         0\n",
      "         CL2       0.00      0.00      0.00         1\n",
      "         CL3       0.00      0.00      0.00         2\n",
      "\n",
      "    accuracy                           0.99       623\n",
      "   macro avg       0.25      0.25      0.25       623\n",
      "weighted avg       0.99      0.99      0.99       623\n",
      "\u001b[0m\n",
      "\u001b[1m----------------------------------------------------------------------------------------------\u001b[0m\n",
      "VSA\n",
      "\u001b[1m\u001b[34m\tKlasifikacioni izveštaj za model DecisionTreeClassifier nad test podacima\u001b[0m\n",
      "\u001b[1m----------------------------------------------------------------------------------------------\u001b[0m\n",
      "\u001b[2m              precision    recall  f1-score   support\n",
      "\n",
      "         CL0       0.79      0.79      0.79       478\n",
      "         CL1       0.20      0.19      0.19        64\n",
      "         CL2       0.12      0.16      0.14        44\n",
      "         CL3       0.11      0.09      0.10        23\n",
      "         CL4       0.00      0.00      0.00         2\n",
      "         CL5       0.00      0.00      0.00        10\n",
      "         CL6       0.00      0.00      0.00         2\n",
      "\n",
      "    accuracy                           0.64       623\n",
      "   macro avg       0.17      0.17      0.17       623\n",
      "weighted avg       0.64      0.64      0.64       623\n",
      "\u001b[0m\n",
      "\u001b[1m----------------------------------------------------------------------------------------------\u001b[0m\n"
     ]
    },
    {
     "name": "stderr",
     "output_type": "stream",
     "text": [
      "/home/dzzz/.local/lib/python3.10/site-packages/sklearn/metrics/_classification.py:1344: UndefinedMetricWarning: Precision and F-score are ill-defined and being set to 0.0 in labels with no predicted samples. Use `zero_division` parameter to control this behavior.\n",
      "  _warn_prf(average, modifier, msg_start, len(result))\n",
      "/home/dzzz/.local/lib/python3.10/site-packages/sklearn/metrics/_classification.py:1344: UndefinedMetricWarning: Precision and F-score are ill-defined and being set to 0.0 in labels with no predicted samples. Use `zero_division` parameter to control this behavior.\n",
      "  _warn_prf(average, modifier, msg_start, len(result))\n",
      "/home/dzzz/.local/lib/python3.10/site-packages/sklearn/metrics/_classification.py:1344: UndefinedMetricWarning: Precision and F-score are ill-defined and being set to 0.0 in labels with no predicted samples. Use `zero_division` parameter to control this behavior.\n",
      "  _warn_prf(average, modifier, msg_start, len(result))\n",
      "/home/dzzz/.local/lib/python3.10/site-packages/sklearn/metrics/_classification.py:1344: UndefinedMetricWarning: Precision and F-score are ill-defined and being set to 0.0 in labels with no predicted samples. Use `zero_division` parameter to control this behavior.\n",
      "  _warn_prf(average, modifier, msg_start, len(result))\n",
      "/home/dzzz/.local/lib/python3.10/site-packages/sklearn/metrics/_classification.py:1344: UndefinedMetricWarning: Precision and F-score are ill-defined and being set to 0.0 in labels with no predicted samples. Use `zero_division` parameter to control this behavior.\n",
      "  _warn_prf(average, modifier, msg_start, len(result))\n",
      "/home/dzzz/.local/lib/python3.10/site-packages/sklearn/metrics/_classification.py:1344: UndefinedMetricWarning: Precision and F-score are ill-defined and being set to 0.0 in labels with no predicted samples. Use `zero_division` parameter to control this behavior.\n",
      "  _warn_prf(average, modifier, msg_start, len(result))\n",
      "/home/dzzz/.local/lib/python3.10/site-packages/sklearn/metrics/_classification.py:1344: UndefinedMetricWarning: Precision and F-score are ill-defined and being set to 0.0 in labels with no predicted samples. Use `zero_division` parameter to control this behavior.\n",
      "  _warn_prf(average, modifier, msg_start, len(result))\n",
      "/home/dzzz/.local/lib/python3.10/site-packages/sklearn/metrics/_classification.py:1344: UndefinedMetricWarning: Precision and F-score are ill-defined and being set to 0.0 in labels with no predicted samples. Use `zero_division` parameter to control this behavior.\n",
      "  _warn_prf(average, modifier, msg_start, len(result))\n",
      "/home/dzzz/.local/lib/python3.10/site-packages/sklearn/metrics/_classification.py:1344: UndefinedMetricWarning: Precision and F-score are ill-defined and being set to 0.0 in labels with no predicted samples. Use `zero_division` parameter to control this behavior.\n",
      "  _warn_prf(average, modifier, msg_start, len(result))\n",
      "/home/dzzz/.local/lib/python3.10/site-packages/sklearn/metrics/_classification.py:1344: UndefinedMetricWarning: Precision and F-score are ill-defined and being set to 0.0 in labels with no predicted samples. Use `zero_division` parameter to control this behavior.\n",
      "  _warn_prf(average, modifier, msg_start, len(result))\n",
      "/home/dzzz/.local/lib/python3.10/site-packages/sklearn/metrics/_classification.py:1344: UndefinedMetricWarning: Recall and F-score are ill-defined and being set to 0.0 in labels with no true samples. Use `zero_division` parameter to control this behavior.\n",
      "  _warn_prf(average, modifier, msg_start, len(result))\n",
      "/home/dzzz/.local/lib/python3.10/site-packages/sklearn/metrics/_classification.py:1344: UndefinedMetricWarning: Precision and F-score are ill-defined and being set to 0.0 in labels with no predicted samples. Use `zero_division` parameter to control this behavior.\n",
      "  _warn_prf(average, modifier, msg_start, len(result))\n",
      "/home/dzzz/.local/lib/python3.10/site-packages/sklearn/metrics/_classification.py:1344: UndefinedMetricWarning: Recall and F-score are ill-defined and being set to 0.0 in labels with no true samples. Use `zero_division` parameter to control this behavior.\n",
      "  _warn_prf(average, modifier, msg_start, len(result))\n",
      "/home/dzzz/.local/lib/python3.10/site-packages/sklearn/metrics/_classification.py:1344: UndefinedMetricWarning: Precision and F-score are ill-defined and being set to 0.0 in labels with no predicted samples. Use `zero_division` parameter to control this behavior.\n",
      "  _warn_prf(average, modifier, msg_start, len(result))\n",
      "/home/dzzz/.local/lib/python3.10/site-packages/sklearn/metrics/_classification.py:1344: UndefinedMetricWarning: Recall and F-score are ill-defined and being set to 0.0 in labels with no true samples. Use `zero_division` parameter to control this behavior.\n",
      "  _warn_prf(average, modifier, msg_start, len(result))\n",
      "/home/dzzz/.local/lib/python3.10/site-packages/sklearn/metrics/_classification.py:1344: UndefinedMetricWarning: Precision and F-score are ill-defined and being set to 0.0 in labels with no predicted samples. Use `zero_division` parameter to control this behavior.\n",
      "  _warn_prf(average, modifier, msg_start, len(result))\n",
      "/home/dzzz/.local/lib/python3.10/site-packages/sklearn/metrics/_classification.py:1344: UndefinedMetricWarning: Precision and F-score are ill-defined and being set to 0.0 in labels with no predicted samples. Use `zero_division` parameter to control this behavior.\n",
      "  _warn_prf(average, modifier, msg_start, len(result))\n",
      "/home/dzzz/.local/lib/python3.10/site-packages/sklearn/metrics/_classification.py:1344: UndefinedMetricWarning: Precision and F-score are ill-defined and being set to 0.0 in labels with no predicted samples. Use `zero_division` parameter to control this behavior.\n",
      "  _warn_prf(average, modifier, msg_start, len(result))\n"
     ]
    }
   ],
   "source": [
    "# prvo pravimo stablo za svakog, i proveramo uspesnost\n",
    "for i in range(n):\n",
    "    drvo_klasifikacije = DecisionTreeClassifier()\n",
    "    drvo_klasifikacije.fit(X_trains[i], y_trains[i])\n",
    "    print(klase[i])\n",
    "    report(drvo_klasifikacije, X_tests[i], y_tests[i], text= 'test')"
   ]
  },
  {
   "cell_type": "code",
   "execution_count": 150,
   "id": "c34e7fac",
   "metadata": {},
   "outputs": [
    {
     "name": "stdout",
     "output_type": "stream",
     "text": [
      "Alchocol: 0.3240949871384654\n",
      "Amphet: 0.4191448647970387\n"
     ]
    },
    {
     "name": "stderr",
     "output_type": "stream",
     "text": [
      "/home/dzzz/.local/lib/python3.10/site-packages/sklearn/model_selection/_split.py:700: UserWarning: The least populated class in y has only 2 members, which is less than n_splits=5.\n",
      "  warnings.warn(\n"
     ]
    },
    {
     "name": "stdout",
     "output_type": "stream",
     "text": [
      "Amyl: 0.5761183261183261\n",
      "Benzos: 0.41761402848359364\n",
      "Caff: 0.5824267519919694\n",
      "Canabis: 0.3169960474308301\n"
     ]
    },
    {
     "name": "stderr",
     "output_type": "stream",
     "text": [
      "/home/dzzz/.local/lib/python3.10/site-packages/sklearn/model_selection/_split.py:700: UserWarning: The least populated class in y has only 2 members, which is less than n_splits=5.\n",
      "  warnings.warn(\n"
     ]
    },
    {
     "name": "stdout",
     "output_type": "stream",
     "text": [
      "Choc: 0.37241043980174415\n",
      "Coke: 0.44531024531024527\n"
     ]
    },
    {
     "name": "stderr",
     "output_type": "stream",
     "text": [
      "/home/dzzz/.local/lib/python3.10/site-packages/sklearn/model_selection/_split.py:700: UserWarning: The least populated class in y has only 1 members, which is less than n_splits=5.\n",
      "  warnings.warn(\n"
     ]
    },
    {
     "name": "stdout",
     "output_type": "stream",
     "text": [
      "Crack: 0.7884653993349645\n",
      "Ecstasy: 0.4524687872513959\n",
      "Heroin: 0.7773574251835121\n"
     ]
    },
    {
     "name": "stderr",
     "output_type": "stream",
     "text": [
      "/home/dzzz/.local/lib/python3.10/site-packages/sklearn/model_selection/_split.py:700: UserWarning: The least populated class in y has only 3 members, which is less than n_splits=5.\n",
      "  warnings.warn(\n"
     ]
    },
    {
     "name": "stdout",
     "output_type": "stream",
     "text": [
      "Ketamin: 0.6933684672815108\n",
      "LegalH: 0.535670368279064\n",
      "LSD: 0.5103049124788255\n",
      "Meth: 0.6672156346069389\n",
      "Mushrooms: 0.474640818119079\n",
      "Nicotine: 0.27658259614781355\n"
     ]
    },
    {
     "name": "stderr",
     "output_type": "stream",
     "text": [
      "/home/dzzz/.local/lib/python3.10/site-packages/sklearn/model_selection/_split.py:700: UserWarning: The least populated class in y has only 1 members, which is less than n_splits=5.\n",
      "  warnings.warn(\n"
     ]
    },
    {
     "name": "stdout",
     "output_type": "stream",
     "text": [
      "Semer: 0.9952475061170712\n"
     ]
    },
    {
     "name": "stderr",
     "output_type": "stream",
     "text": [
      "/home/dzzz/.local/lib/python3.10/site-packages/sklearn/model_selection/_split.py:700: UserWarning: The least populated class in y has only 4 members, which is less than n_splits=5.\n",
      "  warnings.warn(\n"
     ]
    },
    {
     "name": "stdout",
     "output_type": "stream",
     "text": [
      "VSA: 0.6679622310057093\n"
     ]
    }
   ],
   "source": [
    "#BALANSIRANO DRVO, SA PODESENIM PARAMETRIMA\n",
    "for i in range(n):\n",
    "    balansirano_drvo.fit(X_trains[i], y_trains[i])\n",
    "    print(f'{klase[i]}: {balansirano_drvo.best_score_}')"
   ]
  },
  {
   "cell_type": "code",
   "execution_count": null,
   "id": "397386ff",
   "metadata": {},
   "outputs": [],
   "source": []
  }
 ],
 "metadata": {
  "kernelspec": {
   "display_name": "Python 3 (ipykernel)",
   "language": "python",
   "name": "python3"
  },
  "language_info": {
   "codemirror_mode": {
    "name": "ipython",
    "version": 3
   },
   "file_extension": ".py",
   "mimetype": "text/x-python",
   "name": "python",
   "nbconvert_exporter": "python",
   "pygments_lexer": "ipython3",
   "version": "3.10.6"
  }
 },
 "nbformat": 4,
 "nbformat_minor": 5
}
