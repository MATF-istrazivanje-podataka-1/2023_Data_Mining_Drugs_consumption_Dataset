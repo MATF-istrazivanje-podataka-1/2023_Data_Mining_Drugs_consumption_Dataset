{
 "cells": [
  {
   "cell_type": "code",
   "execution_count": 1,
   "id": "7b5c41f3",
   "metadata": {},
   "outputs": [],
   "source": [
    "import numpy as np\n",
    "import pandas as pd\n",
    "import matplotlib.pyplot as plt\n",
    "\n",
    "from sklearn.metrics import accuracy_score"
   ]
  },
  {
   "cell_type": "markdown",
   "id": "7c61ad04",
   "metadata": {},
   "source": [
    "# KLASIFIKACIJA Neuronskim mrezama"
   ]
  },
  {
   "cell_type": "markdown",
   "id": "af5c196b",
   "metadata": {},
   "source": [
    "Za svaku supstancu postoji vise klasa koje mogu da se klasifikuju, stoga radice se klasifikacija svake supstance posebno"
   ]
  },
  {
   "cell_type": "markdown",
   "id": "92fdf0d7",
   "metadata": {},
   "source": [
    "### UCITAVANJE I PREPROCESIRANJE PODATAKA\n",
    "*deo koda uzet iz fajla za analizu podataka*"
   ]
  },
  {
   "cell_type": "code",
   "execution_count": 2,
   "id": "41f255f7",
   "metadata": {},
   "outputs": [],
   "source": [
    "#uzeto iz fajla za analizu podataka\n",
    "kolone = [\"ID\", \"Age\", \"Gender\", \"Education\", \"Country\", \"Ethnicity\", \n",
    "            \"Nscore\", \"Escore\", \"Oscore\", \"Ascore\", \"Cscore\", \"Impulsiveness\", \"SS\", \n",
    "            \"Alchocol\", \"Amphet\", \"Amyl\", \"Benzos\", \"Caff\", \"Canabis\", \"Choc\", \"Coke\", \"Crack\", \"Ecstasy\", \n",
    "            \"Heroin\", \"Ketamin\", \"LegalH\", \"LSD\", \"Meth\", \"Mushrooms\", \"Nicotine\", \"Semer\", \"VSA\"]\n",
    "\n",
    "podaci = pd.read_csv('../drug_consumption.data', names = kolone)\n",
    "\n",
    "podaci = podaci.drop('ID', axis = 1)\n",
    "\n",
    "podaci = podaci.drop('Semer', axis = 1)"
   ]
  },
  {
   "cell_type": "code",
   "execution_count": 3,
   "id": "923c92ae",
   "metadata": {},
   "outputs": [
    {
     "data": {
      "text/html": [
       "<div>\n",
       "<style scoped>\n",
       "    .dataframe tbody tr th:only-of-type {\n",
       "        vertical-align: middle;\n",
       "    }\n",
       "\n",
       "    .dataframe tbody tr th {\n",
       "        vertical-align: top;\n",
       "    }\n",
       "\n",
       "    .dataframe thead th {\n",
       "        text-align: right;\n",
       "    }\n",
       "</style>\n",
       "<table border=\"1\" class=\"dataframe\">\n",
       "  <thead>\n",
       "    <tr style=\"text-align: right;\">\n",
       "      <th></th>\n",
       "      <th>Country</th>\n",
       "      <th>Ethnicity</th>\n",
       "      <th>Nscore</th>\n",
       "      <th>Escore</th>\n",
       "      <th>Oscore</th>\n",
       "      <th>Cscore</th>\n",
       "      <th>Impulsiveness</th>\n",
       "      <th>SS</th>\n",
       "      <th>Amphet</th>\n",
       "      <th>Amyl</th>\n",
       "      <th>...</th>\n",
       "      <th>Crack</th>\n",
       "      <th>Ecstasy</th>\n",
       "      <th>Heroin</th>\n",
       "      <th>Ketamin</th>\n",
       "      <th>LegalH</th>\n",
       "      <th>LSD</th>\n",
       "      <th>Meth</th>\n",
       "      <th>Mushrooms</th>\n",
       "      <th>Nicotine</th>\n",
       "      <th>VSA</th>\n",
       "    </tr>\n",
       "  </thead>\n",
       "  <tbody>\n",
       "    <tr>\n",
       "      <th>0</th>\n",
       "      <td>0.96082</td>\n",
       "      <td>0.12600</td>\n",
       "      <td>0.31287</td>\n",
       "      <td>-0.57545</td>\n",
       "      <td>-0.58331</td>\n",
       "      <td>-0.00665</td>\n",
       "      <td>-0.21712</td>\n",
       "      <td>-1.18084</td>\n",
       "      <td>CL2</td>\n",
       "      <td>CL0</td>\n",
       "      <td>...</td>\n",
       "      <td>CL0</td>\n",
       "      <td>CL0</td>\n",
       "      <td>CL0</td>\n",
       "      <td>CL0</td>\n",
       "      <td>CL0</td>\n",
       "      <td>CL0</td>\n",
       "      <td>CL0</td>\n",
       "      <td>CL0</td>\n",
       "      <td>CL2</td>\n",
       "      <td>CL0</td>\n",
       "    </tr>\n",
       "    <tr>\n",
       "      <th>1</th>\n",
       "      <td>0.96082</td>\n",
       "      <td>-0.31685</td>\n",
       "      <td>-0.67825</td>\n",
       "      <td>1.93886</td>\n",
       "      <td>1.43533</td>\n",
       "      <td>-0.14277</td>\n",
       "      <td>-0.71126</td>\n",
       "      <td>-0.21575</td>\n",
       "      <td>CL2</td>\n",
       "      <td>CL2</td>\n",
       "      <td>...</td>\n",
       "      <td>CL0</td>\n",
       "      <td>CL4</td>\n",
       "      <td>CL0</td>\n",
       "      <td>CL2</td>\n",
       "      <td>CL0</td>\n",
       "      <td>CL2</td>\n",
       "      <td>CL3</td>\n",
       "      <td>CL0</td>\n",
       "      <td>CL4</td>\n",
       "      <td>CL0</td>\n",
       "    </tr>\n",
       "    <tr>\n",
       "      <th>2</th>\n",
       "      <td>0.96082</td>\n",
       "      <td>-0.31685</td>\n",
       "      <td>-0.46725</td>\n",
       "      <td>0.80523</td>\n",
       "      <td>-0.84732</td>\n",
       "      <td>-1.01450</td>\n",
       "      <td>-1.37983</td>\n",
       "      <td>0.40148</td>\n",
       "      <td>CL0</td>\n",
       "      <td>CL0</td>\n",
       "      <td>...</td>\n",
       "      <td>CL0</td>\n",
       "      <td>CL0</td>\n",
       "      <td>CL0</td>\n",
       "      <td>CL0</td>\n",
       "      <td>CL0</td>\n",
       "      <td>CL0</td>\n",
       "      <td>CL0</td>\n",
       "      <td>CL1</td>\n",
       "      <td>CL0</td>\n",
       "      <td>CL0</td>\n",
       "    </tr>\n",
       "    <tr>\n",
       "      <th>3</th>\n",
       "      <td>0.96082</td>\n",
       "      <td>-0.31685</td>\n",
       "      <td>-0.14882</td>\n",
       "      <td>-0.80615</td>\n",
       "      <td>-0.01928</td>\n",
       "      <td>0.58489</td>\n",
       "      <td>-1.37983</td>\n",
       "      <td>-1.18084</td>\n",
       "      <td>CL0</td>\n",
       "      <td>CL0</td>\n",
       "      <td>...</td>\n",
       "      <td>CL0</td>\n",
       "      <td>CL0</td>\n",
       "      <td>CL0</td>\n",
       "      <td>CL2</td>\n",
       "      <td>CL0</td>\n",
       "      <td>CL0</td>\n",
       "      <td>CL0</td>\n",
       "      <td>CL0</td>\n",
       "      <td>CL2</td>\n",
       "      <td>CL0</td>\n",
       "    </tr>\n",
       "    <tr>\n",
       "      <th>4</th>\n",
       "      <td>0.96082</td>\n",
       "      <td>-0.31685</td>\n",
       "      <td>0.73545</td>\n",
       "      <td>-1.63340</td>\n",
       "      <td>-0.45174</td>\n",
       "      <td>1.30612</td>\n",
       "      <td>-0.21712</td>\n",
       "      <td>-0.21575</td>\n",
       "      <td>CL1</td>\n",
       "      <td>CL1</td>\n",
       "      <td>...</td>\n",
       "      <td>CL0</td>\n",
       "      <td>CL1</td>\n",
       "      <td>CL0</td>\n",
       "      <td>CL0</td>\n",
       "      <td>CL1</td>\n",
       "      <td>CL0</td>\n",
       "      <td>CL0</td>\n",
       "      <td>CL2</td>\n",
       "      <td>CL2</td>\n",
       "      <td>CL0</td>\n",
       "    </tr>\n",
       "  </tbody>\n",
       "</table>\n",
       "<p>5 rows × 24 columns</p>\n",
       "</div>"
      ],
      "text/plain": [
       "   Country  Ethnicity   Nscore   Escore   Oscore   Cscore  Impulsiveness  \\\n",
       "0  0.96082    0.12600  0.31287 -0.57545 -0.58331 -0.00665       -0.21712   \n",
       "1  0.96082   -0.31685 -0.67825  1.93886  1.43533 -0.14277       -0.71126   \n",
       "2  0.96082   -0.31685 -0.46725  0.80523 -0.84732 -1.01450       -1.37983   \n",
       "3  0.96082   -0.31685 -0.14882 -0.80615 -0.01928  0.58489       -1.37983   \n",
       "4  0.96082   -0.31685  0.73545 -1.63340 -0.45174  1.30612       -0.21712   \n",
       "\n",
       "        SS Amphet Amyl  ... Crack Ecstasy Heroin Ketamin LegalH  LSD Meth  \\\n",
       "0 -1.18084    CL2  CL0  ...   CL0     CL0    CL0     CL0    CL0  CL0  CL0   \n",
       "1 -0.21575    CL2  CL2  ...   CL0     CL4    CL0     CL2    CL0  CL2  CL3   \n",
       "2  0.40148    CL0  CL0  ...   CL0     CL0    CL0     CL0    CL0  CL0  CL0   \n",
       "3 -1.18084    CL0  CL0  ...   CL0     CL0    CL0     CL2    CL0  CL0  CL0   \n",
       "4 -0.21575    CL1  CL1  ...   CL0     CL1    CL0     CL0    CL1  CL0  CL0   \n",
       "\n",
       "  Mushrooms Nicotine  VSA  \n",
       "0       CL0      CL2  CL0  \n",
       "1       CL0      CL4  CL0  \n",
       "2       CL1      CL0  CL0  \n",
       "3       CL0      CL2  CL0  \n",
       "4       CL2      CL2  CL0  \n",
       "\n",
       "[5 rows x 24 columns]"
      ]
     },
     "execution_count": 3,
     "metadata": {},
     "output_type": "execute_result"
    }
   ],
   "source": [
    "niska_korelacija = ['Age', 'Gender', 'Education', 'Alchocol','Ascore','Caff']\n",
    "for column in niska_korelacija:\n",
    "    podaci = podaci.drop(column, axis=1)\n",
    "podaci.head()"
   ]
  },
  {
   "cell_type": "code",
   "execution_count": 4,
   "id": "a63657fa",
   "metadata": {},
   "outputs": [
    {
     "name": "stdout",
     "output_type": "stream",
     "text": [
      "['Country', 'Ethnicity', 'Nscore', 'Escore', 'Oscore', 'Cscore', 'Impulsiveness', 'SS'], "
     ]
    }
   ],
   "source": [
    "# posto imamo vise klasa koje ispitujemo, razdvajam podatke na atribute i na klase\n",
    "podaci.head()\n",
    "\n",
    "#izdvajanje atributa\n",
    "atributi1 = podaci.columns\n",
    "atributi1\n",
    "\n",
    "atributi = []\n",
    "for atribut in atributi1:\n",
    "    if atribut == 'Amphet':\n",
    "        break\n",
    "    atributi.append(atribut)\n",
    "    \n",
    "print(atributi, end = ', ')"
   ]
  },
  {
   "cell_type": "code",
   "execution_count": 5,
   "id": "c3fcab6d",
   "metadata": {},
   "outputs": [
    {
     "name": "stdout",
     "output_type": "stream",
     "text": [
      "['Amphet', 'Amyl', 'Benzos', 'Canabis', 'Choc', 'Coke', 'Crack', 'Ecstasy', 'Heroin', 'Ketamin', 'LegalH', 'LSD', 'Meth', 'Mushrooms', 'Nicotine', 'VSA'], \n",
      "True\n"
     ]
    }
   ],
   "source": [
    "#izdvajanje klasa\n",
    "klase = []\n",
    "for atribut in atributi1:\n",
    "    if atribut not in atributi:\n",
    "        klase.append(atribut)\n",
    "        \n",
    "print(klase, end = ', ')\n",
    "print()\n",
    "\n",
    "# provera deljenja kolona\n",
    "print(len(klase) + len(atributi) == len(podaci.columns))"
   ]
  },
  {
   "cell_type": "code",
   "execution_count": 6,
   "id": "494f378c",
   "metadata": {},
   "outputs": [],
   "source": [
    "podaci_skalirano = podaci.copy()\n",
    "# for a in atributi:\n",
    "#     skalirani_podaci[a] = skaliraj_podatke(skalirani_podaci[a])\n",
    "    \n",
    "# #provera uspesnosti skaliranja\n",
    "# for a in atributi:\n",
    "#     print(len(skalirani_podaci[a].unique()) == len(podaci[a].unique()), end = \", \")\n",
    "    \n",
    "# #nismo izgubili podatke"
   ]
  },
  {
   "cell_type": "code",
   "execution_count": 7,
   "id": "ac6d0818",
   "metadata": {},
   "outputs": [
    {
     "data": {
      "text/html": [
       "<div>\n",
       "<style scoped>\n",
       "    .dataframe tbody tr th:only-of-type {\n",
       "        vertical-align: middle;\n",
       "    }\n",
       "\n",
       "    .dataframe tbody tr th {\n",
       "        vertical-align: top;\n",
       "    }\n",
       "\n",
       "    .dataframe thead th {\n",
       "        text-align: right;\n",
       "    }\n",
       "</style>\n",
       "<table border=\"1\" class=\"dataframe\">\n",
       "  <thead>\n",
       "    <tr style=\"text-align: right;\">\n",
       "      <th></th>\n",
       "      <th>Country</th>\n",
       "      <th>Ethnicity</th>\n",
       "      <th>Nscore</th>\n",
       "      <th>Escore</th>\n",
       "      <th>Oscore</th>\n",
       "      <th>Cscore</th>\n",
       "      <th>Impulsiveness</th>\n",
       "      <th>SS</th>\n",
       "    </tr>\n",
       "  </thead>\n",
       "  <tbody>\n",
       "    <tr>\n",
       "      <th>0</th>\n",
       "      <td>0.96082</td>\n",
       "      <td>0.12600</td>\n",
       "      <td>0.31287</td>\n",
       "      <td>-0.57545</td>\n",
       "      <td>-0.58331</td>\n",
       "      <td>-0.00665</td>\n",
       "      <td>-0.21712</td>\n",
       "      <td>-1.18084</td>\n",
       "    </tr>\n",
       "    <tr>\n",
       "      <th>1</th>\n",
       "      <td>0.96082</td>\n",
       "      <td>-0.31685</td>\n",
       "      <td>-0.67825</td>\n",
       "      <td>1.93886</td>\n",
       "      <td>1.43533</td>\n",
       "      <td>-0.14277</td>\n",
       "      <td>-0.71126</td>\n",
       "      <td>-0.21575</td>\n",
       "    </tr>\n",
       "    <tr>\n",
       "      <th>2</th>\n",
       "      <td>0.96082</td>\n",
       "      <td>-0.31685</td>\n",
       "      <td>-0.46725</td>\n",
       "      <td>0.80523</td>\n",
       "      <td>-0.84732</td>\n",
       "      <td>-1.01450</td>\n",
       "      <td>-1.37983</td>\n",
       "      <td>0.40148</td>\n",
       "    </tr>\n",
       "    <tr>\n",
       "      <th>3</th>\n",
       "      <td>0.96082</td>\n",
       "      <td>-0.31685</td>\n",
       "      <td>-0.14882</td>\n",
       "      <td>-0.80615</td>\n",
       "      <td>-0.01928</td>\n",
       "      <td>0.58489</td>\n",
       "      <td>-1.37983</td>\n",
       "      <td>-1.18084</td>\n",
       "    </tr>\n",
       "    <tr>\n",
       "      <th>4</th>\n",
       "      <td>0.96082</td>\n",
       "      <td>-0.31685</td>\n",
       "      <td>0.73545</td>\n",
       "      <td>-1.63340</td>\n",
       "      <td>-0.45174</td>\n",
       "      <td>1.30612</td>\n",
       "      <td>-0.21712</td>\n",
       "      <td>-0.21575</td>\n",
       "    </tr>\n",
       "    <tr>\n",
       "      <th>...</th>\n",
       "      <td>...</td>\n",
       "      <td>...</td>\n",
       "      <td>...</td>\n",
       "      <td>...</td>\n",
       "      <td>...</td>\n",
       "      <td>...</td>\n",
       "      <td>...</td>\n",
       "      <td>...</td>\n",
       "    </tr>\n",
       "    <tr>\n",
       "      <th>1880</th>\n",
       "      <td>-0.57009</td>\n",
       "      <td>-0.31685</td>\n",
       "      <td>-1.19430</td>\n",
       "      <td>1.74091</td>\n",
       "      <td>1.88511</td>\n",
       "      <td>-1.13788</td>\n",
       "      <td>0.88113</td>\n",
       "      <td>1.92173</td>\n",
       "    </tr>\n",
       "    <tr>\n",
       "      <th>1881</th>\n",
       "      <td>-0.57009</td>\n",
       "      <td>-0.31685</td>\n",
       "      <td>-0.24649</td>\n",
       "      <td>1.74091</td>\n",
       "      <td>0.58331</td>\n",
       "      <td>-1.51840</td>\n",
       "      <td>0.88113</td>\n",
       "      <td>0.76540</td>\n",
       "    </tr>\n",
       "    <tr>\n",
       "      <th>1882</th>\n",
       "      <td>-0.57009</td>\n",
       "      <td>-0.31685</td>\n",
       "      <td>1.13281</td>\n",
       "      <td>-1.37639</td>\n",
       "      <td>-1.27553</td>\n",
       "      <td>-1.38502</td>\n",
       "      <td>0.52975</td>\n",
       "      <td>-0.52593</td>\n",
       "    </tr>\n",
       "    <tr>\n",
       "      <th>1883</th>\n",
       "      <td>-0.57009</td>\n",
       "      <td>-0.31685</td>\n",
       "      <td>0.91093</td>\n",
       "      <td>-1.92173</td>\n",
       "      <td>0.29338</td>\n",
       "      <td>-2.57309</td>\n",
       "      <td>1.29221</td>\n",
       "      <td>1.22470</td>\n",
       "    </tr>\n",
       "    <tr>\n",
       "      <th>1884</th>\n",
       "      <td>0.21128</td>\n",
       "      <td>-0.31685</td>\n",
       "      <td>-0.46725</td>\n",
       "      <td>2.12700</td>\n",
       "      <td>1.65653</td>\n",
       "      <td>0.41594</td>\n",
       "      <td>0.88113</td>\n",
       "      <td>1.22470</td>\n",
       "    </tr>\n",
       "  </tbody>\n",
       "</table>\n",
       "<p>1885 rows × 8 columns</p>\n",
       "</div>"
      ],
      "text/plain": [
       "      Country  Ethnicity   Nscore   Escore   Oscore   Cscore  Impulsiveness  \\\n",
       "0     0.96082    0.12600  0.31287 -0.57545 -0.58331 -0.00665       -0.21712   \n",
       "1     0.96082   -0.31685 -0.67825  1.93886  1.43533 -0.14277       -0.71126   \n",
       "2     0.96082   -0.31685 -0.46725  0.80523 -0.84732 -1.01450       -1.37983   \n",
       "3     0.96082   -0.31685 -0.14882 -0.80615 -0.01928  0.58489       -1.37983   \n",
       "4     0.96082   -0.31685  0.73545 -1.63340 -0.45174  1.30612       -0.21712   \n",
       "...       ...        ...      ...      ...      ...      ...            ...   \n",
       "1880 -0.57009   -0.31685 -1.19430  1.74091  1.88511 -1.13788        0.88113   \n",
       "1881 -0.57009   -0.31685 -0.24649  1.74091  0.58331 -1.51840        0.88113   \n",
       "1882 -0.57009   -0.31685  1.13281 -1.37639 -1.27553 -1.38502        0.52975   \n",
       "1883 -0.57009   -0.31685  0.91093 -1.92173  0.29338 -2.57309        1.29221   \n",
       "1884  0.21128   -0.31685 -0.46725  2.12700  1.65653  0.41594        0.88113   \n",
       "\n",
       "           SS  \n",
       "0    -1.18084  \n",
       "1    -0.21575  \n",
       "2     0.40148  \n",
       "3    -1.18084  \n",
       "4    -0.21575  \n",
       "...       ...  \n",
       "1880  1.92173  \n",
       "1881  0.76540  \n",
       "1882 -0.52593  \n",
       "1883  1.22470  \n",
       "1884  1.22470  \n",
       "\n",
       "[1885 rows x 8 columns]"
      ]
     },
     "execution_count": 7,
     "metadata": {},
     "output_type": "execute_result"
    }
   ],
   "source": [
    "# podaci bez klasa\n",
    "podaci_bez_klasa = podaci.copy()\n",
    "for x in klase:\n",
    "    podaci_bez_klasa = podaci_bez_klasa.drop(x, axis = 1)\n",
    "podaci_bez_klasa"
   ]
  },
  {
   "cell_type": "code",
   "execution_count": 8,
   "id": "50c97dc7",
   "metadata": {},
   "outputs": [
    {
     "data": {
      "text/html": [
       "<div>\n",
       "<style scoped>\n",
       "    .dataframe tbody tr th:only-of-type {\n",
       "        vertical-align: middle;\n",
       "    }\n",
       "\n",
       "    .dataframe tbody tr th {\n",
       "        vertical-align: top;\n",
       "    }\n",
       "\n",
       "    .dataframe thead th {\n",
       "        text-align: right;\n",
       "    }\n",
       "</style>\n",
       "<table border=\"1\" class=\"dataframe\">\n",
       "  <thead>\n",
       "    <tr style=\"text-align: right;\">\n",
       "      <th></th>\n",
       "      <th>Country</th>\n",
       "      <th>Ethnicity</th>\n",
       "      <th>Nscore</th>\n",
       "      <th>Escore</th>\n",
       "      <th>Oscore</th>\n",
       "      <th>Cscore</th>\n",
       "      <th>Impulsiveness</th>\n",
       "      <th>SS</th>\n",
       "    </tr>\n",
       "  </thead>\n",
       "  <tbody>\n",
       "    <tr>\n",
       "      <th>0</th>\n",
       "      <td>0.96082</td>\n",
       "      <td>0.12600</td>\n",
       "      <td>0.31287</td>\n",
       "      <td>-0.57545</td>\n",
       "      <td>-0.58331</td>\n",
       "      <td>-0.00665</td>\n",
       "      <td>-0.21712</td>\n",
       "      <td>-1.18084</td>\n",
       "    </tr>\n",
       "    <tr>\n",
       "      <th>1</th>\n",
       "      <td>0.96082</td>\n",
       "      <td>-0.31685</td>\n",
       "      <td>-0.67825</td>\n",
       "      <td>1.93886</td>\n",
       "      <td>1.43533</td>\n",
       "      <td>-0.14277</td>\n",
       "      <td>-0.71126</td>\n",
       "      <td>-0.21575</td>\n",
       "    </tr>\n",
       "    <tr>\n",
       "      <th>2</th>\n",
       "      <td>0.96082</td>\n",
       "      <td>-0.31685</td>\n",
       "      <td>-0.46725</td>\n",
       "      <td>0.80523</td>\n",
       "      <td>-0.84732</td>\n",
       "      <td>-1.01450</td>\n",
       "      <td>-1.37983</td>\n",
       "      <td>0.40148</td>\n",
       "    </tr>\n",
       "    <tr>\n",
       "      <th>3</th>\n",
       "      <td>0.96082</td>\n",
       "      <td>-0.31685</td>\n",
       "      <td>-0.14882</td>\n",
       "      <td>-0.80615</td>\n",
       "      <td>-0.01928</td>\n",
       "      <td>0.58489</td>\n",
       "      <td>-1.37983</td>\n",
       "      <td>-1.18084</td>\n",
       "    </tr>\n",
       "    <tr>\n",
       "      <th>4</th>\n",
       "      <td>0.96082</td>\n",
       "      <td>-0.31685</td>\n",
       "      <td>0.73545</td>\n",
       "      <td>-1.63340</td>\n",
       "      <td>-0.45174</td>\n",
       "      <td>1.30612</td>\n",
       "      <td>-0.21712</td>\n",
       "      <td>-0.21575</td>\n",
       "    </tr>\n",
       "    <tr>\n",
       "      <th>...</th>\n",
       "      <td>...</td>\n",
       "      <td>...</td>\n",
       "      <td>...</td>\n",
       "      <td>...</td>\n",
       "      <td>...</td>\n",
       "      <td>...</td>\n",
       "      <td>...</td>\n",
       "      <td>...</td>\n",
       "    </tr>\n",
       "    <tr>\n",
       "      <th>1880</th>\n",
       "      <td>-0.57009</td>\n",
       "      <td>-0.31685</td>\n",
       "      <td>-1.19430</td>\n",
       "      <td>1.74091</td>\n",
       "      <td>1.88511</td>\n",
       "      <td>-1.13788</td>\n",
       "      <td>0.88113</td>\n",
       "      <td>1.92173</td>\n",
       "    </tr>\n",
       "    <tr>\n",
       "      <th>1881</th>\n",
       "      <td>-0.57009</td>\n",
       "      <td>-0.31685</td>\n",
       "      <td>-0.24649</td>\n",
       "      <td>1.74091</td>\n",
       "      <td>0.58331</td>\n",
       "      <td>-1.51840</td>\n",
       "      <td>0.88113</td>\n",
       "      <td>0.76540</td>\n",
       "    </tr>\n",
       "    <tr>\n",
       "      <th>1882</th>\n",
       "      <td>-0.57009</td>\n",
       "      <td>-0.31685</td>\n",
       "      <td>1.13281</td>\n",
       "      <td>-1.37639</td>\n",
       "      <td>-1.27553</td>\n",
       "      <td>-1.38502</td>\n",
       "      <td>0.52975</td>\n",
       "      <td>-0.52593</td>\n",
       "    </tr>\n",
       "    <tr>\n",
       "      <th>1883</th>\n",
       "      <td>-0.57009</td>\n",
       "      <td>-0.31685</td>\n",
       "      <td>0.91093</td>\n",
       "      <td>-1.92173</td>\n",
       "      <td>0.29338</td>\n",
       "      <td>-2.57309</td>\n",
       "      <td>1.29221</td>\n",
       "      <td>1.22470</td>\n",
       "    </tr>\n",
       "    <tr>\n",
       "      <th>1884</th>\n",
       "      <td>0.21128</td>\n",
       "      <td>-0.31685</td>\n",
       "      <td>-0.46725</td>\n",
       "      <td>2.12700</td>\n",
       "      <td>1.65653</td>\n",
       "      <td>0.41594</td>\n",
       "      <td>0.88113</td>\n",
       "      <td>1.22470</td>\n",
       "    </tr>\n",
       "  </tbody>\n",
       "</table>\n",
       "<p>1885 rows × 8 columns</p>\n",
       "</div>"
      ],
      "text/plain": [
       "      Country  Ethnicity   Nscore   Escore   Oscore   Cscore  Impulsiveness  \\\n",
       "0     0.96082    0.12600  0.31287 -0.57545 -0.58331 -0.00665       -0.21712   \n",
       "1     0.96082   -0.31685 -0.67825  1.93886  1.43533 -0.14277       -0.71126   \n",
       "2     0.96082   -0.31685 -0.46725  0.80523 -0.84732 -1.01450       -1.37983   \n",
       "3     0.96082   -0.31685 -0.14882 -0.80615 -0.01928  0.58489       -1.37983   \n",
       "4     0.96082   -0.31685  0.73545 -1.63340 -0.45174  1.30612       -0.21712   \n",
       "...       ...        ...      ...      ...      ...      ...            ...   \n",
       "1880 -0.57009   -0.31685 -1.19430  1.74091  1.88511 -1.13788        0.88113   \n",
       "1881 -0.57009   -0.31685 -0.24649  1.74091  0.58331 -1.51840        0.88113   \n",
       "1882 -0.57009   -0.31685  1.13281 -1.37639 -1.27553 -1.38502        0.52975   \n",
       "1883 -0.57009   -0.31685  0.91093 -1.92173  0.29338 -2.57309        1.29221   \n",
       "1884  0.21128   -0.31685 -0.46725  2.12700  1.65653  0.41594        0.88113   \n",
       "\n",
       "           SS  \n",
       "0    -1.18084  \n",
       "1    -0.21575  \n",
       "2     0.40148  \n",
       "3    -1.18084  \n",
       "4    -0.21575  \n",
       "...       ...  \n",
       "1880  1.92173  \n",
       "1881  0.76540  \n",
       "1882 -0.52593  \n",
       "1883  1.22470  \n",
       "1884  1.22470  \n",
       "\n",
       "[1885 rows x 8 columns]"
      ]
     },
     "execution_count": 8,
     "metadata": {},
     "output_type": "execute_result"
    }
   ],
   "source": [
    "for x in klase:\n",
    "    podaci_skalirano = podaci_skalirano.drop(x, axis = 1)\n",
    "podaci_skalirano"
   ]
  },
  {
   "cell_type": "markdown",
   "id": "e3ed9e65",
   "metadata": {},
   "source": [
    "## pomocne fje"
   ]
  },
  {
   "cell_type": "code",
   "execution_count": 9,
   "id": "4166be4c",
   "metadata": {},
   "outputs": [],
   "source": [
    "from sklearn.model_selection import train_test_split\n",
    "from sklearn.neural_network import MLPClassifier\n",
    "from sklearn.model_selection import GridSearchCV\n",
    "\n",
    "# POMOCNA FJA ZA GRAFICKI PRIKAZ, kod uzet sa vezbi\n",
    "from sklearn.metrics import confusion_matrix, classification_report\n",
    "from imblearn.metrics import classification_report_imbalanced\n",
    "from termcolor import colored, cprint\n",
    "\n",
    "\n",
    "def report_imbalanced(model, x, y, text = \"training\"):\n",
    "    y_pred = model.predict(x)\n",
    "    \n",
    "    print(colored(\"Classification report for model {} on {} data\".format(type(model).__name__, text), \"green\"))\n",
    "    print(\"---------------------------------------------------------------------------------\")\n",
    "    print(classification_report_imbalanced(y, y_pred, zero_division=True))\n",
    "    print(\"---------------------------------------------------------------------------------\")\n",
    "    \n",
    "#     vrste = ['CL0', 'CL1', 'CL2', 'CL3', 'CL4', 'CL5', 'CL6']\n",
    "    kolone = ['CL0', 'CL1', 'CL2', 'CL3', 'CL4', 'CL5', 'CL6']\n",
    "    print(colored(\"Confusion matrix for model {} on {} data \".format(type(model).__name__, text), \"green\"))\n",
    "    print(\"---------------------------------------------------------------------------------\")\n",
    "    print(pd.DataFrame(confusion_matrix(y, y_pred), columns = kolone, index = kolone))\n",
    "    print(\"---------------------------------------------------------------------------------\")\n",
    "\n",
    "def report(model, x, y, text = \"trening\", ):\n",
    "    y_pred = model.predict(x)\n",
    "    \n",
    "    print(colored('\\t' + f'Klasifikacioni izveštaj za model {type(model).__name__} nad {text} podacima', 'blue', attrs= ['bold']))\n",
    "    cprint('----------------------------------------------------------------------------------------------', attrs= ['bold'])\n",
    "    cprint(classification_report(y, y_pred), attrs= ['dark']) \n",
    "    cprint('----------------------------------------------------------------------------------------------', attrs= ['bold'])"
   ]
  },
  {
   "cell_type": "code",
   "execution_count": 10,
   "id": "0e243904",
   "metadata": {},
   "outputs": [],
   "source": [
    "from sklearn.pipeline import Pipeline\n",
    "from sklearn.model_selection import learning_curve \n",
    "def plot_learning_curve(model, X_train, y_train):\n",
    "    train_sizes, train_scores, test_scores = learning_curve(model, X_train, y_train, cv=3, random_state=42, train_sizes=np.linspace(0.1, 1.0, 10))\n",
    "\n",
    "    train_scores_mean = np.mean(train_scores, axis=1)\n",
    "    train_scores_std = np.std(train_scores, axis=1)\n",
    "    test_scores_mean = np.mean(test_scores, axis=1)\n",
    "    test_scores_std = np.std(test_scores, axis=1)\n",
    "\n",
    "    plt.figure(figsize=(8, 6))\n",
    "    plt.plot(train_sizes, train_scores_mean, 'o-', color='b', label='Training Score')\n",
    "    plt.plot(train_sizes, test_scores_mean, 'o-', color='g', label='Cross-Validation Score')\n",
    "    plt.fill_between(train_sizes, train_scores_mean - train_scores_std, train_scores_mean + train_scores_std, alpha=0.1, color='b')\n",
    "    plt.fill_between(train_sizes, test_scores_mean - test_scores_std, test_scores_mean + test_scores_std, alpha=0.1, color='g')\n",
    "    plt.xlabel('Training Set Size')\n",
    "    plt.ylabel('Accuracy')\n",
    "    plt.title('Learning Curve')\n",
    "    plt.legend(loc='best')\n",
    "    plt.grid(True)\n",
    "    plt.show()\n"
   ]
  },
  {
   "cell_type": "markdown",
   "id": "477a51c0",
   "metadata": {},
   "source": [
    "## Priprema modela"
   ]
  },
  {
   "cell_type": "code",
   "execution_count": 11,
   "id": "faa7f539",
   "metadata": {},
   "outputs": [],
   "source": [
    "X, y = podaci_bez_klasa, podaci['Heroin']\n",
    "X_train, X_test, y_train, y_test = train_test_split(X, y, stratify = y, test_size = 0.3, random_state = 42)"
   ]
  },
  {
   "cell_type": "code",
   "execution_count": 12,
   "id": "1e2cce5b",
   "metadata": {},
   "outputs": [
    {
     "name": "stderr",
     "output_type": "stream",
     "text": [
      "/home/dzzz/.local/lib/python3.10/site-packages/sklearn/neural_network/_multilayer_perceptron.py:686: ConvergenceWarning: Stochastic Optimizer: Maximum iterations (20) reached and the optimization hasn't converged yet.\n",
      "  warnings.warn(\n"
     ]
    },
    {
     "data": {
      "text/html": [
       "<style>#sk-container-id-1 {color: black;background-color: white;}#sk-container-id-1 pre{padding: 0;}#sk-container-id-1 div.sk-toggleable {background-color: white;}#sk-container-id-1 label.sk-toggleable__label {cursor: pointer;display: block;width: 100%;margin-bottom: 0;padding: 0.3em;box-sizing: border-box;text-align: center;}#sk-container-id-1 label.sk-toggleable__label-arrow:before {content: \"▸\";float: left;margin-right: 0.25em;color: #696969;}#sk-container-id-1 label.sk-toggleable__label-arrow:hover:before {color: black;}#sk-container-id-1 div.sk-estimator:hover label.sk-toggleable__label-arrow:before {color: black;}#sk-container-id-1 div.sk-toggleable__content {max-height: 0;max-width: 0;overflow: hidden;text-align: left;background-color: #f0f8ff;}#sk-container-id-1 div.sk-toggleable__content pre {margin: 0.2em;color: black;border-radius: 0.25em;background-color: #f0f8ff;}#sk-container-id-1 input.sk-toggleable__control:checked~div.sk-toggleable__content {max-height: 200px;max-width: 100%;overflow: auto;}#sk-container-id-1 input.sk-toggleable__control:checked~label.sk-toggleable__label-arrow:before {content: \"▾\";}#sk-container-id-1 div.sk-estimator input.sk-toggleable__control:checked~label.sk-toggleable__label {background-color: #d4ebff;}#sk-container-id-1 div.sk-label input.sk-toggleable__control:checked~label.sk-toggleable__label {background-color: #d4ebff;}#sk-container-id-1 input.sk-hidden--visually {border: 0;clip: rect(1px 1px 1px 1px);clip: rect(1px, 1px, 1px, 1px);height: 1px;margin: -1px;overflow: hidden;padding: 0;position: absolute;width: 1px;}#sk-container-id-1 div.sk-estimator {font-family: monospace;background-color: #f0f8ff;border: 1px dotted black;border-radius: 0.25em;box-sizing: border-box;margin-bottom: 0.5em;}#sk-container-id-1 div.sk-estimator:hover {background-color: #d4ebff;}#sk-container-id-1 div.sk-parallel-item::after {content: \"\";width: 100%;border-bottom: 1px solid gray;flex-grow: 1;}#sk-container-id-1 div.sk-label:hover label.sk-toggleable__label {background-color: #d4ebff;}#sk-container-id-1 div.sk-serial::before {content: \"\";position: absolute;border-left: 1px solid gray;box-sizing: border-box;top: 0;bottom: 0;left: 50%;z-index: 0;}#sk-container-id-1 div.sk-serial {display: flex;flex-direction: column;align-items: center;background-color: white;padding-right: 0.2em;padding-left: 0.2em;position: relative;}#sk-container-id-1 div.sk-item {position: relative;z-index: 1;}#sk-container-id-1 div.sk-parallel {display: flex;align-items: stretch;justify-content: center;background-color: white;position: relative;}#sk-container-id-1 div.sk-item::before, #sk-container-id-1 div.sk-parallel-item::before {content: \"\";position: absolute;border-left: 1px solid gray;box-sizing: border-box;top: 0;bottom: 0;left: 50%;z-index: -1;}#sk-container-id-1 div.sk-parallel-item {display: flex;flex-direction: column;z-index: 1;position: relative;background-color: white;}#sk-container-id-1 div.sk-parallel-item:first-child::after {align-self: flex-end;width: 50%;}#sk-container-id-1 div.sk-parallel-item:last-child::after {align-self: flex-start;width: 50%;}#sk-container-id-1 div.sk-parallel-item:only-child::after {width: 0;}#sk-container-id-1 div.sk-dashed-wrapped {border: 1px dashed gray;margin: 0 0.4em 0.5em 0.4em;box-sizing: border-box;padding-bottom: 0.4em;background-color: white;}#sk-container-id-1 div.sk-label label {font-family: monospace;font-weight: bold;display: inline-block;line-height: 1.2em;}#sk-container-id-1 div.sk-label-container {text-align: center;}#sk-container-id-1 div.sk-container {/* jupyter's `normalize.less` sets `[hidden] { display: none; }` but bootstrap.min.css set `[hidden] { display: none !important; }` so we also need the `!important` here to be able to override the default hidden behavior on the sphinx rendered scikit-learn.org. See: https://github.com/scikit-learn/scikit-learn/issues/21755 */display: inline-block !important;position: relative;}#sk-container-id-1 div.sk-text-repr-fallback {display: none;}</style><div id=\"sk-container-id-1\" class=\"sk-top-container\"><div class=\"sk-text-repr-fallback\"><pre>MLPClassifier(hidden_layer_sizes=(100, 60, 80), max_iter=20)</pre><b>In a Jupyter environment, please rerun this cell to show the HTML representation or trust the notebook. <br />On GitHub, the HTML representation is unable to render, please try loading this page with nbviewer.org.</b></div><div class=\"sk-container\" hidden><div class=\"sk-item\"><div class=\"sk-estimator sk-toggleable\"><input class=\"sk-toggleable__control sk-hidden--visually\" id=\"sk-estimator-id-1\" type=\"checkbox\" checked><label for=\"sk-estimator-id-1\" class=\"sk-toggleable__label sk-toggleable__label-arrow\">MLPClassifier</label><div class=\"sk-toggleable__content\"><pre>MLPClassifier(hidden_layer_sizes=(100, 60, 80), max_iter=20)</pre></div></div></div></div></div>"
      ],
      "text/plain": [
       "MLPClassifier(hidden_layer_sizes=(100, 60, 80), max_iter=20)"
      ]
     },
     "execution_count": 12,
     "metadata": {},
     "output_type": "execute_result"
    }
   ],
   "source": [
    "mreza = MLPClassifier(hidden_layer_sizes=(100,60,80), max_iter=20)\n",
    "mreza.fit(X_train, y_train)"
   ]
  },
  {
   "cell_type": "code",
   "execution_count": 13,
   "id": "b18f4c2e",
   "metadata": {},
   "outputs": [
    {
     "name": "stdout",
     "output_type": "stream",
     "text": [
      "\u001b[32mClassification report for model MLPClassifier on training data\u001b[0m\n",
      "---------------------------------------------------------------------------------\n",
      "                   pre       rec       spe        f1       geo       iba       sup\n",
      "\n",
      "        CL0       0.85      1.00      0.00      0.92      0.00      0.00      1123\n",
      "        CL1       1.00      0.00      1.00      0.00      0.00      0.00        48\n",
      "        CL2       1.00      0.00      1.00      0.00      0.00      0.00        66\n",
      "        CL3       1.00      0.00      1.00      0.00      0.00      0.00        45\n",
      "        CL4       1.00      0.00      1.00      0.00      0.00      0.00        17\n",
      "        CL5       1.00      0.00      1.00      0.00      0.00      0.00        11\n",
      "        CL6       1.00      0.00      1.00      0.00      0.00      0.00         9\n",
      "\n",
      "avg / total       0.87      0.85      0.15      0.78      0.00      0.00      1319\n",
      "\n",
      "---------------------------------------------------------------------------------\n",
      "\u001b[32mConfusion matrix for model MLPClassifier on training data \u001b[0m\n",
      "---------------------------------------------------------------------------------\n",
      "      CL0  CL1  CL2  CL3  CL4  CL5  CL6\n",
      "CL0  1123    0    0    0    0    0    0\n",
      "CL1    48    0    0    0    0    0    0\n",
      "CL2    66    0    0    0    0    0    0\n",
      "CL3    45    0    0    0    0    0    0\n",
      "CL4    17    0    0    0    0    0    0\n",
      "CL5    11    0    0    0    0    0    0\n",
      "CL6     9    0    0    0    0    0    0\n",
      "---------------------------------------------------------------------------------\n"
     ]
    }
   ],
   "source": [
    "report_imbalanced(mreza, X_train, y_train)"
   ]
  },
  {
   "cell_type": "code",
   "execution_count": 14,
   "id": "22bf61d1",
   "metadata": {},
   "outputs": [
    {
     "name": "stderr",
     "output_type": "stream",
     "text": [
      "/home/dzzz/.local/lib/python3.10/site-packages/sklearn/neural_network/_multilayer_perceptron.py:686: ConvergenceWarning: Stochastic Optimizer: Maximum iterations (20) reached and the optimization hasn't converged yet.\n",
      "  warnings.warn(\n",
      "/home/dzzz/.local/lib/python3.10/site-packages/sklearn/neural_network/_multilayer_perceptron.py:686: ConvergenceWarning: Stochastic Optimizer: Maximum iterations (20) reached and the optimization hasn't converged yet.\n",
      "  warnings.warn(\n",
      "/home/dzzz/.local/lib/python3.10/site-packages/sklearn/neural_network/_multilayer_perceptron.py:686: ConvergenceWarning: Stochastic Optimizer: Maximum iterations (20) reached and the optimization hasn't converged yet.\n",
      "  warnings.warn(\n",
      "/home/dzzz/.local/lib/python3.10/site-packages/sklearn/neural_network/_multilayer_perceptron.py:686: ConvergenceWarning: Stochastic Optimizer: Maximum iterations (20) reached and the optimization hasn't converged yet.\n",
      "  warnings.warn(\n",
      "/home/dzzz/.local/lib/python3.10/site-packages/sklearn/neural_network/_multilayer_perceptron.py:686: ConvergenceWarning: Stochastic Optimizer: Maximum iterations (20) reached and the optimization hasn't converged yet.\n",
      "  warnings.warn(\n",
      "/home/dzzz/.local/lib/python3.10/site-packages/sklearn/neural_network/_multilayer_perceptron.py:686: ConvergenceWarning: Stochastic Optimizer: Maximum iterations (20) reached and the optimization hasn't converged yet.\n",
      "  warnings.warn(\n",
      "/home/dzzz/.local/lib/python3.10/site-packages/sklearn/neural_network/_multilayer_perceptron.py:686: ConvergenceWarning: Stochastic Optimizer: Maximum iterations (20) reached and the optimization hasn't converged yet.\n",
      "  warnings.warn(\n",
      "/home/dzzz/.local/lib/python3.10/site-packages/sklearn/neural_network/_multilayer_perceptron.py:686: ConvergenceWarning: Stochastic Optimizer: Maximum iterations (20) reached and the optimization hasn't converged yet.\n",
      "  warnings.warn(\n",
      "/home/dzzz/.local/lib/python3.10/site-packages/sklearn/neural_network/_multilayer_perceptron.py:686: ConvergenceWarning: Stochastic Optimizer: Maximum iterations (20) reached and the optimization hasn't converged yet.\n",
      "  warnings.warn(\n",
      "/home/dzzz/.local/lib/python3.10/site-packages/sklearn/neural_network/_multilayer_perceptron.py:686: ConvergenceWarning: Stochastic Optimizer: Maximum iterations (20) reached and the optimization hasn't converged yet.\n",
      "  warnings.warn(\n",
      "/home/dzzz/.local/lib/python3.10/site-packages/sklearn/neural_network/_multilayer_perceptron.py:686: ConvergenceWarning: Stochastic Optimizer: Maximum iterations (20) reached and the optimization hasn't converged yet.\n",
      "  warnings.warn(\n",
      "/home/dzzz/.local/lib/python3.10/site-packages/sklearn/neural_network/_multilayer_perceptron.py:686: ConvergenceWarning: Stochastic Optimizer: Maximum iterations (20) reached and the optimization hasn't converged yet.\n",
      "  warnings.warn(\n",
      "/home/dzzz/.local/lib/python3.10/site-packages/sklearn/neural_network/_multilayer_perceptron.py:686: ConvergenceWarning: Stochastic Optimizer: Maximum iterations (20) reached and the optimization hasn't converged yet.\n",
      "  warnings.warn(\n",
      "/home/dzzz/.local/lib/python3.10/site-packages/sklearn/neural_network/_multilayer_perceptron.py:686: ConvergenceWarning: Stochastic Optimizer: Maximum iterations (20) reached and the optimization hasn't converged yet.\n",
      "  warnings.warn(\n",
      "/home/dzzz/.local/lib/python3.10/site-packages/sklearn/neural_network/_multilayer_perceptron.py:686: ConvergenceWarning: Stochastic Optimizer: Maximum iterations (20) reached and the optimization hasn't converged yet.\n",
      "  warnings.warn(\n",
      "/home/dzzz/.local/lib/python3.10/site-packages/sklearn/neural_network/_multilayer_perceptron.py:686: ConvergenceWarning: Stochastic Optimizer: Maximum iterations (20) reached and the optimization hasn't converged yet.\n",
      "  warnings.warn(\n",
      "/home/dzzz/.local/lib/python3.10/site-packages/sklearn/neural_network/_multilayer_perceptron.py:686: ConvergenceWarning: Stochastic Optimizer: Maximum iterations (20) reached and the optimization hasn't converged yet.\n",
      "  warnings.warn(\n",
      "/home/dzzz/.local/lib/python3.10/site-packages/sklearn/neural_network/_multilayer_perceptron.py:686: ConvergenceWarning: Stochastic Optimizer: Maximum iterations (20) reached and the optimization hasn't converged yet.\n",
      "  warnings.warn(\n",
      "/home/dzzz/.local/lib/python3.10/site-packages/sklearn/neural_network/_multilayer_perceptron.py:686: ConvergenceWarning: Stochastic Optimizer: Maximum iterations (20) reached and the optimization hasn't converged yet.\n",
      "  warnings.warn(\n",
      "/home/dzzz/.local/lib/python3.10/site-packages/sklearn/neural_network/_multilayer_perceptron.py:686: ConvergenceWarning: Stochastic Optimizer: Maximum iterations (20) reached and the optimization hasn't converged yet.\n",
      "  warnings.warn(\n",
      "/home/dzzz/.local/lib/python3.10/site-packages/sklearn/neural_network/_multilayer_perceptron.py:686: ConvergenceWarning: Stochastic Optimizer: Maximum iterations (20) reached and the optimization hasn't converged yet.\n",
      "  warnings.warn(\n",
      "/home/dzzz/.local/lib/python3.10/site-packages/sklearn/neural_network/_multilayer_perceptron.py:686: ConvergenceWarning: Stochastic Optimizer: Maximum iterations (20) reached and the optimization hasn't converged yet.\n",
      "  warnings.warn(\n",
      "/home/dzzz/.local/lib/python3.10/site-packages/sklearn/neural_network/_multilayer_perceptron.py:686: ConvergenceWarning: Stochastic Optimizer: Maximum iterations (20) reached and the optimization hasn't converged yet.\n",
      "  warnings.warn(\n",
      "/home/dzzz/.local/lib/python3.10/site-packages/sklearn/neural_network/_multilayer_perceptron.py:686: ConvergenceWarning: Stochastic Optimizer: Maximum iterations (20) reached and the optimization hasn't converged yet.\n",
      "  warnings.warn(\n",
      "/home/dzzz/.local/lib/python3.10/site-packages/sklearn/neural_network/_multilayer_perceptron.py:686: ConvergenceWarning: Stochastic Optimizer: Maximum iterations (20) reached and the optimization hasn't converged yet.\n",
      "  warnings.warn(\n",
      "/home/dzzz/.local/lib/python3.10/site-packages/sklearn/neural_network/_multilayer_perceptron.py:686: ConvergenceWarning: Stochastic Optimizer: Maximum iterations (20) reached and the optimization hasn't converged yet.\n",
      "  warnings.warn(\n",
      "/home/dzzz/.local/lib/python3.10/site-packages/sklearn/neural_network/_multilayer_perceptron.py:686: ConvergenceWarning: Stochastic Optimizer: Maximum iterations (20) reached and the optimization hasn't converged yet.\n",
      "  warnings.warn(\n",
      "/home/dzzz/.local/lib/python3.10/site-packages/sklearn/neural_network/_multilayer_perceptron.py:686: ConvergenceWarning: Stochastic Optimizer: Maximum iterations (20) reached and the optimization hasn't converged yet.\n",
      "  warnings.warn(\n",
      "/home/dzzz/.local/lib/python3.10/site-packages/sklearn/neural_network/_multilayer_perceptron.py:686: ConvergenceWarning: Stochastic Optimizer: Maximum iterations (20) reached and the optimization hasn't converged yet.\n",
      "  warnings.warn(\n",
      "/home/dzzz/.local/lib/python3.10/site-packages/sklearn/neural_network/_multilayer_perceptron.py:686: ConvergenceWarning: Stochastic Optimizer: Maximum iterations (20) reached and the optimization hasn't converged yet.\n",
      "  warnings.warn(\n"
     ]
    },
    {
     "data": {
      "image/png": "[encoded data removed]",
      "text/plain": [
       "<Figure size 800x600 with 1 Axes>"
      ]
     },
     "metadata": {},
     "output_type": "display_data"
    }
   ],
   "source": [
    "plot_learning_curve(mreza, X_test, y_test)"
   ]
  },
  {
   "cell_type": "markdown",
   "id": "d2382101",
   "metadata": {},
   "source": [
    "## hiperparametri"
   ]
  },
  {
   "cell_type": "code",
   "execution_count": 15,
   "id": "945eaa5a",
   "metadata": {},
   "outputs": [],
   "source": [
    "\n",
    "mreza = MLPClassifier(hidden_layer_sizes=(100,60,80), max_iter=20)\n",
    "\n",
    "parametri = {\n",
    "    'hidden_layer_sizes': [(80, 20, 60), (50, 30, 20), (100, 60, 80), (100, 60, 40)],\n",
    "    'activation': ['relu', 'logistic', 'tanh'],\n",
    "    'learning_rate': ['adaptive', 'constant', 'invscaling'],\n",
    "    'max_iter': [10, 20, 30]\n",
    "}"
   ]
  },
  {
   "cell_type": "code",
   "execution_count": 16,
   "id": "71edcc7a",
   "metadata": {},
   "outputs": [],
   "source": [
    "grid = GridSearchCV(mreza, param_grid=parametri, scoring='accuracy', cv=2, verbose=3)"
   ]
  },
  {
   "cell_type": "code",
   "execution_count": 17,
   "id": "42bce8a0",
   "metadata": {
    "scrolled": true
   },
   "outputs": [
    {
     "name": "stdout",
     "output_type": "stream",
     "text": [
      "Fitting 2 folds for each of 108 candidates, totalling 216 fits\n",
      "[CV 1/2] END activation=relu, hidden_layer_sizes=(80, 20, 60), learning_rate=adaptive, max_iter=10;, score=0.852 total time=   0.0s\n",
      "[CV 2/2] END activation=relu, hidden_layer_sizes=(80, 20, 60), learning_rate=adaptive, max_iter=10;, score=0.851 total time=   0.0s\n",
      "[CV 1/2] END activation=relu, hidden_layer_sizes=(80, 20, 60), learning_rate=adaptive, max_iter=20;, score=0.852 total time=   0.1s\n",
      "[CV 2/2] END activation=relu, hidden_layer_sizes=(80, 20, 60), learning_rate=adaptive, max_iter=20;, score=0.851 total time=   0.1s\n"
     ]
    },
    {
     "name": "stderr",
     "output_type": "stream",
     "text": [
      "/home/dzzz/.local/lib/python3.10/site-packages/sklearn/neural_network/_multilayer_perceptron.py:686: ConvergenceWarning: Stochastic Optimizer: Maximum iterations (10) reached and the optimization hasn't converged yet.\n",
      "  warnings.warn(\n",
      "/home/dzzz/.local/lib/python3.10/site-packages/sklearn/neural_network/_multilayer_perceptron.py:686: ConvergenceWarning: Stochastic Optimizer: Maximum iterations (10) reached and the optimization hasn't converged yet.\n",
      "  warnings.warn(\n",
      "/home/dzzz/.local/lib/python3.10/site-packages/sklearn/neural_network/_multilayer_perceptron.py:686: ConvergenceWarning: Stochastic Optimizer: Maximum iterations (20) reached and the optimization hasn't converged yet.\n",
      "  warnings.warn(\n",
      "/home/dzzz/.local/lib/python3.10/site-packages/sklearn/neural_network/_multilayer_perceptron.py:686: ConvergenceWarning: Stochastic Optimizer: Maximum iterations (20) reached and the optimization hasn't converged yet.\n",
      "  warnings.warn(\n",
      "/home/dzzz/.local/lib/python3.10/site-packages/sklearn/neural_network/_multilayer_perceptron.py:686: ConvergenceWarning: Stochastic Optimizer: Maximum iterations (30) reached and the optimization hasn't converged yet.\n",
      "  warnings.warn(\n",
      "/home/dzzz/.local/lib/python3.10/site-packages/sklearn/neural_network/_multilayer_perceptron.py:686: ConvergenceWarning: Stochastic Optimizer: Maximum iterations (30) reached and the optimization hasn't converged yet.\n",
      "  warnings.warn(\n",
      "/home/dzzz/.local/lib/python3.10/site-packages/sklearn/neural_network/_multilayer_perceptron.py:686: ConvergenceWarning: Stochastic Optimizer: Maximum iterations (10) reached and the optimization hasn't converged yet.\n",
      "  warnings.warn(\n",
      "/home/dzzz/.local/lib/python3.10/site-packages/sklearn/neural_network/_multilayer_perceptron.py:686: ConvergenceWarning: Stochastic Optimizer: Maximum iterations (10) reached and the optimization hasn't converged yet.\n",
      "  warnings.warn(\n"
     ]
    },
    {
     "name": "stdout",
     "output_type": "stream",
     "text": [
      "[CV 1/2] END activation=relu, hidden_layer_sizes=(80, 20, 60), learning_rate=adaptive, max_iter=30;, score=0.852 total time=   0.1s\n",
      "[CV 2/2] END activation=relu, hidden_layer_sizes=(80, 20, 60), learning_rate=adaptive, max_iter=30;, score=0.851 total time=   0.1s\n",
      "[CV 1/2] END activation=relu, hidden_layer_sizes=(80, 20, 60), learning_rate=constant, max_iter=10;, score=0.852 total time=   0.0s\n",
      "[CV 2/2] END activation=relu, hidden_layer_sizes=(80, 20, 60), learning_rate=constant, max_iter=10;, score=0.851 total time=   0.0s\n"
     ]
    },
    {
     "name": "stderr",
     "output_type": "stream",
     "text": [
      "/home/dzzz/.local/lib/python3.10/site-packages/sklearn/neural_network/_multilayer_perceptron.py:686: ConvergenceWarning: Stochastic Optimizer: Maximum iterations (20) reached and the optimization hasn't converged yet.\n",
      "  warnings.warn(\n",
      "/home/dzzz/.local/lib/python3.10/site-packages/sklearn/neural_network/_multilayer_perceptron.py:686: ConvergenceWarning: Stochastic Optimizer: Maximum iterations (20) reached and the optimization hasn't converged yet.\n",
      "  warnings.warn(\n",
      "/home/dzzz/.local/lib/python3.10/site-packages/sklearn/neural_network/_multilayer_perceptron.py:686: ConvergenceWarning: Stochastic Optimizer: Maximum iterations (30) reached and the optimization hasn't converged yet.\n",
      "  warnings.warn(\n"
     ]
    },
    {
     "name": "stdout",
     "output_type": "stream",
     "text": [
      "[CV 1/2] END activation=relu, hidden_layer_sizes=(80, 20, 60), learning_rate=constant, max_iter=20;, score=0.852 total time=   0.1s\n",
      "[CV 2/2] END activation=relu, hidden_layer_sizes=(80, 20, 60), learning_rate=constant, max_iter=20;, score=0.851 total time=   0.1s\n",
      "[CV 1/2] END activation=relu, hidden_layer_sizes=(80, 20, 60), learning_rate=constant, max_iter=30;, score=0.852 total time=   0.1s\n"
     ]
    },
    {
     "name": "stderr",
     "output_type": "stream",
     "text": [
      "/home/dzzz/.local/lib/python3.10/site-packages/sklearn/neural_network/_multilayer_perceptron.py:686: ConvergenceWarning: Stochastic Optimizer: Maximum iterations (30) reached and the optimization hasn't converged yet.\n",
      "  warnings.warn(\n",
      "/home/dzzz/.local/lib/python3.10/site-packages/sklearn/neural_network/_multilayer_perceptron.py:686: ConvergenceWarning: Stochastic Optimizer: Maximum iterations (10) reached and the optimization hasn't converged yet.\n",
      "  warnings.warn(\n",
      "/home/dzzz/.local/lib/python3.10/site-packages/sklearn/neural_network/_multilayer_perceptron.py:686: ConvergenceWarning: Stochastic Optimizer: Maximum iterations (10) reached and the optimization hasn't converged yet.\n",
      "  warnings.warn(\n",
      "/home/dzzz/.local/lib/python3.10/site-packages/sklearn/neural_network/_multilayer_perceptron.py:686: ConvergenceWarning: Stochastic Optimizer: Maximum iterations (20) reached and the optimization hasn't converged yet.\n",
      "  warnings.warn(\n",
      "/home/dzzz/.local/lib/python3.10/site-packages/sklearn/neural_network/_multilayer_perceptron.py:686: ConvergenceWarning: Stochastic Optimizer: Maximum iterations (20) reached and the optimization hasn't converged yet.\n",
      "  warnings.warn(\n"
     ]
    },
    {
     "name": "stdout",
     "output_type": "stream",
     "text": [
      "[CV 2/2] END activation=relu, hidden_layer_sizes=(80, 20, 60), learning_rate=constant, max_iter=30;, score=0.851 total time=   0.1s\n",
      "[CV 1/2] END activation=relu, hidden_layer_sizes=(80, 20, 60), learning_rate=invscaling, max_iter=10;, score=0.852 total time=   0.0s\n",
      "[CV 2/2] END activation=relu, hidden_layer_sizes=(80, 20, 60), learning_rate=invscaling, max_iter=10;, score=0.851 total time=   0.0s\n",
      "[CV 1/2] END activation=relu, hidden_layer_sizes=(80, 20, 60), learning_rate=invscaling, max_iter=20;, score=0.852 total time=   0.1s\n",
      "[CV 2/2] END activation=relu, hidden_layer_sizes=(80, 20, 60), learning_rate=invscaling, max_iter=20;, score=0.851 total time=   0.1s\n"
     ]
    },
    {
     "name": "stderr",
     "output_type": "stream",
     "text": [
      "/home/dzzz/.local/lib/python3.10/site-packages/sklearn/neural_network/_multilayer_perceptron.py:686: ConvergenceWarning: Stochastic Optimizer: Maximum iterations (30) reached and the optimization hasn't converged yet.\n",
      "  warnings.warn(\n",
      "/home/dzzz/.local/lib/python3.10/site-packages/sklearn/neural_network/_multilayer_perceptron.py:686: ConvergenceWarning: Stochastic Optimizer: Maximum iterations (30) reached and the optimization hasn't converged yet.\n",
      "  warnings.warn(\n",
      "/home/dzzz/.local/lib/python3.10/site-packages/sklearn/neural_network/_multilayer_perceptron.py:686: ConvergenceWarning: Stochastic Optimizer: Maximum iterations (10) reached and the optimization hasn't converged yet.\n",
      "  warnings.warn(\n",
      "/home/dzzz/.local/lib/python3.10/site-packages/sklearn/neural_network/_multilayer_perceptron.py:686: ConvergenceWarning: Stochastic Optimizer: Maximum iterations (10) reached and the optimization hasn't converged yet.\n",
      "  warnings.warn(\n"
     ]
    },
    {
     "name": "stdout",
     "output_type": "stream",
     "text": [
      "[CV 1/2] END activation=relu, hidden_layer_sizes=(80, 20, 60), learning_rate=invscaling, max_iter=30;, score=0.852 total time=   0.1s\n",
      "[CV 2/2] END activation=relu, hidden_layer_sizes=(80, 20, 60), learning_rate=invscaling, max_iter=30;, score=0.851 total time=   0.1s\n",
      "[CV 1/2] END activation=relu, hidden_layer_sizes=(50, 30, 20), learning_rate=adaptive, max_iter=10;, score=0.852 total time=   0.0s\n",
      "[CV 2/2] END activation=relu, hidden_layer_sizes=(50, 30, 20), learning_rate=adaptive, max_iter=10;, score=0.851 total time=   0.0s\n"
     ]
    },
    {
     "name": "stderr",
     "output_type": "stream",
     "text": [
      "/home/dzzz/.local/lib/python3.10/site-packages/sklearn/neural_network/_multilayer_perceptron.py:686: ConvergenceWarning: Stochastic Optimizer: Maximum iterations (20) reached and the optimization hasn't converged yet.\n",
      "  warnings.warn(\n",
      "/home/dzzz/.local/lib/python3.10/site-packages/sklearn/neural_network/_multilayer_perceptron.py:686: ConvergenceWarning: Stochastic Optimizer: Maximum iterations (20) reached and the optimization hasn't converged yet.\n",
      "  warnings.warn(\n",
      "/home/dzzz/.local/lib/python3.10/site-packages/sklearn/neural_network/_multilayer_perceptron.py:686: ConvergenceWarning: Stochastic Optimizer: Maximum iterations (30) reached and the optimization hasn't converged yet.\n",
      "  warnings.warn(\n"
     ]
    },
    {
     "name": "stdout",
     "output_type": "stream",
     "text": [
      "[CV 1/2] END activation=relu, hidden_layer_sizes=(50, 30, 20), learning_rate=adaptive, max_iter=20;, score=0.852 total time=   0.1s\n",
      "[CV 2/2] END activation=relu, hidden_layer_sizes=(50, 30, 20), learning_rate=adaptive, max_iter=20;, score=0.851 total time=   0.1s\n",
      "[CV 1/2] END activation=relu, hidden_layer_sizes=(50, 30, 20), learning_rate=adaptive, max_iter=30;, score=0.852 total time=   0.1s\n"
     ]
    },
    {
     "name": "stderr",
     "output_type": "stream",
     "text": [
      "/home/dzzz/.local/lib/python3.10/site-packages/sklearn/neural_network/_multilayer_perceptron.py:686: ConvergenceWarning: Stochastic Optimizer: Maximum iterations (30) reached and the optimization hasn't converged yet.\n",
      "  warnings.warn(\n",
      "/home/dzzz/.local/lib/python3.10/site-packages/sklearn/neural_network/_multilayer_perceptron.py:686: ConvergenceWarning: Stochastic Optimizer: Maximum iterations (10) reached and the optimization hasn't converged yet.\n",
      "  warnings.warn(\n",
      "/home/dzzz/.local/lib/python3.10/site-packages/sklearn/neural_network/_multilayer_perceptron.py:686: ConvergenceWarning: Stochastic Optimizer: Maximum iterations (10) reached and the optimization hasn't converged yet.\n",
      "  warnings.warn(\n",
      "/home/dzzz/.local/lib/python3.10/site-packages/sklearn/neural_network/_multilayer_perceptron.py:686: ConvergenceWarning: Stochastic Optimizer: Maximum iterations (20) reached and the optimization hasn't converged yet.\n",
      "  warnings.warn(\n",
      "/home/dzzz/.local/lib/python3.10/site-packages/sklearn/neural_network/_multilayer_perceptron.py:686: ConvergenceWarning: Stochastic Optimizer: Maximum iterations (20) reached and the optimization hasn't converged yet.\n",
      "  warnings.warn(\n"
     ]
    },
    {
     "name": "stdout",
     "output_type": "stream",
     "text": [
      "[CV 2/2] END activation=relu, hidden_layer_sizes=(50, 30, 20), learning_rate=adaptive, max_iter=30;, score=0.851 total time=   0.1s\n",
      "[CV 1/2] END activation=relu, hidden_layer_sizes=(50, 30, 20), learning_rate=constant, max_iter=10;, score=0.852 total time=   0.0s\n",
      "[CV 2/2] END activation=relu, hidden_layer_sizes=(50, 30, 20), learning_rate=constant, max_iter=10;, score=0.769 total time=   0.0s\n",
      "[CV 1/2] END activation=relu, hidden_layer_sizes=(50, 30, 20), learning_rate=constant, max_iter=20;, score=0.852 total time=   0.1s\n",
      "[CV 2/2] END activation=relu, hidden_layer_sizes=(50, 30, 20), learning_rate=constant, max_iter=20;, score=0.851 total time=   0.0s\n"
     ]
    },
    {
     "name": "stderr",
     "output_type": "stream",
     "text": [
      "/home/dzzz/.local/lib/python3.10/site-packages/sklearn/neural_network/_multilayer_perceptron.py:686: ConvergenceWarning: Stochastic Optimizer: Maximum iterations (30) reached and the optimization hasn't converged yet.\n",
      "  warnings.warn(\n",
      "/home/dzzz/.local/lib/python3.10/site-packages/sklearn/neural_network/_multilayer_perceptron.py:686: ConvergenceWarning: Stochastic Optimizer: Maximum iterations (30) reached and the optimization hasn't converged yet.\n",
      "  warnings.warn(\n",
      "/home/dzzz/.local/lib/python3.10/site-packages/sklearn/neural_network/_multilayer_perceptron.py:686: ConvergenceWarning: Stochastic Optimizer: Maximum iterations (10) reached and the optimization hasn't converged yet.\n",
      "  warnings.warn(\n",
      "/home/dzzz/.local/lib/python3.10/site-packages/sklearn/neural_network/_multilayer_perceptron.py:686: ConvergenceWarning: Stochastic Optimizer: Maximum iterations (10) reached and the optimization hasn't converged yet.\n",
      "  warnings.warn(\n",
      "/home/dzzz/.local/lib/python3.10/site-packages/sklearn/neural_network/_multilayer_perceptron.py:686: ConvergenceWarning: Stochastic Optimizer: Maximum iterations (20) reached and the optimization hasn't converged yet.\n",
      "  warnings.warn(\n"
     ]
    },
    {
     "name": "stdout",
     "output_type": "stream",
     "text": [
      "[CV 1/2] END activation=relu, hidden_layer_sizes=(50, 30, 20), learning_rate=constant, max_iter=30;, score=0.852 total time=   0.1s\n",
      "[CV 2/2] END activation=relu, hidden_layer_sizes=(50, 30, 20), learning_rate=constant, max_iter=30;, score=0.851 total time=   0.1s\n",
      "[CV 1/2] END activation=relu, hidden_layer_sizes=(50, 30, 20), learning_rate=invscaling, max_iter=10;, score=0.852 total time=   0.0s\n",
      "[CV 2/2] END activation=relu, hidden_layer_sizes=(50, 30, 20), learning_rate=invscaling, max_iter=10;, score=0.851 total time=   0.0s\n",
      "[CV 1/2] END activation=relu, hidden_layer_sizes=(50, 30, 20), learning_rate=invscaling, max_iter=20;, score=0.852 total time=   0.1s\n"
     ]
    },
    {
     "name": "stderr",
     "output_type": "stream",
     "text": [
      "/home/dzzz/.local/lib/python3.10/site-packages/sklearn/neural_network/_multilayer_perceptron.py:686: ConvergenceWarning: Stochastic Optimizer: Maximum iterations (20) reached and the optimization hasn't converged yet.\n",
      "  warnings.warn(\n",
      "/home/dzzz/.local/lib/python3.10/site-packages/sklearn/neural_network/_multilayer_perceptron.py:686: ConvergenceWarning: Stochastic Optimizer: Maximum iterations (30) reached and the optimization hasn't converged yet.\n",
      "  warnings.warn(\n",
      "/home/dzzz/.local/lib/python3.10/site-packages/sklearn/neural_network/_multilayer_perceptron.py:686: ConvergenceWarning: Stochastic Optimizer: Maximum iterations (30) reached and the optimization hasn't converged yet.\n",
      "  warnings.warn(\n",
      "/home/dzzz/.local/lib/python3.10/site-packages/sklearn/neural_network/_multilayer_perceptron.py:686: ConvergenceWarning: Stochastic Optimizer: Maximum iterations (10) reached and the optimization hasn't converged yet.\n",
      "  warnings.warn(\n"
     ]
    },
    {
     "name": "stdout",
     "output_type": "stream",
     "text": [
      "[CV 2/2] END activation=relu, hidden_layer_sizes=(50, 30, 20), learning_rate=invscaling, max_iter=20;, score=0.851 total time=   0.1s\n",
      "[CV 1/2] END activation=relu, hidden_layer_sizes=(50, 30, 20), learning_rate=invscaling, max_iter=30;, score=0.852 total time=   0.1s\n",
      "[CV 2/2] END activation=relu, hidden_layer_sizes=(50, 30, 20), learning_rate=invscaling, max_iter=30;, score=0.851 total time=   0.1s\n",
      "[CV 1/2] END activation=relu, hidden_layer_sizes=(100, 60, 80), learning_rate=adaptive, max_iter=10;, score=0.852 total time=   0.0s\n"
     ]
    },
    {
     "name": "stderr",
     "output_type": "stream",
     "text": [
      "/home/dzzz/.local/lib/python3.10/site-packages/sklearn/neural_network/_multilayer_perceptron.py:686: ConvergenceWarning: Stochastic Optimizer: Maximum iterations (10) reached and the optimization hasn't converged yet.\n",
      "  warnings.warn(\n",
      "/home/dzzz/.local/lib/python3.10/site-packages/sklearn/neural_network/_multilayer_perceptron.py:686: ConvergenceWarning: Stochastic Optimizer: Maximum iterations (20) reached and the optimization hasn't converged yet.\n",
      "  warnings.warn(\n",
      "/home/dzzz/.local/lib/python3.10/site-packages/sklearn/neural_network/_multilayer_perceptron.py:686: ConvergenceWarning: Stochastic Optimizer: Maximum iterations (20) reached and the optimization hasn't converged yet.\n",
      "  warnings.warn(\n"
     ]
    },
    {
     "name": "stdout",
     "output_type": "stream",
     "text": [
      "[CV 2/2] END activation=relu, hidden_layer_sizes=(100, 60, 80), learning_rate=adaptive, max_iter=10;, score=0.851 total time=   0.1s\n",
      "[CV 1/2] END activation=relu, hidden_layer_sizes=(100, 60, 80), learning_rate=adaptive, max_iter=20;, score=0.852 total time=   0.1s\n",
      "[CV 2/2] END activation=relu, hidden_layer_sizes=(100, 60, 80), learning_rate=adaptive, max_iter=20;, score=0.851 total time=   0.1s\n"
     ]
    },
    {
     "name": "stderr",
     "output_type": "stream",
     "text": [
      "/home/dzzz/.local/lib/python3.10/site-packages/sklearn/neural_network/_multilayer_perceptron.py:686: ConvergenceWarning: Stochastic Optimizer: Maximum iterations (30) reached and the optimization hasn't converged yet.\n",
      "  warnings.warn(\n",
      "/home/dzzz/.local/lib/python3.10/site-packages/sklearn/neural_network/_multilayer_perceptron.py:686: ConvergenceWarning: Stochastic Optimizer: Maximum iterations (30) reached and the optimization hasn't converged yet.\n",
      "  warnings.warn(\n",
      "/home/dzzz/.local/lib/python3.10/site-packages/sklearn/neural_network/_multilayer_perceptron.py:686: ConvergenceWarning: Stochastic Optimizer: Maximum iterations (10) reached and the optimization hasn't converged yet.\n",
      "  warnings.warn(\n",
      "/home/dzzz/.local/lib/python3.10/site-packages/sklearn/neural_network/_multilayer_perceptron.py:686: ConvergenceWarning: Stochastic Optimizer: Maximum iterations (10) reached and the optimization hasn't converged yet.\n",
      "  warnings.warn(\n"
     ]
    },
    {
     "name": "stdout",
     "output_type": "stream",
     "text": [
      "[CV 1/2] END activation=relu, hidden_layer_sizes=(100, 60, 80), learning_rate=adaptive, max_iter=30;, score=0.852 total time=   0.1s\n",
      "[CV 2/2] END activation=relu, hidden_layer_sizes=(100, 60, 80), learning_rate=adaptive, max_iter=30;, score=0.851 total time=   0.1s\n",
      "[CV 1/2] END activation=relu, hidden_layer_sizes=(100, 60, 80), learning_rate=constant, max_iter=10;, score=0.852 total time=   0.0s\n",
      "[CV 2/2] END activation=relu, hidden_layer_sizes=(100, 60, 80), learning_rate=constant, max_iter=10;, score=0.851 total time=   0.0s\n"
     ]
    },
    {
     "name": "stderr",
     "output_type": "stream",
     "text": [
      "/home/dzzz/.local/lib/python3.10/site-packages/sklearn/neural_network/_multilayer_perceptron.py:686: ConvergenceWarning: Stochastic Optimizer: Maximum iterations (20) reached and the optimization hasn't converged yet.\n",
      "  warnings.warn(\n",
      "/home/dzzz/.local/lib/python3.10/site-packages/sklearn/neural_network/_multilayer_perceptron.py:686: ConvergenceWarning: Stochastic Optimizer: Maximum iterations (20) reached and the optimization hasn't converged yet.\n",
      "  warnings.warn(\n",
      "/home/dzzz/.local/lib/python3.10/site-packages/sklearn/neural_network/_multilayer_perceptron.py:686: ConvergenceWarning: Stochastic Optimizer: Maximum iterations (30) reached and the optimization hasn't converged yet.\n",
      "  warnings.warn(\n"
     ]
    },
    {
     "name": "stdout",
     "output_type": "stream",
     "text": [
      "[CV 1/2] END activation=relu, hidden_layer_sizes=(100, 60, 80), learning_rate=constant, max_iter=20;, score=0.852 total time=   0.1s\n",
      "[CV 2/2] END activation=relu, hidden_layer_sizes=(100, 60, 80), learning_rate=constant, max_iter=20;, score=0.851 total time=   0.1s\n",
      "[CV 1/2] END activation=relu, hidden_layer_sizes=(100, 60, 80), learning_rate=constant, max_iter=30;, score=0.852 total time=   0.1s\n",
      "[CV 2/2] END activation=relu, hidden_layer_sizes=(100, 60, 80), learning_rate=constant, max_iter=30;, score=0.851 total time=   0.1s\n",
      "[CV 1/2] END activation=relu, hidden_layer_sizes=(100, 60, 80), learning_rate=invscaling, max_iter=10;, score=0.852 total time=   0.0s\n"
     ]
    },
    {
     "name": "stderr",
     "output_type": "stream",
     "text": [
      "/home/dzzz/.local/lib/python3.10/site-packages/sklearn/neural_network/_multilayer_perceptron.py:686: ConvergenceWarning: Stochastic Optimizer: Maximum iterations (30) reached and the optimization hasn't converged yet.\n",
      "  warnings.warn(\n",
      "/home/dzzz/.local/lib/python3.10/site-packages/sklearn/neural_network/_multilayer_perceptron.py:686: ConvergenceWarning: Stochastic Optimizer: Maximum iterations (10) reached and the optimization hasn't converged yet.\n",
      "  warnings.warn(\n",
      "/home/dzzz/.local/lib/python3.10/site-packages/sklearn/neural_network/_multilayer_perceptron.py:686: ConvergenceWarning: Stochastic Optimizer: Maximum iterations (10) reached and the optimization hasn't converged yet.\n",
      "  warnings.warn(\n",
      "/home/dzzz/.local/lib/python3.10/site-packages/sklearn/neural_network/_multilayer_perceptron.py:686: ConvergenceWarning: Stochastic Optimizer: Maximum iterations (20) reached and the optimization hasn't converged yet.\n",
      "  warnings.warn(\n"
     ]
    },
    {
     "name": "stdout",
     "output_type": "stream",
     "text": [
      "[CV 2/2] END activation=relu, hidden_layer_sizes=(100, 60, 80), learning_rate=invscaling, max_iter=10;, score=0.851 total time=   0.0s\n",
      "[CV 1/2] END activation=relu, hidden_layer_sizes=(100, 60, 80), learning_rate=invscaling, max_iter=20;, score=0.852 total time=   0.1s\n",
      "[CV 2/2] END activation=relu, hidden_layer_sizes=(100, 60, 80), learning_rate=invscaling, max_iter=20;, score=0.851 total time=   0.1s\n"
     ]
    },
    {
     "name": "stderr",
     "output_type": "stream",
     "text": [
      "/home/dzzz/.local/lib/python3.10/site-packages/sklearn/neural_network/_multilayer_perceptron.py:686: ConvergenceWarning: Stochastic Optimizer: Maximum iterations (20) reached and the optimization hasn't converged yet.\n",
      "  warnings.warn(\n",
      "/home/dzzz/.local/lib/python3.10/site-packages/sklearn/neural_network/_multilayer_perceptron.py:686: ConvergenceWarning: Stochastic Optimizer: Maximum iterations (30) reached and the optimization hasn't converged yet.\n",
      "  warnings.warn(\n"
     ]
    },
    {
     "name": "stdout",
     "output_type": "stream",
     "text": [
      "[CV 1/2] END activation=relu, hidden_layer_sizes=(100, 60, 80), learning_rate=invscaling, max_iter=30;, score=0.852 total time=   0.1s\n",
      "[CV 2/2] END activation=relu, hidden_layer_sizes=(100, 60, 80), learning_rate=invscaling, max_iter=30;, score=0.851 total time=   0.1s\n",
      "[CV 1/2] END activation=relu, hidden_layer_sizes=(100, 60, 40), learning_rate=adaptive, max_iter=10;, score=0.852 total time=   0.0s\n",
      "[CV 2/2] END activation=relu, hidden_layer_sizes=(100, 60, 40), learning_rate=adaptive, max_iter=10;, score=0.851 total time=   0.0s\n"
     ]
    },
    {
     "name": "stderr",
     "output_type": "stream",
     "text": [
      "/home/dzzz/.local/lib/python3.10/site-packages/sklearn/neural_network/_multilayer_perceptron.py:686: ConvergenceWarning: Stochastic Optimizer: Maximum iterations (30) reached and the optimization hasn't converged yet.\n",
      "  warnings.warn(\n",
      "/home/dzzz/.local/lib/python3.10/site-packages/sklearn/neural_network/_multilayer_perceptron.py:686: ConvergenceWarning: Stochastic Optimizer: Maximum iterations (10) reached and the optimization hasn't converged yet.\n",
      "  warnings.warn(\n",
      "/home/dzzz/.local/lib/python3.10/site-packages/sklearn/neural_network/_multilayer_perceptron.py:686: ConvergenceWarning: Stochastic Optimizer: Maximum iterations (10) reached and the optimization hasn't converged yet.\n",
      "  warnings.warn(\n",
      "/home/dzzz/.local/lib/python3.10/site-packages/sklearn/neural_network/_multilayer_perceptron.py:686: ConvergenceWarning: Stochastic Optimizer: Maximum iterations (20) reached and the optimization hasn't converged yet.\n",
      "  warnings.warn(\n"
     ]
    },
    {
     "name": "stdout",
     "output_type": "stream",
     "text": [
      "[CV 1/2] END activation=relu, hidden_layer_sizes=(100, 60, 40), learning_rate=adaptive, max_iter=20;, score=0.852 total time=   0.1s\n",
      "[CV 2/2] END activation=relu, hidden_layer_sizes=(100, 60, 40), learning_rate=adaptive, max_iter=20;, score=0.851 total time=   0.1s\n",
      "[CV 1/2] END activation=relu, hidden_layer_sizes=(100, 60, 40), learning_rate=adaptive, max_iter=30;, score=0.852 total time=   0.1s\n"
     ]
    },
    {
     "name": "stderr",
     "output_type": "stream",
     "text": [
      "/home/dzzz/.local/lib/python3.10/site-packages/sklearn/neural_network/_multilayer_perceptron.py:686: ConvergenceWarning: Stochastic Optimizer: Maximum iterations (20) reached and the optimization hasn't converged yet.\n",
      "  warnings.warn(\n",
      "/home/dzzz/.local/lib/python3.10/site-packages/sklearn/neural_network/_multilayer_perceptron.py:686: ConvergenceWarning: Stochastic Optimizer: Maximum iterations (30) reached and the optimization hasn't converged yet.\n",
      "  warnings.warn(\n",
      "/home/dzzz/.local/lib/python3.10/site-packages/sklearn/neural_network/_multilayer_perceptron.py:686: ConvergenceWarning: Stochastic Optimizer: Maximum iterations (30) reached and the optimization hasn't converged yet.\n",
      "  warnings.warn(\n",
      "/home/dzzz/.local/lib/python3.10/site-packages/sklearn/neural_network/_multilayer_perceptron.py:686: ConvergenceWarning: Stochastic Optimizer: Maximum iterations (10) reached and the optimization hasn't converged yet.\n",
      "  warnings.warn(\n",
      "/home/dzzz/.local/lib/python3.10/site-packages/sklearn/neural_network/_multilayer_perceptron.py:686: ConvergenceWarning: Stochastic Optimizer: Maximum iterations (10) reached and the optimization hasn't converged yet.\n",
      "  warnings.warn(\n",
      "/home/dzzz/.local/lib/python3.10/site-packages/sklearn/neural_network/_multilayer_perceptron.py:686: ConvergenceWarning: Stochastic Optimizer: Maximum iterations (20) reached and the optimization hasn't converged yet.\n",
      "  warnings.warn(\n"
     ]
    },
    {
     "name": "stdout",
     "output_type": "stream",
     "text": [
      "[CV 2/2] END activation=relu, hidden_layer_sizes=(100, 60, 40), learning_rate=adaptive, max_iter=30;, score=0.851 total time=   0.1s\n",
      "[CV 1/2] END activation=relu, hidden_layer_sizes=(100, 60, 40), learning_rate=constant, max_iter=10;, score=0.852 total time=   0.0s\n",
      "[CV 2/2] END activation=relu, hidden_layer_sizes=(100, 60, 40), learning_rate=constant, max_iter=10;, score=0.851 total time=   0.0s\n",
      "[CV 1/2] END activation=relu, hidden_layer_sizes=(100, 60, 40), learning_rate=constant, max_iter=20;, score=0.852 total time=   0.1s\n"
     ]
    },
    {
     "name": "stderr",
     "output_type": "stream",
     "text": [
      "/home/dzzz/.local/lib/python3.10/site-packages/sklearn/neural_network/_multilayer_perceptron.py:686: ConvergenceWarning: Stochastic Optimizer: Maximum iterations (20) reached and the optimization hasn't converged yet.\n",
      "  warnings.warn(\n",
      "/home/dzzz/.local/lib/python3.10/site-packages/sklearn/neural_network/_multilayer_perceptron.py:686: ConvergenceWarning: Stochastic Optimizer: Maximum iterations (30) reached and the optimization hasn't converged yet.\n",
      "  warnings.warn(\n"
     ]
    },
    {
     "name": "stdout",
     "output_type": "stream",
     "text": [
      "[CV 2/2] END activation=relu, hidden_layer_sizes=(100, 60, 40), learning_rate=constant, max_iter=20;, score=0.851 total time=   0.1s\n",
      "[CV 1/2] END activation=relu, hidden_layer_sizes=(100, 60, 40), learning_rate=constant, max_iter=30;, score=0.852 total time=   0.1s\n"
     ]
    },
    {
     "name": "stderr",
     "output_type": "stream",
     "text": [
      "/home/dzzz/.local/lib/python3.10/site-packages/sklearn/neural_network/_multilayer_perceptron.py:686: ConvergenceWarning: Stochastic Optimizer: Maximum iterations (30) reached and the optimization hasn't converged yet.\n",
      "  warnings.warn(\n",
      "/home/dzzz/.local/lib/python3.10/site-packages/sklearn/neural_network/_multilayer_perceptron.py:686: ConvergenceWarning: Stochastic Optimizer: Maximum iterations (10) reached and the optimization hasn't converged yet.\n",
      "  warnings.warn(\n",
      "/home/dzzz/.local/lib/python3.10/site-packages/sklearn/neural_network/_multilayer_perceptron.py:686: ConvergenceWarning: Stochastic Optimizer: Maximum iterations (10) reached and the optimization hasn't converged yet.\n",
      "  warnings.warn(\n",
      "/home/dzzz/.local/lib/python3.10/site-packages/sklearn/neural_network/_multilayer_perceptron.py:686: ConvergenceWarning: Stochastic Optimizer: Maximum iterations (20) reached and the optimization hasn't converged yet.\n",
      "  warnings.warn(\n"
     ]
    },
    {
     "name": "stdout",
     "output_type": "stream",
     "text": [
      "[CV 2/2] END activation=relu, hidden_layer_sizes=(100, 60, 40), learning_rate=constant, max_iter=30;, score=0.851 total time=   0.1s\n",
      "[CV 1/2] END activation=relu, hidden_layer_sizes=(100, 60, 40), learning_rate=invscaling, max_iter=10;, score=0.852 total time=   0.0s\n",
      "[CV 2/2] END activation=relu, hidden_layer_sizes=(100, 60, 40), learning_rate=invscaling, max_iter=10;, score=0.851 total time=   0.0s\n",
      "[CV 1/2] END activation=relu, hidden_layer_sizes=(100, 60, 40), learning_rate=invscaling, max_iter=20;, score=0.852 total time=   0.1s\n"
     ]
    },
    {
     "name": "stderr",
     "output_type": "stream",
     "text": [
      "/home/dzzz/.local/lib/python3.10/site-packages/sklearn/neural_network/_multilayer_perceptron.py:686: ConvergenceWarning: Stochastic Optimizer: Maximum iterations (20) reached and the optimization hasn't converged yet.\n",
      "  warnings.warn(\n",
      "/home/dzzz/.local/lib/python3.10/site-packages/sklearn/neural_network/_multilayer_perceptron.py:686: ConvergenceWarning: Stochastic Optimizer: Maximum iterations (30) reached and the optimization hasn't converged yet.\n",
      "  warnings.warn(\n",
      "/home/dzzz/.local/lib/python3.10/site-packages/sklearn/neural_network/_multilayer_perceptron.py:686: ConvergenceWarning: Stochastic Optimizer: Maximum iterations (30) reached and the optimization hasn't converged yet.\n",
      "  warnings.warn(\n"
     ]
    },
    {
     "name": "stdout",
     "output_type": "stream",
     "text": [
      "[CV 2/2] END activation=relu, hidden_layer_sizes=(100, 60, 40), learning_rate=invscaling, max_iter=20;, score=0.851 total time=   0.1s\n",
      "[CV 1/2] END activation=relu, hidden_layer_sizes=(100, 60, 40), learning_rate=invscaling, max_iter=30;, score=0.852 total time=   0.1s\n",
      "[CV 2/2] END activation=relu, hidden_layer_sizes=(100, 60, 40), learning_rate=invscaling, max_iter=30;, score=0.851 total time=   0.1s\n"
     ]
    },
    {
     "name": "stderr",
     "output_type": "stream",
     "text": [
      "/home/dzzz/.local/lib/python3.10/site-packages/sklearn/neural_network/_multilayer_perceptron.py:686: ConvergenceWarning: Stochastic Optimizer: Maximum iterations (10) reached and the optimization hasn't converged yet.\n",
      "  warnings.warn(\n",
      "/home/dzzz/.local/lib/python3.10/site-packages/sklearn/neural_network/_multilayer_perceptron.py:686: ConvergenceWarning: Stochastic Optimizer: Maximum iterations (10) reached and the optimization hasn't converged yet.\n",
      "  warnings.warn(\n",
      "/home/dzzz/.local/lib/python3.10/site-packages/sklearn/neural_network/_multilayer_perceptron.py:686: ConvergenceWarning: Stochastic Optimizer: Maximum iterations (20) reached and the optimization hasn't converged yet.\n",
      "  warnings.warn(\n",
      "/home/dzzz/.local/lib/python3.10/site-packages/sklearn/neural_network/_multilayer_perceptron.py:686: ConvergenceWarning: Stochastic Optimizer: Maximum iterations (20) reached and the optimization hasn't converged yet.\n",
      "  warnings.warn(\n"
     ]
    },
    {
     "name": "stdout",
     "output_type": "stream",
     "text": [
      "[CV 1/2] END activation=logistic, hidden_layer_sizes=(80, 20, 60), learning_rate=adaptive, max_iter=10;, score=0.852 total time=   0.0s\n",
      "[CV 2/2] END activation=logistic, hidden_layer_sizes=(80, 20, 60), learning_rate=adaptive, max_iter=10;, score=0.851 total time=   0.0s\n",
      "[CV 1/2] END activation=logistic, hidden_layer_sizes=(80, 20, 60), learning_rate=adaptive, max_iter=20;, score=0.852 total time=   0.1s\n",
      "[CV 2/2] END activation=logistic, hidden_layer_sizes=(80, 20, 60), learning_rate=adaptive, max_iter=20;, score=0.851 total time=   0.1s\n"
     ]
    },
    {
     "name": "stderr",
     "output_type": "stream",
     "text": [
      "/home/dzzz/.local/lib/python3.10/site-packages/sklearn/neural_network/_multilayer_perceptron.py:686: ConvergenceWarning: Stochastic Optimizer: Maximum iterations (30) reached and the optimization hasn't converged yet.\n",
      "  warnings.warn(\n",
      "/home/dzzz/.local/lib/python3.10/site-packages/sklearn/neural_network/_multilayer_perceptron.py:686: ConvergenceWarning: Stochastic Optimizer: Maximum iterations (30) reached and the optimization hasn't converged yet.\n",
      "  warnings.warn(\n",
      "/home/dzzz/.local/lib/python3.10/site-packages/sklearn/neural_network/_multilayer_perceptron.py:686: ConvergenceWarning: Stochastic Optimizer: Maximum iterations (10) reached and the optimization hasn't converged yet.\n",
      "  warnings.warn(\n",
      "/home/dzzz/.local/lib/python3.10/site-packages/sklearn/neural_network/_multilayer_perceptron.py:686: ConvergenceWarning: Stochastic Optimizer: Maximum iterations (10) reached and the optimization hasn't converged yet.\n",
      "  warnings.warn(\n"
     ]
    },
    {
     "name": "stdout",
     "output_type": "stream",
     "text": [
      "[CV 1/2] END activation=logistic, hidden_layer_sizes=(80, 20, 60), learning_rate=adaptive, max_iter=30;, score=0.852 total time=   0.1s\n",
      "[CV 2/2] END activation=logistic, hidden_layer_sizes=(80, 20, 60), learning_rate=adaptive, max_iter=30;, score=0.851 total time=   0.1s\n",
      "[CV 1/2] END activation=logistic, hidden_layer_sizes=(80, 20, 60), learning_rate=constant, max_iter=10;, score=0.852 total time=   0.0s\n",
      "[CV 2/2] END activation=logistic, hidden_layer_sizes=(80, 20, 60), learning_rate=constant, max_iter=10;, score=0.851 total time=   0.0s\n"
     ]
    },
    {
     "name": "stderr",
     "output_type": "stream",
     "text": [
      "/home/dzzz/.local/lib/python3.10/site-packages/sklearn/neural_network/_multilayer_perceptron.py:686: ConvergenceWarning: Stochastic Optimizer: Maximum iterations (20) reached and the optimization hasn't converged yet.\n",
      "  warnings.warn(\n",
      "/home/dzzz/.local/lib/python3.10/site-packages/sklearn/neural_network/_multilayer_perceptron.py:686: ConvergenceWarning: Stochastic Optimizer: Maximum iterations (20) reached and the optimization hasn't converged yet.\n",
      "  warnings.warn(\n"
     ]
    },
    {
     "name": "stdout",
     "output_type": "stream",
     "text": [
      "[CV 1/2] END activation=logistic, hidden_layer_sizes=(80, 20, 60), learning_rate=constant, max_iter=20;, score=0.852 total time=   0.1s\n",
      "[CV 2/2] END activation=logistic, hidden_layer_sizes=(80, 20, 60), learning_rate=constant, max_iter=20;, score=0.851 total time=   0.1s\n"
     ]
    },
    {
     "name": "stderr",
     "output_type": "stream",
     "text": [
      "/home/dzzz/.local/lib/python3.10/site-packages/sklearn/neural_network/_multilayer_perceptron.py:686: ConvergenceWarning: Stochastic Optimizer: Maximum iterations (30) reached and the optimization hasn't converged yet.\n",
      "  warnings.warn(\n",
      "/home/dzzz/.local/lib/python3.10/site-packages/sklearn/neural_network/_multilayer_perceptron.py:686: ConvergenceWarning: Stochastic Optimizer: Maximum iterations (30) reached and the optimization hasn't converged yet.\n",
      "  warnings.warn(\n",
      "/home/dzzz/.local/lib/python3.10/site-packages/sklearn/neural_network/_multilayer_perceptron.py:686: ConvergenceWarning: Stochastic Optimizer: Maximum iterations (10) reached and the optimization hasn't converged yet.\n",
      "  warnings.warn(\n",
      "/home/dzzz/.local/lib/python3.10/site-packages/sklearn/neural_network/_multilayer_perceptron.py:686: ConvergenceWarning: Stochastic Optimizer: Maximum iterations (10) reached and the optimization hasn't converged yet.\n",
      "  warnings.warn(\n"
     ]
    },
    {
     "name": "stdout",
     "output_type": "stream",
     "text": [
      "[CV 1/2] END activation=logistic, hidden_layer_sizes=(80, 20, 60), learning_rate=constant, max_iter=30;, score=0.852 total time=   0.2s\n",
      "[CV 2/2] END activation=logistic, hidden_layer_sizes=(80, 20, 60), learning_rate=constant, max_iter=30;, score=0.851 total time=   0.1s\n",
      "[CV 1/2] END activation=logistic, hidden_layer_sizes=(80, 20, 60), learning_rate=invscaling, max_iter=10;, score=0.852 total time=   0.0s\n",
      "[CV 2/2] END activation=logistic, hidden_layer_sizes=(80, 20, 60), learning_rate=invscaling, max_iter=10;, score=0.851 total time=   0.0s\n"
     ]
    },
    {
     "name": "stderr",
     "output_type": "stream",
     "text": [
      "/home/dzzz/.local/lib/python3.10/site-packages/sklearn/neural_network/_multilayer_perceptron.py:686: ConvergenceWarning: Stochastic Optimizer: Maximum iterations (20) reached and the optimization hasn't converged yet.\n",
      "  warnings.warn(\n",
      "/home/dzzz/.local/lib/python3.10/site-packages/sklearn/neural_network/_multilayer_perceptron.py:686: ConvergenceWarning: Stochastic Optimizer: Maximum iterations (20) reached and the optimization hasn't converged yet.\n",
      "  warnings.warn(\n"
     ]
    },
    {
     "name": "stdout",
     "output_type": "stream",
     "text": [
      "[CV 1/2] END activation=logistic, hidden_layer_sizes=(80, 20, 60), learning_rate=invscaling, max_iter=20;, score=0.852 total time=   0.1s\n",
      "[CV 2/2] END activation=logistic, hidden_layer_sizes=(80, 20, 60), learning_rate=invscaling, max_iter=20;, score=0.851 total time=   0.1s\n"
     ]
    },
    {
     "name": "stderr",
     "output_type": "stream",
     "text": [
      "/home/dzzz/.local/lib/python3.10/site-packages/sklearn/neural_network/_multilayer_perceptron.py:686: ConvergenceWarning: Stochastic Optimizer: Maximum iterations (30) reached and the optimization hasn't converged yet.\n",
      "  warnings.warn(\n",
      "/home/dzzz/.local/lib/python3.10/site-packages/sklearn/neural_network/_multilayer_perceptron.py:686: ConvergenceWarning: Stochastic Optimizer: Maximum iterations (30) reached and the optimization hasn't converged yet.\n",
      "  warnings.warn(\n",
      "/home/dzzz/.local/lib/python3.10/site-packages/sklearn/neural_network/_multilayer_perceptron.py:686: ConvergenceWarning: Stochastic Optimizer: Maximum iterations (10) reached and the optimization hasn't converged yet.\n",
      "  warnings.warn(\n",
      "/home/dzzz/.local/lib/python3.10/site-packages/sklearn/neural_network/_multilayer_perceptron.py:686: ConvergenceWarning: Stochastic Optimizer: Maximum iterations (10) reached and the optimization hasn't converged yet.\n",
      "  warnings.warn(\n"
     ]
    },
    {
     "name": "stdout",
     "output_type": "stream",
     "text": [
      "[CV 1/2] END activation=logistic, hidden_layer_sizes=(80, 20, 60), learning_rate=invscaling, max_iter=30;, score=0.852 total time=   0.2s\n",
      "[CV 2/2] END activation=logistic, hidden_layer_sizes=(80, 20, 60), learning_rate=invscaling, max_iter=30;, score=0.851 total time=   0.1s\n",
      "[CV 1/2] END activation=logistic, hidden_layer_sizes=(50, 30, 20), learning_rate=adaptive, max_iter=10;, score=0.852 total time=   0.0s\n",
      "[CV 2/2] END activation=logistic, hidden_layer_sizes=(50, 30, 20), learning_rate=adaptive, max_iter=10;, score=0.851 total time=   0.0s\n"
     ]
    },
    {
     "name": "stderr",
     "output_type": "stream",
     "text": [
      "/home/dzzz/.local/lib/python3.10/site-packages/sklearn/neural_network/_multilayer_perceptron.py:686: ConvergenceWarning: Stochastic Optimizer: Maximum iterations (20) reached and the optimization hasn't converged yet.\n",
      "  warnings.warn(\n",
      "/home/dzzz/.local/lib/python3.10/site-packages/sklearn/neural_network/_multilayer_perceptron.py:686: ConvergenceWarning: Stochastic Optimizer: Maximum iterations (20) reached and the optimization hasn't converged yet.\n",
      "  warnings.warn(\n",
      "/home/dzzz/.local/lib/python3.10/site-packages/sklearn/neural_network/_multilayer_perceptron.py:686: ConvergenceWarning: Stochastic Optimizer: Maximum iterations (30) reached and the optimization hasn't converged yet.\n",
      "  warnings.warn(\n"
     ]
    },
    {
     "name": "stdout",
     "output_type": "stream",
     "text": [
      "[CV 1/2] END activation=logistic, hidden_layer_sizes=(50, 30, 20), learning_rate=adaptive, max_iter=20;, score=0.852 total time=   0.1s\n",
      "[CV 2/2] END activation=logistic, hidden_layer_sizes=(50, 30, 20), learning_rate=adaptive, max_iter=20;, score=0.851 total time=   0.1s\n",
      "[CV 1/2] END activation=logistic, hidden_layer_sizes=(50, 30, 20), learning_rate=adaptive, max_iter=30;, score=0.852 total time=   0.1s\n"
     ]
    },
    {
     "name": "stderr",
     "output_type": "stream",
     "text": [
      "/home/dzzz/.local/lib/python3.10/site-packages/sklearn/neural_network/_multilayer_perceptron.py:686: ConvergenceWarning: Stochastic Optimizer: Maximum iterations (30) reached and the optimization hasn't converged yet.\n",
      "  warnings.warn(\n",
      "/home/dzzz/.local/lib/python3.10/site-packages/sklearn/neural_network/_multilayer_perceptron.py:686: ConvergenceWarning: Stochastic Optimizer: Maximum iterations (10) reached and the optimization hasn't converged yet.\n",
      "  warnings.warn(\n",
      "/home/dzzz/.local/lib/python3.10/site-packages/sklearn/neural_network/_multilayer_perceptron.py:686: ConvergenceWarning: Stochastic Optimizer: Maximum iterations (10) reached and the optimization hasn't converged yet.\n",
      "  warnings.warn(\n",
      "/home/dzzz/.local/lib/python3.10/site-packages/sklearn/neural_network/_multilayer_perceptron.py:686: ConvergenceWarning: Stochastic Optimizer: Maximum iterations (20) reached and the optimization hasn't converged yet.\n",
      "  warnings.warn(\n",
      "/home/dzzz/.local/lib/python3.10/site-packages/sklearn/neural_network/_multilayer_perceptron.py:686: ConvergenceWarning: Stochastic Optimizer: Maximum iterations (20) reached and the optimization hasn't converged yet.\n",
      "  warnings.warn(\n"
     ]
    },
    {
     "name": "stdout",
     "output_type": "stream",
     "text": [
      "[CV 2/2] END activation=logistic, hidden_layer_sizes=(50, 30, 20), learning_rate=adaptive, max_iter=30;, score=0.851 total time=   0.1s\n",
      "[CV 1/2] END activation=logistic, hidden_layer_sizes=(50, 30, 20), learning_rate=constant, max_iter=10;, score=0.852 total time=   0.0s\n",
      "[CV 2/2] END activation=logistic, hidden_layer_sizes=(50, 30, 20), learning_rate=constant, max_iter=10;, score=0.851 total time=   0.0s\n",
      "[CV 1/2] END activation=logistic, hidden_layer_sizes=(50, 30, 20), learning_rate=constant, max_iter=20;, score=0.852 total time=   0.1s\n",
      "[CV 2/2] END activation=logistic, hidden_layer_sizes=(50, 30, 20), learning_rate=constant, max_iter=20;, score=0.851 total time=   0.1s\n"
     ]
    },
    {
     "name": "stderr",
     "output_type": "stream",
     "text": [
      "/home/dzzz/.local/lib/python3.10/site-packages/sklearn/neural_network/_multilayer_perceptron.py:686: ConvergenceWarning: Stochastic Optimizer: Maximum iterations (30) reached and the optimization hasn't converged yet.\n",
      "  warnings.warn(\n",
      "/home/dzzz/.local/lib/python3.10/site-packages/sklearn/neural_network/_multilayer_perceptron.py:686: ConvergenceWarning: Stochastic Optimizer: Maximum iterations (30) reached and the optimization hasn't converged yet.\n",
      "  warnings.warn(\n",
      "/home/dzzz/.local/lib/python3.10/site-packages/sklearn/neural_network/_multilayer_perceptron.py:686: ConvergenceWarning: Stochastic Optimizer: Maximum iterations (10) reached and the optimization hasn't converged yet.\n",
      "  warnings.warn(\n",
      "/home/dzzz/.local/lib/python3.10/site-packages/sklearn/neural_network/_multilayer_perceptron.py:686: ConvergenceWarning: Stochastic Optimizer: Maximum iterations (10) reached and the optimization hasn't converged yet.\n",
      "  warnings.warn(\n"
     ]
    },
    {
     "name": "stdout",
     "output_type": "stream",
     "text": [
      "[CV 1/2] END activation=logistic, hidden_layer_sizes=(50, 30, 20), learning_rate=constant, max_iter=30;, score=0.852 total time=   0.1s\n",
      "[CV 2/2] END activation=logistic, hidden_layer_sizes=(50, 30, 20), learning_rate=constant, max_iter=30;, score=0.851 total time=   0.1s\n",
      "[CV 1/2] END activation=logistic, hidden_layer_sizes=(50, 30, 20), learning_rate=invscaling, max_iter=10;, score=0.852 total time=   0.0s\n",
      "[CV 2/2] END activation=logistic, hidden_layer_sizes=(50, 30, 20), learning_rate=invscaling, max_iter=10;, score=0.851 total time=   0.0s\n"
     ]
    },
    {
     "name": "stderr",
     "output_type": "stream",
     "text": [
      "/home/dzzz/.local/lib/python3.10/site-packages/sklearn/neural_network/_multilayer_perceptron.py:686: ConvergenceWarning: Stochastic Optimizer: Maximum iterations (20) reached and the optimization hasn't converged yet.\n",
      "  warnings.warn(\n",
      "/home/dzzz/.local/lib/python3.10/site-packages/sklearn/neural_network/_multilayer_perceptron.py:686: ConvergenceWarning: Stochastic Optimizer: Maximum iterations (20) reached and the optimization hasn't converged yet.\n",
      "  warnings.warn(\n",
      "/home/dzzz/.local/lib/python3.10/site-packages/sklearn/neural_network/_multilayer_perceptron.py:686: ConvergenceWarning: Stochastic Optimizer: Maximum iterations (30) reached and the optimization hasn't converged yet.\n",
      "  warnings.warn(\n"
     ]
    },
    {
     "name": "stdout",
     "output_type": "stream",
     "text": [
      "[CV 1/2] END activation=logistic, hidden_layer_sizes=(50, 30, 20), learning_rate=invscaling, max_iter=20;, score=0.852 total time=   0.1s\n",
      "[CV 2/2] END activation=logistic, hidden_layer_sizes=(50, 30, 20), learning_rate=invscaling, max_iter=20;, score=0.851 total time=   0.1s\n",
      "[CV 1/2] END activation=logistic, hidden_layer_sizes=(50, 30, 20), learning_rate=invscaling, max_iter=30;, score=0.852 total time=   0.1s\n"
     ]
    },
    {
     "name": "stderr",
     "output_type": "stream",
     "text": [
      "/home/dzzz/.local/lib/python3.10/site-packages/sklearn/neural_network/_multilayer_perceptron.py:686: ConvergenceWarning: Stochastic Optimizer: Maximum iterations (30) reached and the optimization hasn't converged yet.\n",
      "  warnings.warn(\n",
      "/home/dzzz/.local/lib/python3.10/site-packages/sklearn/neural_network/_multilayer_perceptron.py:686: ConvergenceWarning: Stochastic Optimizer: Maximum iterations (10) reached and the optimization hasn't converged yet.\n",
      "  warnings.warn(\n",
      "/home/dzzz/.local/lib/python3.10/site-packages/sklearn/neural_network/_multilayer_perceptron.py:686: ConvergenceWarning: Stochastic Optimizer: Maximum iterations (10) reached and the optimization hasn't converged yet.\n",
      "  warnings.warn(\n"
     ]
    },
    {
     "name": "stdout",
     "output_type": "stream",
     "text": [
      "[CV 2/2] END activation=logistic, hidden_layer_sizes=(50, 30, 20), learning_rate=invscaling, max_iter=30;, score=0.851 total time=   0.1s\n",
      "[CV 1/2] END activation=logistic, hidden_layer_sizes=(100, 60, 80), learning_rate=adaptive, max_iter=10;, score=0.852 total time=   0.1s\n",
      "[CV 2/2] END activation=logistic, hidden_layer_sizes=(100, 60, 80), learning_rate=adaptive, max_iter=10;, score=0.851 total time=   0.0s\n"
     ]
    },
    {
     "name": "stderr",
     "output_type": "stream",
     "text": [
      "/home/dzzz/.local/lib/python3.10/site-packages/sklearn/neural_network/_multilayer_perceptron.py:686: ConvergenceWarning: Stochastic Optimizer: Maximum iterations (20) reached and the optimization hasn't converged yet.\n",
      "  warnings.warn(\n",
      "/home/dzzz/.local/lib/python3.10/site-packages/sklearn/neural_network/_multilayer_perceptron.py:686: ConvergenceWarning: Stochastic Optimizer: Maximum iterations (20) reached and the optimization hasn't converged yet.\n",
      "  warnings.warn(\n"
     ]
    },
    {
     "name": "stdout",
     "output_type": "stream",
     "text": [
      "[CV 1/2] END activation=logistic, hidden_layer_sizes=(100, 60, 80), learning_rate=adaptive, max_iter=20;, score=0.852 total time=   0.1s\n",
      "[CV 2/2] END activation=logistic, hidden_layer_sizes=(100, 60, 80), learning_rate=adaptive, max_iter=20;, score=0.851 total time=   0.1s\n"
     ]
    },
    {
     "name": "stderr",
     "output_type": "stream",
     "text": [
      "/home/dzzz/.local/lib/python3.10/site-packages/sklearn/neural_network/_multilayer_perceptron.py:686: ConvergenceWarning: Stochastic Optimizer: Maximum iterations (30) reached and the optimization hasn't converged yet.\n",
      "  warnings.warn(\n",
      "/home/dzzz/.local/lib/python3.10/site-packages/sklearn/neural_network/_multilayer_perceptron.py:686: ConvergenceWarning: Stochastic Optimizer: Maximum iterations (30) reached and the optimization hasn't converged yet.\n",
      "  warnings.warn(\n"
     ]
    },
    {
     "name": "stdout",
     "output_type": "stream",
     "text": [
      "[CV 1/2] END activation=logistic, hidden_layer_sizes=(100, 60, 80), learning_rate=adaptive, max_iter=30;, score=0.852 total time=   0.2s\n",
      "[CV 2/2] END activation=logistic, hidden_layer_sizes=(100, 60, 80), learning_rate=adaptive, max_iter=30;, score=0.851 total time=   0.2s\n"
     ]
    },
    {
     "name": "stderr",
     "output_type": "stream",
     "text": [
      "/home/dzzz/.local/lib/python3.10/site-packages/sklearn/neural_network/_multilayer_perceptron.py:686: ConvergenceWarning: Stochastic Optimizer: Maximum iterations (10) reached and the optimization hasn't converged yet.\n",
      "  warnings.warn(\n",
      "/home/dzzz/.local/lib/python3.10/site-packages/sklearn/neural_network/_multilayer_perceptron.py:686: ConvergenceWarning: Stochastic Optimizer: Maximum iterations (10) reached and the optimization hasn't converged yet.\n",
      "  warnings.warn(\n",
      "/home/dzzz/.local/lib/python3.10/site-packages/sklearn/neural_network/_multilayer_perceptron.py:686: ConvergenceWarning: Stochastic Optimizer: Maximum iterations (20) reached and the optimization hasn't converged yet.\n",
      "  warnings.warn(\n"
     ]
    },
    {
     "name": "stdout",
     "output_type": "stream",
     "text": [
      "[CV 1/2] END activation=logistic, hidden_layer_sizes=(100, 60, 80), learning_rate=constant, max_iter=10;, score=0.852 total time=   0.1s\n",
      "[CV 2/2] END activation=logistic, hidden_layer_sizes=(100, 60, 80), learning_rate=constant, max_iter=10;, score=0.851 total time=   0.0s\n",
      "[CV 1/2] END activation=logistic, hidden_layer_sizes=(100, 60, 80), learning_rate=constant, max_iter=20;, score=0.852 total time=   0.1s\n"
     ]
    },
    {
     "name": "stderr",
     "output_type": "stream",
     "text": [
      "/home/dzzz/.local/lib/python3.10/site-packages/sklearn/neural_network/_multilayer_perceptron.py:686: ConvergenceWarning: Stochastic Optimizer: Maximum iterations (20) reached and the optimization hasn't converged yet.\n",
      "  warnings.warn(\n",
      "/home/dzzz/.local/lib/python3.10/site-packages/sklearn/neural_network/_multilayer_perceptron.py:686: ConvergenceWarning: Stochastic Optimizer: Maximum iterations (30) reached and the optimization hasn't converged yet.\n",
      "  warnings.warn(\n"
     ]
    },
    {
     "name": "stdout",
     "output_type": "stream",
     "text": [
      "[CV 2/2] END activation=logistic, hidden_layer_sizes=(100, 60, 80), learning_rate=constant, max_iter=20;, score=0.851 total time=   0.1s\n",
      "[CV 1/2] END activation=logistic, hidden_layer_sizes=(100, 60, 80), learning_rate=constant, max_iter=30;, score=0.852 total time=   0.1s\n"
     ]
    },
    {
     "name": "stderr",
     "output_type": "stream",
     "text": [
      "/home/dzzz/.local/lib/python3.10/site-packages/sklearn/neural_network/_multilayer_perceptron.py:686: ConvergenceWarning: Stochastic Optimizer: Maximum iterations (30) reached and the optimization hasn't converged yet.\n",
      "  warnings.warn(\n",
      "/home/dzzz/.local/lib/python3.10/site-packages/sklearn/neural_network/_multilayer_perceptron.py:686: ConvergenceWarning: Stochastic Optimizer: Maximum iterations (10) reached and the optimization hasn't converged yet.\n",
      "  warnings.warn(\n",
      "/home/dzzz/.local/lib/python3.10/site-packages/sklearn/neural_network/_multilayer_perceptron.py:686: ConvergenceWarning: Stochastic Optimizer: Maximum iterations (10) reached and the optimization hasn't converged yet.\n",
      "  warnings.warn(\n"
     ]
    },
    {
     "name": "stdout",
     "output_type": "stream",
     "text": [
      "[CV 2/2] END activation=logistic, hidden_layer_sizes=(100, 60, 80), learning_rate=constant, max_iter=30;, score=0.851 total time=   0.1s\n",
      "[CV 1/2] END activation=logistic, hidden_layer_sizes=(100, 60, 80), learning_rate=invscaling, max_iter=10;, score=0.852 total time=   0.1s\n",
      "[CV 2/2] END activation=logistic, hidden_layer_sizes=(100, 60, 80), learning_rate=invscaling, max_iter=10;, score=0.851 total time=   0.0s\n"
     ]
    },
    {
     "name": "stderr",
     "output_type": "stream",
     "text": [
      "/home/dzzz/.local/lib/python3.10/site-packages/sklearn/neural_network/_multilayer_perceptron.py:686: ConvergenceWarning: Stochastic Optimizer: Maximum iterations (20) reached and the optimization hasn't converged yet.\n",
      "  warnings.warn(\n",
      "/home/dzzz/.local/lib/python3.10/site-packages/sklearn/neural_network/_multilayer_perceptron.py:686: ConvergenceWarning: Stochastic Optimizer: Maximum iterations (20) reached and the optimization hasn't converged yet.\n",
      "  warnings.warn(\n"
     ]
    },
    {
     "name": "stdout",
     "output_type": "stream",
     "text": [
      "[CV 1/2] END activation=logistic, hidden_layer_sizes=(100, 60, 80), learning_rate=invscaling, max_iter=20;, score=0.852 total time=   0.1s\n",
      "[CV 2/2] END activation=logistic, hidden_layer_sizes=(100, 60, 80), learning_rate=invscaling, max_iter=20;, score=0.851 total time=   0.1s\n"
     ]
    },
    {
     "name": "stderr",
     "output_type": "stream",
     "text": [
      "/home/dzzz/.local/lib/python3.10/site-packages/sklearn/neural_network/_multilayer_perceptron.py:686: ConvergenceWarning: Stochastic Optimizer: Maximum iterations (30) reached and the optimization hasn't converged yet.\n",
      "  warnings.warn(\n",
      "/home/dzzz/.local/lib/python3.10/site-packages/sklearn/neural_network/_multilayer_perceptron.py:686: ConvergenceWarning: Stochastic Optimizer: Maximum iterations (30) reached and the optimization hasn't converged yet.\n",
      "  warnings.warn(\n",
      "/home/dzzz/.local/lib/python3.10/site-packages/sklearn/neural_network/_multilayer_perceptron.py:686: ConvergenceWarning: Stochastic Optimizer: Maximum iterations (10) reached and the optimization hasn't converged yet.\n",
      "  warnings.warn(\n"
     ]
    },
    {
     "name": "stdout",
     "output_type": "stream",
     "text": [
      "[CV 1/2] END activation=logistic, hidden_layer_sizes=(100, 60, 80), learning_rate=invscaling, max_iter=30;, score=0.852 total time=   0.1s\n",
      "[CV 2/2] END activation=logistic, hidden_layer_sizes=(100, 60, 80), learning_rate=invscaling, max_iter=30;, score=0.851 total time=   0.1s\n",
      "[CV 1/2] END activation=logistic, hidden_layer_sizes=(100, 60, 40), learning_rate=adaptive, max_iter=10;, score=0.852 total time=   0.0s\n"
     ]
    },
    {
     "name": "stderr",
     "output_type": "stream",
     "text": [
      "/home/dzzz/.local/lib/python3.10/site-packages/sklearn/neural_network/_multilayer_perceptron.py:686: ConvergenceWarning: Stochastic Optimizer: Maximum iterations (10) reached and the optimization hasn't converged yet.\n",
      "  warnings.warn(\n",
      "/home/dzzz/.local/lib/python3.10/site-packages/sklearn/neural_network/_multilayer_perceptron.py:686: ConvergenceWarning: Stochastic Optimizer: Maximum iterations (20) reached and the optimization hasn't converged yet.\n",
      "  warnings.warn(\n",
      "/home/dzzz/.local/lib/python3.10/site-packages/sklearn/neural_network/_multilayer_perceptron.py:686: ConvergenceWarning: Stochastic Optimizer: Maximum iterations (20) reached and the optimization hasn't converged yet.\n",
      "  warnings.warn(\n"
     ]
    },
    {
     "name": "stdout",
     "output_type": "stream",
     "text": [
      "[CV 2/2] END activation=logistic, hidden_layer_sizes=(100, 60, 40), learning_rate=adaptive, max_iter=10;, score=0.851 total time=   0.1s\n",
      "[CV 1/2] END activation=logistic, hidden_layer_sizes=(100, 60, 40), learning_rate=adaptive, max_iter=20;, score=0.852 total time=   0.1s\n",
      "[CV 2/2] END activation=logistic, hidden_layer_sizes=(100, 60, 40), learning_rate=adaptive, max_iter=20;, score=0.851 total time=   0.1s\n"
     ]
    },
    {
     "name": "stderr",
     "output_type": "stream",
     "text": [
      "/home/dzzz/.local/lib/python3.10/site-packages/sklearn/neural_network/_multilayer_perceptron.py:686: ConvergenceWarning: Stochastic Optimizer: Maximum iterations (30) reached and the optimization hasn't converged yet.\n",
      "  warnings.warn(\n",
      "/home/dzzz/.local/lib/python3.10/site-packages/sklearn/neural_network/_multilayer_perceptron.py:686: ConvergenceWarning: Stochastic Optimizer: Maximum iterations (30) reached and the optimization hasn't converged yet.\n",
      "  warnings.warn(\n",
      "/home/dzzz/.local/lib/python3.10/site-packages/sklearn/neural_network/_multilayer_perceptron.py:686: ConvergenceWarning: Stochastic Optimizer: Maximum iterations (10) reached and the optimization hasn't converged yet.\n",
      "  warnings.warn(\n"
     ]
    },
    {
     "name": "stdout",
     "output_type": "stream",
     "text": [
      "[CV 1/2] END activation=logistic, hidden_layer_sizes=(100, 60, 40), learning_rate=adaptive, max_iter=30;, score=0.852 total time=   0.1s\n",
      "[CV 2/2] END activation=logistic, hidden_layer_sizes=(100, 60, 40), learning_rate=adaptive, max_iter=30;, score=0.851 total time=   0.1s\n",
      "[CV 1/2] END activation=logistic, hidden_layer_sizes=(100, 60, 40), learning_rate=constant, max_iter=10;, score=0.852 total time=   0.0s\n"
     ]
    },
    {
     "name": "stderr",
     "output_type": "stream",
     "text": [
      "/home/dzzz/.local/lib/python3.10/site-packages/sklearn/neural_network/_multilayer_perceptron.py:686: ConvergenceWarning: Stochastic Optimizer: Maximum iterations (10) reached and the optimization hasn't converged yet.\n",
      "  warnings.warn(\n",
      "/home/dzzz/.local/lib/python3.10/site-packages/sklearn/neural_network/_multilayer_perceptron.py:686: ConvergenceWarning: Stochastic Optimizer: Maximum iterations (20) reached and the optimization hasn't converged yet.\n",
      "  warnings.warn(\n"
     ]
    },
    {
     "name": "stdout",
     "output_type": "stream",
     "text": [
      "[CV 2/2] END activation=logistic, hidden_layer_sizes=(100, 60, 40), learning_rate=constant, max_iter=10;, score=0.851 total time=   0.1s\n",
      "[CV 1/2] END activation=logistic, hidden_layer_sizes=(100, 60, 40), learning_rate=constant, max_iter=20;, score=0.852 total time=   0.1s\n"
     ]
    },
    {
     "name": "stderr",
     "output_type": "stream",
     "text": [
      "/home/dzzz/.local/lib/python3.10/site-packages/sklearn/neural_network/_multilayer_perceptron.py:686: ConvergenceWarning: Stochastic Optimizer: Maximum iterations (20) reached and the optimization hasn't converged yet.\n",
      "  warnings.warn(\n",
      "/home/dzzz/.local/lib/python3.10/site-packages/sklearn/neural_network/_multilayer_perceptron.py:686: ConvergenceWarning: Stochastic Optimizer: Maximum iterations (30) reached and the optimization hasn't converged yet.\n",
      "  warnings.warn(\n"
     ]
    },
    {
     "name": "stdout",
     "output_type": "stream",
     "text": [
      "[CV 2/2] END activation=logistic, hidden_layer_sizes=(100, 60, 40), learning_rate=constant, max_iter=20;, score=0.851 total time=   0.1s\n",
      "[CV 1/2] END activation=logistic, hidden_layer_sizes=(100, 60, 40), learning_rate=constant, max_iter=30;, score=0.852 total time=   0.1s\n"
     ]
    },
    {
     "name": "stderr",
     "output_type": "stream",
     "text": [
      "/home/dzzz/.local/lib/python3.10/site-packages/sklearn/neural_network/_multilayer_perceptron.py:686: ConvergenceWarning: Stochastic Optimizer: Maximum iterations (30) reached and the optimization hasn't converged yet.\n",
      "  warnings.warn(\n",
      "/home/dzzz/.local/lib/python3.10/site-packages/sklearn/neural_network/_multilayer_perceptron.py:686: ConvergenceWarning: Stochastic Optimizer: Maximum iterations (10) reached and the optimization hasn't converged yet.\n",
      "  warnings.warn(\n",
      "/home/dzzz/.local/lib/python3.10/site-packages/sklearn/neural_network/_multilayer_perceptron.py:686: ConvergenceWarning: Stochastic Optimizer: Maximum iterations (10) reached and the optimization hasn't converged yet.\n",
      "  warnings.warn(\n",
      "/home/dzzz/.local/lib/python3.10/site-packages/sklearn/neural_network/_multilayer_perceptron.py:686: ConvergenceWarning: Stochastic Optimizer: Maximum iterations (20) reached and the optimization hasn't converged yet.\n",
      "  warnings.warn(\n"
     ]
    },
    {
     "name": "stdout",
     "output_type": "stream",
     "text": [
      "[CV 2/2] END activation=logistic, hidden_layer_sizes=(100, 60, 40), learning_rate=constant, max_iter=30;, score=0.851 total time=   0.1s\n",
      "[CV 1/2] END activation=logistic, hidden_layer_sizes=(100, 60, 40), learning_rate=invscaling, max_iter=10;, score=0.852 total time=   0.0s\n",
      "[CV 2/2] END activation=logistic, hidden_layer_sizes=(100, 60, 40), learning_rate=invscaling, max_iter=10;, score=0.851 total time=   0.0s\n",
      "[CV 1/2] END activation=logistic, hidden_layer_sizes=(100, 60, 40), learning_rate=invscaling, max_iter=20;, score=0.852 total time=   0.1s\n"
     ]
    },
    {
     "name": "stderr",
     "output_type": "stream",
     "text": [
      "/home/dzzz/.local/lib/python3.10/site-packages/sklearn/neural_network/_multilayer_perceptron.py:686: ConvergenceWarning: Stochastic Optimizer: Maximum iterations (20) reached and the optimization hasn't converged yet.\n",
      "  warnings.warn(\n",
      "/home/dzzz/.local/lib/python3.10/site-packages/sklearn/neural_network/_multilayer_perceptron.py:686: ConvergenceWarning: Stochastic Optimizer: Maximum iterations (30) reached and the optimization hasn't converged yet.\n",
      "  warnings.warn(\n"
     ]
    },
    {
     "name": "stdout",
     "output_type": "stream",
     "text": [
      "[CV 2/2] END activation=logistic, hidden_layer_sizes=(100, 60, 40), learning_rate=invscaling, max_iter=20;, score=0.851 total time=   0.1s\n",
      "[CV 1/2] END activation=logistic, hidden_layer_sizes=(100, 60, 40), learning_rate=invscaling, max_iter=30;, score=0.852 total time=   0.1s\n"
     ]
    },
    {
     "name": "stderr",
     "output_type": "stream",
     "text": [
      "/home/dzzz/.local/lib/python3.10/site-packages/sklearn/neural_network/_multilayer_perceptron.py:686: ConvergenceWarning: Stochastic Optimizer: Maximum iterations (30) reached and the optimization hasn't converged yet.\n",
      "  warnings.warn(\n",
      "/home/dzzz/.local/lib/python3.10/site-packages/sklearn/neural_network/_multilayer_perceptron.py:686: ConvergenceWarning: Stochastic Optimizer: Maximum iterations (10) reached and the optimization hasn't converged yet.\n",
      "  warnings.warn(\n",
      "/home/dzzz/.local/lib/python3.10/site-packages/sklearn/neural_network/_multilayer_perceptron.py:686: ConvergenceWarning: Stochastic Optimizer: Maximum iterations (10) reached and the optimization hasn't converged yet.\n",
      "  warnings.warn(\n",
      "/home/dzzz/.local/lib/python3.10/site-packages/sklearn/neural_network/_multilayer_perceptron.py:686: ConvergenceWarning: Stochastic Optimizer: Maximum iterations (20) reached and the optimization hasn't converged yet.\n",
      "  warnings.warn(\n"
     ]
    },
    {
     "name": "stdout",
     "output_type": "stream",
     "text": [
      "[CV 2/2] END activation=logistic, hidden_layer_sizes=(100, 60, 40), learning_rate=invscaling, max_iter=30;, score=0.851 total time=   0.1s\n",
      "[CV 1/2] END activation=tanh, hidden_layer_sizes=(80, 20, 60), learning_rate=adaptive, max_iter=10;, score=0.852 total time=   0.0s\n",
      "[CV 2/2] END activation=tanh, hidden_layer_sizes=(80, 20, 60), learning_rate=adaptive, max_iter=10;, score=0.848 total time=   0.0s\n",
      "[CV 1/2] END activation=tanh, hidden_layer_sizes=(80, 20, 60), learning_rate=adaptive, max_iter=20;, score=0.850 total time=   0.1s\n"
     ]
    },
    {
     "name": "stderr",
     "output_type": "stream",
     "text": [
      "/home/dzzz/.local/lib/python3.10/site-packages/sklearn/neural_network/_multilayer_perceptron.py:686: ConvergenceWarning: Stochastic Optimizer: Maximum iterations (20) reached and the optimization hasn't converged yet.\n",
      "  warnings.warn(\n",
      "/home/dzzz/.local/lib/python3.10/site-packages/sklearn/neural_network/_multilayer_perceptron.py:686: ConvergenceWarning: Stochastic Optimizer: Maximum iterations (30) reached and the optimization hasn't converged yet.\n",
      "  warnings.warn(\n"
     ]
    },
    {
     "name": "stdout",
     "output_type": "stream",
     "text": [
      "[CV 2/2] END activation=tanh, hidden_layer_sizes=(80, 20, 60), learning_rate=adaptive, max_iter=20;, score=0.847 total time=   0.1s\n",
      "[CV 1/2] END activation=tanh, hidden_layer_sizes=(80, 20, 60), learning_rate=adaptive, max_iter=30;, score=0.847 total time=   0.1s\n"
     ]
    },
    {
     "name": "stderr",
     "output_type": "stream",
     "text": [
      "/home/dzzz/.local/lib/python3.10/site-packages/sklearn/neural_network/_multilayer_perceptron.py:686: ConvergenceWarning: Stochastic Optimizer: Maximum iterations (30) reached and the optimization hasn't converged yet.\n",
      "  warnings.warn(\n",
      "/home/dzzz/.local/lib/python3.10/site-packages/sklearn/neural_network/_multilayer_perceptron.py:686: ConvergenceWarning: Stochastic Optimizer: Maximum iterations (10) reached and the optimization hasn't converged yet.\n",
      "  warnings.warn(\n",
      "/home/dzzz/.local/lib/python3.10/site-packages/sklearn/neural_network/_multilayer_perceptron.py:686: ConvergenceWarning: Stochastic Optimizer: Maximum iterations (10) reached and the optimization hasn't converged yet.\n",
      "  warnings.warn(\n",
      "/home/dzzz/.local/lib/python3.10/site-packages/sklearn/neural_network/_multilayer_perceptron.py:686: ConvergenceWarning: Stochastic Optimizer: Maximum iterations (20) reached and the optimization hasn't converged yet.\n",
      "  warnings.warn(\n"
     ]
    },
    {
     "name": "stdout",
     "output_type": "stream",
     "text": [
      "[CV 2/2] END activation=tanh, hidden_layer_sizes=(80, 20, 60), learning_rate=adaptive, max_iter=30;, score=0.851 total time=   0.1s\n",
      "[CV 1/2] END activation=tanh, hidden_layer_sizes=(80, 20, 60), learning_rate=constant, max_iter=10;, score=0.852 total time=   0.0s\n",
      "[CV 2/2] END activation=tanh, hidden_layer_sizes=(80, 20, 60), learning_rate=constant, max_iter=10;, score=0.850 total time=   0.1s\n",
      "[CV 1/2] END activation=tanh, hidden_layer_sizes=(80, 20, 60), learning_rate=constant, max_iter=20;, score=0.850 total time=   0.1s\n"
     ]
    },
    {
     "name": "stderr",
     "output_type": "stream",
     "text": [
      "/home/dzzz/.local/lib/python3.10/site-packages/sklearn/neural_network/_multilayer_perceptron.py:686: ConvergenceWarning: Stochastic Optimizer: Maximum iterations (20) reached and the optimization hasn't converged yet.\n",
      "  warnings.warn(\n",
      "/home/dzzz/.local/lib/python3.10/site-packages/sklearn/neural_network/_multilayer_perceptron.py:686: ConvergenceWarning: Stochastic Optimizer: Maximum iterations (30) reached and the optimization hasn't converged yet.\n",
      "  warnings.warn(\n"
     ]
    },
    {
     "name": "stdout",
     "output_type": "stream",
     "text": [
      "[CV 2/2] END activation=tanh, hidden_layer_sizes=(80, 20, 60), learning_rate=constant, max_iter=20;, score=0.847 total time=   0.1s\n",
      "[CV 1/2] END activation=tanh, hidden_layer_sizes=(80, 20, 60), learning_rate=constant, max_iter=30;, score=0.850 total time=   0.1s\n"
     ]
    },
    {
     "name": "stderr",
     "output_type": "stream",
     "text": [
      "/home/dzzz/.local/lib/python3.10/site-packages/sklearn/neural_network/_multilayer_perceptron.py:686: ConvergenceWarning: Stochastic Optimizer: Maximum iterations (30) reached and the optimization hasn't converged yet.\n",
      "  warnings.warn(\n",
      "/home/dzzz/.local/lib/python3.10/site-packages/sklearn/neural_network/_multilayer_perceptron.py:686: ConvergenceWarning: Stochastic Optimizer: Maximum iterations (10) reached and the optimization hasn't converged yet.\n",
      "  warnings.warn(\n",
      "/home/dzzz/.local/lib/python3.10/site-packages/sklearn/neural_network/_multilayer_perceptron.py:686: ConvergenceWarning: Stochastic Optimizer: Maximum iterations (10) reached and the optimization hasn't converged yet.\n",
      "  warnings.warn(\n",
      "/home/dzzz/.local/lib/python3.10/site-packages/sklearn/neural_network/_multilayer_perceptron.py:686: ConvergenceWarning: Stochastic Optimizer: Maximum iterations (20) reached and the optimization hasn't converged yet.\n",
      "  warnings.warn(\n"
     ]
    },
    {
     "name": "stdout",
     "output_type": "stream",
     "text": [
      "[CV 2/2] END activation=tanh, hidden_layer_sizes=(80, 20, 60), learning_rate=constant, max_iter=30;, score=0.847 total time=   0.2s\n",
      "[CV 1/2] END activation=tanh, hidden_layer_sizes=(80, 20, 60), learning_rate=invscaling, max_iter=10;, score=0.852 total time=   0.0s\n",
      "[CV 2/2] END activation=tanh, hidden_layer_sizes=(80, 20, 60), learning_rate=invscaling, max_iter=10;, score=0.847 total time=   0.0s\n",
      "[CV 1/2] END activation=tanh, hidden_layer_sizes=(80, 20, 60), learning_rate=invscaling, max_iter=20;, score=0.850 total time=   0.1s\n"
     ]
    },
    {
     "name": "stderr",
     "output_type": "stream",
     "text": [
      "/home/dzzz/.local/lib/python3.10/site-packages/sklearn/neural_network/_multilayer_perceptron.py:686: ConvergenceWarning: Stochastic Optimizer: Maximum iterations (20) reached and the optimization hasn't converged yet.\n",
      "  warnings.warn(\n",
      "/home/dzzz/.local/lib/python3.10/site-packages/sklearn/neural_network/_multilayer_perceptron.py:686: ConvergenceWarning: Stochastic Optimizer: Maximum iterations (30) reached and the optimization hasn't converged yet.\n",
      "  warnings.warn(\n"
     ]
    },
    {
     "name": "stdout",
     "output_type": "stream",
     "text": [
      "[CV 2/2] END activation=tanh, hidden_layer_sizes=(80, 20, 60), learning_rate=invscaling, max_iter=20;, score=0.851 total time=   0.1s\n",
      "[CV 1/2] END activation=tanh, hidden_layer_sizes=(80, 20, 60), learning_rate=invscaling, max_iter=30;, score=0.847 total time=   0.1s\n"
     ]
    },
    {
     "name": "stderr",
     "output_type": "stream",
     "text": [
      "/home/dzzz/.local/lib/python3.10/site-packages/sklearn/neural_network/_multilayer_perceptron.py:686: ConvergenceWarning: Stochastic Optimizer: Maximum iterations (30) reached and the optimization hasn't converged yet.\n",
      "  warnings.warn(\n",
      "/home/dzzz/.local/lib/python3.10/site-packages/sklearn/neural_network/_multilayer_perceptron.py:686: ConvergenceWarning: Stochastic Optimizer: Maximum iterations (10) reached and the optimization hasn't converged yet.\n",
      "  warnings.warn(\n",
      "/home/dzzz/.local/lib/python3.10/site-packages/sklearn/neural_network/_multilayer_perceptron.py:686: ConvergenceWarning: Stochastic Optimizer: Maximum iterations (10) reached and the optimization hasn't converged yet.\n",
      "  warnings.warn(\n",
      "/home/dzzz/.local/lib/python3.10/site-packages/sklearn/neural_network/_multilayer_perceptron.py:686: ConvergenceWarning: Stochastic Optimizer: Maximum iterations (20) reached and the optimization hasn't converged yet.\n",
      "  warnings.warn(\n"
     ]
    },
    {
     "name": "stdout",
     "output_type": "stream",
     "text": [
      "[CV 2/2] END activation=tanh, hidden_layer_sizes=(80, 20, 60), learning_rate=invscaling, max_iter=30;, score=0.851 total time=   0.1s\n",
      "[CV 1/2] END activation=tanh, hidden_layer_sizes=(50, 30, 20), learning_rate=adaptive, max_iter=10;, score=0.845 total time=   0.0s\n",
      "[CV 2/2] END activation=tanh, hidden_layer_sizes=(50, 30, 20), learning_rate=adaptive, max_iter=10;, score=0.848 total time=   0.0s\n",
      "[CV 1/2] END activation=tanh, hidden_layer_sizes=(50, 30, 20), learning_rate=adaptive, max_iter=20;, score=0.852 total time=   0.1s\n"
     ]
    },
    {
     "name": "stderr",
     "output_type": "stream",
     "text": [
      "/home/dzzz/.local/lib/python3.10/site-packages/sklearn/neural_network/_multilayer_perceptron.py:686: ConvergenceWarning: Stochastic Optimizer: Maximum iterations (20) reached and the optimization hasn't converged yet.\n",
      "  warnings.warn(\n",
      "/home/dzzz/.local/lib/python3.10/site-packages/sklearn/neural_network/_multilayer_perceptron.py:686: ConvergenceWarning: Stochastic Optimizer: Maximum iterations (30) reached and the optimization hasn't converged yet.\n",
      "  warnings.warn(\n",
      "/home/dzzz/.local/lib/python3.10/site-packages/sklearn/neural_network/_multilayer_perceptron.py:686: ConvergenceWarning: Stochastic Optimizer: Maximum iterations (30) reached and the optimization hasn't converged yet.\n",
      "  warnings.warn(\n"
     ]
    },
    {
     "name": "stdout",
     "output_type": "stream",
     "text": [
      "[CV 2/2] END activation=tanh, hidden_layer_sizes=(50, 30, 20), learning_rate=adaptive, max_iter=20;, score=0.851 total time=   0.1s\n",
      "[CV 1/2] END activation=tanh, hidden_layer_sizes=(50, 30, 20), learning_rate=adaptive, max_iter=30;, score=0.852 total time=   0.1s\n",
      "[CV 2/2] END activation=tanh, hidden_layer_sizes=(50, 30, 20), learning_rate=adaptive, max_iter=30;, score=0.848 total time=   0.1s\n"
     ]
    },
    {
     "name": "stderr",
     "output_type": "stream",
     "text": [
      "/home/dzzz/.local/lib/python3.10/site-packages/sklearn/neural_network/_multilayer_perceptron.py:686: ConvergenceWarning: Stochastic Optimizer: Maximum iterations (10) reached and the optimization hasn't converged yet.\n",
      "  warnings.warn(\n",
      "/home/dzzz/.local/lib/python3.10/site-packages/sklearn/neural_network/_multilayer_perceptron.py:686: ConvergenceWarning: Stochastic Optimizer: Maximum iterations (10) reached and the optimization hasn't converged yet.\n",
      "  warnings.warn(\n",
      "/home/dzzz/.local/lib/python3.10/site-packages/sklearn/neural_network/_multilayer_perceptron.py:686: ConvergenceWarning: Stochastic Optimizer: Maximum iterations (20) reached and the optimization hasn't converged yet.\n",
      "  warnings.warn(\n",
      "/home/dzzz/.local/lib/python3.10/site-packages/sklearn/neural_network/_multilayer_perceptron.py:686: ConvergenceWarning: Stochastic Optimizer: Maximum iterations (20) reached and the optimization hasn't converged yet.\n",
      "  warnings.warn(\n"
     ]
    },
    {
     "name": "stdout",
     "output_type": "stream",
     "text": [
      "[CV 1/2] END activation=tanh, hidden_layer_sizes=(50, 30, 20), learning_rate=constant, max_iter=10;, score=0.850 total time=   0.1s\n",
      "[CV 2/2] END activation=tanh, hidden_layer_sizes=(50, 30, 20), learning_rate=constant, max_iter=10;, score=0.851 total time=   0.0s\n",
      "[CV 1/2] END activation=tanh, hidden_layer_sizes=(50, 30, 20), learning_rate=constant, max_iter=20;, score=0.852 total time=   0.1s\n",
      "[CV 2/2] END activation=tanh, hidden_layer_sizes=(50, 30, 20), learning_rate=constant, max_iter=20;, score=0.848 total time=   0.1s\n"
     ]
    },
    {
     "name": "stderr",
     "output_type": "stream",
     "text": [
      "/home/dzzz/.local/lib/python3.10/site-packages/sklearn/neural_network/_multilayer_perceptron.py:686: ConvergenceWarning: Stochastic Optimizer: Maximum iterations (30) reached and the optimization hasn't converged yet.\n",
      "  warnings.warn(\n",
      "/home/dzzz/.local/lib/python3.10/site-packages/sklearn/neural_network/_multilayer_perceptron.py:686: ConvergenceWarning: Stochastic Optimizer: Maximum iterations (30) reached and the optimization hasn't converged yet.\n",
      "  warnings.warn(\n",
      "/home/dzzz/.local/lib/python3.10/site-packages/sklearn/neural_network/_multilayer_perceptron.py:686: ConvergenceWarning: Stochastic Optimizer: Maximum iterations (10) reached and the optimization hasn't converged yet.\n",
      "  warnings.warn(\n",
      "/home/dzzz/.local/lib/python3.10/site-packages/sklearn/neural_network/_multilayer_perceptron.py:686: ConvergenceWarning: Stochastic Optimizer: Maximum iterations (10) reached and the optimization hasn't converged yet.\n",
      "  warnings.warn(\n"
     ]
    },
    {
     "name": "stdout",
     "output_type": "stream",
     "text": [
      "[CV 1/2] END activation=tanh, hidden_layer_sizes=(50, 30, 20), learning_rate=constant, max_iter=30;, score=0.852 total time=   0.1s\n",
      "[CV 2/2] END activation=tanh, hidden_layer_sizes=(50, 30, 20), learning_rate=constant, max_iter=30;, score=0.850 total time=   0.1s\n",
      "[CV 1/2] END activation=tanh, hidden_layer_sizes=(50, 30, 20), learning_rate=invscaling, max_iter=10;, score=0.852 total time=   0.0s\n",
      "[CV 2/2] END activation=tanh, hidden_layer_sizes=(50, 30, 20), learning_rate=invscaling, max_iter=10;, score=0.851 total time=   0.0s\n"
     ]
    },
    {
     "name": "stderr",
     "output_type": "stream",
     "text": [
      "/home/dzzz/.local/lib/python3.10/site-packages/sklearn/neural_network/_multilayer_perceptron.py:686: ConvergenceWarning: Stochastic Optimizer: Maximum iterations (20) reached and the optimization hasn't converged yet.\n",
      "  warnings.warn(\n",
      "/home/dzzz/.local/lib/python3.10/site-packages/sklearn/neural_network/_multilayer_perceptron.py:686: ConvergenceWarning: Stochastic Optimizer: Maximum iterations (20) reached and the optimization hasn't converged yet.\n",
      "  warnings.warn(\n",
      "/home/dzzz/.local/lib/python3.10/site-packages/sklearn/neural_network/_multilayer_perceptron.py:686: ConvergenceWarning: Stochastic Optimizer: Maximum iterations (30) reached and the optimization hasn't converged yet.\n",
      "  warnings.warn(\n"
     ]
    },
    {
     "name": "stdout",
     "output_type": "stream",
     "text": [
      "[CV 1/2] END activation=tanh, hidden_layer_sizes=(50, 30, 20), learning_rate=invscaling, max_iter=20;, score=0.852 total time=   0.1s\n",
      "[CV 2/2] END activation=tanh, hidden_layer_sizes=(50, 30, 20), learning_rate=invscaling, max_iter=20;, score=0.850 total time=   0.1s\n",
      "[CV 1/2] END activation=tanh, hidden_layer_sizes=(50, 30, 20), learning_rate=invscaling, max_iter=30;, score=0.852 total time=   0.1s\n"
     ]
    },
    {
     "name": "stderr",
     "output_type": "stream",
     "text": [
      "/home/dzzz/.local/lib/python3.10/site-packages/sklearn/neural_network/_multilayer_perceptron.py:686: ConvergenceWarning: Stochastic Optimizer: Maximum iterations (30) reached and the optimization hasn't converged yet.\n",
      "  warnings.warn(\n",
      "/home/dzzz/.local/lib/python3.10/site-packages/sklearn/neural_network/_multilayer_perceptron.py:686: ConvergenceWarning: Stochastic Optimizer: Maximum iterations (10) reached and the optimization hasn't converged yet.\n",
      "  warnings.warn(\n",
      "/home/dzzz/.local/lib/python3.10/site-packages/sklearn/neural_network/_multilayer_perceptron.py:686: ConvergenceWarning: Stochastic Optimizer: Maximum iterations (10) reached and the optimization hasn't converged yet.\n",
      "  warnings.warn(\n"
     ]
    },
    {
     "name": "stdout",
     "output_type": "stream",
     "text": [
      "[CV 2/2] END activation=tanh, hidden_layer_sizes=(50, 30, 20), learning_rate=invscaling, max_iter=30;, score=0.851 total time=   0.1s\n",
      "[CV 1/2] END activation=tanh, hidden_layer_sizes=(100, 60, 80), learning_rate=adaptive, max_iter=10;, score=0.842 total time=   0.1s\n",
      "[CV 2/2] END activation=tanh, hidden_layer_sizes=(100, 60, 80), learning_rate=adaptive, max_iter=10;, score=0.838 total time=   0.1s\n"
     ]
    },
    {
     "name": "stderr",
     "output_type": "stream",
     "text": [
      "/home/dzzz/.local/lib/python3.10/site-packages/sklearn/neural_network/_multilayer_perceptron.py:686: ConvergenceWarning: Stochastic Optimizer: Maximum iterations (20) reached and the optimization hasn't converged yet.\n",
      "  warnings.warn(\n",
      "/home/dzzz/.local/lib/python3.10/site-packages/sklearn/neural_network/_multilayer_perceptron.py:686: ConvergenceWarning: Stochastic Optimizer: Maximum iterations (20) reached and the optimization hasn't converged yet.\n",
      "  warnings.warn(\n"
     ]
    },
    {
     "name": "stdout",
     "output_type": "stream",
     "text": [
      "[CV 1/2] END activation=tanh, hidden_layer_sizes=(100, 60, 80), learning_rate=adaptive, max_iter=20;, score=0.852 total time=   0.1s\n",
      "[CV 2/2] END activation=tanh, hidden_layer_sizes=(100, 60, 80), learning_rate=adaptive, max_iter=20;, score=0.847 total time=   0.1s\n"
     ]
    },
    {
     "name": "stderr",
     "output_type": "stream",
     "text": [
      "/home/dzzz/.local/lib/python3.10/site-packages/sklearn/neural_network/_multilayer_perceptron.py:686: ConvergenceWarning: Stochastic Optimizer: Maximum iterations (30) reached and the optimization hasn't converged yet.\n",
      "  warnings.warn(\n"
     ]
    },
    {
     "name": "stdout",
     "output_type": "stream",
     "text": [
      "[CV 1/2] END activation=tanh, hidden_layer_sizes=(100, 60, 80), learning_rate=adaptive, max_iter=30;, score=0.842 total time=   0.2s\n"
     ]
    },
    {
     "name": "stderr",
     "output_type": "stream",
     "text": [
      "/home/dzzz/.local/lib/python3.10/site-packages/sklearn/neural_network/_multilayer_perceptron.py:686: ConvergenceWarning: Stochastic Optimizer: Maximum iterations (30) reached and the optimization hasn't converged yet.\n",
      "  warnings.warn(\n",
      "/home/dzzz/.local/lib/python3.10/site-packages/sklearn/neural_network/_multilayer_perceptron.py:686: ConvergenceWarning: Stochastic Optimizer: Maximum iterations (10) reached and the optimization hasn't converged yet.\n",
      "  warnings.warn(\n",
      "/home/dzzz/.local/lib/python3.10/site-packages/sklearn/neural_network/_multilayer_perceptron.py:686: ConvergenceWarning: Stochastic Optimizer: Maximum iterations (10) reached and the optimization hasn't converged yet.\n",
      "  warnings.warn(\n"
     ]
    },
    {
     "name": "stdout",
     "output_type": "stream",
     "text": [
      "[CV 2/2] END activation=tanh, hidden_layer_sizes=(100, 60, 80), learning_rate=adaptive, max_iter=30;, score=0.848 total time=   0.2s\n",
      "[CV 1/2] END activation=tanh, hidden_layer_sizes=(100, 60, 80), learning_rate=constant, max_iter=10;, score=0.838 total time=   0.1s\n",
      "[CV 2/2] END activation=tanh, hidden_layer_sizes=(100, 60, 80), learning_rate=constant, max_iter=10;, score=0.839 total time=   0.1s\n"
     ]
    },
    {
     "name": "stderr",
     "output_type": "stream",
     "text": [
      "/home/dzzz/.local/lib/python3.10/site-packages/sklearn/neural_network/_multilayer_perceptron.py:686: ConvergenceWarning: Stochastic Optimizer: Maximum iterations (20) reached and the optimization hasn't converged yet.\n",
      "  warnings.warn(\n",
      "/home/dzzz/.local/lib/python3.10/site-packages/sklearn/neural_network/_multilayer_perceptron.py:686: ConvergenceWarning: Stochastic Optimizer: Maximum iterations (20) reached and the optimization hasn't converged yet.\n",
      "  warnings.warn(\n"
     ]
    },
    {
     "name": "stdout",
     "output_type": "stream",
     "text": [
      "[CV 1/2] END activation=tanh, hidden_layer_sizes=(100, 60, 80), learning_rate=constant, max_iter=20;, score=0.850 total time=   0.1s\n",
      "[CV 2/2] END activation=tanh, hidden_layer_sizes=(100, 60, 80), learning_rate=constant, max_iter=20;, score=0.850 total time=   0.1s\n"
     ]
    },
    {
     "name": "stderr",
     "output_type": "stream",
     "text": [
      "/home/dzzz/.local/lib/python3.10/site-packages/sklearn/neural_network/_multilayer_perceptron.py:686: ConvergenceWarning: Stochastic Optimizer: Maximum iterations (30) reached and the optimization hasn't converged yet.\n",
      "  warnings.warn(\n",
      "/home/dzzz/.local/lib/python3.10/site-packages/sklearn/neural_network/_multilayer_perceptron.py:686: ConvergenceWarning: Stochastic Optimizer: Maximum iterations (30) reached and the optimization hasn't converged yet.\n",
      "  warnings.warn(\n"
     ]
    },
    {
     "name": "stdout",
     "output_type": "stream",
     "text": [
      "[CV 1/2] END activation=tanh, hidden_layer_sizes=(100, 60, 80), learning_rate=constant, max_iter=30;, score=0.848 total time=   0.2s\n",
      "[CV 2/2] END activation=tanh, hidden_layer_sizes=(100, 60, 80), learning_rate=constant, max_iter=30;, score=0.851 total time=   0.2s\n"
     ]
    },
    {
     "name": "stderr",
     "output_type": "stream",
     "text": [
      "/home/dzzz/.local/lib/python3.10/site-packages/sklearn/neural_network/_multilayer_perceptron.py:686: ConvergenceWarning: Stochastic Optimizer: Maximum iterations (10) reached and the optimization hasn't converged yet.\n",
      "  warnings.warn(\n",
      "/home/dzzz/.local/lib/python3.10/site-packages/sklearn/neural_network/_multilayer_perceptron.py:686: ConvergenceWarning: Stochastic Optimizer: Maximum iterations (10) reached and the optimization hasn't converged yet.\n",
      "  warnings.warn(\n",
      "/home/dzzz/.local/lib/python3.10/site-packages/sklearn/neural_network/_multilayer_perceptron.py:686: ConvergenceWarning: Stochastic Optimizer: Maximum iterations (20) reached and the optimization hasn't converged yet.\n",
      "  warnings.warn(\n"
     ]
    },
    {
     "name": "stdout",
     "output_type": "stream",
     "text": [
      "[CV 1/2] END activation=tanh, hidden_layer_sizes=(100, 60, 80), learning_rate=invscaling, max_iter=10;, score=0.833 total time=   0.1s\n",
      "[CV 2/2] END activation=tanh, hidden_layer_sizes=(100, 60, 80), learning_rate=invscaling, max_iter=10;, score=0.848 total time=   0.1s\n",
      "[CV 1/2] END activation=tanh, hidden_layer_sizes=(100, 60, 80), learning_rate=invscaling, max_iter=20;, score=0.852 total time=   0.1s\n"
     ]
    },
    {
     "name": "stderr",
     "output_type": "stream",
     "text": [
      "/home/dzzz/.local/lib/python3.10/site-packages/sklearn/neural_network/_multilayer_perceptron.py:686: ConvergenceWarning: Stochastic Optimizer: Maximum iterations (20) reached and the optimization hasn't converged yet.\n",
      "  warnings.warn(\n",
      "/home/dzzz/.local/lib/python3.10/site-packages/sklearn/neural_network/_multilayer_perceptron.py:686: ConvergenceWarning: Stochastic Optimizer: Maximum iterations (30) reached and the optimization hasn't converged yet.\n",
      "  warnings.warn(\n"
     ]
    },
    {
     "name": "stdout",
     "output_type": "stream",
     "text": [
      "[CV 2/2] END activation=tanh, hidden_layer_sizes=(100, 60, 80), learning_rate=invscaling, max_iter=20;, score=0.847 total time=   0.1s\n",
      "[CV 1/2] END activation=tanh, hidden_layer_sizes=(100, 60, 80), learning_rate=invscaling, max_iter=30;, score=0.845 total time=   0.2s\n"
     ]
    },
    {
     "name": "stderr",
     "output_type": "stream",
     "text": [
      "/home/dzzz/.local/lib/python3.10/site-packages/sklearn/neural_network/_multilayer_perceptron.py:686: ConvergenceWarning: Stochastic Optimizer: Maximum iterations (30) reached and the optimization hasn't converged yet.\n",
      "  warnings.warn(\n",
      "/home/dzzz/.local/lib/python3.10/site-packages/sklearn/neural_network/_multilayer_perceptron.py:686: ConvergenceWarning: Stochastic Optimizer: Maximum iterations (10) reached and the optimization hasn't converged yet.\n",
      "  warnings.warn(\n",
      "/home/dzzz/.local/lib/python3.10/site-packages/sklearn/neural_network/_multilayer_perceptron.py:686: ConvergenceWarning: Stochastic Optimizer: Maximum iterations (10) reached and the optimization hasn't converged yet.\n",
      "  warnings.warn(\n"
     ]
    },
    {
     "name": "stdout",
     "output_type": "stream",
     "text": [
      "[CV 2/2] END activation=tanh, hidden_layer_sizes=(100, 60, 80), learning_rate=invscaling, max_iter=30;, score=0.850 total time=   0.2s\n",
      "[CV 1/2] END activation=tanh, hidden_layer_sizes=(100, 60, 40), learning_rate=adaptive, max_iter=10;, score=0.848 total time=   0.1s\n",
      "[CV 2/2] END activation=tanh, hidden_layer_sizes=(100, 60, 40), learning_rate=adaptive, max_iter=10;, score=0.851 total time=   0.1s\n"
     ]
    },
    {
     "name": "stderr",
     "output_type": "stream",
     "text": [
      "/home/dzzz/.local/lib/python3.10/site-packages/sklearn/neural_network/_multilayer_perceptron.py:686: ConvergenceWarning: Stochastic Optimizer: Maximum iterations (20) reached and the optimization hasn't converged yet.\n",
      "  warnings.warn(\n",
      "/home/dzzz/.local/lib/python3.10/site-packages/sklearn/neural_network/_multilayer_perceptron.py:686: ConvergenceWarning: Stochastic Optimizer: Maximum iterations (20) reached and the optimization hasn't converged yet.\n",
      "  warnings.warn(\n"
     ]
    },
    {
     "name": "stdout",
     "output_type": "stream",
     "text": [
      "[CV 1/2] END activation=tanh, hidden_layer_sizes=(100, 60, 40), learning_rate=adaptive, max_iter=20;, score=0.850 total time=   0.1s\n",
      "[CV 2/2] END activation=tanh, hidden_layer_sizes=(100, 60, 40), learning_rate=adaptive, max_iter=20;, score=0.847 total time=   0.1s\n"
     ]
    },
    {
     "name": "stderr",
     "output_type": "stream",
     "text": [
      "/home/dzzz/.local/lib/python3.10/site-packages/sklearn/neural_network/_multilayer_perceptron.py:686: ConvergenceWarning: Stochastic Optimizer: Maximum iterations (30) reached and the optimization hasn't converged yet.\n",
      "  warnings.warn(\n",
      "/home/dzzz/.local/lib/python3.10/site-packages/sklearn/neural_network/_multilayer_perceptron.py:686: ConvergenceWarning: Stochastic Optimizer: Maximum iterations (30) reached and the optimization hasn't converged yet.\n",
      "  warnings.warn(\n"
     ]
    },
    {
     "name": "stdout",
     "output_type": "stream",
     "text": [
      "[CV 1/2] END activation=tanh, hidden_layer_sizes=(100, 60, 40), learning_rate=adaptive, max_iter=30;, score=0.852 total time=   0.2s\n",
      "[CV 2/2] END activation=tanh, hidden_layer_sizes=(100, 60, 40), learning_rate=adaptive, max_iter=30;, score=0.848 total time=   0.2s\n"
     ]
    },
    {
     "name": "stderr",
     "output_type": "stream",
     "text": [
      "/home/dzzz/.local/lib/python3.10/site-packages/sklearn/neural_network/_multilayer_perceptron.py:686: ConvergenceWarning: Stochastic Optimizer: Maximum iterations (10) reached and the optimization hasn't converged yet.\n",
      "  warnings.warn(\n",
      "/home/dzzz/.local/lib/python3.10/site-packages/sklearn/neural_network/_multilayer_perceptron.py:686: ConvergenceWarning: Stochastic Optimizer: Maximum iterations (10) reached and the optimization hasn't converged yet.\n",
      "  warnings.warn(\n",
      "/home/dzzz/.local/lib/python3.10/site-packages/sklearn/neural_network/_multilayer_perceptron.py:686: ConvergenceWarning: Stochastic Optimizer: Maximum iterations (20) reached and the optimization hasn't converged yet.\n",
      "  warnings.warn(\n"
     ]
    },
    {
     "name": "stdout",
     "output_type": "stream",
     "text": [
      "[CV 1/2] END activation=tanh, hidden_layer_sizes=(100, 60, 40), learning_rate=constant, max_iter=10;, score=0.850 total time=   0.1s\n",
      "[CV 2/2] END activation=tanh, hidden_layer_sizes=(100, 60, 40), learning_rate=constant, max_iter=10;, score=0.847 total time=   0.1s\n",
      "[CV 1/2] END activation=tanh, hidden_layer_sizes=(100, 60, 40), learning_rate=constant, max_iter=20;, score=0.850 total time=   0.1s\n"
     ]
    },
    {
     "name": "stderr",
     "output_type": "stream",
     "text": [
      "/home/dzzz/.local/lib/python3.10/site-packages/sklearn/neural_network/_multilayer_perceptron.py:686: ConvergenceWarning: Stochastic Optimizer: Maximum iterations (20) reached and the optimization hasn't converged yet.\n",
      "  warnings.warn(\n",
      "/home/dzzz/.local/lib/python3.10/site-packages/sklearn/neural_network/_multilayer_perceptron.py:686: ConvergenceWarning: Stochastic Optimizer: Maximum iterations (30) reached and the optimization hasn't converged yet.\n",
      "  warnings.warn(\n"
     ]
    },
    {
     "name": "stdout",
     "output_type": "stream",
     "text": [
      "[CV 2/2] END activation=tanh, hidden_layer_sizes=(100, 60, 40), learning_rate=constant, max_iter=20;, score=0.847 total time=   0.1s\n",
      "[CV 1/2] END activation=tanh, hidden_layer_sizes=(100, 60, 40), learning_rate=constant, max_iter=30;, score=0.850 total time=   0.2s\n"
     ]
    },
    {
     "name": "stderr",
     "output_type": "stream",
     "text": [
      "/home/dzzz/.local/lib/python3.10/site-packages/sklearn/neural_network/_multilayer_perceptron.py:686: ConvergenceWarning: Stochastic Optimizer: Maximum iterations (30) reached and the optimization hasn't converged yet.\n",
      "  warnings.warn(\n",
      "/home/dzzz/.local/lib/python3.10/site-packages/sklearn/neural_network/_multilayer_perceptron.py:686: ConvergenceWarning: Stochastic Optimizer: Maximum iterations (10) reached and the optimization hasn't converged yet.\n",
      "  warnings.warn(\n",
      "/home/dzzz/.local/lib/python3.10/site-packages/sklearn/neural_network/_multilayer_perceptron.py:686: ConvergenceWarning: Stochastic Optimizer: Maximum iterations (10) reached and the optimization hasn't converged yet.\n",
      "  warnings.warn(\n"
     ]
    },
    {
     "name": "stdout",
     "output_type": "stream",
     "text": [
      "[CV 2/2] END activation=tanh, hidden_layer_sizes=(100, 60, 40), learning_rate=constant, max_iter=30;, score=0.850 total time=   0.2s\n",
      "[CV 1/2] END activation=tanh, hidden_layer_sizes=(100, 60, 40), learning_rate=invscaling, max_iter=10;, score=0.844 total time=   0.1s\n",
      "[CV 2/2] END activation=tanh, hidden_layer_sizes=(100, 60, 40), learning_rate=invscaling, max_iter=10;, score=0.842 total time=   0.1s\n"
     ]
    },
    {
     "name": "stderr",
     "output_type": "stream",
     "text": [
      "/home/dzzz/.local/lib/python3.10/site-packages/sklearn/neural_network/_multilayer_perceptron.py:686: ConvergenceWarning: Stochastic Optimizer: Maximum iterations (20) reached and the optimization hasn't converged yet.\n",
      "  warnings.warn(\n",
      "/home/dzzz/.local/lib/python3.10/site-packages/sklearn/neural_network/_multilayer_perceptron.py:686: ConvergenceWarning: Stochastic Optimizer: Maximum iterations (20) reached and the optimization hasn't converged yet.\n",
      "  warnings.warn(\n"
     ]
    },
    {
     "name": "stdout",
     "output_type": "stream",
     "text": [
      "[CV 1/2] END activation=tanh, hidden_layer_sizes=(100, 60, 40), learning_rate=invscaling, max_iter=20;, score=0.850 total time=   0.1s\n",
      "[CV 2/2] END activation=tanh, hidden_layer_sizes=(100, 60, 40), learning_rate=invscaling, max_iter=20;, score=0.850 total time=   0.1s\n"
     ]
    },
    {
     "name": "stderr",
     "output_type": "stream",
     "text": [
      "/home/dzzz/.local/lib/python3.10/site-packages/sklearn/neural_network/_multilayer_perceptron.py:686: ConvergenceWarning: Stochastic Optimizer: Maximum iterations (30) reached and the optimization hasn't converged yet.\n",
      "  warnings.warn(\n",
      "/home/dzzz/.local/lib/python3.10/site-packages/sklearn/neural_network/_multilayer_perceptron.py:686: ConvergenceWarning: Stochastic Optimizer: Maximum iterations (30) reached and the optimization hasn't converged yet.\n",
      "  warnings.warn(\n"
     ]
    },
    {
     "name": "stdout",
     "output_type": "stream",
     "text": [
      "[CV 1/2] END activation=tanh, hidden_layer_sizes=(100, 60, 40), learning_rate=invscaling, max_iter=30;, score=0.848 total time=   0.2s\n",
      "[CV 2/2] END activation=tanh, hidden_layer_sizes=(100, 60, 40), learning_rate=invscaling, max_iter=30;, score=0.850 total time=   0.2s\n"
     ]
    },
    {
     "name": "stderr",
     "output_type": "stream",
     "text": [
      "/home/dzzz/.local/lib/python3.10/site-packages/sklearn/neural_network/_multilayer_perceptron.py:686: ConvergenceWarning: Stochastic Optimizer: Maximum iterations (10) reached and the optimization hasn't converged yet.\n",
      "  warnings.warn(\n"
     ]
    },
    {
     "data": {
      "text/html": [
       "<style>#sk-container-id-2 {color: black;background-color: white;}#sk-container-id-2 pre{padding: 0;}#sk-container-id-2 div.sk-toggleable {background-color: white;}#sk-container-id-2 label.sk-toggleable__label {cursor: pointer;display: block;width: 100%;margin-bottom: 0;padding: 0.3em;box-sizing: border-box;text-align: center;}#sk-container-id-2 label.sk-toggleable__label-arrow:before {content: \"▸\";float: left;margin-right: 0.25em;color: #696969;}#sk-container-id-2 label.sk-toggleable__label-arrow:hover:before {color: black;}#sk-container-id-2 div.sk-estimator:hover label.sk-toggleable__label-arrow:before {color: black;}#sk-container-id-2 div.sk-toggleable__content {max-height: 0;max-width: 0;overflow: hidden;text-align: left;background-color: #f0f8ff;}#sk-container-id-2 div.sk-toggleable__content pre {margin: 0.2em;color: black;border-radius: 0.25em;background-color: #f0f8ff;}#sk-container-id-2 input.sk-toggleable__control:checked~div.sk-toggleable__content {max-height: 200px;max-width: 100%;overflow: auto;}#sk-container-id-2 input.sk-toggleable__control:checked~label.sk-toggleable__label-arrow:before {content: \"▾\";}#sk-container-id-2 div.sk-estimator input.sk-toggleable__control:checked~label.sk-toggleable__label {background-color: #d4ebff;}#sk-container-id-2 div.sk-label input.sk-toggleable__control:checked~label.sk-toggleable__label {background-color: #d4ebff;}#sk-container-id-2 input.sk-hidden--visually {border: 0;clip: rect(1px 1px 1px 1px);clip: rect(1px, 1px, 1px, 1px);height: 1px;margin: -1px;overflow: hidden;padding: 0;position: absolute;width: 1px;}#sk-container-id-2 div.sk-estimator {font-family: monospace;background-color: #f0f8ff;border: 1px dotted black;border-radius: 0.25em;box-sizing: border-box;margin-bottom: 0.5em;}#sk-container-id-2 div.sk-estimator:hover {background-color: #d4ebff;}#sk-container-id-2 div.sk-parallel-item::after {content: \"\";width: 100%;border-bottom: 1px solid gray;flex-grow: 1;}#sk-container-id-2 div.sk-label:hover label.sk-toggleable__label {background-color: #d4ebff;}#sk-container-id-2 div.sk-serial::before {content: \"\";position: absolute;border-left: 1px solid gray;box-sizing: border-box;top: 0;bottom: 0;left: 50%;z-index: 0;}#sk-container-id-2 div.sk-serial {display: flex;flex-direction: column;align-items: center;background-color: white;padding-right: 0.2em;padding-left: 0.2em;position: relative;}#sk-container-id-2 div.sk-item {position: relative;z-index: 1;}#sk-container-id-2 div.sk-parallel {display: flex;align-items: stretch;justify-content: center;background-color: white;position: relative;}#sk-container-id-2 div.sk-item::before, #sk-container-id-2 div.sk-parallel-item::before {content: \"\";position: absolute;border-left: 1px solid gray;box-sizing: border-box;top: 0;bottom: 0;left: 50%;z-index: -1;}#sk-container-id-2 div.sk-parallel-item {display: flex;flex-direction: column;z-index: 1;position: relative;background-color: white;}#sk-container-id-2 div.sk-parallel-item:first-child::after {align-self: flex-end;width: 50%;}#sk-container-id-2 div.sk-parallel-item:last-child::after {align-self: flex-start;width: 50%;}#sk-container-id-2 div.sk-parallel-item:only-child::after {width: 0;}#sk-container-id-2 div.sk-dashed-wrapped {border: 1px dashed gray;margin: 0 0.4em 0.5em 0.4em;box-sizing: border-box;padding-bottom: 0.4em;background-color: white;}#sk-container-id-2 div.sk-label label {font-family: monospace;font-weight: bold;display: inline-block;line-height: 1.2em;}#sk-container-id-2 div.sk-label-container {text-align: center;}#sk-container-id-2 div.sk-container {/* jupyter's `normalize.less` sets `[hidden] { display: none; }` but bootstrap.min.css set `[hidden] { display: none !important; }` so we also need the `!important` here to be able to override the default hidden behavior on the sphinx rendered scikit-learn.org. See: https://github.com/scikit-learn/scikit-learn/issues/21755 */display: inline-block !important;position: relative;}#sk-container-id-2 div.sk-text-repr-fallback {display: none;}</style><div id=\"sk-container-id-2\" class=\"sk-top-container\"><div class=\"sk-text-repr-fallback\"><pre>GridSearchCV(cv=2,\n",
       "             estimator=MLPClassifier(hidden_layer_sizes=(100, 60, 80),\n",
       "                                     max_iter=20),\n",
       "             param_grid={&#x27;activation&#x27;: [&#x27;relu&#x27;, &#x27;logistic&#x27;, &#x27;tanh&#x27;],\n",
       "                         &#x27;hidden_layer_sizes&#x27;: [(80, 20, 60), (50, 30, 20),\n",
       "                                                (100, 60, 80), (100, 60, 40)],\n",
       "                         &#x27;learning_rate&#x27;: [&#x27;adaptive&#x27;, &#x27;constant&#x27;,\n",
       "                                           &#x27;invscaling&#x27;],\n",
       "                         &#x27;max_iter&#x27;: [10, 20, 30]},\n",
       "             scoring=&#x27;accuracy&#x27;, verbose=3)</pre><b>In a Jupyter environment, please rerun this cell to show the HTML representation or trust the notebook. <br />On GitHub, the HTML representation is unable to render, please try loading this page with nbviewer.org.</b></div><div class=\"sk-container\" hidden><div class=\"sk-item sk-dashed-wrapped\"><div class=\"sk-label-container\"><div class=\"sk-label sk-toggleable\"><input class=\"sk-toggleable__control sk-hidden--visually\" id=\"sk-estimator-id-2\" type=\"checkbox\" ><label for=\"sk-estimator-id-2\" class=\"sk-toggleable__label sk-toggleable__label-arrow\">GridSearchCV</label><div class=\"sk-toggleable__content\"><pre>GridSearchCV(cv=2,\n",
       "             estimator=MLPClassifier(hidden_layer_sizes=(100, 60, 80),\n",
       "                                     max_iter=20),\n",
       "             param_grid={&#x27;activation&#x27;: [&#x27;relu&#x27;, &#x27;logistic&#x27;, &#x27;tanh&#x27;],\n",
       "                         &#x27;hidden_layer_sizes&#x27;: [(80, 20, 60), (50, 30, 20),\n",
       "                                                (100, 60, 80), (100, 60, 40)],\n",
       "                         &#x27;learning_rate&#x27;: [&#x27;adaptive&#x27;, &#x27;constant&#x27;,\n",
       "                                           &#x27;invscaling&#x27;],\n",
       "                         &#x27;max_iter&#x27;: [10, 20, 30]},\n",
       "             scoring=&#x27;accuracy&#x27;, verbose=3)</pre></div></div></div><div class=\"sk-parallel\"><div class=\"sk-parallel-item\"><div class=\"sk-item\"><div class=\"sk-label-container\"><div class=\"sk-label sk-toggleable\"><input class=\"sk-toggleable__control sk-hidden--visually\" id=\"sk-estimator-id-3\" type=\"checkbox\" ><label for=\"sk-estimator-id-3\" class=\"sk-toggleable__label sk-toggleable__label-arrow\">estimator: MLPClassifier</label><div class=\"sk-toggleable__content\"><pre>MLPClassifier(hidden_layer_sizes=(100, 60, 80), max_iter=20)</pre></div></div></div><div class=\"sk-serial\"><div class=\"sk-item\"><div class=\"sk-estimator sk-toggleable\"><input class=\"sk-toggleable__control sk-hidden--visually\" id=\"sk-estimator-id-4\" type=\"checkbox\" ><label for=\"sk-estimator-id-4\" class=\"sk-toggleable__label sk-toggleable__label-arrow\">MLPClassifier</label><div class=\"sk-toggleable__content\"><pre>MLPClassifier(hidden_layer_sizes=(100, 60, 80), max_iter=20)</pre></div></div></div></div></div></div></div></div></div></div>"
      ],
      "text/plain": [
       "GridSearchCV(cv=2,\n",
       "             estimator=MLPClassifier(hidden_layer_sizes=(100, 60, 80),\n",
       "                                     max_iter=20),\n",
       "             param_grid={'activation': ['relu', 'logistic', 'tanh'],\n",
       "                         'hidden_layer_sizes': [(80, 20, 60), (50, 30, 20),\n",
       "                                                (100, 60, 80), (100, 60, 40)],\n",
       "                         'learning_rate': ['adaptive', 'constant',\n",
       "                                           'invscaling'],\n",
       "                         'max_iter': [10, 20, 30]},\n",
       "             scoring='accuracy', verbose=3)"
      ]
     },
     "execution_count": 17,
     "metadata": {},
     "output_type": "execute_result"
    }
   ],
   "source": [
    "grid.fit(X_train, y_train)"
   ]
  },
  {
   "cell_type": "code",
   "execution_count": 18,
   "id": "312d5576",
   "metadata": {},
   "outputs": [
    {
     "data": {
      "text/plain": [
       "{'activation': 'relu',\n",
       " 'hidden_layer_sizes': (80, 20, 60),\n",
       " 'learning_rate': 'adaptive',\n",
       " 'max_iter': 10}"
      ]
     },
     "execution_count": 18,
     "metadata": {},
     "output_type": "execute_result"
    }
   ],
   "source": [
    "grid.best_params_"
   ]
  },
  {
   "cell_type": "code",
   "execution_count": 19,
   "id": "09305a64",
   "metadata": {},
   "outputs": [],
   "source": [
    "mreza = MLPClassifier(activation = 'tanh', learning_rate = 'constant', hidden_layer_sizes=(50,30,20), max_iter=20)"
   ]
  },
  {
   "cell_type": "code",
   "execution_count": 20,
   "id": "22891188",
   "metadata": {},
   "outputs": [
    {
     "name": "stderr",
     "output_type": "stream",
     "text": [
      "/home/dzzz/.local/lib/python3.10/site-packages/sklearn/neural_network/_multilayer_perceptron.py:686: ConvergenceWarning: Stochastic Optimizer: Maximum iterations (20) reached and the optimization hasn't converged yet.\n",
      "  warnings.warn(\n"
     ]
    },
    {
     "data": {
      "text/html": [
       "<style>#sk-container-id-3 {color: black;background-color: white;}#sk-container-id-3 pre{padding: 0;}#sk-container-id-3 div.sk-toggleable {background-color: white;}#sk-container-id-3 label.sk-toggleable__label {cursor: pointer;display: block;width: 100%;margin-bottom: 0;padding: 0.3em;box-sizing: border-box;text-align: center;}#sk-container-id-3 label.sk-toggleable__label-arrow:before {content: \"▸\";float: left;margin-right: 0.25em;color: #696969;}#sk-container-id-3 label.sk-toggleable__label-arrow:hover:before {color: black;}#sk-container-id-3 div.sk-estimator:hover label.sk-toggleable__label-arrow:before {color: black;}#sk-container-id-3 div.sk-toggleable__content {max-height: 0;max-width: 0;overflow: hidden;text-align: left;background-color: #f0f8ff;}#sk-container-id-3 div.sk-toggleable__content pre {margin: 0.2em;color: black;border-radius: 0.25em;background-color: #f0f8ff;}#sk-container-id-3 input.sk-toggleable__control:checked~div.sk-toggleable__content {max-height: 200px;max-width: 100%;overflow: auto;}#sk-container-id-3 input.sk-toggleable__control:checked~label.sk-toggleable__label-arrow:before {content: \"▾\";}#sk-container-id-3 div.sk-estimator input.sk-toggleable__control:checked~label.sk-toggleable__label {background-color: #d4ebff;}#sk-container-id-3 div.sk-label input.sk-toggleable__control:checked~label.sk-toggleable__label {background-color: #d4ebff;}#sk-container-id-3 input.sk-hidden--visually {border: 0;clip: rect(1px 1px 1px 1px);clip: rect(1px, 1px, 1px, 1px);height: 1px;margin: -1px;overflow: hidden;padding: 0;position: absolute;width: 1px;}#sk-container-id-3 div.sk-estimator {font-family: monospace;background-color: #f0f8ff;border: 1px dotted black;border-radius: 0.25em;box-sizing: border-box;margin-bottom: 0.5em;}#sk-container-id-3 div.sk-estimator:hover {background-color: #d4ebff;}#sk-container-id-3 div.sk-parallel-item::after {content: \"\";width: 100%;border-bottom: 1px solid gray;flex-grow: 1;}#sk-container-id-3 div.sk-label:hover label.sk-toggleable__label {background-color: #d4ebff;}#sk-container-id-3 div.sk-serial::before {content: \"\";position: absolute;border-left: 1px solid gray;box-sizing: border-box;top: 0;bottom: 0;left: 50%;z-index: 0;}#sk-container-id-3 div.sk-serial {display: flex;flex-direction: column;align-items: center;background-color: white;padding-right: 0.2em;padding-left: 0.2em;position: relative;}#sk-container-id-3 div.sk-item {position: relative;z-index: 1;}#sk-container-id-3 div.sk-parallel {display: flex;align-items: stretch;justify-content: center;background-color: white;position: relative;}#sk-container-id-3 div.sk-item::before, #sk-container-id-3 div.sk-parallel-item::before {content: \"\";position: absolute;border-left: 1px solid gray;box-sizing: border-box;top: 0;bottom: 0;left: 50%;z-index: -1;}#sk-container-id-3 div.sk-parallel-item {display: flex;flex-direction: column;z-index: 1;position: relative;background-color: white;}#sk-container-id-3 div.sk-parallel-item:first-child::after {align-self: flex-end;width: 50%;}#sk-container-id-3 div.sk-parallel-item:last-child::after {align-self: flex-start;width: 50%;}#sk-container-id-3 div.sk-parallel-item:only-child::after {width: 0;}#sk-container-id-3 div.sk-dashed-wrapped {border: 1px dashed gray;margin: 0 0.4em 0.5em 0.4em;box-sizing: border-box;padding-bottom: 0.4em;background-color: white;}#sk-container-id-3 div.sk-label label {font-family: monospace;font-weight: bold;display: inline-block;line-height: 1.2em;}#sk-container-id-3 div.sk-label-container {text-align: center;}#sk-container-id-3 div.sk-container {/* jupyter's `normalize.less` sets `[hidden] { display: none; }` but bootstrap.min.css set `[hidden] { display: none !important; }` so we also need the `!important` here to be able to override the default hidden behavior on the sphinx rendered scikit-learn.org. See: https://github.com/scikit-learn/scikit-learn/issues/21755 */display: inline-block !important;position: relative;}#sk-container-id-3 div.sk-text-repr-fallback {display: none;}</style><div id=\"sk-container-id-3\" class=\"sk-top-container\"><div class=\"sk-text-repr-fallback\"><pre>MLPClassifier(activation=&#x27;tanh&#x27;, hidden_layer_sizes=(50, 30, 20), max_iter=20)</pre><b>In a Jupyter environment, please rerun this cell to show the HTML representation or trust the notebook. <br />On GitHub, the HTML representation is unable to render, please try loading this page with nbviewer.org.</b></div><div class=\"sk-container\" hidden><div class=\"sk-item\"><div class=\"sk-estimator sk-toggleable\"><input class=\"sk-toggleable__control sk-hidden--visually\" id=\"sk-estimator-id-5\" type=\"checkbox\" checked><label for=\"sk-estimator-id-5\" class=\"sk-toggleable__label sk-toggleable__label-arrow\">MLPClassifier</label><div class=\"sk-toggleable__content\"><pre>MLPClassifier(activation=&#x27;tanh&#x27;, hidden_layer_sizes=(50, 30, 20), max_iter=20)</pre></div></div></div></div></div>"
      ],
      "text/plain": [
       "MLPClassifier(activation='tanh', hidden_layer_sizes=(50, 30, 20), max_iter=20)"
      ]
     },
     "execution_count": 20,
     "metadata": {},
     "output_type": "execute_result"
    }
   ],
   "source": [
    "mreza.fit(X_train, y_train)"
   ]
  },
  {
   "cell_type": "code",
   "execution_count": 21,
   "id": "4d2a0ac1",
   "metadata": {},
   "outputs": [
    {
     "name": "stdout",
     "output_type": "stream",
     "text": [
      "\u001b[32mClassification report for model MLPClassifier on training data\u001b[0m\n",
      "---------------------------------------------------------------------------------\n",
      "                   pre       rec       spe        f1       geo       iba       sup\n",
      "\n",
      "        CL0       0.85      1.00      0.00      0.92      0.00      0.00       482\n",
      "        CL1       1.00      0.00      1.00      0.00      0.00      0.00        20\n",
      "        CL2       1.00      0.00      1.00      0.00      0.00      0.00        28\n",
      "        CL3       1.00      0.00      1.00      0.00      0.00      0.00        20\n",
      "        CL4       1.00      0.00      1.00      0.00      0.00      0.00         7\n",
      "        CL5       1.00      0.00      1.00      0.00      0.00      0.00         5\n",
      "        CL6       1.00      0.00      1.00      0.00      0.00      0.00         4\n",
      "\n",
      "avg / total       0.87      0.85      0.15      0.78      0.00      0.00       566\n",
      "\n",
      "---------------------------------------------------------------------------------\n",
      "\u001b[32mConfusion matrix for model MLPClassifier on training data \u001b[0m\n",
      "---------------------------------------------------------------------------------\n",
      "     CL0  CL1  CL2  CL3  CL4  CL5  CL6\n",
      "CL0  482    0    0    0    0    0    0\n",
      "CL1   20    0    0    0    0    0    0\n",
      "CL2   28    0    0    0    0    0    0\n",
      "CL3   20    0    0    0    0    0    0\n",
      "CL4    7    0    0    0    0    0    0\n",
      "CL5    5    0    0    0    0    0    0\n",
      "CL6    4    0    0    0    0    0    0\n",
      "---------------------------------------------------------------------------------\n"
     ]
    }
   ],
   "source": [
    "report_imbalanced(mreza, X_test, y_test)"
   ]
  },
  {
   "cell_type": "markdown",
   "id": "1dd2e3ca",
   "metadata": {},
   "source": [
    "## Klasifikacija svih klasa"
   ]
  },
  {
   "cell_type": "code",
   "execution_count": 22,
   "id": "a0797f60",
   "metadata": {},
   "outputs": [
    {
     "name": "stderr",
     "output_type": "stream",
     "text": [
      "/home/dzzz/.local/lib/python3.10/site-packages/sklearn/neural_network/_multilayer_perceptron.py:686: ConvergenceWarning: Stochastic Optimizer: Maximum iterations (20) reached and the optimization hasn't converged yet.\n",
      "  warnings.warn(\n",
      "/home/dzzz/.local/lib/python3.10/site-packages/sklearn/metrics/_classification.py:1344: UndefinedMetricWarning: Precision and F-score are ill-defined and being set to 0.0 in labels with no predicted samples. Use `zero_division` parameter to control this behavior.\n",
      "  _warn_prf(average, modifier, msg_start, len(result))\n",
      "/home/dzzz/.local/lib/python3.10/site-packages/sklearn/metrics/_classification.py:1344: UndefinedMetricWarning: Precision and F-score are ill-defined and being set to 0.0 in labels with no predicted samples. Use `zero_division` parameter to control this behavior.\n",
      "  _warn_prf(average, modifier, msg_start, len(result))\n",
      "/home/dzzz/.local/lib/python3.10/site-packages/sklearn/metrics/_classification.py:1344: UndefinedMetricWarning: Precision and F-score are ill-defined and being set to 0.0 in labels with no predicted samples. Use `zero_division` parameter to control this behavior.\n",
      "  _warn_prf(average, modifier, msg_start, len(result))\n"
     ]
    },
    {
     "name": "stdout",
     "output_type": "stream",
     "text": [
      "Amphet\n",
      "\u001b[1m\u001b[34m\tKlasifikacioni izveštaj za model MLPClassifier nad test podacima\u001b[0m\n",
      "\u001b[1m----------------------------------------------------------------------------------------------\u001b[0m\n",
      "\u001b[2m              precision    recall  f1-score   support\n",
      "\n",
      "         CL0       0.56      0.92      0.69       295\n",
      "         CL1       0.00      0.00      0.00        77\n",
      "         CL2       0.00      0.00      0.00        66\n",
      "         CL3       0.29      0.37      0.32        60\n",
      "         CL4       0.00      0.00      0.00        23\n",
      "         CL5       0.00      0.00      0.00        19\n",
      "         CL6       0.33      0.04      0.07        26\n",
      "\n",
      "    accuracy                           0.52       566\n",
      "   macro avg       0.17      0.19      0.15       566\n",
      "weighted avg       0.34      0.52      0.40       566\n",
      "\u001b[0m\n",
      "\u001b[1m----------------------------------------------------------------------------------------------\u001b[0m\n"
     ]
    },
    {
     "name": "stderr",
     "output_type": "stream",
     "text": [
      "/home/dzzz/.local/lib/python3.10/site-packages/sklearn/neural_network/_multilayer_perceptron.py:686: ConvergenceWarning: Stochastic Optimizer: Maximum iterations (20) reached and the optimization hasn't converged yet.\n",
      "  warnings.warn(\n",
      "/home/dzzz/.local/lib/python3.10/site-packages/sklearn/metrics/_classification.py:1344: UndefinedMetricWarning: Precision and F-score are ill-defined and being set to 0.0 in labels with no predicted samples. Use `zero_division` parameter to control this behavior.\n",
      "  _warn_prf(average, modifier, msg_start, len(result))\n",
      "/home/dzzz/.local/lib/python3.10/site-packages/sklearn/metrics/_classification.py:1344: UndefinedMetricWarning: Precision and F-score are ill-defined and being set to 0.0 in labels with no predicted samples. Use `zero_division` parameter to control this behavior.\n",
      "  _warn_prf(average, modifier, msg_start, len(result))\n",
      "/home/dzzz/.local/lib/python3.10/site-packages/sklearn/metrics/_classification.py:1344: UndefinedMetricWarning: Precision and F-score are ill-defined and being set to 0.0 in labels with no predicted samples. Use `zero_division` parameter to control this behavior.\n",
      "  _warn_prf(average, modifier, msg_start, len(result))\n"
     ]
    },
    {
     "name": "stdout",
     "output_type": "stream",
     "text": [
      "Amyl\n",
      "\u001b[1m\u001b[34m\tKlasifikacioni izveštaj za model MLPClassifier nad test podacima\u001b[0m\n",
      "\u001b[1m----------------------------------------------------------------------------------------------\u001b[0m\n",
      "\u001b[2m              precision    recall  f1-score   support\n",
      "\n",
      "         CL0       0.70      1.00      0.82       391\n",
      "         CL1       0.00      0.00      0.00        67\n",
      "         CL2       1.00      0.06      0.11        66\n",
      "         CL3       0.00      0.00      0.00        28\n",
      "         CL4       0.00      0.00      0.00         9\n",
      "         CL5       0.00      0.00      0.00         4\n",
      "         CL6       0.00      0.00      0.00         1\n",
      "\n",
      "    accuracy                           0.70       566\n",
      "   macro avg       0.24      0.15      0.13       566\n",
      "weighted avg       0.60      0.70      0.58       566\n",
      "\u001b[0m\n",
      "\u001b[1m----------------------------------------------------------------------------------------------\u001b[0m\n"
     ]
    },
    {
     "name": "stderr",
     "output_type": "stream",
     "text": [
      "/home/dzzz/.local/lib/python3.10/site-packages/sklearn/neural_network/_multilayer_perceptron.py:686: ConvergenceWarning: Stochastic Optimizer: Maximum iterations (20) reached and the optimization hasn't converged yet.\n",
      "  warnings.warn(\n",
      "/home/dzzz/.local/lib/python3.10/site-packages/sklearn/metrics/_classification.py:1344: UndefinedMetricWarning: Precision and F-score are ill-defined and being set to 0.0 in labels with no predicted samples. Use `zero_division` parameter to control this behavior.\n",
      "  _warn_prf(average, modifier, msg_start, len(result))\n",
      "/home/dzzz/.local/lib/python3.10/site-packages/sklearn/metrics/_classification.py:1344: UndefinedMetricWarning: Precision and F-score are ill-defined and being set to 0.0 in labels with no predicted samples. Use `zero_division` parameter to control this behavior.\n",
      "  _warn_prf(average, modifier, msg_start, len(result))\n",
      "/home/dzzz/.local/lib/python3.10/site-packages/sklearn/metrics/_classification.py:1344: UndefinedMetricWarning: Precision and F-score are ill-defined and being set to 0.0 in labels with no predicted samples. Use `zero_division` parameter to control this behavior.\n",
      "  _warn_prf(average, modifier, msg_start, len(result))\n"
     ]
    },
    {
     "name": "stdout",
     "output_type": "stream",
     "text": [
      "Benzos\n",
      "\u001b[1m\u001b[34m\tKlasifikacioni izveštaj za model MLPClassifier nad test podacima\u001b[0m\n",
      "\u001b[1m----------------------------------------------------------------------------------------------\u001b[0m\n",
      "\u001b[2m              precision    recall  f1-score   support\n",
      "\n",
      "         CL0       0.58      0.96      0.72       307\n",
      "         CL1       0.00      0.00      0.00        29\n",
      "         CL2       0.11      0.02      0.03        57\n",
      "         CL3       0.18      0.09      0.12        76\n",
      "         CL4       0.00      0.00      0.00        43\n",
      "         CL5       0.00      0.00      0.00        23\n",
      "         CL6       0.00      0.00      0.00        31\n",
      "\n",
      "    accuracy                           0.53       566\n",
      "   macro avg       0.12      0.15      0.12       566\n",
      "weighted avg       0.35      0.53      0.41       566\n",
      "\u001b[0m\n",
      "\u001b[1m----------------------------------------------------------------------------------------------\u001b[0m\n"
     ]
    },
    {
     "name": "stderr",
     "output_type": "stream",
     "text": [
      "/home/dzzz/.local/lib/python3.10/site-packages/sklearn/neural_network/_multilayer_perceptron.py:686: ConvergenceWarning: Stochastic Optimizer: Maximum iterations (20) reached and the optimization hasn't converged yet.\n",
      "  warnings.warn(\n",
      "/home/dzzz/.local/lib/python3.10/site-packages/sklearn/metrics/_classification.py:1344: UndefinedMetricWarning: Precision and F-score are ill-defined and being set to 0.0 in labels with no predicted samples. Use `zero_division` parameter to control this behavior.\n",
      "  _warn_prf(average, modifier, msg_start, len(result))\n",
      "/home/dzzz/.local/lib/python3.10/site-packages/sklearn/metrics/_classification.py:1344: UndefinedMetricWarning: Precision and F-score are ill-defined and being set to 0.0 in labels with no predicted samples. Use `zero_division` parameter to control this behavior.\n",
      "  _warn_prf(average, modifier, msg_start, len(result))\n",
      "/home/dzzz/.local/lib/python3.10/site-packages/sklearn/metrics/_classification.py:1344: UndefinedMetricWarning: Precision and F-score are ill-defined and being set to 0.0 in labels with no predicted samples. Use `zero_division` parameter to control this behavior.\n",
      "  _warn_prf(average, modifier, msg_start, len(result))\n"
     ]
    },
    {
     "name": "stdout",
     "output_type": "stream",
     "text": [
      "Canabis\n",
      "\u001b[1m\u001b[34m\tKlasifikacioni izveštaj za model MLPClassifier nad test podacima\u001b[0m\n",
      "\u001b[1m----------------------------------------------------------------------------------------------\u001b[0m\n",
      "\u001b[2m              precision    recall  f1-score   support\n",
      "\n",
      "         CL0       0.46      0.83      0.59       123\n",
      "         CL1       0.09      0.02      0.03        50\n",
      "         CL2       0.09      0.04      0.05        76\n",
      "         CL3       1.00      0.01      0.02        79\n",
      "         CL4       0.00      0.00      0.00        43\n",
      "         CL5       0.00      0.00      0.00        48\n",
      "         CL6       0.41      0.83      0.55       147\n",
      "\n",
      "    accuracy                           0.40       566\n",
      "   macro avg       0.29      0.25      0.18       566\n",
      "weighted avg       0.37      0.40      0.28       566\n",
      "\u001b[0m\n",
      "\u001b[1m----------------------------------------------------------------------------------------------\u001b[0m\n"
     ]
    },
    {
     "name": "stderr",
     "output_type": "stream",
     "text": [
      "/home/dzzz/.local/lib/python3.10/site-packages/sklearn/neural_network/_multilayer_perceptron.py:686: ConvergenceWarning: Stochastic Optimizer: Maximum iterations (20) reached and the optimization hasn't converged yet.\n",
      "  warnings.warn(\n",
      "/home/dzzz/.local/lib/python3.10/site-packages/sklearn/metrics/_classification.py:1344: UndefinedMetricWarning: Precision and F-score are ill-defined and being set to 0.0 in labels with no predicted samples. Use `zero_division` parameter to control this behavior.\n",
      "  _warn_prf(average, modifier, msg_start, len(result))\n",
      "/home/dzzz/.local/lib/python3.10/site-packages/sklearn/metrics/_classification.py:1344: UndefinedMetricWarning: Precision and F-score are ill-defined and being set to 0.0 in labels with no predicted samples. Use `zero_division` parameter to control this behavior.\n",
      "  _warn_prf(average, modifier, msg_start, len(result))\n",
      "/home/dzzz/.local/lib/python3.10/site-packages/sklearn/metrics/_classification.py:1344: UndefinedMetricWarning: Precision and F-score are ill-defined and being set to 0.0 in labels with no predicted samples. Use `zero_division` parameter to control this behavior.\n",
      "  _warn_prf(average, modifier, msg_start, len(result))\n"
     ]
    },
    {
     "name": "stdout",
     "output_type": "stream",
     "text": [
      "Choc\n",
      "\u001b[1m\u001b[34m\tKlasifikacioni izveštaj za model MLPClassifier nad test podacima\u001b[0m\n",
      "\u001b[1m----------------------------------------------------------------------------------------------\u001b[0m\n",
      "\u001b[2m              precision    recall  f1-score   support\n",
      "\n",
      "         CL0       0.00      0.00      0.00         6\n",
      "         CL1       0.00      0.00      0.00         1\n",
      "         CL2       0.00      0.00      0.00         4\n",
      "         CL3       0.00      0.00      0.00        15\n",
      "         CL4       0.00      0.00      0.00        80\n",
      "         CL5       0.32      0.14      0.20       220\n",
      "         CL6       0.43      0.84      0.57       240\n",
      "\n",
      "    accuracy                           0.41       566\n",
      "   macro avg       0.11      0.14      0.11       566\n",
      "weighted avg       0.31      0.41      0.32       566\n",
      "\u001b[0m\n",
      "\u001b[1m----------------------------------------------------------------------------------------------\u001b[0m\n"
     ]
    },
    {
     "name": "stderr",
     "output_type": "stream",
     "text": [
      "/home/dzzz/.local/lib/python3.10/site-packages/sklearn/neural_network/_multilayer_perceptron.py:686: ConvergenceWarning: Stochastic Optimizer: Maximum iterations (20) reached and the optimization hasn't converged yet.\n",
      "  warnings.warn(\n",
      "/home/dzzz/.local/lib/python3.10/site-packages/sklearn/metrics/_classification.py:1344: UndefinedMetricWarning: Precision and F-score are ill-defined and being set to 0.0 in labels with no predicted samples. Use `zero_division` parameter to control this behavior.\n",
      "  _warn_prf(average, modifier, msg_start, len(result))\n",
      "/home/dzzz/.local/lib/python3.10/site-packages/sklearn/metrics/_classification.py:1344: UndefinedMetricWarning: Precision and F-score are ill-defined and being set to 0.0 in labels with no predicted samples. Use `zero_division` parameter to control this behavior.\n",
      "  _warn_prf(average, modifier, msg_start, len(result))\n",
      "/home/dzzz/.local/lib/python3.10/site-packages/sklearn/metrics/_classification.py:1344: UndefinedMetricWarning: Precision and F-score are ill-defined and being set to 0.0 in labels with no predicted samples. Use `zero_division` parameter to control this behavior.\n",
      "  _warn_prf(average, modifier, msg_start, len(result))\n"
     ]
    },
    {
     "name": "stdout",
     "output_type": "stream",
     "text": [
      "Coke\n",
      "\u001b[1m\u001b[34m\tKlasifikacioni izveštaj za model MLPClassifier nad test podacima\u001b[0m\n",
      "\u001b[1m----------------------------------------------------------------------------------------------\u001b[0m\n",
      "\u001b[2m              precision    recall  f1-score   support\n",
      "\n",
      "         CL0       0.58      0.94      0.72       311\n",
      "         CL1       0.00      0.00      0.00        51\n",
      "         CL2       0.00      0.00      0.00        72\n",
      "         CL3       0.28      0.25      0.27        75\n",
      "         CL4       0.00      0.00      0.00        37\n",
      "         CL5       0.00      0.00      0.00        13\n",
      "         CL6       0.00      0.00      0.00         7\n",
      "\n",
      "    accuracy                           0.55       566\n",
      "   macro avg       0.12      0.17      0.14       566\n",
      "weighted avg       0.36      0.55      0.43       566\n",
      "\u001b[0m\n",
      "\u001b[1m----------------------------------------------------------------------------------------------\u001b[0m\n"
     ]
    },
    {
     "name": "stderr",
     "output_type": "stream",
     "text": [
      "/home/dzzz/.local/lib/python3.10/site-packages/sklearn/neural_network/_multilayer_perceptron.py:686: ConvergenceWarning: Stochastic Optimizer: Maximum iterations (20) reached and the optimization hasn't converged yet.\n",
      "  warnings.warn(\n",
      "/home/dzzz/.local/lib/python3.10/site-packages/sklearn/metrics/_classification.py:1344: UndefinedMetricWarning: Precision and F-score are ill-defined and being set to 0.0 in labels with no predicted samples. Use `zero_division` parameter to control this behavior.\n",
      "  _warn_prf(average, modifier, msg_start, len(result))\n",
      "/home/dzzz/.local/lib/python3.10/site-packages/sklearn/metrics/_classification.py:1344: UndefinedMetricWarning: Precision and F-score are ill-defined and being set to 0.0 in labels with no predicted samples. Use `zero_division` parameter to control this behavior.\n",
      "  _warn_prf(average, modifier, msg_start, len(result))\n",
      "/home/dzzz/.local/lib/python3.10/site-packages/sklearn/metrics/_classification.py:1344: UndefinedMetricWarning: Precision and F-score are ill-defined and being set to 0.0 in labels with no predicted samples. Use `zero_division` parameter to control this behavior.\n",
      "  _warn_prf(average, modifier, msg_start, len(result))\n"
     ]
    },
    {
     "name": "stdout",
     "output_type": "stream",
     "text": [
      "Crack\n",
      "\u001b[1m\u001b[34m\tKlasifikacioni izveštaj za model MLPClassifier nad test podacima\u001b[0m\n",
      "\u001b[1m----------------------------------------------------------------------------------------------\u001b[0m\n",
      "\u001b[2m              precision    recall  f1-score   support\n",
      "\n",
      "         CL0       0.87      1.00      0.93       492\n",
      "         CL1       0.00      0.00      0.00        14\n",
      "         CL2       0.00      0.00      0.00        38\n",
      "         CL3       0.00      0.00      0.00        18\n",
      "         CL4       0.00      0.00      0.00         2\n",
      "         CL5       0.00      0.00      0.00         1\n",
      "         CL6       0.00      0.00      0.00         1\n",
      "\n",
      "    accuracy                           0.87       566\n",
      "   macro avg       0.12      0.14      0.13       566\n",
      "weighted avg       0.76      0.87      0.81       566\n",
      "\u001b[0m\n",
      "\u001b[1m----------------------------------------------------------------------------------------------\u001b[0m\n"
     ]
    },
    {
     "name": "stderr",
     "output_type": "stream",
     "text": [
      "/home/dzzz/.local/lib/python3.10/site-packages/sklearn/neural_network/_multilayer_perceptron.py:686: ConvergenceWarning: Stochastic Optimizer: Maximum iterations (20) reached and the optimization hasn't converged yet.\n",
      "  warnings.warn(\n",
      "/home/dzzz/.local/lib/python3.10/site-packages/sklearn/metrics/_classification.py:1344: UndefinedMetricWarning: Precision and F-score are ill-defined and being set to 0.0 in labels with no predicted samples. Use `zero_division` parameter to control this behavior.\n",
      "  _warn_prf(average, modifier, msg_start, len(result))\n",
      "/home/dzzz/.local/lib/python3.10/site-packages/sklearn/metrics/_classification.py:1344: UndefinedMetricWarning: Precision and F-score are ill-defined and being set to 0.0 in labels with no predicted samples. Use `zero_division` parameter to control this behavior.\n",
      "  _warn_prf(average, modifier, msg_start, len(result))\n",
      "/home/dzzz/.local/lib/python3.10/site-packages/sklearn/metrics/_classification.py:1344: UndefinedMetricWarning: Precision and F-score are ill-defined and being set to 0.0 in labels with no predicted samples. Use `zero_division` parameter to control this behavior.\n",
      "  _warn_prf(average, modifier, msg_start, len(result))\n"
     ]
    },
    {
     "name": "stdout",
     "output_type": "stream",
     "text": [
      "Ecstasy\n",
      "\u001b[1m\u001b[34m\tKlasifikacioni izveštaj za model MLPClassifier nad test podacima\u001b[0m\n",
      "\u001b[1m----------------------------------------------------------------------------------------------\u001b[0m\n",
      "\u001b[2m              precision    recall  f1-score   support\n",
      "\n",
      "         CL0       0.61      0.92      0.73       307\n",
      "         CL1       0.00      0.00      0.00        34\n",
      "         CL2       0.00      0.00      0.00        70\n",
      "         CL3       0.32      0.38      0.35        88\n",
      "         CL4       1.00      0.02      0.04        45\n",
      "         CL5       0.00      0.00      0.00        16\n",
      "         CL6       0.00      0.00      0.00         6\n",
      "\n",
      "    accuracy                           0.56       566\n",
      "   macro avg       0.28      0.19      0.16       566\n",
      "weighted avg       0.46      0.56      0.46       566\n",
      "\u001b[0m\n",
      "\u001b[1m----------------------------------------------------------------------------------------------\u001b[0m\n"
     ]
    },
    {
     "name": "stderr",
     "output_type": "stream",
     "text": [
      "/home/dzzz/.local/lib/python3.10/site-packages/sklearn/neural_network/_multilayer_perceptron.py:686: ConvergenceWarning: Stochastic Optimizer: Maximum iterations (20) reached and the optimization hasn't converged yet.\n",
      "  warnings.warn(\n",
      "/home/dzzz/.local/lib/python3.10/site-packages/sklearn/metrics/_classification.py:1344: UndefinedMetricWarning: Precision and F-score are ill-defined and being set to 0.0 in labels with no predicted samples. Use `zero_division` parameter to control this behavior.\n",
      "  _warn_prf(average, modifier, msg_start, len(result))\n",
      "/home/dzzz/.local/lib/python3.10/site-packages/sklearn/metrics/_classification.py:1344: UndefinedMetricWarning: Precision and F-score are ill-defined and being set to 0.0 in labels with no predicted samples. Use `zero_division` parameter to control this behavior.\n",
      "  _warn_prf(average, modifier, msg_start, len(result))\n",
      "/home/dzzz/.local/lib/python3.10/site-packages/sklearn/metrics/_classification.py:1344: UndefinedMetricWarning: Precision and F-score are ill-defined and being set to 0.0 in labels with no predicted samples. Use `zero_division` parameter to control this behavior.\n",
      "  _warn_prf(average, modifier, msg_start, len(result))\n"
     ]
    },
    {
     "name": "stdout",
     "output_type": "stream",
     "text": [
      "Heroin\n",
      "\u001b[1m\u001b[34m\tKlasifikacioni izveštaj za model MLPClassifier nad test podacima\u001b[0m\n",
      "\u001b[1m----------------------------------------------------------------------------------------------\u001b[0m\n",
      "\u001b[2m              precision    recall  f1-score   support\n",
      "\n",
      "         CL0       0.85      1.00      0.92       481\n",
      "         CL1       0.00      0.00      0.00        15\n",
      "         CL2       0.00      0.00      0.00        30\n",
      "         CL3       0.00      0.00      0.00        24\n",
      "         CL4       0.00      0.00      0.00         9\n",
      "         CL5       0.00      0.00      0.00         4\n",
      "         CL6       0.00      0.00      0.00         3\n",
      "\n",
      "    accuracy                           0.85       566\n",
      "   macro avg       0.12      0.14      0.13       566\n",
      "weighted avg       0.72      0.85      0.78       566\n",
      "\u001b[0m\n",
      "\u001b[1m----------------------------------------------------------------------------------------------\u001b[0m\n"
     ]
    },
    {
     "name": "stderr",
     "output_type": "stream",
     "text": [
      "/home/dzzz/.local/lib/python3.10/site-packages/sklearn/neural_network/_multilayer_perceptron.py:686: ConvergenceWarning: Stochastic Optimizer: Maximum iterations (20) reached and the optimization hasn't converged yet.\n",
      "  warnings.warn(\n",
      "/home/dzzz/.local/lib/python3.10/site-packages/sklearn/metrics/_classification.py:1344: UndefinedMetricWarning: Precision and F-score are ill-defined and being set to 0.0 in labels with no predicted samples. Use `zero_division` parameter to control this behavior.\n",
      "  _warn_prf(average, modifier, msg_start, len(result))\n",
      "/home/dzzz/.local/lib/python3.10/site-packages/sklearn/metrics/_classification.py:1344: UndefinedMetricWarning: Precision and F-score are ill-defined and being set to 0.0 in labels with no predicted samples. Use `zero_division` parameter to control this behavior.\n",
      "  _warn_prf(average, modifier, msg_start, len(result))\n",
      "/home/dzzz/.local/lib/python3.10/site-packages/sklearn/metrics/_classification.py:1344: UndefinedMetricWarning: Precision and F-score are ill-defined and being set to 0.0 in labels with no predicted samples. Use `zero_division` parameter to control this behavior.\n",
      "  _warn_prf(average, modifier, msg_start, len(result))\n"
     ]
    },
    {
     "name": "stdout",
     "output_type": "stream",
     "text": [
      "Ketamin\n",
      "\u001b[1m\u001b[34m\tKlasifikacioni izveštaj za model MLPClassifier nad test podacima\u001b[0m\n",
      "\u001b[1m----------------------------------------------------------------------------------------------\u001b[0m\n",
      "\u001b[2m              precision    recall  f1-score   support\n",
      "\n",
      "         CL0       0.79      1.00      0.88       448\n",
      "         CL1       0.00      0.00      0.00        12\n",
      "         CL2       0.00      0.00      0.00        36\n",
      "         CL3       0.00      0.00      0.00        42\n",
      "         CL4       0.00      0.00      0.00        11\n",
      "         CL5       0.00      0.00      0.00        16\n",
      "         CL6       0.00      0.00      0.00         1\n",
      "\n",
      "    accuracy                           0.79       566\n",
      "   macro avg       0.11      0.14      0.13       566\n",
      "weighted avg       0.63      0.79      0.70       566\n",
      "\u001b[0m\n",
      "\u001b[1m----------------------------------------------------------------------------------------------\u001b[0m\n"
     ]
    },
    {
     "name": "stderr",
     "output_type": "stream",
     "text": [
      "/home/dzzz/.local/lib/python3.10/site-packages/sklearn/neural_network/_multilayer_perceptron.py:686: ConvergenceWarning: Stochastic Optimizer: Maximum iterations (20) reached and the optimization hasn't converged yet.\n",
      "  warnings.warn(\n",
      "/home/dzzz/.local/lib/python3.10/site-packages/sklearn/metrics/_classification.py:1344: UndefinedMetricWarning: Precision and F-score are ill-defined and being set to 0.0 in labels with no predicted samples. Use `zero_division` parameter to control this behavior.\n",
      "  _warn_prf(average, modifier, msg_start, len(result))\n",
      "/home/dzzz/.local/lib/python3.10/site-packages/sklearn/metrics/_classification.py:1344: UndefinedMetricWarning: Precision and F-score are ill-defined and being set to 0.0 in labels with no predicted samples. Use `zero_division` parameter to control this behavior.\n",
      "  _warn_prf(average, modifier, msg_start, len(result))\n",
      "/home/dzzz/.local/lib/python3.10/site-packages/sklearn/metrics/_classification.py:1344: UndefinedMetricWarning: Precision and F-score are ill-defined and being set to 0.0 in labels with no predicted samples. Use `zero_division` parameter to control this behavior.\n",
      "  _warn_prf(average, modifier, msg_start, len(result))\n"
     ]
    },
    {
     "name": "stdout",
     "output_type": "stream",
     "text": [
      "LegalH\n",
      "\u001b[1m\u001b[34m\tKlasifikacioni izveštaj za model MLPClassifier nad test podacima\u001b[0m\n",
      "\u001b[1m----------------------------------------------------------------------------------------------\u001b[0m\n",
      "\u001b[2m              precision    recall  f1-score   support\n",
      "\n",
      "         CL0       0.66      0.93      0.77       314\n",
      "         CL1       0.00      0.00      0.00         8\n",
      "         CL2       0.00      0.00      0.00        63\n",
      "         CL3       0.35      0.42      0.39       104\n",
      "         CL4       0.00      0.00      0.00        35\n",
      "         CL5       0.00      0.00      0.00        24\n",
      "         CL6       0.00      0.00      0.00        18\n",
      "\n",
      "    accuracy                           0.59       566\n",
      "   macro avg       0.14      0.19      0.17       566\n",
      "weighted avg       0.43      0.59      0.50       566\n",
      "\u001b[0m\n",
      "\u001b[1m----------------------------------------------------------------------------------------------\u001b[0m\n"
     ]
    },
    {
     "name": "stderr",
     "output_type": "stream",
     "text": [
      "/home/dzzz/.local/lib/python3.10/site-packages/sklearn/neural_network/_multilayer_perceptron.py:686: ConvergenceWarning: Stochastic Optimizer: Maximum iterations (20) reached and the optimization hasn't converged yet.\n",
      "  warnings.warn(\n",
      "/home/dzzz/.local/lib/python3.10/site-packages/sklearn/metrics/_classification.py:1344: UndefinedMetricWarning: Precision and F-score are ill-defined and being set to 0.0 in labels with no predicted samples. Use `zero_division` parameter to control this behavior.\n",
      "  _warn_prf(average, modifier, msg_start, len(result))\n",
      "/home/dzzz/.local/lib/python3.10/site-packages/sklearn/metrics/_classification.py:1344: UndefinedMetricWarning: Precision and F-score are ill-defined and being set to 0.0 in labels with no predicted samples. Use `zero_division` parameter to control this behavior.\n",
      "  _warn_prf(average, modifier, msg_start, len(result))\n",
      "/home/dzzz/.local/lib/python3.10/site-packages/sklearn/metrics/_classification.py:1344: UndefinedMetricWarning: Precision and F-score are ill-defined and being set to 0.0 in labels with no predicted samples. Use `zero_division` parameter to control this behavior.\n",
      "  _warn_prf(average, modifier, msg_start, len(result))\n"
     ]
    },
    {
     "name": "stdout",
     "output_type": "stream",
     "text": [
      "LSD\n",
      "\u001b[1m\u001b[34m\tKlasifikacioni izveštaj za model MLPClassifier nad test podacima\u001b[0m\n",
      "\u001b[1m----------------------------------------------------------------------------------------------\u001b[0m\n",
      "\u001b[2m              precision    recall  f1-score   support\n",
      "\n",
      "         CL0       0.63      0.88      0.74       321\n",
      "         CL1       0.25      0.01      0.02        77\n",
      "         CL2       0.50      0.02      0.04        55\n",
      "         CL3       0.28      0.44      0.34        68\n",
      "         CL4       0.00      0.00      0.00        29\n",
      "         CL5       0.00      0.00      0.00        13\n",
      "         CL6       0.00      0.00      0.00         3\n",
      "\n",
      "    accuracy                           0.56       566\n",
      "   macro avg       0.24      0.19      0.16       566\n",
      "weighted avg       0.47      0.56      0.47       566\n",
      "\u001b[0m\n",
      "\u001b[1m----------------------------------------------------------------------------------------------\u001b[0m\n"
     ]
    },
    {
     "name": "stderr",
     "output_type": "stream",
     "text": [
      "/home/dzzz/.local/lib/python3.10/site-packages/sklearn/neural_network/_multilayer_perceptron.py:686: ConvergenceWarning: Stochastic Optimizer: Maximum iterations (20) reached and the optimization hasn't converged yet.\n",
      "  warnings.warn(\n",
      "/home/dzzz/.local/lib/python3.10/site-packages/sklearn/metrics/_classification.py:1344: UndefinedMetricWarning: Precision and F-score are ill-defined and being set to 0.0 in labels with no predicted samples. Use `zero_division` parameter to control this behavior.\n",
      "  _warn_prf(average, modifier, msg_start, len(result))\n",
      "/home/dzzz/.local/lib/python3.10/site-packages/sklearn/metrics/_classification.py:1344: UndefinedMetricWarning: Precision and F-score are ill-defined and being set to 0.0 in labels with no predicted samples. Use `zero_division` parameter to control this behavior.\n",
      "  _warn_prf(average, modifier, msg_start, len(result))\n",
      "/home/dzzz/.local/lib/python3.10/site-packages/sklearn/metrics/_classification.py:1344: UndefinedMetricWarning: Precision and F-score are ill-defined and being set to 0.0 in labels with no predicted samples. Use `zero_division` parameter to control this behavior.\n",
      "  _warn_prf(average, modifier, msg_start, len(result))\n"
     ]
    },
    {
     "name": "stdout",
     "output_type": "stream",
     "text": [
      "Meth\n",
      "\u001b[1m\u001b[34m\tKlasifikacioni izveštaj za model MLPClassifier nad test podacima\u001b[0m\n",
      "\u001b[1m----------------------------------------------------------------------------------------------\u001b[0m\n",
      "\u001b[2m              precision    recall  f1-score   support\n",
      "\n",
      "         CL0       0.75      1.00      0.86       424\n",
      "         CL1       0.00      0.00      0.00         8\n",
      "         CL2       0.00      0.00      0.00        31\n",
      "         CL3       0.40      0.04      0.07        49\n",
      "         CL4       0.00      0.00      0.00        15\n",
      "         CL5       0.00      0.00      0.00        17\n",
      "         CL6       0.00      0.00      0.00        22\n",
      "\n",
      "    accuracy                           0.75       566\n",
      "   macro avg       0.16      0.15      0.13       566\n",
      "weighted avg       0.60      0.75      0.65       566\n",
      "\u001b[0m\n",
      "\u001b[1m----------------------------------------------------------------------------------------------\u001b[0m\n"
     ]
    },
    {
     "name": "stderr",
     "output_type": "stream",
     "text": [
      "/home/dzzz/.local/lib/python3.10/site-packages/sklearn/neural_network/_multilayer_perceptron.py:686: ConvergenceWarning: Stochastic Optimizer: Maximum iterations (20) reached and the optimization hasn't converged yet.\n",
      "  warnings.warn(\n",
      "/home/dzzz/.local/lib/python3.10/site-packages/sklearn/metrics/_classification.py:1344: UndefinedMetricWarning: Precision and F-score are ill-defined and being set to 0.0 in labels with no predicted samples. Use `zero_division` parameter to control this behavior.\n",
      "  _warn_prf(average, modifier, msg_start, len(result))\n",
      "/home/dzzz/.local/lib/python3.10/site-packages/sklearn/metrics/_classification.py:1344: UndefinedMetricWarning: Precision and F-score are ill-defined and being set to 0.0 in labels with no predicted samples. Use `zero_division` parameter to control this behavior.\n",
      "  _warn_prf(average, modifier, msg_start, len(result))\n",
      "/home/dzzz/.local/lib/python3.10/site-packages/sklearn/metrics/_classification.py:1344: UndefinedMetricWarning: Precision and F-score are ill-defined and being set to 0.0 in labels with no predicted samples. Use `zero_division` parameter to control this behavior.\n",
      "  _warn_prf(average, modifier, msg_start, len(result))\n"
     ]
    },
    {
     "name": "stdout",
     "output_type": "stream",
     "text": [
      "Mushrooms\n",
      "\u001b[1m\u001b[34m\tKlasifikacioni izveštaj za model MLPClassifier nad test podacima\u001b[0m\n",
      "\u001b[1m----------------------------------------------------------------------------------------------\u001b[0m\n",
      "\u001b[2m              precision    recall  f1-score   support\n",
      "\n",
      "         CL0       0.61      0.86      0.71       288\n",
      "         CL1       0.00      0.00      0.00        61\n",
      "         CL2       0.00      0.00      0.00        77\n",
      "         CL3       0.29      0.52      0.37        84\n",
      "         CL4       0.00      0.00      0.00        39\n",
      "         CL5       0.00      0.00      0.00        13\n",
      "         CL6       0.00      0.00      0.00         4\n",
      "\n",
      "    accuracy                           0.52       566\n",
      "   macro avg       0.13      0.20      0.16       566\n",
      "weighted avg       0.35      0.52      0.42       566\n",
      "\u001b[0m\n",
      "\u001b[1m----------------------------------------------------------------------------------------------\u001b[0m\n"
     ]
    },
    {
     "name": "stderr",
     "output_type": "stream",
     "text": [
      "/home/dzzz/.local/lib/python3.10/site-packages/sklearn/neural_network/_multilayer_perceptron.py:686: ConvergenceWarning: Stochastic Optimizer: Maximum iterations (20) reached and the optimization hasn't converged yet.\n",
      "  warnings.warn(\n",
      "/home/dzzz/.local/lib/python3.10/site-packages/sklearn/metrics/_classification.py:1344: UndefinedMetricWarning: Precision and F-score are ill-defined and being set to 0.0 in labels with no predicted samples. Use `zero_division` parameter to control this behavior.\n",
      "  _warn_prf(average, modifier, msg_start, len(result))\n",
      "/home/dzzz/.local/lib/python3.10/site-packages/sklearn/metrics/_classification.py:1344: UndefinedMetricWarning: Precision and F-score are ill-defined and being set to 0.0 in labels with no predicted samples. Use `zero_division` parameter to control this behavior.\n",
      "  _warn_prf(average, modifier, msg_start, len(result))\n",
      "/home/dzzz/.local/lib/python3.10/site-packages/sklearn/metrics/_classification.py:1344: UndefinedMetricWarning: Precision and F-score are ill-defined and being set to 0.0 in labels with no predicted samples. Use `zero_division` parameter to control this behavior.\n",
      "  _warn_prf(average, modifier, msg_start, len(result))\n"
     ]
    },
    {
     "name": "stdout",
     "output_type": "stream",
     "text": [
      "Nicotine\n",
      "\u001b[1m\u001b[34m\tKlasifikacioni izveštaj za model MLPClassifier nad test podacima\u001b[0m\n",
      "\u001b[1m----------------------------------------------------------------------------------------------\u001b[0m\n",
      "\u001b[2m              precision    recall  f1-score   support\n",
      "\n",
      "         CL0       0.40      0.58      0.47       143\n",
      "         CL1       0.00      0.00      0.00        51\n",
      "         CL2       0.00      0.00      0.00        62\n",
      "         CL3       0.00      0.00      0.00        59\n",
      "         CL4       0.00      0.00      0.00        27\n",
      "         CL5       0.00      0.00      0.00        44\n",
      "         CL6       0.39      0.75      0.51       180\n",
      "\n",
      "    accuracy                           0.39       566\n",
      "   macro avg       0.11      0.19      0.14       566\n",
      "weighted avg       0.22      0.39      0.28       566\n",
      "\u001b[0m\n",
      "\u001b[1m----------------------------------------------------------------------------------------------\u001b[0m\n",
      "VSA\n",
      "\u001b[1m\u001b[34m\tKlasifikacioni izveštaj za model MLPClassifier nad test podacima\u001b[0m\n",
      "\u001b[1m----------------------------------------------------------------------------------------------\u001b[0m\n",
      "\u001b[2m              precision    recall  f1-score   support\n",
      "\n",
      "         CL0       0.77      1.00      0.87       433\n",
      "         CL1       0.00      0.00      0.00        59\n",
      "         CL2       0.00      0.00      0.00        39\n",
      "         CL3       0.00      0.00      0.00        22\n",
      "         CL4       0.00      0.00      0.00         2\n",
      "         CL5       0.00      0.00      0.00         9\n",
      "         CL6       0.00      0.00      0.00         2\n",
      "\n",
      "    accuracy                           0.77       566\n",
      "   macro avg       0.11      0.14      0.12       566\n",
      "weighted avg       0.59      0.77      0.66       566\n",
      "\u001b[0m\n",
      "\u001b[1m----------------------------------------------------------------------------------------------\u001b[0m\n"
     ]
    },
    {
     "name": "stderr",
     "output_type": "stream",
     "text": [
      "/home/dzzz/.local/lib/python3.10/site-packages/sklearn/neural_network/_multilayer_perceptron.py:686: ConvergenceWarning: Stochastic Optimizer: Maximum iterations (20) reached and the optimization hasn't converged yet.\n",
      "  warnings.warn(\n",
      "/home/dzzz/.local/lib/python3.10/site-packages/sklearn/metrics/_classification.py:1344: UndefinedMetricWarning: Precision and F-score are ill-defined and being set to 0.0 in labels with no predicted samples. Use `zero_division` parameter to control this behavior.\n",
      "  _warn_prf(average, modifier, msg_start, len(result))\n",
      "/home/dzzz/.local/lib/python3.10/site-packages/sklearn/metrics/_classification.py:1344: UndefinedMetricWarning: Precision and F-score are ill-defined and being set to 0.0 in labels with no predicted samples. Use `zero_division` parameter to control this behavior.\n",
      "  _warn_prf(average, modifier, msg_start, len(result))\n",
      "/home/dzzz/.local/lib/python3.10/site-packages/sklearn/metrics/_classification.py:1344: UndefinedMetricWarning: Precision and F-score are ill-defined and being set to 0.0 in labels with no predicted samples. Use `zero_division` parameter to control this behavior.\n",
      "  _warn_prf(average, modifier, msg_start, len(result))\n"
     ]
    }
   ],
   "source": [
    "n = len(klase)\n",
    "preciznosti = []\n",
    "for i in range(n):\n",
    "    X_train, X_test, y_train, y_test = train_test_split(podaci_skalirano, podaci[klase[i]], test_size = 0.30,  random_state = 42)\n",
    "    mreza.fit(X_train, y_train)\n",
    "    \n",
    "    print(klase[i])\n",
    "    report(mreza, X_test, y_test, text= 'test')\n",
    "    \n",
    "    predicted = mreza.predict(X_test)\n",
    "    preciznosti.append(round(accuracy_score(predicted, y_test), 4))"
   ]
  },
  {
   "cell_type": "code",
   "execution_count": 23,
   "id": "4208cfe7",
   "metadata": {},
   "outputs": [
    {
     "data": {
      "text/plain": [
       "[0.5177,\n",
       " 0.6979,\n",
       " 0.5336,\n",
       " 0.4046,\n",
       " 0.4117,\n",
       " 0.5477,\n",
       " 0.8693,\n",
       " 0.5583,\n",
       " 0.8498,\n",
       " 0.7915,\n",
       " 0.5919,\n",
       " 0.5583,\n",
       " 0.7509,\n",
       " 0.5177,\n",
       " 0.3852,\n",
       " 0.765]"
      ]
     },
     "execution_count": 23,
     "metadata": {},
     "output_type": "execute_result"
    }
   ],
   "source": [
    "preciznosti"
   ]
  },
  {
   "cell_type": "code",
   "execution_count": 24,
   "id": "62772c69",
   "metadata": {},
   "outputs": [
    {
     "name": "stderr",
     "output_type": "stream",
     "text": [
      "/home/dzzz/.local/lib/python3.10/site-packages/sklearn/model_selection/_split.py:700: UserWarning: The least populated class in y has only 2 members, which is less than n_splits=3.\n",
      "  warnings.warn(\n",
      "/home/dzzz/.local/lib/python3.10/site-packages/sklearn/neural_network/_multilayer_perceptron.py:686: ConvergenceWarning: Stochastic Optimizer: Maximum iterations (20) reached and the optimization hasn't converged yet.\n",
      "  warnings.warn(\n",
      "/home/dzzz/.local/lib/python3.10/site-packages/sklearn/neural_network/_multilayer_perceptron.py:686: ConvergenceWarning: Stochastic Optimizer: Maximum iterations (20) reached and the optimization hasn't converged yet.\n",
      "  warnings.warn(\n",
      "/home/dzzz/.local/lib/python3.10/site-packages/sklearn/neural_network/_multilayer_perceptron.py:686: ConvergenceWarning: Stochastic Optimizer: Maximum iterations (20) reached and the optimization hasn't converged yet.\n",
      "  warnings.warn(\n",
      "/home/dzzz/.local/lib/python3.10/site-packages/sklearn/neural_network/_multilayer_perceptron.py:686: ConvergenceWarning: Stochastic Optimizer: Maximum iterations (20) reached and the optimization hasn't converged yet.\n",
      "  warnings.warn(\n",
      "/home/dzzz/.local/lib/python3.10/site-packages/sklearn/neural_network/_multilayer_perceptron.py:686: ConvergenceWarning: Stochastic Optimizer: Maximum iterations (20) reached and the optimization hasn't converged yet.\n",
      "  warnings.warn(\n",
      "/home/dzzz/.local/lib/python3.10/site-packages/sklearn/neural_network/_multilayer_perceptron.py:686: ConvergenceWarning: Stochastic Optimizer: Maximum iterations (20) reached and the optimization hasn't converged yet.\n",
      "  warnings.warn(\n",
      "/home/dzzz/.local/lib/python3.10/site-packages/sklearn/neural_network/_multilayer_perceptron.py:686: ConvergenceWarning: Stochastic Optimizer: Maximum iterations (20) reached and the optimization hasn't converged yet.\n",
      "  warnings.warn(\n",
      "/home/dzzz/.local/lib/python3.10/site-packages/sklearn/neural_network/_multilayer_perceptron.py:686: ConvergenceWarning: Stochastic Optimizer: Maximum iterations (20) reached and the optimization hasn't converged yet.\n",
      "  warnings.warn(\n",
      "/home/dzzz/.local/lib/python3.10/site-packages/sklearn/neural_network/_multilayer_perceptron.py:686: ConvergenceWarning: Stochastic Optimizer: Maximum iterations (20) reached and the optimization hasn't converged yet.\n",
      "  warnings.warn(\n",
      "/home/dzzz/.local/lib/python3.10/site-packages/sklearn/neural_network/_multilayer_perceptron.py:686: ConvergenceWarning: Stochastic Optimizer: Maximum iterations (20) reached and the optimization hasn't converged yet.\n",
      "  warnings.warn(\n",
      "/home/dzzz/.local/lib/python3.10/site-packages/sklearn/neural_network/_multilayer_perceptron.py:686: ConvergenceWarning: Stochastic Optimizer: Maximum iterations (20) reached and the optimization hasn't converged yet.\n",
      "  warnings.warn(\n",
      "/home/dzzz/.local/lib/python3.10/site-packages/sklearn/neural_network/_multilayer_perceptron.py:686: ConvergenceWarning: Stochastic Optimizer: Maximum iterations (20) reached and the optimization hasn't converged yet.\n",
      "  warnings.warn(\n",
      "/home/dzzz/.local/lib/python3.10/site-packages/sklearn/neural_network/_multilayer_perceptron.py:686: ConvergenceWarning: Stochastic Optimizer: Maximum iterations (20) reached and the optimization hasn't converged yet.\n",
      "  warnings.warn(\n",
      "/home/dzzz/.local/lib/python3.10/site-packages/sklearn/neural_network/_multilayer_perceptron.py:686: ConvergenceWarning: Stochastic Optimizer: Maximum iterations (20) reached and the optimization hasn't converged yet.\n",
      "  warnings.warn(\n",
      "/home/dzzz/.local/lib/python3.10/site-packages/sklearn/neural_network/_multilayer_perceptron.py:686: ConvergenceWarning: Stochastic Optimizer: Maximum iterations (20) reached and the optimization hasn't converged yet.\n",
      "  warnings.warn(\n",
      "/home/dzzz/.local/lib/python3.10/site-packages/sklearn/neural_network/_multilayer_perceptron.py:686: ConvergenceWarning: Stochastic Optimizer: Maximum iterations (20) reached and the optimization hasn't converged yet.\n",
      "  warnings.warn(\n",
      "/home/dzzz/.local/lib/python3.10/site-packages/sklearn/neural_network/_multilayer_perceptron.py:686: ConvergenceWarning: Stochastic Optimizer: Maximum iterations (20) reached and the optimization hasn't converged yet.\n",
      "  warnings.warn(\n",
      "/home/dzzz/.local/lib/python3.10/site-packages/sklearn/neural_network/_multilayer_perceptron.py:686: ConvergenceWarning: Stochastic Optimizer: Maximum iterations (20) reached and the optimization hasn't converged yet.\n",
      "  warnings.warn(\n",
      "/home/dzzz/.local/lib/python3.10/site-packages/sklearn/neural_network/_multilayer_perceptron.py:686: ConvergenceWarning: Stochastic Optimizer: Maximum iterations (20) reached and the optimization hasn't converged yet.\n",
      "  warnings.warn(\n",
      "/home/dzzz/.local/lib/python3.10/site-packages/sklearn/neural_network/_multilayer_perceptron.py:686: ConvergenceWarning: Stochastic Optimizer: Maximum iterations (20) reached and the optimization hasn't converged yet.\n",
      "  warnings.warn(\n",
      "/home/dzzz/.local/lib/python3.10/site-packages/sklearn/neural_network/_multilayer_perceptron.py:686: ConvergenceWarning: Stochastic Optimizer: Maximum iterations (20) reached and the optimization hasn't converged yet.\n",
      "  warnings.warn(\n",
      "/home/dzzz/.local/lib/python3.10/site-packages/sklearn/neural_network/_multilayer_perceptron.py:686: ConvergenceWarning: Stochastic Optimizer: Maximum iterations (20) reached and the optimization hasn't converged yet.\n",
      "  warnings.warn(\n",
      "/home/dzzz/.local/lib/python3.10/site-packages/sklearn/neural_network/_multilayer_perceptron.py:686: ConvergenceWarning: Stochastic Optimizer: Maximum iterations (20) reached and the optimization hasn't converged yet.\n",
      "  warnings.warn(\n",
      "/home/dzzz/.local/lib/python3.10/site-packages/sklearn/neural_network/_multilayer_perceptron.py:686: ConvergenceWarning: Stochastic Optimizer: Maximum iterations (20) reached and the optimization hasn't converged yet.\n",
      "  warnings.warn(\n",
      "/home/dzzz/.local/lib/python3.10/site-packages/sklearn/neural_network/_multilayer_perceptron.py:686: ConvergenceWarning: Stochastic Optimizer: Maximum iterations (20) reached and the optimization hasn't converged yet.\n",
      "  warnings.warn(\n",
      "/home/dzzz/.local/lib/python3.10/site-packages/sklearn/neural_network/_multilayer_perceptron.py:686: ConvergenceWarning: Stochastic Optimizer: Maximum iterations (20) reached and the optimization hasn't converged yet.\n",
      "  warnings.warn(\n",
      "/home/dzzz/.local/lib/python3.10/site-packages/sklearn/neural_network/_multilayer_perceptron.py:686: ConvergenceWarning: Stochastic Optimizer: Maximum iterations (20) reached and the optimization hasn't converged yet.\n",
      "  warnings.warn(\n",
      "/home/dzzz/.local/lib/python3.10/site-packages/sklearn/neural_network/_multilayer_perceptron.py:686: ConvergenceWarning: Stochastic Optimizer: Maximum iterations (20) reached and the optimization hasn't converged yet.\n",
      "  warnings.warn(\n",
      "/home/dzzz/.local/lib/python3.10/site-packages/sklearn/neural_network/_multilayer_perceptron.py:686: ConvergenceWarning: Stochastic Optimizer: Maximum iterations (20) reached and the optimization hasn't converged yet.\n",
      "  warnings.warn(\n",
      "/home/dzzz/.local/lib/python3.10/site-packages/sklearn/neural_network/_multilayer_perceptron.py:686: ConvergenceWarning: Stochastic Optimizer: Maximum iterations (20) reached and the optimization hasn't converged yet.\n",
      "  warnings.warn(\n"
     ]
    },
    {
     "data": {
      "image/png": "[encoded data removed]",
      "text/plain": [
       "<Figure size 800x600 with 1 Axes>"
      ]
     },
     "metadata": {},
     "output_type": "display_data"
    }
   ],
   "source": [
    "plot_learning_curve(mreza, X_test, y_test)"
   ]
  },
  {
   "cell_type": "code",
   "execution_count": null,
   "id": "f0b1ba52",
   "metadata": {},
   "outputs": [],
   "source": []
  },
  {
   "cell_type": "code",
   "execution_count": null,
   "id": "712c19bf",
   "metadata": {},
   "outputs": [],
   "source": []
  },
  {
   "cell_type": "code",
   "execution_count": 25,
   "id": "a0e4ae33",
   "metadata": {},
   "outputs": [],
   "source": [
    "#ako bih skalirao?\n",
    "def skaliraj_podatke(X):\n",
    "    return (X - min(X))/(max(X) - min(X))"
   ]
  },
  {
   "cell_type": "code",
   "execution_count": null,
   "id": "505666d6",
   "metadata": {},
   "outputs": [],
   "source": []
  },
  {
   "cell_type": "code",
   "execution_count": 26,
   "id": "855749f8",
   "metadata": {},
   "outputs": [
    {
     "name": "stderr",
     "output_type": "stream",
     "text": [
      "/home/dzzz/.local/lib/python3.10/site-packages/sklearn/neural_network/_multilayer_perceptron.py:686: ConvergenceWarning: Stochastic Optimizer: Maximum iterations (20) reached and the optimization hasn't converged yet.\n",
      "  warnings.warn(\n",
      "/home/dzzz/.local/lib/python3.10/site-packages/sklearn/metrics/_classification.py:1344: UndefinedMetricWarning: Precision and F-score are ill-defined and being set to 0.0 in labels with no predicted samples. Use `zero_division` parameter to control this behavior.\n",
      "  _warn_prf(average, modifier, msg_start, len(result))\n",
      "/home/dzzz/.local/lib/python3.10/site-packages/sklearn/metrics/_classification.py:1344: UndefinedMetricWarning: Precision and F-score are ill-defined and being set to 0.0 in labels with no predicted samples. Use `zero_division` parameter to control this behavior.\n",
      "  _warn_prf(average, modifier, msg_start, len(result))\n",
      "/home/dzzz/.local/lib/python3.10/site-packages/sklearn/metrics/_classification.py:1344: UndefinedMetricWarning: Precision and F-score are ill-defined and being set to 0.0 in labels with no predicted samples. Use `zero_division` parameter to control this behavior.\n",
      "  _warn_prf(average, modifier, msg_start, len(result))\n",
      "/home/dzzz/.local/lib/python3.10/site-packages/sklearn/neural_network/_multilayer_perceptron.py:686: ConvergenceWarning: Stochastic Optimizer: Maximum iterations (20) reached and the optimization hasn't converged yet.\n",
      "  warnings.warn(\n",
      "/home/dzzz/.local/lib/python3.10/site-packages/sklearn/metrics/_classification.py:1344: UndefinedMetricWarning: Precision and F-score are ill-defined and being set to 0.0 in labels with no predicted samples. Use `zero_division` parameter to control this behavior.\n",
      "  _warn_prf(average, modifier, msg_start, len(result))\n",
      "/home/dzzz/.local/lib/python3.10/site-packages/sklearn/metrics/_classification.py:1344: UndefinedMetricWarning: Precision and F-score are ill-defined and being set to 0.0 in labels with no predicted samples. Use `zero_division` parameter to control this behavior.\n",
      "  _warn_prf(average, modifier, msg_start, len(result))\n",
      "/home/dzzz/.local/lib/python3.10/site-packages/sklearn/metrics/_classification.py:1344: UndefinedMetricWarning: Precision and F-score are ill-defined and being set to 0.0 in labels with no predicted samples. Use `zero_division` parameter to control this behavior.\n",
      "  _warn_prf(average, modifier, msg_start, len(result))\n"
     ]
    },
    {
     "name": "stdout",
     "output_type": "stream",
     "text": [
      "Amphet\n",
      "\u001b[1m\u001b[34m\tKlasifikacioni izveštaj za model MLPClassifier nad test podacima\u001b[0m\n",
      "\u001b[1m----------------------------------------------------------------------------------------------\u001b[0m\n",
      "\u001b[2m              precision    recall  f1-score   support\n",
      "\n",
      "         CL0       0.52      1.00      0.69       295\n",
      "         CL1       0.00      0.00      0.00        77\n",
      "         CL2       0.00      0.00      0.00        66\n",
      "         CL3       0.00      0.00      0.00        60\n",
      "         CL4       0.00      0.00      0.00        23\n",
      "         CL5       0.00      0.00      0.00        19\n",
      "         CL6       0.00      0.00      0.00        26\n",
      "\n",
      "    accuracy                           0.52       566\n",
      "   macro avg       0.07      0.14      0.10       566\n",
      "weighted avg       0.27      0.52      0.36       566\n",
      "\u001b[0m\n",
      "\u001b[1m----------------------------------------------------------------------------------------------\u001b[0m\n",
      "Amyl\n",
      "\u001b[1m\u001b[34m\tKlasifikacioni izveštaj za model MLPClassifier nad test podacima\u001b[0m\n",
      "\u001b[1m----------------------------------------------------------------------------------------------\u001b[0m\n",
      "\u001b[2m              precision    recall  f1-score   support\n",
      "\n",
      "         CL0       0.70      0.99      0.82       391\n",
      "         CL1       0.00      0.00      0.00        67\n",
      "         CL2       0.50      0.11      0.17        66\n",
      "         CL3       0.00      0.00      0.00        28\n",
      "         CL4       0.00      0.00      0.00         9\n",
      "         CL5       0.00      0.00      0.00         4\n",
      "         CL6       0.00      0.00      0.00         1\n",
      "\n",
      "    accuracy                           0.70       566\n",
      "   macro avg       0.17      0.16      0.14       566\n",
      "weighted avg       0.54      0.70      0.59       566\n",
      "\u001b[0m\n",
      "\u001b[1m----------------------------------------------------------------------------------------------\u001b[0m\n"
     ]
    },
    {
     "name": "stderr",
     "output_type": "stream",
     "text": [
      "/home/dzzz/.local/lib/python3.10/site-packages/sklearn/neural_network/_multilayer_perceptron.py:686: ConvergenceWarning: Stochastic Optimizer: Maximum iterations (20) reached and the optimization hasn't converged yet.\n",
      "  warnings.warn(\n",
      "/home/dzzz/.local/lib/python3.10/site-packages/sklearn/metrics/_classification.py:1344: UndefinedMetricWarning: Precision and F-score are ill-defined and being set to 0.0 in labels with no predicted samples. Use `zero_division` parameter to control this behavior.\n",
      "  _warn_prf(average, modifier, msg_start, len(result))\n",
      "/home/dzzz/.local/lib/python3.10/site-packages/sklearn/metrics/_classification.py:1344: UndefinedMetricWarning: Precision and F-score are ill-defined and being set to 0.0 in labels with no predicted samples. Use `zero_division` parameter to control this behavior.\n",
      "  _warn_prf(average, modifier, msg_start, len(result))\n",
      "/home/dzzz/.local/lib/python3.10/site-packages/sklearn/metrics/_classification.py:1344: UndefinedMetricWarning: Precision and F-score are ill-defined and being set to 0.0 in labels with no predicted samples. Use `zero_division` parameter to control this behavior.\n",
      "  _warn_prf(average, modifier, msg_start, len(result))\n",
      "/home/dzzz/.local/lib/python3.10/site-packages/sklearn/neural_network/_multilayer_perceptron.py:686: ConvergenceWarning: Stochastic Optimizer: Maximum iterations (20) reached and the optimization hasn't converged yet.\n",
      "  warnings.warn(\n",
      "/home/dzzz/.local/lib/python3.10/site-packages/sklearn/metrics/_classification.py:1344: UndefinedMetricWarning: Precision and F-score are ill-defined and being set to 0.0 in labels with no predicted samples. Use `zero_division` parameter to control this behavior.\n",
      "  _warn_prf(average, modifier, msg_start, len(result))\n",
      "/home/dzzz/.local/lib/python3.10/site-packages/sklearn/metrics/_classification.py:1344: UndefinedMetricWarning: Precision and F-score are ill-defined and being set to 0.0 in labels with no predicted samples. Use `zero_division` parameter to control this behavior.\n",
      "  _warn_prf(average, modifier, msg_start, len(result))\n",
      "/home/dzzz/.local/lib/python3.10/site-packages/sklearn/metrics/_classification.py:1344: UndefinedMetricWarning: Precision and F-score are ill-defined and being set to 0.0 in labels with no predicted samples. Use `zero_division` parameter to control this behavior.\n",
      "  _warn_prf(average, modifier, msg_start, len(result))\n"
     ]
    },
    {
     "name": "stdout",
     "output_type": "stream",
     "text": [
      "Benzos\n",
      "\u001b[1m\u001b[34m\tKlasifikacioni izveštaj za model MLPClassifier nad test podacima\u001b[0m\n",
      "\u001b[1m----------------------------------------------------------------------------------------------\u001b[0m\n",
      "\u001b[2m              precision    recall  f1-score   support\n",
      "\n",
      "         CL0       0.60      0.93      0.73       307\n",
      "         CL1       0.00      0.00      0.00        29\n",
      "         CL2       0.00      0.00      0.00        57\n",
      "         CL3       0.20      0.24      0.22        76\n",
      "         CL4       0.00      0.00      0.00        43\n",
      "         CL5       0.00      0.00      0.00        23\n",
      "         CL6       0.00      0.00      0.00        31\n",
      "\n",
      "    accuracy                           0.54       566\n",
      "   macro avg       0.11      0.17      0.14       566\n",
      "weighted avg       0.35      0.54      0.43       566\n",
      "\u001b[0m\n",
      "\u001b[1m----------------------------------------------------------------------------------------------\u001b[0m\n",
      "Canabis\n",
      "\u001b[1m\u001b[34m\tKlasifikacioni izveštaj za model MLPClassifier nad test podacima\u001b[0m\n",
      "\u001b[1m----------------------------------------------------------------------------------------------\u001b[0m\n",
      "\u001b[2m              precision    recall  f1-score   support\n",
      "\n",
      "         CL0       0.50      0.01      0.02       123\n",
      "         CL1       0.00      0.00      0.00        50\n",
      "         CL2       0.17      0.75      0.28        76\n",
      "         CL3       0.00      0.00      0.00        79\n",
      "         CL4       0.00      0.00      0.00        43\n",
      "         CL5       0.00      0.00      0.00        48\n",
      "         CL6       0.46      0.74      0.57       147\n",
      "\n",
      "    accuracy                           0.30       566\n",
      "   macro avg       0.16      0.21      0.12       566\n",
      "weighted avg       0.25      0.30      0.19       566\n",
      "\u001b[0m\n",
      "\u001b[1m----------------------------------------------------------------------------------------------\u001b[0m\n"
     ]
    },
    {
     "name": "stderr",
     "output_type": "stream",
     "text": [
      "/home/dzzz/.local/lib/python3.10/site-packages/sklearn/neural_network/_multilayer_perceptron.py:686: ConvergenceWarning: Stochastic Optimizer: Maximum iterations (20) reached and the optimization hasn't converged yet.\n",
      "  warnings.warn(\n",
      "/home/dzzz/.local/lib/python3.10/site-packages/sklearn/metrics/_classification.py:1344: UndefinedMetricWarning: Precision and F-score are ill-defined and being set to 0.0 in labels with no predicted samples. Use `zero_division` parameter to control this behavior.\n",
      "  _warn_prf(average, modifier, msg_start, len(result))\n",
      "/home/dzzz/.local/lib/python3.10/site-packages/sklearn/metrics/_classification.py:1344: UndefinedMetricWarning: Precision and F-score are ill-defined and being set to 0.0 in labels with no predicted samples. Use `zero_division` parameter to control this behavior.\n",
      "  _warn_prf(average, modifier, msg_start, len(result))\n",
      "/home/dzzz/.local/lib/python3.10/site-packages/sklearn/metrics/_classification.py:1344: UndefinedMetricWarning: Precision and F-score are ill-defined and being set to 0.0 in labels with no predicted samples. Use `zero_division` parameter to control this behavior.\n",
      "  _warn_prf(average, modifier, msg_start, len(result))\n",
      "/home/dzzz/.local/lib/python3.10/site-packages/sklearn/neural_network/_multilayer_perceptron.py:686: ConvergenceWarning: Stochastic Optimizer: Maximum iterations (20) reached and the optimization hasn't converged yet.\n",
      "  warnings.warn(\n",
      "/home/dzzz/.local/lib/python3.10/site-packages/sklearn/metrics/_classification.py:1344: UndefinedMetricWarning: Precision and F-score are ill-defined and being set to 0.0 in labels with no predicted samples. Use `zero_division` parameter to control this behavior.\n",
      "  _warn_prf(average, modifier, msg_start, len(result))\n",
      "/home/dzzz/.local/lib/python3.10/site-packages/sklearn/metrics/_classification.py:1344: UndefinedMetricWarning: Precision and F-score are ill-defined and being set to 0.0 in labels with no predicted samples. Use `zero_division` parameter to control this behavior.\n",
      "  _warn_prf(average, modifier, msg_start, len(result))\n",
      "/home/dzzz/.local/lib/python3.10/site-packages/sklearn/metrics/_classification.py:1344: UndefinedMetricWarning: Precision and F-score are ill-defined and being set to 0.0 in labels with no predicted samples. Use `zero_division` parameter to control this behavior.\n",
      "  _warn_prf(average, modifier, msg_start, len(result))\n"
     ]
    },
    {
     "name": "stdout",
     "output_type": "stream",
     "text": [
      "Choc\n",
      "\u001b[1m\u001b[34m\tKlasifikacioni izveštaj za model MLPClassifier nad test podacima\u001b[0m\n",
      "\u001b[1m----------------------------------------------------------------------------------------------\u001b[0m\n",
      "\u001b[2m              precision    recall  f1-score   support\n",
      "\n",
      "         CL0       0.00      0.00      0.00         6\n",
      "         CL1       0.00      0.00      0.00         1\n",
      "         CL2       0.00      0.00      0.00         4\n",
      "         CL3       0.00      0.00      0.00        15\n",
      "         CL4       0.00      0.00      0.00        80\n",
      "         CL5       0.00      0.00      0.00       220\n",
      "         CL6       0.42      1.00      0.60       240\n",
      "\n",
      "    accuracy                           0.42       566\n",
      "   macro avg       0.06      0.14      0.09       566\n",
      "weighted avg       0.18      0.42      0.25       566\n",
      "\u001b[0m\n",
      "\u001b[1m----------------------------------------------------------------------------------------------\u001b[0m\n",
      "Coke\n",
      "\u001b[1m\u001b[34m\tKlasifikacioni izveštaj za model MLPClassifier nad test podacima\u001b[0m\n",
      "\u001b[1m----------------------------------------------------------------------------------------------\u001b[0m\n",
      "\u001b[2m              precision    recall  f1-score   support\n",
      "\n",
      "         CL0       0.55      1.00      0.71       311\n",
      "         CL1       0.00      0.00      0.00        51\n",
      "         CL2       0.00      0.00      0.00        72\n",
      "         CL3       0.00      0.00      0.00        75\n",
      "         CL4       0.00      0.00      0.00        37\n",
      "         CL5       0.00      0.00      0.00        13\n",
      "         CL6       0.00      0.00      0.00         7\n",
      "\n",
      "    accuracy                           0.55       566\n",
      "   macro avg       0.08      0.14      0.10       566\n",
      "weighted avg       0.30      0.55      0.39       566\n",
      "\u001b[0m\n",
      "\u001b[1m----------------------------------------------------------------------------------------------\u001b[0m\n"
     ]
    },
    {
     "name": "stderr",
     "output_type": "stream",
     "text": [
      "/home/dzzz/.local/lib/python3.10/site-packages/sklearn/neural_network/_multilayer_perceptron.py:686: ConvergenceWarning: Stochastic Optimizer: Maximum iterations (20) reached and the optimization hasn't converged yet.\n",
      "  warnings.warn(\n",
      "/home/dzzz/.local/lib/python3.10/site-packages/sklearn/metrics/_classification.py:1344: UndefinedMetricWarning: Precision and F-score are ill-defined and being set to 0.0 in labels with no predicted samples. Use `zero_division` parameter to control this behavior.\n",
      "  _warn_prf(average, modifier, msg_start, len(result))\n",
      "/home/dzzz/.local/lib/python3.10/site-packages/sklearn/metrics/_classification.py:1344: UndefinedMetricWarning: Precision and F-score are ill-defined and being set to 0.0 in labels with no predicted samples. Use `zero_division` parameter to control this behavior.\n",
      "  _warn_prf(average, modifier, msg_start, len(result))\n",
      "/home/dzzz/.local/lib/python3.10/site-packages/sklearn/metrics/_classification.py:1344: UndefinedMetricWarning: Precision and F-score are ill-defined and being set to 0.0 in labels with no predicted samples. Use `zero_division` parameter to control this behavior.\n",
      "  _warn_prf(average, modifier, msg_start, len(result))\n",
      "/home/dzzz/.local/lib/python3.10/site-packages/sklearn/neural_network/_multilayer_perceptron.py:686: ConvergenceWarning: Stochastic Optimizer: Maximum iterations (20) reached and the optimization hasn't converged yet.\n",
      "  warnings.warn(\n",
      "/home/dzzz/.local/lib/python3.10/site-packages/sklearn/metrics/_classification.py:1344: UndefinedMetricWarning: Precision and F-score are ill-defined and being set to 0.0 in labels with no predicted samples. Use `zero_division` parameter to control this behavior.\n",
      "  _warn_prf(average, modifier, msg_start, len(result))\n",
      "/home/dzzz/.local/lib/python3.10/site-packages/sklearn/metrics/_classification.py:1344: UndefinedMetricWarning: Precision and F-score are ill-defined and being set to 0.0 in labels with no predicted samples. Use `zero_division` parameter to control this behavior.\n",
      "  _warn_prf(average, modifier, msg_start, len(result))\n",
      "/home/dzzz/.local/lib/python3.10/site-packages/sklearn/metrics/_classification.py:1344: UndefinedMetricWarning: Precision and F-score are ill-defined and being set to 0.0 in labels with no predicted samples. Use `zero_division` parameter to control this behavior.\n",
      "  _warn_prf(average, modifier, msg_start, len(result))\n"
     ]
    },
    {
     "name": "stdout",
     "output_type": "stream",
     "text": [
      "Crack\n",
      "\u001b[1m\u001b[34m\tKlasifikacioni izveštaj za model MLPClassifier nad test podacima\u001b[0m\n",
      "\u001b[1m----------------------------------------------------------------------------------------------\u001b[0m\n",
      "\u001b[2m              precision    recall  f1-score   support\n",
      "\n",
      "         CL0       0.87      1.00      0.93       492\n",
      "         CL1       0.00      0.00      0.00        14\n",
      "         CL2       0.00      0.00      0.00        38\n",
      "         CL3       0.00      0.00      0.00        18\n",
      "         CL4       0.00      0.00      0.00         2\n",
      "         CL5       0.00      0.00      0.00         1\n",
      "         CL6       0.00      0.00      0.00         1\n",
      "\n",
      "    accuracy                           0.87       566\n",
      "   macro avg       0.12      0.14      0.13       566\n",
      "weighted avg       0.76      0.87      0.81       566\n",
      "\u001b[0m\n",
      "\u001b[1m----------------------------------------------------------------------------------------------\u001b[0m\n",
      "Ecstasy\n",
      "\u001b[1m\u001b[34m\tKlasifikacioni izveštaj za model MLPClassifier nad test podacima\u001b[0m\n",
      "\u001b[1m----------------------------------------------------------------------------------------------\u001b[0m\n",
      "\u001b[2m              precision    recall  f1-score   support\n",
      "\n",
      "         CL0       0.60      0.93      0.73       307\n",
      "         CL1       0.00      0.00      0.00        34\n",
      "         CL2       0.00      0.00      0.00        70\n",
      "         CL3       0.30      0.32      0.31        88\n",
      "         CL4       0.00      0.00      0.00        45\n",
      "         CL5       0.00      0.00      0.00        16\n",
      "         CL6       0.00      0.00      0.00         6\n",
      "\n",
      "    accuracy                           0.55       566\n",
      "   macro avg       0.13      0.18      0.15       566\n",
      "weighted avg       0.37      0.55      0.44       566\n",
      "\u001b[0m\n",
      "\u001b[1m----------------------------------------------------------------------------------------------\u001b[0m\n"
     ]
    },
    {
     "name": "stderr",
     "output_type": "stream",
     "text": [
      "/home/dzzz/.local/lib/python3.10/site-packages/sklearn/neural_network/_multilayer_perceptron.py:686: ConvergenceWarning: Stochastic Optimizer: Maximum iterations (20) reached and the optimization hasn't converged yet.\n",
      "  warnings.warn(\n",
      "/home/dzzz/.local/lib/python3.10/site-packages/sklearn/metrics/_classification.py:1344: UndefinedMetricWarning: Precision and F-score are ill-defined and being set to 0.0 in labels with no predicted samples. Use `zero_division` parameter to control this behavior.\n",
      "  _warn_prf(average, modifier, msg_start, len(result))\n",
      "/home/dzzz/.local/lib/python3.10/site-packages/sklearn/metrics/_classification.py:1344: UndefinedMetricWarning: Precision and F-score are ill-defined and being set to 0.0 in labels with no predicted samples. Use `zero_division` parameter to control this behavior.\n",
      "  _warn_prf(average, modifier, msg_start, len(result))\n",
      "/home/dzzz/.local/lib/python3.10/site-packages/sklearn/metrics/_classification.py:1344: UndefinedMetricWarning: Precision and F-score are ill-defined and being set to 0.0 in labels with no predicted samples. Use `zero_division` parameter to control this behavior.\n",
      "  _warn_prf(average, modifier, msg_start, len(result))\n",
      "/home/dzzz/.local/lib/python3.10/site-packages/sklearn/neural_network/_multilayer_perceptron.py:686: ConvergenceWarning: Stochastic Optimizer: Maximum iterations (20) reached and the optimization hasn't converged yet.\n",
      "  warnings.warn(\n",
      "/home/dzzz/.local/lib/python3.10/site-packages/sklearn/metrics/_classification.py:1344: UndefinedMetricWarning: Precision and F-score are ill-defined and being set to 0.0 in labels with no predicted samples. Use `zero_division` parameter to control this behavior.\n",
      "  _warn_prf(average, modifier, msg_start, len(result))\n",
      "/home/dzzz/.local/lib/python3.10/site-packages/sklearn/metrics/_classification.py:1344: UndefinedMetricWarning: Precision and F-score are ill-defined and being set to 0.0 in labels with no predicted samples. Use `zero_division` parameter to control this behavior.\n",
      "  _warn_prf(average, modifier, msg_start, len(result))\n",
      "/home/dzzz/.local/lib/python3.10/site-packages/sklearn/metrics/_classification.py:1344: UndefinedMetricWarning: Precision and F-score are ill-defined and being set to 0.0 in labels with no predicted samples. Use `zero_division` parameter to control this behavior.\n",
      "  _warn_prf(average, modifier, msg_start, len(result))\n"
     ]
    },
    {
     "name": "stdout",
     "output_type": "stream",
     "text": [
      "Heroin\n",
      "\u001b[1m\u001b[34m\tKlasifikacioni izveštaj za model MLPClassifier nad test podacima\u001b[0m\n",
      "\u001b[1m----------------------------------------------------------------------------------------------\u001b[0m\n",
      "\u001b[2m              precision    recall  f1-score   support\n",
      "\n",
      "         CL0       0.85      1.00      0.92       481\n",
      "         CL1       0.00      0.00      0.00        15\n",
      "         CL2       0.00      0.00      0.00        30\n",
      "         CL3       0.00      0.00      0.00        24\n",
      "         CL4       0.00      0.00      0.00         9\n",
      "         CL5       0.00      0.00      0.00         4\n",
      "         CL6       0.00      0.00      0.00         3\n",
      "\n",
      "    accuracy                           0.85       566\n",
      "   macro avg       0.12      0.14      0.13       566\n",
      "weighted avg       0.72      0.85      0.78       566\n",
      "\u001b[0m\n",
      "\u001b[1m----------------------------------------------------------------------------------------------\u001b[0m\n",
      "Ketamin\n",
      "\u001b[1m\u001b[34m\tKlasifikacioni izveštaj za model MLPClassifier nad test podacima\u001b[0m\n",
      "\u001b[1m----------------------------------------------------------------------------------------------\u001b[0m\n",
      "\u001b[2m              precision    recall  f1-score   support\n",
      "\n",
      "         CL0       0.79      1.00      0.88       448\n",
      "         CL1       0.00      0.00      0.00        12\n",
      "         CL2       0.00      0.00      0.00        36\n",
      "         CL3       0.00      0.00      0.00        42\n",
      "         CL4       0.00      0.00      0.00        11\n",
      "         CL5       0.00      0.00      0.00        16\n",
      "         CL6       0.00      0.00      0.00         1\n",
      "\n",
      "    accuracy                           0.79       566\n",
      "   macro avg       0.11      0.14      0.13       566\n",
      "weighted avg       0.63      0.79      0.70       566\n",
      "\u001b[0m\n",
      "\u001b[1m----------------------------------------------------------------------------------------------\u001b[0m\n"
     ]
    },
    {
     "name": "stderr",
     "output_type": "stream",
     "text": [
      "/home/dzzz/.local/lib/python3.10/site-packages/sklearn/neural_network/_multilayer_perceptron.py:686: ConvergenceWarning: Stochastic Optimizer: Maximum iterations (20) reached and the optimization hasn't converged yet.\n",
      "  warnings.warn(\n",
      "/home/dzzz/.local/lib/python3.10/site-packages/sklearn/metrics/_classification.py:1344: UndefinedMetricWarning: Precision and F-score are ill-defined and being set to 0.0 in labels with no predicted samples. Use `zero_division` parameter to control this behavior.\n",
      "  _warn_prf(average, modifier, msg_start, len(result))\n",
      "/home/dzzz/.local/lib/python3.10/site-packages/sklearn/metrics/_classification.py:1344: UndefinedMetricWarning: Precision and F-score are ill-defined and being set to 0.0 in labels with no predicted samples. Use `zero_division` parameter to control this behavior.\n",
      "  _warn_prf(average, modifier, msg_start, len(result))\n",
      "/home/dzzz/.local/lib/python3.10/site-packages/sklearn/metrics/_classification.py:1344: UndefinedMetricWarning: Precision and F-score are ill-defined and being set to 0.0 in labels with no predicted samples. Use `zero_division` parameter to control this behavior.\n",
      "  _warn_prf(average, modifier, msg_start, len(result))\n",
      "/home/dzzz/.local/lib/python3.10/site-packages/sklearn/neural_network/_multilayer_perceptron.py:686: ConvergenceWarning: Stochastic Optimizer: Maximum iterations (20) reached and the optimization hasn't converged yet.\n",
      "  warnings.warn(\n",
      "/home/dzzz/.local/lib/python3.10/site-packages/sklearn/metrics/_classification.py:1344: UndefinedMetricWarning: Precision and F-score are ill-defined and being set to 0.0 in labels with no predicted samples. Use `zero_division` parameter to control this behavior.\n",
      "  _warn_prf(average, modifier, msg_start, len(result))\n",
      "/home/dzzz/.local/lib/python3.10/site-packages/sklearn/metrics/_classification.py:1344: UndefinedMetricWarning: Precision and F-score are ill-defined and being set to 0.0 in labels with no predicted samples. Use `zero_division` parameter to control this behavior.\n",
      "  _warn_prf(average, modifier, msg_start, len(result))\n",
      "/home/dzzz/.local/lib/python3.10/site-packages/sklearn/metrics/_classification.py:1344: UndefinedMetricWarning: Precision and F-score are ill-defined and being set to 0.0 in labels with no predicted samples. Use `zero_division` parameter to control this behavior.\n",
      "  _warn_prf(average, modifier, msg_start, len(result))\n"
     ]
    },
    {
     "name": "stdout",
     "output_type": "stream",
     "text": [
      "LegalH\n",
      "\u001b[1m\u001b[34m\tKlasifikacioni izveštaj za model MLPClassifier nad test podacima\u001b[0m\n",
      "\u001b[1m----------------------------------------------------------------------------------------------\u001b[0m\n",
      "\u001b[2m              precision    recall  f1-score   support\n",
      "\n",
      "         CL0       0.56      1.00      0.71       314\n",
      "         CL1       0.00      0.00      0.00         8\n",
      "         CL2       0.00      0.00      0.00        63\n",
      "         CL3       0.00      0.00      0.00       104\n",
      "         CL4       0.00      0.00      0.00        35\n",
      "         CL5       0.00      0.00      0.00        24\n",
      "         CL6       0.00      0.00      0.00        18\n",
      "\n",
      "    accuracy                           0.55       566\n",
      "   macro avg       0.08      0.14      0.10       566\n",
      "weighted avg       0.31      0.55      0.40       566\n",
      "\u001b[0m\n",
      "\u001b[1m----------------------------------------------------------------------------------------------\u001b[0m\n",
      "LSD\n",
      "\u001b[1m\u001b[34m\tKlasifikacioni izveštaj za model MLPClassifier nad test podacima\u001b[0m\n",
      "\u001b[1m----------------------------------------------------------------------------------------------\u001b[0m\n",
      "\u001b[2m              precision    recall  f1-score   support\n",
      "\n",
      "         CL0       0.57      1.00      0.73       321\n",
      "         CL1       0.00      0.00      0.00        77\n",
      "         CL2       0.00      0.00      0.00        55\n",
      "         CL3       0.38      0.04      0.08        68\n",
      "         CL4       0.00      0.00      0.00        29\n",
      "         CL5       0.00      0.00      0.00        13\n",
      "         CL6       0.00      0.00      0.00         3\n",
      "\n",
      "    accuracy                           0.57       566\n",
      "   macro avg       0.14      0.15      0.12       566\n",
      "weighted avg       0.37      0.57      0.42       566\n",
      "\u001b[0m\n",
      "\u001b[1m----------------------------------------------------------------------------------------------\u001b[0m\n"
     ]
    },
    {
     "name": "stderr",
     "output_type": "stream",
     "text": [
      "/home/dzzz/.local/lib/python3.10/site-packages/sklearn/neural_network/_multilayer_perceptron.py:686: ConvergenceWarning: Stochastic Optimizer: Maximum iterations (20) reached and the optimization hasn't converged yet.\n",
      "  warnings.warn(\n",
      "/home/dzzz/.local/lib/python3.10/site-packages/sklearn/metrics/_classification.py:1344: UndefinedMetricWarning: Precision and F-score are ill-defined and being set to 0.0 in labels with no predicted samples. Use `zero_division` parameter to control this behavior.\n",
      "  _warn_prf(average, modifier, msg_start, len(result))\n",
      "/home/dzzz/.local/lib/python3.10/site-packages/sklearn/metrics/_classification.py:1344: UndefinedMetricWarning: Precision and F-score are ill-defined and being set to 0.0 in labels with no predicted samples. Use `zero_division` parameter to control this behavior.\n",
      "  _warn_prf(average, modifier, msg_start, len(result))\n",
      "/home/dzzz/.local/lib/python3.10/site-packages/sklearn/metrics/_classification.py:1344: UndefinedMetricWarning: Precision and F-score are ill-defined and being set to 0.0 in labels with no predicted samples. Use `zero_division` parameter to control this behavior.\n",
      "  _warn_prf(average, modifier, msg_start, len(result))\n",
      "/home/dzzz/.local/lib/python3.10/site-packages/sklearn/neural_network/_multilayer_perceptron.py:686: ConvergenceWarning: Stochastic Optimizer: Maximum iterations (20) reached and the optimization hasn't converged yet.\n",
      "  warnings.warn(\n",
      "/home/dzzz/.local/lib/python3.10/site-packages/sklearn/metrics/_classification.py:1344: UndefinedMetricWarning: Precision and F-score are ill-defined and being set to 0.0 in labels with no predicted samples. Use `zero_division` parameter to control this behavior.\n",
      "  _warn_prf(average, modifier, msg_start, len(result))\n",
      "/home/dzzz/.local/lib/python3.10/site-packages/sklearn/metrics/_classification.py:1344: UndefinedMetricWarning: Precision and F-score are ill-defined and being set to 0.0 in labels with no predicted samples. Use `zero_division` parameter to control this behavior.\n",
      "  _warn_prf(average, modifier, msg_start, len(result))\n",
      "/home/dzzz/.local/lib/python3.10/site-packages/sklearn/metrics/_classification.py:1344: UndefinedMetricWarning: Precision and F-score are ill-defined and being set to 0.0 in labels with no predicted samples. Use `zero_division` parameter to control this behavior.\n",
      "  _warn_prf(average, modifier, msg_start, len(result))\n"
     ]
    },
    {
     "name": "stdout",
     "output_type": "stream",
     "text": [
      "Meth\n",
      "\u001b[1m\u001b[34m\tKlasifikacioni izveštaj za model MLPClassifier nad test podacima\u001b[0m\n",
      "\u001b[1m----------------------------------------------------------------------------------------------\u001b[0m\n",
      "\u001b[2m              precision    recall  f1-score   support\n",
      "\n",
      "         CL0       0.75      1.00      0.86       424\n",
      "         CL1       0.00      0.00      0.00         8\n",
      "         CL2       0.00      0.00      0.00        31\n",
      "         CL3       0.00      0.00      0.00        49\n",
      "         CL4       0.00      0.00      0.00        15\n",
      "         CL5       0.00      0.00      0.00        17\n",
      "         CL6       0.00      0.00      0.00        22\n",
      "\n",
      "    accuracy                           0.75       566\n",
      "   macro avg       0.11      0.14      0.12       566\n",
      "weighted avg       0.56      0.75      0.64       566\n",
      "\u001b[0m\n",
      "\u001b[1m----------------------------------------------------------------------------------------------\u001b[0m\n",
      "Mushrooms\n",
      "\u001b[1m\u001b[34m\tKlasifikacioni izveštaj za model MLPClassifier nad test podacima\u001b[0m\n",
      "\u001b[1m----------------------------------------------------------------------------------------------\u001b[0m\n",
      "\u001b[2m              precision    recall  f1-score   support\n",
      "\n",
      "         CL0       0.63      0.80      0.71       288\n",
      "         CL1       0.00      0.00      0.00        61\n",
      "         CL2       0.00      0.00      0.00        77\n",
      "         CL3       0.26      0.63      0.37        84\n",
      "         CL4       0.00      0.00      0.00        39\n",
      "         CL5       0.00      0.00      0.00        13\n",
      "         CL6       0.00      0.00      0.00         4\n",
      "\n",
      "    accuracy                           0.50       566\n",
      "   macro avg       0.13      0.20      0.15       566\n",
      "weighted avg       0.36      0.50      0.41       566\n",
      "\u001b[0m\n",
      "\u001b[1m----------------------------------------------------------------------------------------------\u001b[0m\n",
      "Nicotine\n",
      "\u001b[1m\u001b[34m\tKlasifikacioni izveštaj za model MLPClassifier nad test podacima\u001b[0m\n",
      "\u001b[1m----------------------------------------------------------------------------------------------\u001b[0m\n",
      "\u001b[2m              precision    recall  f1-score   support\n",
      "\n",
      "         CL0       0.39      0.57      0.46       143\n",
      "         CL1       0.00      0.00      0.00        51\n",
      "         CL2       0.00      0.00      0.00        62\n",
      "         CL3       0.00      0.00      0.00        59\n",
      "         CL4       0.00      0.00      0.00        27\n",
      "         CL5       0.00      0.00      0.00        44\n",
      "         CL6       0.39      0.78      0.52       180\n",
      "\n",
      "    accuracy                           0.39       566\n",
      "   macro avg       0.11      0.19      0.14       566\n",
      "weighted avg       0.22      0.39      0.28       566\n",
      "\u001b[0m\n",
      "\u001b[1m----------------------------------------------------------------------------------------------\u001b[0m\n",
      "VSA\n",
      "\u001b[1m\u001b[34m\tKlasifikacioni izveštaj za model MLPClassifier nad test podacima\u001b[0m\n",
      "\u001b[1m----------------------------------------------------------------------------------------------\u001b[0m\n",
      "\u001b[2m              precision    recall  f1-score   support\n",
      "\n",
      "         CL0       0.77      1.00      0.87       433\n",
      "         CL1       0.00      0.00      0.00        59\n",
      "         CL2       0.00      0.00      0.00        39\n",
      "         CL3       0.00      0.00      0.00        22\n",
      "         CL4       0.00      0.00      0.00         2\n",
      "         CL5       0.00      0.00      0.00         9\n",
      "         CL6       0.00      0.00      0.00         2\n",
      "\n",
      "    accuracy                           0.77       566\n",
      "   macro avg       0.11      0.14      0.12       566\n",
      "weighted avg       0.59      0.77      0.66       566\n",
      "\u001b[0m\n",
      "\u001b[1m----------------------------------------------------------------------------------------------\u001b[0m\n"
     ]
    },
    {
     "name": "stderr",
     "output_type": "stream",
     "text": [
      "/home/dzzz/.local/lib/python3.10/site-packages/sklearn/neural_network/_multilayer_perceptron.py:686: ConvergenceWarning: Stochastic Optimizer: Maximum iterations (20) reached and the optimization hasn't converged yet.\n",
      "  warnings.warn(\n",
      "/home/dzzz/.local/lib/python3.10/site-packages/sklearn/metrics/_classification.py:1344: UndefinedMetricWarning: Precision and F-score are ill-defined and being set to 0.0 in labels with no predicted samples. Use `zero_division` parameter to control this behavior.\n",
      "  _warn_prf(average, modifier, msg_start, len(result))\n",
      "/home/dzzz/.local/lib/python3.10/site-packages/sklearn/metrics/_classification.py:1344: UndefinedMetricWarning: Precision and F-score are ill-defined and being set to 0.0 in labels with no predicted samples. Use `zero_division` parameter to control this behavior.\n",
      "  _warn_prf(average, modifier, msg_start, len(result))\n",
      "/home/dzzz/.local/lib/python3.10/site-packages/sklearn/metrics/_classification.py:1344: UndefinedMetricWarning: Precision and F-score are ill-defined and being set to 0.0 in labels with no predicted samples. Use `zero_division` parameter to control this behavior.\n",
      "  _warn_prf(average, modifier, msg_start, len(result))\n",
      "/home/dzzz/.local/lib/python3.10/site-packages/sklearn/neural_network/_multilayer_perceptron.py:686: ConvergenceWarning: Stochastic Optimizer: Maximum iterations (20) reached and the optimization hasn't converged yet.\n",
      "  warnings.warn(\n",
      "/home/dzzz/.local/lib/python3.10/site-packages/sklearn/metrics/_classification.py:1344: UndefinedMetricWarning: Precision and F-score are ill-defined and being set to 0.0 in labels with no predicted samples. Use `zero_division` parameter to control this behavior.\n",
      "  _warn_prf(average, modifier, msg_start, len(result))\n",
      "/home/dzzz/.local/lib/python3.10/site-packages/sklearn/metrics/_classification.py:1344: UndefinedMetricWarning: Precision and F-score are ill-defined and being set to 0.0 in labels with no predicted samples. Use `zero_division` parameter to control this behavior.\n",
      "  _warn_prf(average, modifier, msg_start, len(result))\n",
      "/home/dzzz/.local/lib/python3.10/site-packages/sklearn/metrics/_classification.py:1344: UndefinedMetricWarning: Precision and F-score are ill-defined and being set to 0.0 in labels with no predicted samples. Use `zero_division` parameter to control this behavior.\n",
      "  _warn_prf(average, modifier, msg_start, len(result))\n"
     ]
    }
   ],
   "source": [
    "n = len(klase)\n",
    "preciznosti_skalirano = []\n",
    "for i in range(n):\n",
    "    X_train, X_test, y_train, y_test = train_test_split(podaci_bez_klasa, podaci[klase[i]], test_size = 0.30,  random_state = 42)\n",
    "    mreza.fit(X_train, y_train)\n",
    "    \n",
    "    for a in atributi:\n",
    "        X_train[a] = skaliraj_podatke(X_train[a])\n",
    "        X_test[a] = skaliraj_podatke(X_test[a])\n",
    "    \n",
    "    \n",
    "    print(klase[i])\n",
    "    report(mreza, X_test, y_test, text= 'test')\n",
    "    \n",
    "    predicted = mreza.predict(X_test)\n",
    "    preciznosti_skalirano.append(round(accuracy_score(predicted, y_test), 4))"
   ]
  },
  {
   "cell_type": "code",
   "execution_count": 27,
   "id": "c64ee435",
   "metadata": {},
   "outputs": [
    {
     "data": {
      "text/plain": [
       "[0.5212,\n",
       " 0.6961,\n",
       " 0.5389,\n",
       " 0.2951,\n",
       " 0.424,\n",
       " 0.5495,\n",
       " 0.8693,\n",
       " 0.5512,\n",
       " 0.8498,\n",
       " 0.7915,\n",
       " 0.5548,\n",
       " 0.5707,\n",
       " 0.7491,\n",
       " 0.4982,\n",
       " 0.3905,\n",
       " 0.765]"
      ]
     },
     "execution_count": 27,
     "metadata": {},
     "output_type": "execute_result"
    }
   ],
   "source": [
    "preciznosti_skalirano"
   ]
  },
  {
   "cell_type": "code",
   "execution_count": null,
   "id": "ec4fabbf",
   "metadata": {},
   "outputs": [],
   "source": []
  },
  {
   "cell_type": "code",
   "execution_count": null,
   "id": "d4013820",
   "metadata": {},
   "outputs": [],
   "source": []
  },
  {
   "cell_type": "markdown",
   "id": "5949f975",
   "metadata": {},
   "source": [
    " # pokusavam da dodam atribute koristeci i ostale klase"
   ]
  },
  {
   "cell_type": "code",
   "execution_count": 28,
   "id": "0ef21b07",
   "metadata": {},
   "outputs": [
    {
     "name": "stderr",
     "output_type": "stream",
     "text": [
      "/tmp/ipykernel_6606/3254782633.py:7: SettingWithCopyWarning: \n",
      "A value is trying to be set on a copy of a slice from a DataFrame\n",
      "\n",
      "See the caveats in the documentation: https://pandas.pydata.org/pandas-docs/stable/user_guide/indexing.html#returning-a-view-versus-a-copy\n",
      "  podaci_skalirano[x][i] = int(podaci_skalirano[x][i].strip('CL'))\n"
     ]
    }
   ],
   "source": [
    "podaci_skalirano = podaci.copy()\n",
    "\n",
    "n = len(podaci_skalirano['Heroin'])\n",
    "    \n",
    "for x in klase:\n",
    "    for i in range(n):\n",
    "        podaci_skalirano[x][i] = int(podaci_skalirano[x][i].strip('CL'))\n",
    "#     print(podaci_skalirano[x].unique())\n",
    "        \n",
    "\n",
    "# podaci_skalirano"
   ]
  },
  {
   "cell_type": "code",
   "execution_count": 29,
   "id": "8c75dda2",
   "metadata": {},
   "outputs": [],
   "source": [
    "# treba mi za klasifikaciju\n",
    "for x in klase:\n",
    "    podaci_skalirano[x] = podaci_skalirano[x].astype('float64')"
   ]
  },
  {
   "cell_type": "code",
   "execution_count": 30,
   "id": "37124a37",
   "metadata": {},
   "outputs": [],
   "source": [
    "# #skaliram podatke\n",
    "# for a in atributi:\n",
    "#     podaci_skalirano[a] = skaliraj_podatke(podaci_skalirano[a])\n",
    "# for a in klase:\n",
    "#     podaci_skalirano[a] = skaliraj_podatke(podaci_skalirano[a])\n",
    "# podaci_skalirano.describe()"
   ]
  },
  {
   "cell_type": "code",
   "execution_count": 31,
   "id": "66a7a548",
   "metadata": {},
   "outputs": [
    {
     "data": {
      "text/plain": [
       "16"
      ]
     },
     "execution_count": 31,
     "metadata": {},
     "output_type": "execute_result"
    }
   ],
   "source": [
    "#pravi skupove podataka pojedinacno bez svake klase\n",
    "podaci_bez_klase = []\n",
    "for x in klase:\n",
    "    podaci_bez_klase.append(podaci_skalirano.drop(x, axis = 1))\n",
    "    \n",
    "#klasni_podaci, isto to\n",
    "klasni_podaci = []\n",
    "n = len(klase)\n",
    "for i in range(n):\n",
    "    klasni_podaci.append(podaci[klase[i]])\n",
    "    \n",
    "len(podaci_bez_klase)"
   ]
  },
  {
   "cell_type": "code",
   "execution_count": 32,
   "id": "f84f3574",
   "metadata": {},
   "outputs": [
    {
     "name": "stderr",
     "output_type": "stream",
     "text": [
      "/home/dzzz/.local/lib/python3.10/site-packages/sklearn/neural_network/_multilayer_perceptron.py:686: ConvergenceWarning: Stochastic Optimizer: Maximum iterations (20) reached and the optimization hasn't converged yet.\n",
      "  warnings.warn(\n",
      "/home/dzzz/.local/lib/python3.10/site-packages/sklearn/metrics/_classification.py:1344: UndefinedMetricWarning: Precision and F-score are ill-defined and being set to 0.0 in labels with no predicted samples. Use `zero_division` parameter to control this behavior.\n",
      "  _warn_prf(average, modifier, msg_start, len(result))\n",
      "/home/dzzz/.local/lib/python3.10/site-packages/sklearn/metrics/_classification.py:1344: UndefinedMetricWarning: Precision and F-score are ill-defined and being set to 0.0 in labels with no predicted samples. Use `zero_division` parameter to control this behavior.\n",
      "  _warn_prf(average, modifier, msg_start, len(result))\n",
      "/home/dzzz/.local/lib/python3.10/site-packages/sklearn/metrics/_classification.py:1344: UndefinedMetricWarning: Precision and F-score are ill-defined and being set to 0.0 in labels with no predicted samples. Use `zero_division` parameter to control this behavior.\n",
      "  _warn_prf(average, modifier, msg_start, len(result))\n",
      "/home/dzzz/.local/lib/python3.10/site-packages/sklearn/neural_network/_multilayer_perceptron.py:686: ConvergenceWarning: Stochastic Optimizer: Maximum iterations (20) reached and the optimization hasn't converged yet.\n",
      "  warnings.warn(\n",
      "/home/dzzz/.local/lib/python3.10/site-packages/sklearn/metrics/_classification.py:1344: UndefinedMetricWarning: Precision and F-score are ill-defined and being set to 0.0 in labels with no predicted samples. Use `zero_division` parameter to control this behavior.\n",
      "  _warn_prf(average, modifier, msg_start, len(result))\n",
      "/home/dzzz/.local/lib/python3.10/site-packages/sklearn/metrics/_classification.py:1344: UndefinedMetricWarning: Precision and F-score are ill-defined and being set to 0.0 in labels with no predicted samples. Use `zero_division` parameter to control this behavior.\n",
      "  _warn_prf(average, modifier, msg_start, len(result))\n",
      "/home/dzzz/.local/lib/python3.10/site-packages/sklearn/metrics/_classification.py:1344: UndefinedMetricWarning: Precision and F-score are ill-defined and being set to 0.0 in labels with no predicted samples. Use `zero_division` parameter to control this behavior.\n",
      "  _warn_prf(average, modifier, msg_start, len(result))\n"
     ]
    },
    {
     "name": "stdout",
     "output_type": "stream",
     "text": [
      "Amphet\n",
      "\u001b[1m\u001b[34m\tKlasifikacioni izveštaj za model MLPClassifier nad test podacima\u001b[0m\n",
      "\u001b[1m----------------------------------------------------------------------------------------------\u001b[0m\n",
      "\u001b[2m              precision    recall  f1-score   support\n",
      "\n",
      "         CL0       0.70      0.90      0.79       295\n",
      "         CL1       0.40      0.03      0.05        77\n",
      "         CL2       0.34      0.44      0.38        66\n",
      "         CL3       0.31      0.47      0.37        60\n",
      "         CL4       0.00      0.00      0.00        23\n",
      "         CL5       0.00      0.00      0.00        19\n",
      "         CL6       0.17      0.04      0.06        26\n",
      "\n",
      "    accuracy                           0.57       566\n",
      "   macro avg       0.27      0.27      0.24       566\n",
      "weighted avg       0.50      0.57      0.50       566\n",
      "\u001b[0m\n",
      "\u001b[1m----------------------------------------------------------------------------------------------\u001b[0m\n",
      "Amyl\n",
      "\u001b[1m\u001b[34m\tKlasifikacioni izveštaj za model MLPClassifier nad test podacima\u001b[0m\n",
      "\u001b[1m----------------------------------------------------------------------------------------------\u001b[0m\n",
      "\u001b[2m              precision    recall  f1-score   support\n",
      "\n",
      "         CL0       0.71      0.98      0.82       391\n",
      "         CL1       0.00      0.00      0.00        67\n",
      "         CL2       0.27      0.11      0.15        66\n",
      "         CL3       0.00      0.00      0.00        28\n",
      "         CL4       0.00      0.00      0.00         9\n",
      "         CL5       0.00      0.00      0.00         4\n",
      "         CL6       0.00      0.00      0.00         1\n",
      "\n",
      "    accuracy                           0.69       566\n",
      "   macro avg       0.14      0.15      0.14       566\n",
      "weighted avg       0.52      0.69      0.58       566\n",
      "\u001b[0m\n",
      "\u001b[1m----------------------------------------------------------------------------------------------\u001b[0m\n"
     ]
    },
    {
     "name": "stderr",
     "output_type": "stream",
     "text": [
      "/home/dzzz/.local/lib/python3.10/site-packages/sklearn/neural_network/_multilayer_perceptron.py:686: ConvergenceWarning: Stochastic Optimizer: Maximum iterations (20) reached and the optimization hasn't converged yet.\n",
      "  warnings.warn(\n",
      "/home/dzzz/.local/lib/python3.10/site-packages/sklearn/metrics/_classification.py:1344: UndefinedMetricWarning: Precision and F-score are ill-defined and being set to 0.0 in labels with no predicted samples. Use `zero_division` parameter to control this behavior.\n",
      "  _warn_prf(average, modifier, msg_start, len(result))\n",
      "/home/dzzz/.local/lib/python3.10/site-packages/sklearn/metrics/_classification.py:1344: UndefinedMetricWarning: Precision and F-score are ill-defined and being set to 0.0 in labels with no predicted samples. Use `zero_division` parameter to control this behavior.\n",
      "  _warn_prf(average, modifier, msg_start, len(result))\n",
      "/home/dzzz/.local/lib/python3.10/site-packages/sklearn/metrics/_classification.py:1344: UndefinedMetricWarning: Precision and F-score are ill-defined and being set to 0.0 in labels with no predicted samples. Use `zero_division` parameter to control this behavior.\n",
      "  _warn_prf(average, modifier, msg_start, len(result))\n",
      "/home/dzzz/.local/lib/python3.10/site-packages/sklearn/neural_network/_multilayer_perceptron.py:686: ConvergenceWarning: Stochastic Optimizer: Maximum iterations (20) reached and the optimization hasn't converged yet.\n",
      "  warnings.warn(\n",
      "/home/dzzz/.local/lib/python3.10/site-packages/sklearn/metrics/_classification.py:1344: UndefinedMetricWarning: Precision and F-score are ill-defined and being set to 0.0 in labels with no predicted samples. Use `zero_division` parameter to control this behavior.\n",
      "  _warn_prf(average, modifier, msg_start, len(result))\n",
      "/home/dzzz/.local/lib/python3.10/site-packages/sklearn/metrics/_classification.py:1344: UndefinedMetricWarning: Precision and F-score are ill-defined and being set to 0.0 in labels with no predicted samples. Use `zero_division` parameter to control this behavior.\n",
      "  _warn_prf(average, modifier, msg_start, len(result))\n",
      "/home/dzzz/.local/lib/python3.10/site-packages/sklearn/metrics/_classification.py:1344: UndefinedMetricWarning: Precision and F-score are ill-defined and being set to 0.0 in labels with no predicted samples. Use `zero_division` parameter to control this behavior.\n",
      "  _warn_prf(average, modifier, msg_start, len(result))\n"
     ]
    },
    {
     "name": "stdout",
     "output_type": "stream",
     "text": [
      "Benzos\n",
      "\u001b[1m\u001b[34m\tKlasifikacioni izveštaj za model MLPClassifier nad test podacima\u001b[0m\n",
      "\u001b[1m----------------------------------------------------------------------------------------------\u001b[0m\n",
      "\u001b[2m              precision    recall  f1-score   support\n",
      "\n",
      "         CL0       0.66      0.98      0.79       307\n",
      "         CL1       0.00      0.00      0.00        29\n",
      "         CL2       0.64      0.12      0.21        57\n",
      "         CL3       0.29      0.29      0.29        76\n",
      "         CL4       0.40      0.05      0.08        43\n",
      "         CL5       0.00      0.00      0.00        23\n",
      "         CL6       0.12      0.03      0.05        31\n",
      "\n",
      "    accuracy                           0.59       566\n",
      "   macro avg       0.30      0.21      0.20       566\n",
      "weighted avg       0.50      0.59      0.50       566\n",
      "\u001b[0m\n",
      "\u001b[1m----------------------------------------------------------------------------------------------\u001b[0m\n",
      "Canabis\n",
      "\u001b[1m\u001b[34m\tKlasifikacioni izveštaj za model MLPClassifier nad test podacima\u001b[0m\n",
      "\u001b[1m----------------------------------------------------------------------------------------------\u001b[0m\n",
      "\u001b[2m              precision    recall  f1-score   support\n",
      "\n",
      "         CL0       0.74      0.74      0.74       123\n",
      "         CL1       0.33      0.20      0.25        50\n",
      "         CL2       0.22      0.36      0.27        76\n",
      "         CL3       0.33      0.03      0.05        79\n",
      "         CL4       0.00      0.00      0.00        43\n",
      "         CL5       0.00      0.00      0.00        48\n",
      "         CL6       0.44      0.85      0.58       147\n",
      "\n",
      "    accuracy                           0.45       566\n",
      "   macro avg       0.30      0.31      0.27       566\n",
      "weighted avg       0.38      0.45      0.38       566\n",
      "\u001b[0m\n",
      "\u001b[1m----------------------------------------------------------------------------------------------\u001b[0m\n"
     ]
    },
    {
     "name": "stderr",
     "output_type": "stream",
     "text": [
      "/home/dzzz/.local/lib/python3.10/site-packages/sklearn/neural_network/_multilayer_perceptron.py:686: ConvergenceWarning: Stochastic Optimizer: Maximum iterations (20) reached and the optimization hasn't converged yet.\n",
      "  warnings.warn(\n",
      "/home/dzzz/.local/lib/python3.10/site-packages/sklearn/metrics/_classification.py:1344: UndefinedMetricWarning: Precision and F-score are ill-defined and being set to 0.0 in labels with no predicted samples. Use `zero_division` parameter to control this behavior.\n",
      "  _warn_prf(average, modifier, msg_start, len(result))\n",
      "/home/dzzz/.local/lib/python3.10/site-packages/sklearn/metrics/_classification.py:1344: UndefinedMetricWarning: Precision and F-score are ill-defined and being set to 0.0 in labels with no predicted samples. Use `zero_division` parameter to control this behavior.\n",
      "  _warn_prf(average, modifier, msg_start, len(result))\n",
      "/home/dzzz/.local/lib/python3.10/site-packages/sklearn/metrics/_classification.py:1344: UndefinedMetricWarning: Precision and F-score are ill-defined and being set to 0.0 in labels with no predicted samples. Use `zero_division` parameter to control this behavior.\n",
      "  _warn_prf(average, modifier, msg_start, len(result))\n",
      "/home/dzzz/.local/lib/python3.10/site-packages/sklearn/neural_network/_multilayer_perceptron.py:686: ConvergenceWarning: Stochastic Optimizer: Maximum iterations (20) reached and the optimization hasn't converged yet.\n",
      "  warnings.warn(\n",
      "/home/dzzz/.local/lib/python3.10/site-packages/sklearn/metrics/_classification.py:1344: UndefinedMetricWarning: Precision and F-score are ill-defined and being set to 0.0 in labels with no predicted samples. Use `zero_division` parameter to control this behavior.\n",
      "  _warn_prf(average, modifier, msg_start, len(result))\n",
      "/home/dzzz/.local/lib/python3.10/site-packages/sklearn/metrics/_classification.py:1344: UndefinedMetricWarning: Precision and F-score are ill-defined and being set to 0.0 in labels with no predicted samples. Use `zero_division` parameter to control this behavior.\n",
      "  _warn_prf(average, modifier, msg_start, len(result))\n",
      "/home/dzzz/.local/lib/python3.10/site-packages/sklearn/metrics/_classification.py:1344: UndefinedMetricWarning: Precision and F-score are ill-defined and being set to 0.0 in labels with no predicted samples. Use `zero_division` parameter to control this behavior.\n",
      "  _warn_prf(average, modifier, msg_start, len(result))\n"
     ]
    },
    {
     "name": "stdout",
     "output_type": "stream",
     "text": [
      "Choc\n",
      "\u001b[1m\u001b[34m\tKlasifikacioni izveštaj za model MLPClassifier nad test podacima\u001b[0m\n",
      "\u001b[1m----------------------------------------------------------------------------------------------\u001b[0m\n",
      "\u001b[2m              precision    recall  f1-score   support\n",
      "\n",
      "         CL0       0.00      0.00      0.00         6\n",
      "         CL1       0.00      0.00      0.00         1\n",
      "         CL2       0.00      0.00      0.00         4\n",
      "         CL3       0.00      0.00      0.00        15\n",
      "         CL4       0.00      0.00      0.00        80\n",
      "         CL5       0.36      0.25      0.30       220\n",
      "         CL6       0.43      0.75      0.55       240\n",
      "\n",
      "    accuracy                           0.42       566\n",
      "   macro avg       0.11      0.14      0.12       566\n",
      "weighted avg       0.33      0.42      0.35       566\n",
      "\u001b[0m\n",
      "\u001b[1m----------------------------------------------------------------------------------------------\u001b[0m\n",
      "Coke\n",
      "\u001b[1m\u001b[34m\tKlasifikacioni izveštaj za model MLPClassifier nad test podacima\u001b[0m\n",
      "\u001b[1m----------------------------------------------------------------------------------------------\u001b[0m\n",
      "\u001b[2m              precision    recall  f1-score   support\n",
      "\n",
      "         CL0       0.75      0.89      0.81       311\n",
      "         CL1       0.00      0.00      0.00        51\n",
      "         CL2       0.34      0.46      0.39        72\n",
      "         CL3       0.34      0.44      0.38        75\n",
      "         CL4       0.00      0.00      0.00        37\n",
      "         CL5       0.00      0.00      0.00        13\n",
      "         CL6       0.00      0.00      0.00         7\n",
      "\n",
      "    accuracy                           0.61       566\n",
      "   macro avg       0.20      0.26      0.23       566\n",
      "weighted avg       0.50      0.61      0.55       566\n",
      "\u001b[0m\n",
      "\u001b[1m----------------------------------------------------------------------------------------------\u001b[0m\n"
     ]
    },
    {
     "name": "stderr",
     "output_type": "stream",
     "text": [
      "/home/dzzz/.local/lib/python3.10/site-packages/sklearn/neural_network/_multilayer_perceptron.py:686: ConvergenceWarning: Stochastic Optimizer: Maximum iterations (20) reached and the optimization hasn't converged yet.\n",
      "  warnings.warn(\n",
      "/home/dzzz/.local/lib/python3.10/site-packages/sklearn/metrics/_classification.py:1344: UndefinedMetricWarning: Precision and F-score are ill-defined and being set to 0.0 in labels with no predicted samples. Use `zero_division` parameter to control this behavior.\n",
      "  _warn_prf(average, modifier, msg_start, len(result))\n",
      "/home/dzzz/.local/lib/python3.10/site-packages/sklearn/metrics/_classification.py:1344: UndefinedMetricWarning: Precision and F-score are ill-defined and being set to 0.0 in labels with no predicted samples. Use `zero_division` parameter to control this behavior.\n",
      "  _warn_prf(average, modifier, msg_start, len(result))\n",
      "/home/dzzz/.local/lib/python3.10/site-packages/sklearn/metrics/_classification.py:1344: UndefinedMetricWarning: Precision and F-score are ill-defined and being set to 0.0 in labels with no predicted samples. Use `zero_division` parameter to control this behavior.\n",
      "  _warn_prf(average, modifier, msg_start, len(result))\n",
      "/home/dzzz/.local/lib/python3.10/site-packages/sklearn/neural_network/_multilayer_perceptron.py:686: ConvergenceWarning: Stochastic Optimizer: Maximum iterations (20) reached and the optimization hasn't converged yet.\n",
      "  warnings.warn(\n",
      "/home/dzzz/.local/lib/python3.10/site-packages/sklearn/metrics/_classification.py:1344: UndefinedMetricWarning: Precision and F-score are ill-defined and being set to 0.0 in labels with no predicted samples. Use `zero_division` parameter to control this behavior.\n",
      "  _warn_prf(average, modifier, msg_start, len(result))\n",
      "/home/dzzz/.local/lib/python3.10/site-packages/sklearn/metrics/_classification.py:1344: UndefinedMetricWarning: Precision and F-score are ill-defined and being set to 0.0 in labels with no predicted samples. Use `zero_division` parameter to control this behavior.\n",
      "  _warn_prf(average, modifier, msg_start, len(result))\n",
      "/home/dzzz/.local/lib/python3.10/site-packages/sklearn/metrics/_classification.py:1344: UndefinedMetricWarning: Precision and F-score are ill-defined and being set to 0.0 in labels with no predicted samples. Use `zero_division` parameter to control this behavior.\n",
      "  _warn_prf(average, modifier, msg_start, len(result))\n"
     ]
    },
    {
     "name": "stdout",
     "output_type": "stream",
     "text": [
      "Crack\n",
      "\u001b[1m\u001b[34m\tKlasifikacioni izveštaj za model MLPClassifier nad test podacima\u001b[0m\n",
      "\u001b[1m----------------------------------------------------------------------------------------------\u001b[0m\n",
      "\u001b[2m              precision    recall  f1-score   support\n",
      "\n",
      "         CL0       0.88      0.99      0.93       492\n",
      "         CL1       0.00      0.00      0.00        14\n",
      "         CL2       0.17      0.05      0.08        38\n",
      "         CL3       0.00      0.00      0.00        18\n",
      "         CL4       0.00      0.00      0.00         2\n",
      "         CL5       0.00      0.00      0.00         1\n",
      "         CL6       0.00      0.00      0.00         1\n",
      "\n",
      "    accuracy                           0.86       566\n",
      "   macro avg       0.15      0.15      0.14       566\n",
      "weighted avg       0.77      0.86      0.81       566\n",
      "\u001b[0m\n",
      "\u001b[1m----------------------------------------------------------------------------------------------\u001b[0m\n",
      "Ecstasy\n",
      "\u001b[1m\u001b[34m\tKlasifikacioni izveštaj za model MLPClassifier nad test podacima\u001b[0m\n",
      "\u001b[1m----------------------------------------------------------------------------------------------\u001b[0m\n",
      "\u001b[2m              precision    recall  f1-score   support\n",
      "\n",
      "         CL0       0.81      0.91      0.86       307\n",
      "         CL1       0.00      0.00      0.00        34\n",
      "         CL2       0.38      0.31      0.34        70\n",
      "         CL3       0.32      0.41      0.36        88\n",
      "         CL4       0.28      0.29      0.28        45\n",
      "         CL5       0.00      0.00      0.00        16\n",
      "         CL6       0.00      0.00      0.00         6\n",
      "\n",
      "    accuracy                           0.62       566\n",
      "   macro avg       0.25      0.27      0.26       566\n",
      "weighted avg       0.56      0.62      0.59       566\n",
      "\u001b[0m\n",
      "\u001b[1m----------------------------------------------------------------------------------------------\u001b[0m\n"
     ]
    },
    {
     "name": "stderr",
     "output_type": "stream",
     "text": [
      "/home/dzzz/.local/lib/python3.10/site-packages/sklearn/neural_network/_multilayer_perceptron.py:686: ConvergenceWarning: Stochastic Optimizer: Maximum iterations (20) reached and the optimization hasn't converged yet.\n",
      "  warnings.warn(\n",
      "/home/dzzz/.local/lib/python3.10/site-packages/sklearn/metrics/_classification.py:1344: UndefinedMetricWarning: Precision and F-score are ill-defined and being set to 0.0 in labels with no predicted samples. Use `zero_division` parameter to control this behavior.\n",
      "  _warn_prf(average, modifier, msg_start, len(result))\n",
      "/home/dzzz/.local/lib/python3.10/site-packages/sklearn/metrics/_classification.py:1344: UndefinedMetricWarning: Precision and F-score are ill-defined and being set to 0.0 in labels with no predicted samples. Use `zero_division` parameter to control this behavior.\n",
      "  _warn_prf(average, modifier, msg_start, len(result))\n",
      "/home/dzzz/.local/lib/python3.10/site-packages/sklearn/metrics/_classification.py:1344: UndefinedMetricWarning: Precision and F-score are ill-defined and being set to 0.0 in labels with no predicted samples. Use `zero_division` parameter to control this behavior.\n",
      "  _warn_prf(average, modifier, msg_start, len(result))\n",
      "/home/dzzz/.local/lib/python3.10/site-packages/sklearn/neural_network/_multilayer_perceptron.py:686: ConvergenceWarning: Stochastic Optimizer: Maximum iterations (20) reached and the optimization hasn't converged yet.\n",
      "  warnings.warn(\n",
      "/home/dzzz/.local/lib/python3.10/site-packages/sklearn/metrics/_classification.py:1344: UndefinedMetricWarning: Precision and F-score are ill-defined and being set to 0.0 in labels with no predicted samples. Use `zero_division` parameter to control this behavior.\n",
      "  _warn_prf(average, modifier, msg_start, len(result))\n",
      "/home/dzzz/.local/lib/python3.10/site-packages/sklearn/metrics/_classification.py:1344: UndefinedMetricWarning: Precision and F-score are ill-defined and being set to 0.0 in labels with no predicted samples. Use `zero_division` parameter to control this behavior.\n",
      "  _warn_prf(average, modifier, msg_start, len(result))\n",
      "/home/dzzz/.local/lib/python3.10/site-packages/sklearn/metrics/_classification.py:1344: UndefinedMetricWarning: Precision and F-score are ill-defined and being set to 0.0 in labels with no predicted samples. Use `zero_division` parameter to control this behavior.\n",
      "  _warn_prf(average, modifier, msg_start, len(result))\n"
     ]
    },
    {
     "name": "stdout",
     "output_type": "stream",
     "text": [
      "Heroin\n",
      "\u001b[1m\u001b[34m\tKlasifikacioni izveštaj za model MLPClassifier nad test podacima\u001b[0m\n",
      "\u001b[1m----------------------------------------------------------------------------------------------\u001b[0m\n",
      "\u001b[2m              precision    recall  f1-score   support\n",
      "\n",
      "         CL0       0.89      0.99      0.94       481\n",
      "         CL1       0.00      0.00      0.00        15\n",
      "         CL2       0.21      0.20      0.21        30\n",
      "         CL3       0.00      0.00      0.00        24\n",
      "         CL4       0.00      0.00      0.00         9\n",
      "         CL5       0.00      0.00      0.00         4\n",
      "         CL6       0.00      0.00      0.00         3\n",
      "\n",
      "    accuracy                           0.85       566\n",
      "   macro avg       0.16      0.17      0.16       566\n",
      "weighted avg       0.76      0.85      0.81       566\n",
      "\u001b[0m\n",
      "\u001b[1m----------------------------------------------------------------------------------------------\u001b[0m\n",
      "Ketamin\n",
      "\u001b[1m\u001b[34m\tKlasifikacioni izveštaj za model MLPClassifier nad test podacima\u001b[0m\n",
      "\u001b[1m----------------------------------------------------------------------------------------------\u001b[0m\n",
      "\u001b[2m              precision    recall  f1-score   support\n",
      "\n",
      "         CL0       0.82      0.98      0.90       448\n",
      "         CL1       0.00      0.00      0.00        12\n",
      "         CL2       0.17      0.06      0.08        36\n",
      "         CL3       0.35      0.14      0.20        42\n",
      "         CL4       0.00      0.00      0.00        11\n",
      "         CL5       0.00      0.00      0.00        16\n",
      "         CL6       0.00      0.00      0.00         1\n",
      "\n",
      "    accuracy                           0.79       566\n",
      "   macro avg       0.19      0.17      0.17       566\n",
      "weighted avg       0.69      0.79      0.73       566\n",
      "\u001b[0m\n",
      "\u001b[1m----------------------------------------------------------------------------------------------\u001b[0m\n"
     ]
    },
    {
     "name": "stderr",
     "output_type": "stream",
     "text": [
      "/home/dzzz/.local/lib/python3.10/site-packages/sklearn/neural_network/_multilayer_perceptron.py:686: ConvergenceWarning: Stochastic Optimizer: Maximum iterations (20) reached and the optimization hasn't converged yet.\n",
      "  warnings.warn(\n",
      "/home/dzzz/.local/lib/python3.10/site-packages/sklearn/metrics/_classification.py:1344: UndefinedMetricWarning: Precision and F-score are ill-defined and being set to 0.0 in labels with no predicted samples. Use `zero_division` parameter to control this behavior.\n",
      "  _warn_prf(average, modifier, msg_start, len(result))\n",
      "/home/dzzz/.local/lib/python3.10/site-packages/sklearn/metrics/_classification.py:1344: UndefinedMetricWarning: Precision and F-score are ill-defined and being set to 0.0 in labels with no predicted samples. Use `zero_division` parameter to control this behavior.\n",
      "  _warn_prf(average, modifier, msg_start, len(result))\n",
      "/home/dzzz/.local/lib/python3.10/site-packages/sklearn/metrics/_classification.py:1344: UndefinedMetricWarning: Precision and F-score are ill-defined and being set to 0.0 in labels with no predicted samples. Use `zero_division` parameter to control this behavior.\n",
      "  _warn_prf(average, modifier, msg_start, len(result))\n",
      "/home/dzzz/.local/lib/python3.10/site-packages/sklearn/neural_network/_multilayer_perceptron.py:686: ConvergenceWarning: Stochastic Optimizer: Maximum iterations (20) reached and the optimization hasn't converged yet.\n",
      "  warnings.warn(\n",
      "/home/dzzz/.local/lib/python3.10/site-packages/sklearn/metrics/_classification.py:1344: UndefinedMetricWarning: Precision and F-score are ill-defined and being set to 0.0 in labels with no predicted samples. Use `zero_division` parameter to control this behavior.\n",
      "  _warn_prf(average, modifier, msg_start, len(result))\n",
      "/home/dzzz/.local/lib/python3.10/site-packages/sklearn/metrics/_classification.py:1344: UndefinedMetricWarning: Precision and F-score are ill-defined and being set to 0.0 in labels with no predicted samples. Use `zero_division` parameter to control this behavior.\n",
      "  _warn_prf(average, modifier, msg_start, len(result))\n",
      "/home/dzzz/.local/lib/python3.10/site-packages/sklearn/metrics/_classification.py:1344: UndefinedMetricWarning: Precision and F-score are ill-defined and being set to 0.0 in labels with no predicted samples. Use `zero_division` parameter to control this behavior.\n",
      "  _warn_prf(average, modifier, msg_start, len(result))\n"
     ]
    },
    {
     "name": "stdout",
     "output_type": "stream",
     "text": [
      "LegalH\n",
      "\u001b[1m\u001b[34m\tKlasifikacioni izveštaj za model MLPClassifier nad test podacima\u001b[0m\n",
      "\u001b[1m----------------------------------------------------------------------------------------------\u001b[0m\n",
      "\u001b[2m              precision    recall  f1-score   support\n",
      "\n",
      "         CL0       0.75      0.88      0.81       314\n",
      "         CL1       0.00      0.00      0.00         8\n",
      "         CL2       0.00      0.00      0.00        63\n",
      "         CL3       0.36      0.63      0.46       104\n",
      "         CL4       0.00      0.00      0.00        35\n",
      "         CL5       0.00      0.00      0.00        24\n",
      "         CL6       0.00      0.00      0.00        18\n",
      "\n",
      "    accuracy                           0.61       566\n",
      "   macro avg       0.16      0.22      0.18       566\n",
      "weighted avg       0.48      0.61      0.53       566\n",
      "\u001b[0m\n",
      "\u001b[1m----------------------------------------------------------------------------------------------\u001b[0m\n",
      "LSD\n",
      "\u001b[1m\u001b[34m\tKlasifikacioni izveštaj za model MLPClassifier nad test podacima\u001b[0m\n",
      "\u001b[1m----------------------------------------------------------------------------------------------\u001b[0m\n",
      "\u001b[2m              precision    recall  f1-score   support\n",
      "\n",
      "         CL0       0.74      0.89      0.81       321\n",
      "         CL1       0.41      0.17      0.24        77\n",
      "         CL2       0.34      0.40      0.37        55\n",
      "         CL3       0.29      0.35      0.32        68\n",
      "         CL4       0.00      0.00      0.00        29\n",
      "         CL5       0.00      0.00      0.00        13\n",
      "         CL6       0.00      0.00      0.00         3\n",
      "\n",
      "    accuracy                           0.61       566\n",
      "   macro avg       0.25      0.26      0.25       566\n",
      "weighted avg       0.55      0.61      0.57       566\n",
      "\u001b[0m\n",
      "\u001b[1m----------------------------------------------------------------------------------------------\u001b[0m\n"
     ]
    },
    {
     "name": "stderr",
     "output_type": "stream",
     "text": [
      "/home/dzzz/.local/lib/python3.10/site-packages/sklearn/neural_network/_multilayer_perceptron.py:686: ConvergenceWarning: Stochastic Optimizer: Maximum iterations (20) reached and the optimization hasn't converged yet.\n",
      "  warnings.warn(\n",
      "/home/dzzz/.local/lib/python3.10/site-packages/sklearn/metrics/_classification.py:1344: UndefinedMetricWarning: Precision and F-score are ill-defined and being set to 0.0 in labels with no predicted samples. Use `zero_division` parameter to control this behavior.\n",
      "  _warn_prf(average, modifier, msg_start, len(result))\n",
      "/home/dzzz/.local/lib/python3.10/site-packages/sklearn/metrics/_classification.py:1344: UndefinedMetricWarning: Precision and F-score are ill-defined and being set to 0.0 in labels with no predicted samples. Use `zero_division` parameter to control this behavior.\n",
      "  _warn_prf(average, modifier, msg_start, len(result))\n",
      "/home/dzzz/.local/lib/python3.10/site-packages/sklearn/metrics/_classification.py:1344: UndefinedMetricWarning: Precision and F-score are ill-defined and being set to 0.0 in labels with no predicted samples. Use `zero_division` parameter to control this behavior.\n",
      "  _warn_prf(average, modifier, msg_start, len(result))\n",
      "/home/dzzz/.local/lib/python3.10/site-packages/sklearn/neural_network/_multilayer_perceptron.py:686: ConvergenceWarning: Stochastic Optimizer: Maximum iterations (20) reached and the optimization hasn't converged yet.\n",
      "  warnings.warn(\n",
      "/home/dzzz/.local/lib/python3.10/site-packages/sklearn/metrics/_classification.py:1344: UndefinedMetricWarning: Precision and F-score are ill-defined and being set to 0.0 in labels with no predicted samples. Use `zero_division` parameter to control this behavior.\n",
      "  _warn_prf(average, modifier, msg_start, len(result))\n",
      "/home/dzzz/.local/lib/python3.10/site-packages/sklearn/metrics/_classification.py:1344: UndefinedMetricWarning: Precision and F-score are ill-defined and being set to 0.0 in labels with no predicted samples. Use `zero_division` parameter to control this behavior.\n",
      "  _warn_prf(average, modifier, msg_start, len(result))\n",
      "/home/dzzz/.local/lib/python3.10/site-packages/sklearn/metrics/_classification.py:1344: UndefinedMetricWarning: Precision and F-score are ill-defined and being set to 0.0 in labels with no predicted samples. Use `zero_division` parameter to control this behavior.\n",
      "  _warn_prf(average, modifier, msg_start, len(result))\n"
     ]
    },
    {
     "name": "stdout",
     "output_type": "stream",
     "text": [
      "Meth\n",
      "\u001b[1m\u001b[34m\tKlasifikacioni izveštaj za model MLPClassifier nad test podacima\u001b[0m\n",
      "\u001b[1m----------------------------------------------------------------------------------------------\u001b[0m\n",
      "\u001b[2m              precision    recall  f1-score   support\n",
      "\n",
      "         CL0       0.81      0.98      0.88       424\n",
      "         CL1       0.00      0.00      0.00         8\n",
      "         CL2       0.00      0.00      0.00        31\n",
      "         CL3       0.27      0.27      0.27        49\n",
      "         CL4       0.00      0.00      0.00        15\n",
      "         CL5       0.00      0.00      0.00        17\n",
      "         CL6       0.00      0.00      0.00        22\n",
      "\n",
      "    accuracy                           0.75       566\n",
      "   macro avg       0.15      0.18      0.16       566\n",
      "weighted avg       0.63      0.75      0.68       566\n",
      "\u001b[0m\n",
      "\u001b[1m----------------------------------------------------------------------------------------------\u001b[0m\n",
      "Mushrooms\n",
      "\u001b[1m\u001b[34m\tKlasifikacioni izveštaj za model MLPClassifier nad test podacima\u001b[0m\n",
      "\u001b[1m----------------------------------------------------------------------------------------------\u001b[0m\n",
      "\u001b[2m              precision    recall  f1-score   support\n",
      "\n",
      "         CL0       0.74      0.87      0.80       288\n",
      "         CL1       0.42      0.08      0.14        61\n",
      "         CL2       0.32      0.32      0.32        77\n",
      "         CL3       0.40      0.64      0.50        84\n",
      "         CL4       0.50      0.08      0.13        39\n",
      "         CL5       0.00      0.00      0.00        13\n",
      "         CL6       0.00      0.00      0.00         4\n",
      "\n",
      "    accuracy                           0.60       566\n",
      "   macro avg       0.34      0.28      0.27       566\n",
      "weighted avg       0.56      0.60      0.55       566\n",
      "\u001b[0m\n",
      "\u001b[1m----------------------------------------------------------------------------------------------\u001b[0m\n",
      "Nicotine\n",
      "\u001b[1m\u001b[34m\tKlasifikacioni izveštaj za model MLPClassifier nad test podacima\u001b[0m\n",
      "\u001b[1m----------------------------------------------------------------------------------------------\u001b[0m\n",
      "\u001b[2m              precision    recall  f1-score   support\n",
      "\n",
      "         CL0       0.56      0.66      0.61       143\n",
      "         CL1       0.00      0.00      0.00        51\n",
      "         CL2       0.67      0.03      0.06        62\n",
      "         CL3       0.07      0.02      0.03        59\n",
      "         CL4       0.00      0.00      0.00        27\n",
      "         CL5       0.00      0.00      0.00        44\n",
      "         CL6       0.41      0.86      0.56       180\n",
      "\n",
      "    accuracy                           0.45       566\n",
      "   macro avg       0.24      0.22      0.18       566\n",
      "weighted avg       0.35      0.45      0.34       566\n",
      "\u001b[0m\n",
      "\u001b[1m----------------------------------------------------------------------------------------------\u001b[0m\n",
      "VSA\n",
      "\u001b[1m\u001b[34m\tKlasifikacioni izveštaj za model MLPClassifier nad test podacima\u001b[0m\n",
      "\u001b[1m----------------------------------------------------------------------------------------------\u001b[0m\n",
      "\u001b[2m              precision    recall  f1-score   support\n",
      "\n",
      "         CL0       0.77      0.99      0.86       433\n",
      "         CL1       0.00      0.00      0.00        59\n",
      "         CL2       0.12      0.03      0.04        39\n",
      "         CL3       0.00      0.00      0.00        22\n",
      "         CL4       0.00      0.00      0.00         2\n",
      "         CL5       0.00      0.00      0.00         9\n",
      "         CL6       0.00      0.00      0.00         2\n",
      "\n",
      "    accuracy                           0.76       566\n",
      "   macro avg       0.13      0.14      0.13       566\n",
      "weighted avg       0.60      0.76      0.66       566\n",
      "\u001b[0m\n",
      "\u001b[1m----------------------------------------------------------------------------------------------\u001b[0m\n"
     ]
    },
    {
     "name": "stderr",
     "output_type": "stream",
     "text": [
      "/home/dzzz/.local/lib/python3.10/site-packages/sklearn/neural_network/_multilayer_perceptron.py:686: ConvergenceWarning: Stochastic Optimizer: Maximum iterations (20) reached and the optimization hasn't converged yet.\n",
      "  warnings.warn(\n",
      "/home/dzzz/.local/lib/python3.10/site-packages/sklearn/metrics/_classification.py:1344: UndefinedMetricWarning: Precision and F-score are ill-defined and being set to 0.0 in labels with no predicted samples. Use `zero_division` parameter to control this behavior.\n",
      "  _warn_prf(average, modifier, msg_start, len(result))\n",
      "/home/dzzz/.local/lib/python3.10/site-packages/sklearn/metrics/_classification.py:1344: UndefinedMetricWarning: Precision and F-score are ill-defined and being set to 0.0 in labels with no predicted samples. Use `zero_division` parameter to control this behavior.\n",
      "  _warn_prf(average, modifier, msg_start, len(result))\n",
      "/home/dzzz/.local/lib/python3.10/site-packages/sklearn/metrics/_classification.py:1344: UndefinedMetricWarning: Precision and F-score are ill-defined and being set to 0.0 in labels with no predicted samples. Use `zero_division` parameter to control this behavior.\n",
      "  _warn_prf(average, modifier, msg_start, len(result))\n",
      "/home/dzzz/.local/lib/python3.10/site-packages/sklearn/neural_network/_multilayer_perceptron.py:686: ConvergenceWarning: Stochastic Optimizer: Maximum iterations (20) reached and the optimization hasn't converged yet.\n",
      "  warnings.warn(\n",
      "/home/dzzz/.local/lib/python3.10/site-packages/sklearn/metrics/_classification.py:1344: UndefinedMetricWarning: Precision and F-score are ill-defined and being set to 0.0 in labels with no predicted samples. Use `zero_division` parameter to control this behavior.\n",
      "  _warn_prf(average, modifier, msg_start, len(result))\n",
      "/home/dzzz/.local/lib/python3.10/site-packages/sklearn/metrics/_classification.py:1344: UndefinedMetricWarning: Precision and F-score are ill-defined and being set to 0.0 in labels with no predicted samples. Use `zero_division` parameter to control this behavior.\n",
      "  _warn_prf(average, modifier, msg_start, len(result))\n",
      "/home/dzzz/.local/lib/python3.10/site-packages/sklearn/metrics/_classification.py:1344: UndefinedMetricWarning: Precision and F-score are ill-defined and being set to 0.0 in labels with no predicted samples. Use `zero_division` parameter to control this behavior.\n",
      "  _warn_prf(average, modifier, msg_start, len(result))\n"
     ]
    }
   ],
   "source": [
    "#delimo podatke na train/test skupove\n",
    "n = len(podaci_bez_klase)\n",
    "preciznosti_sve = []\n",
    "for i in range(n):\n",
    "    X_train, X_test, y_train, y_test = train_test_split(podaci_bez_klase[i], klasni_podaci[i], test_size = 0.30,  random_state = 42)\n",
    "    mreza.fit(X_train, y_train)\n",
    "    \n",
    "    for a in atributi:\n",
    "        X_train[a] = skaliraj_podatke(X_train[a])\n",
    "        X_test[a] = skaliraj_podatke(X_test[a])\n",
    "    \n",
    "    print(klase[i])\n",
    "    report(mreza, X_test, y_test, text= 'test')\n",
    "    \n",
    "    predicted = mreza.predict(X_test)\n",
    "    preciznosti_sve.append(round(accuracy_score(y_test, predicted), 4))\n"
   ]
  },
  {
   "cell_type": "code",
   "execution_count": 33,
   "id": "a48c8583",
   "metadata": {},
   "outputs": [
    {
     "data": {
      "text/plain": [
       "[0.5742,\n",
       " 0.6873,\n",
       " 0.5883,\n",
       " 0.4505,\n",
       " 0.4152,\n",
       " 0.606,\n",
       " 0.8604,\n",
       " 0.6201,\n",
       " 0.8534,\n",
       " 0.7933,\n",
       " 0.606,\n",
       " 0.6095,\n",
       " 0.7544,\n",
       " 0.5954,\n",
       " 0.447,\n",
       " 0.758]"
      ]
     },
     "execution_count": 33,
     "metadata": {},
     "output_type": "execute_result"
    }
   ],
   "source": [
    "preciznosti_sve"
   ]
  },
  {
   "cell_type": "code",
   "execution_count": 34,
   "id": "353cee79",
   "metadata": {},
   "outputs": [
    {
     "name": "stderr",
     "output_type": "stream",
     "text": [
      "/home/dzzz/.local/lib/python3.10/site-packages/sklearn/model_selection/_split.py:700: UserWarning: The least populated class in y has only 2 members, which is less than n_splits=3.\n",
      "  warnings.warn(\n",
      "/home/dzzz/.local/lib/python3.10/site-packages/sklearn/neural_network/_multilayer_perceptron.py:686: ConvergenceWarning: Stochastic Optimizer: Maximum iterations (20) reached and the optimization hasn't converged yet.\n",
      "  warnings.warn(\n",
      "/home/dzzz/.local/lib/python3.10/site-packages/sklearn/neural_network/_multilayer_perceptron.py:686: ConvergenceWarning: Stochastic Optimizer: Maximum iterations (20) reached and the optimization hasn't converged yet.\n",
      "  warnings.warn(\n",
      "/home/dzzz/.local/lib/python3.10/site-packages/sklearn/neural_network/_multilayer_perceptron.py:686: ConvergenceWarning: Stochastic Optimizer: Maximum iterations (20) reached and the optimization hasn't converged yet.\n",
      "  warnings.warn(\n",
      "/home/dzzz/.local/lib/python3.10/site-packages/sklearn/neural_network/_multilayer_perceptron.py:686: ConvergenceWarning: Stochastic Optimizer: Maximum iterations (20) reached and the optimization hasn't converged yet.\n",
      "  warnings.warn(\n",
      "/home/dzzz/.local/lib/python3.10/site-packages/sklearn/neural_network/_multilayer_perceptron.py:686: ConvergenceWarning: Stochastic Optimizer: Maximum iterations (20) reached and the optimization hasn't converged yet.\n",
      "  warnings.warn(\n",
      "/home/dzzz/.local/lib/python3.10/site-packages/sklearn/neural_network/_multilayer_perceptron.py:686: ConvergenceWarning: Stochastic Optimizer: Maximum iterations (20) reached and the optimization hasn't converged yet.\n",
      "  warnings.warn(\n",
      "/home/dzzz/.local/lib/python3.10/site-packages/sklearn/neural_network/_multilayer_perceptron.py:686: ConvergenceWarning: Stochastic Optimizer: Maximum iterations (20) reached and the optimization hasn't converged yet.\n",
      "  warnings.warn(\n",
      "/home/dzzz/.local/lib/python3.10/site-packages/sklearn/neural_network/_multilayer_perceptron.py:686: ConvergenceWarning: Stochastic Optimizer: Maximum iterations (20) reached and the optimization hasn't converged yet.\n",
      "  warnings.warn(\n",
      "/home/dzzz/.local/lib/python3.10/site-packages/sklearn/neural_network/_multilayer_perceptron.py:686: ConvergenceWarning: Stochastic Optimizer: Maximum iterations (20) reached and the optimization hasn't converged yet.\n",
      "  warnings.warn(\n",
      "/home/dzzz/.local/lib/python3.10/site-packages/sklearn/neural_network/_multilayer_perceptron.py:686: ConvergenceWarning: Stochastic Optimizer: Maximum iterations (20) reached and the optimization hasn't converged yet.\n",
      "  warnings.warn(\n",
      "/home/dzzz/.local/lib/python3.10/site-packages/sklearn/neural_network/_multilayer_perceptron.py:686: ConvergenceWarning: Stochastic Optimizer: Maximum iterations (20) reached and the optimization hasn't converged yet.\n",
      "  warnings.warn(\n",
      "/home/dzzz/.local/lib/python3.10/site-packages/sklearn/neural_network/_multilayer_perceptron.py:686: ConvergenceWarning: Stochastic Optimizer: Maximum iterations (20) reached and the optimization hasn't converged yet.\n",
      "  warnings.warn(\n",
      "/home/dzzz/.local/lib/python3.10/site-packages/sklearn/neural_network/_multilayer_perceptron.py:686: ConvergenceWarning: Stochastic Optimizer: Maximum iterations (20) reached and the optimization hasn't converged yet.\n",
      "  warnings.warn(\n",
      "/home/dzzz/.local/lib/python3.10/site-packages/sklearn/neural_network/_multilayer_perceptron.py:686: ConvergenceWarning: Stochastic Optimizer: Maximum iterations (20) reached and the optimization hasn't converged yet.\n",
      "  warnings.warn(\n",
      "/home/dzzz/.local/lib/python3.10/site-packages/sklearn/neural_network/_multilayer_perceptron.py:686: ConvergenceWarning: Stochastic Optimizer: Maximum iterations (20) reached and the optimization hasn't converged yet.\n",
      "  warnings.warn(\n",
      "/home/dzzz/.local/lib/python3.10/site-packages/sklearn/neural_network/_multilayer_perceptron.py:686: ConvergenceWarning: Stochastic Optimizer: Maximum iterations (20) reached and the optimization hasn't converged yet.\n",
      "  warnings.warn(\n",
      "/home/dzzz/.local/lib/python3.10/site-packages/sklearn/neural_network/_multilayer_perceptron.py:686: ConvergenceWarning: Stochastic Optimizer: Maximum iterations (20) reached and the optimization hasn't converged yet.\n",
      "  warnings.warn(\n",
      "/home/dzzz/.local/lib/python3.10/site-packages/sklearn/neural_network/_multilayer_perceptron.py:686: ConvergenceWarning: Stochastic Optimizer: Maximum iterations (20) reached and the optimization hasn't converged yet.\n",
      "  warnings.warn(\n",
      "/home/dzzz/.local/lib/python3.10/site-packages/sklearn/neural_network/_multilayer_perceptron.py:686: ConvergenceWarning: Stochastic Optimizer: Maximum iterations (20) reached and the optimization hasn't converged yet.\n",
      "  warnings.warn(\n",
      "/home/dzzz/.local/lib/python3.10/site-packages/sklearn/neural_network/_multilayer_perceptron.py:686: ConvergenceWarning: Stochastic Optimizer: Maximum iterations (20) reached and the optimization hasn't converged yet.\n",
      "  warnings.warn(\n",
      "/home/dzzz/.local/lib/python3.10/site-packages/sklearn/neural_network/_multilayer_perceptron.py:686: ConvergenceWarning: Stochastic Optimizer: Maximum iterations (20) reached and the optimization hasn't converged yet.\n",
      "  warnings.warn(\n",
      "/home/dzzz/.local/lib/python3.10/site-packages/sklearn/neural_network/_multilayer_perceptron.py:686: ConvergenceWarning: Stochastic Optimizer: Maximum iterations (20) reached and the optimization hasn't converged yet.\n",
      "  warnings.warn(\n",
      "/home/dzzz/.local/lib/python3.10/site-packages/sklearn/neural_network/_multilayer_perceptron.py:686: ConvergenceWarning: Stochastic Optimizer: Maximum iterations (20) reached and the optimization hasn't converged yet.\n",
      "  warnings.warn(\n",
      "/home/dzzz/.local/lib/python3.10/site-packages/sklearn/neural_network/_multilayer_perceptron.py:686: ConvergenceWarning: Stochastic Optimizer: Maximum iterations (20) reached and the optimization hasn't converged yet.\n",
      "  warnings.warn(\n",
      "/home/dzzz/.local/lib/python3.10/site-packages/sklearn/neural_network/_multilayer_perceptron.py:686: ConvergenceWarning: Stochastic Optimizer: Maximum iterations (20) reached and the optimization hasn't converged yet.\n",
      "  warnings.warn(\n",
      "/home/dzzz/.local/lib/python3.10/site-packages/sklearn/neural_network/_multilayer_perceptron.py:686: ConvergenceWarning: Stochastic Optimizer: Maximum iterations (20) reached and the optimization hasn't converged yet.\n",
      "  warnings.warn(\n",
      "/home/dzzz/.local/lib/python3.10/site-packages/sklearn/neural_network/_multilayer_perceptron.py:686: ConvergenceWarning: Stochastic Optimizer: Maximum iterations (20) reached and the optimization hasn't converged yet.\n",
      "  warnings.warn(\n",
      "/home/dzzz/.local/lib/python3.10/site-packages/sklearn/neural_network/_multilayer_perceptron.py:686: ConvergenceWarning: Stochastic Optimizer: Maximum iterations (20) reached and the optimization hasn't converged yet.\n",
      "  warnings.warn(\n",
      "/home/dzzz/.local/lib/python3.10/site-packages/sklearn/neural_network/_multilayer_perceptron.py:686: ConvergenceWarning: Stochastic Optimizer: Maximum iterations (20) reached and the optimization hasn't converged yet.\n",
      "  warnings.warn(\n",
      "/home/dzzz/.local/lib/python3.10/site-packages/sklearn/neural_network/_multilayer_perceptron.py:686: ConvergenceWarning: Stochastic Optimizer: Maximum iterations (20) reached and the optimization hasn't converged yet.\n",
      "  warnings.warn(\n"
     ]
    },
    {
     "data": {
      "image/png": "[encoded data removed]",
      "text/plain": [
       "<Figure size 800x600 with 1 Axes>"
      ]
     },
     "metadata": {},
     "output_type": "display_data"
    }
   ],
   "source": [
    "plot_learning_curve(mreza, X_test, y_test)"
   ]
  },
  {
   "cell_type": "code",
   "execution_count": 35,
   "id": "7943444e",
   "metadata": {},
   "outputs": [
    {
     "data": {
      "text/plain": [
       "[0.5177,\n",
       " 0.6979,\n",
       " 0.5336,\n",
       " 0.4046,\n",
       " 0.4117,\n",
       " 0.5477,\n",
       " 0.8693,\n",
       " 0.5583,\n",
       " 0.8498,\n",
       " 0.7915,\n",
       " 0.5919,\n",
       " 0.5583,\n",
       " 0.7509,\n",
       " 0.5177,\n",
       " 0.3852,\n",
       " 0.765]"
      ]
     },
     "execution_count": 35,
     "metadata": {},
     "output_type": "execute_result"
    }
   ],
   "source": [
    "preciznosti"
   ]
  },
  {
   "cell_type": "code",
   "execution_count": 36,
   "id": "eef48511",
   "metadata": {},
   "outputs": [
    {
     "data": {
      "text/plain": [
       "[0.5742,\n",
       " 0.6873,\n",
       " 0.5883,\n",
       " 0.4505,\n",
       " 0.4152,\n",
       " 0.606,\n",
       " 0.8604,\n",
       " 0.6201,\n",
       " 0.8534,\n",
       " 0.7933,\n",
       " 0.606,\n",
       " 0.6095,\n",
       " 0.7544,\n",
       " 0.5954,\n",
       " 0.447,\n",
       " 0.758]"
      ]
     },
     "execution_count": 36,
     "metadata": {},
     "output_type": "execute_result"
    }
   ],
   "source": [
    "preciznosti_sve"
   ]
  },
  {
   "cell_type": "code",
   "execution_count": null,
   "id": "83564a80",
   "metadata": {},
   "outputs": [],
   "source": []
  },
  {
   "cell_type": "code",
   "execution_count": 37,
   "id": "15a4152d",
   "metadata": {},
   "outputs": [],
   "source": [
    "modeli = [\"Samo atributi\", \"Sve klase\"]"
   ]
  },
  {
   "cell_type": "code",
   "execution_count": 38,
   "id": "b5406dd1",
   "metadata": {},
   "outputs": [
    {
     "data": {
      "image/png": "[encoded data removed]",
      "text/plain": [
       "<Figure size 2000x2000 with 1 Axes>"
      ]
     },
     "metadata": {},
     "output_type": "display_data"
    },
    {
     "data": {
      "image/png": "[encoded data removed]",
      "text/plain": [
       "<Figure size 640x480 with 1 Axes>"
      ]
     },
     "metadata": {},
     "output_type": "display_data"
    },
    {
     "data": {
      "image/png": "[encoded data removed]",
      "text/plain": [
       "<Figure size 640x480 with 1 Axes>"
      ]
     },
     "metadata": {},
     "output_type": "display_data"
    },
    {
     "data": {
      "image/png": "[encoded data removed]",
      "text/plain": [
       "<Figure size 640x480 with 1 Axes>"
      ]
     },
     "metadata": {},
     "output_type": "display_data"
    },
    {
     "data": {
      "image/png": "[encoded data removed]",
      "text/plain": [
       "<Figure size 640x480 with 1 Axes>"
      ]
     },
     "metadata": {},
     "output_type": "display_data"
    },
    {
     "data": {
      "image/png": "[encoded data removed]",
      "text/plain": [
       "<Figure size 640x480 with 1 Axes>"
      ]
     },
     "metadata": {},
     "output_type": "display_data"
    },
    {
     "data": {
      "image/png": "[encoded data removed]",
      "text/plain": [
       "<Figure size 640x480 with 1 Axes>"
      ]
     },
     "metadata": {},
     "output_type": "display_data"
    },
    {
     "data": {
      "image/png": "[encoded data removed]",
      "text/plain": [
       "<Figure size 640x480 with 1 Axes>"
      ]
     },
     "metadata": {},
     "output_type": "display_data"
    },
    {
     "data": {
      "image/png": "[encoded data removed]",
      "text/plain": [
       "<Figure size 640x480 with 1 Axes>"
      ]
     },
     "metadata": {},
     "output_type": "display_data"
    },
    {
     "data": {
      "image/png": "[encoded data removed]",
      "text/plain": [
       "<Figure size 640x480 with 1 Axes>"
      ]
     },
     "metadata": {},
     "output_type": "display_data"
    },
    {
     "data": {
      "image/png": "[encoded data removed]",
      "text/plain": [
       "<Figure size 640x480 with 1 Axes>"
      ]
     },
     "metadata": {},
     "output_type": "display_data"
    },
    {
     "data": {
      "image/png": "[encoded data removed]",
      "text/plain": [
       "<Figure size 640x480 with 1 Axes>"
      ]
     },
     "metadata": {},
     "output_type": "display_data"
    },
    {
     "data": {
      "image/png": "[encoded data removed]",
      "text/plain": [
       "<Figure size 640x480 with 1 Axes>"
      ]
     },
     "metadata": {},
     "output_type": "display_data"
    },
    {
     "data": {
      "image/png": "[encoded data removed]",
      "text/plain": [
       "<Figure size 640x480 with 1 Axes>"
      ]
     },
     "metadata": {},
     "output_type": "display_data"
    },
    {
     "data": {
      "image/png": "[encoded data removed]",
      "text/plain": [
       "<Figure size 640x480 with 1 Axes>"
      ]
     },
     "metadata": {},
     "output_type": "display_data"
    },
    {
     "data": {
      "image/png": "[encoded data removed]",
      "text/plain": [
       "<Figure size 640x480 with 1 Axes>"
      ]
     },
     "metadata": {},
     "output_type": "display_data"
    }
   ],
   "source": [
    "plt.figure(figsize = (20, 20))\n",
    "for i in range(n):\n",
    "    plt.title(f'{klase[i]}')\n",
    "    vrednosti = [preciznosti[i], preciznosti_sve[i]]\n",
    "    plt.bar(modeli, vrednosti)\n",
    "    plt.grid(alpha = 0.5)\n",
    "    plt.ylim(0.1, 1.0)\n",
    "    for j, s in enumerate(vrednosti):\n",
    "        plt.text(modeli[j], s, f'{s:.5f}%', ha='center', va='bottom')\n",
    "    plt.xlabel('modeli')\n",
    "    plt.ylabel('accuracy(%)')\n",
    "    plt.show()\n"
   ]
  },
  {
   "cell_type": "code",
   "execution_count": 39,
   "id": "54d19fc2",
   "metadata": {},
   "outputs": [],
   "source": [
    "def prosek(niz):\n",
    "    return sum(niz) / len(niz)\n",
    "proseci = [prosek(preciznosti), prosek(preciznosti_sve)]"
   ]
  },
  {
   "cell_type": "code",
   "execution_count": 40,
   "id": "f557b0c0",
   "metadata": {},
   "outputs": [
    {
     "data": {
      "image/png": "[encoded data removed]",
      "text/plain": [
       "<Figure size 640x480 with 1 Axes>"
      ]
     },
     "metadata": {},
     "output_type": "display_data"
    }
   ],
   "source": [
    "plt.title(\"Prosecno\")\n",
    "plt.bar(modeli, vrednosti)\n",
    "plt.grid(alpha = 0.5)\n",
    "plt.ylim(0.1, 1.0)\n",
    "for j, s in enumerate(proseci):\n",
    "    plt.text(modeli[j], s, f'{s:.5f}%', ha='center', va='bottom')\n",
    "plt.xlabel('modeli')\n",
    "plt.ylabel('accuracy(%)')\n",
    "plt.show()"
   ]
  },
  {
   "cell_type": "code",
   "execution_count": 41,
   "id": "ea1fbf76",
   "metadata": {},
   "outputs": [
    {
     "data": {
      "text/plain": [
       "['./Modeli/Mreza.pkl']"
      ]
     },
     "execution_count": 41,
     "metadata": {},
     "output_type": "execute_result"
    }
   ],
   "source": [
    "import joblib\n",
    "joblib.dump(mreza, './Modeli/Mreza.pkl')"
   ]
  },
  {
   "cell_type": "code",
   "execution_count": null,
   "id": "7a4a5575",
   "metadata": {},
   "outputs": [],
   "source": []
  }
 ],
 "metadata": {
  "kernelspec": {
   "display_name": "Python 3 (ipykernel)",
   "language": "python",
   "name": "python3"
  },
  "language_info": {
   "codemirror_mode": {
    "name": "ipython",
    "version": 3
   },
   "file_extension": ".py",
   "mimetype": "text/x-python",
   "name": "python",
   "nbconvert_exporter": "python",
   "pygments_lexer": "ipython3",
   "version": "3.10.6"
  }
 },
 "nbformat": 4,
 "nbformat_minor": 5
}
